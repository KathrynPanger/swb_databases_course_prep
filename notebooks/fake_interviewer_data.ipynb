{
 "cells": [
  {
   "cell_type": "code",
   "execution_count": 52,
   "id": "initial_id",
   "metadata": {
    "collapsed": true,
    "ExecuteTime": {
     "end_time": "2024-06-01T23:11:48.347511Z",
     "start_time": "2024-06-01T23:11:48.344249Z"
    }
   },
   "outputs": [
    {
     "ename": "ImportError",
     "evalue": "cannot import name 'ng' from 'faker' (/Users/kathrynpanger/Documents/swb_inspect_data/venv/lib/python3.11/site-packages/faker/__init__.py)",
     "output_type": "error",
     "traceback": [
      "\u001B[0;31m---------------------------------------------------------------------------\u001B[0m",
      "\u001B[0;31mImportError\u001B[0m                               Traceback (most recent call last)",
      "Cell \u001B[0;32mIn[52], line 3\u001B[0m\n\u001B[1;32m      1\u001B[0m \u001B[38;5;28;01mimport\u001B[39;00m \u001B[38;5;21;01mpandas\u001B[39;00m \u001B[38;5;28;01mas\u001B[39;00m \u001B[38;5;21;01mpd\u001B[39;00m\n\u001B[1;32m      2\u001B[0m \u001B[38;5;28;01mimport\u001B[39;00m \u001B[38;5;21;01mos\u001B[39;00m\n\u001B[0;32m----> 3\u001B[0m \u001B[38;5;28;01mfrom\u001B[39;00m \u001B[38;5;21;01mfaker\u001B[39;00m \u001B[38;5;28;01mimport\u001B[39;00m ng\n",
      "\u001B[0;31mImportError\u001B[0m: cannot import name 'ng' from 'faker' (/Users/kathrynpanger/Documents/swb_inspect_data/venv/lib/python3.11/site-packages/faker/__init__.py)"
     ]
    }
   ],
   "source": [
    "import pandas as pd\n",
    "import os\n",
    "from faker import Faker"
   ]
  },
  {
   "cell_type": "code",
   "execution_count": 28,
   "outputs": [
    {
     "name": "stderr",
     "output_type": "stream",
     "text": [
      "/var/folders/lw/jy_c2z0x221fsb78kk1_h2800000gn/T/ipykernel_68279/4240901825.py:6: DtypeWarning: Columns (10,17) have mixed types. Specify dtype option on import or set low_memory=False.\n",
      "  df = pd.read_csv(path_to_files + \"/\" + file_name)\n",
      "/var/folders/lw/jy_c2z0x221fsb78kk1_h2800000gn/T/ipykernel_68279/4240901825.py:6: DtypeWarning: Columns (16,36,82) have mixed types. Specify dtype option on import or set low_memory=False.\n",
      "  df = pd.read_csv(path_to_files + \"/\" + file_name)\n",
      "/var/folders/lw/jy_c2z0x221fsb78kk1_h2800000gn/T/ipykernel_68279/4240901825.py:6: DtypeWarning: Columns (28,33) have mixed types. Specify dtype option on import or set low_memory=False.\n",
      "  df = pd.read_csv(path_to_files + \"/\" + file_name)\n"
     ]
    }
   ],
   "source": [
    "# Combine all interviewer_id into one dataframe\n",
    "path_to_files = \"../data/raw\"\n",
    "csvs = os.listdir(path_to_files)\n",
    "dfs = []\n",
    "for file_name in csvs:\n",
    "    df = pd.read_csv(path_to_files + \"/\" + file_name)\n",
    "    try:\n",
    "        df = df[[\"interviewer_id\"]]\n",
    "        dfs.append(df)\n",
    "    except KeyError:\n",
    "        continue\n",
    "        \n",
    "\n",
    "combined_df = pd.concat(dfs, axis=0)\n",
    "#combined_df.set_index(\"interviewer_id\", inplace=True)\n",
    "combined_df.drop_duplicates(subset = \"interviewer_id\", keep=\"first\", inplace=True)\n"
   ],
   "metadata": {
    "collapsed": false,
    "ExecuteTime": {
     "end_time": "2024-06-01T22:57:06.821553Z",
     "start_time": "2024-06-01T22:57:06.157657Z"
    }
   },
   "id": "6ab6e400bbbbd198"
  },
  {
   "cell_type": "code",
   "execution_count": 29,
   "outputs": [
    {
     "data": {
      "text/plain": "Empty DataFrame\nColumns: []\nIndex: [2, 36, 33, 15, 6, 1, 29, 13, 34, 4, 21, 19, 30, 5, 14, 39, 17, 22, 25, 37, 38, 27, 23, 26, 31, 24, 32, 35, 16, 28, 40, 42, 41]",
      "text/html": "<div>\n<style scoped>\n    .dataframe tbody tr th:only-of-type {\n        vertical-align: middle;\n    }\n\n    .dataframe tbody tr th {\n        vertical-align: top;\n    }\n\n    .dataframe thead th {\n        text-align: right;\n    }\n</style>\n<table border=\"1\" class=\"dataframe\">\n  <thead>\n    <tr style=\"text-align: right;\">\n      <th></th>\n    </tr>\n    <tr>\n      <th>interviewer_id</th>\n    </tr>\n  </thead>\n  <tbody>\n    <tr>\n      <th>2</th>\n    </tr>\n    <tr>\n      <th>36</th>\n    </tr>\n    <tr>\n      <th>33</th>\n    </tr>\n    <tr>\n      <th>15</th>\n    </tr>\n    <tr>\n      <th>6</th>\n    </tr>\n    <tr>\n      <th>1</th>\n    </tr>\n    <tr>\n      <th>29</th>\n    </tr>\n    <tr>\n      <th>13</th>\n    </tr>\n    <tr>\n      <th>34</th>\n    </tr>\n    <tr>\n      <th>4</th>\n    </tr>\n    <tr>\n      <th>21</th>\n    </tr>\n    <tr>\n      <th>19</th>\n    </tr>\n    <tr>\n      <th>30</th>\n    </tr>\n    <tr>\n      <th>5</th>\n    </tr>\n    <tr>\n      <th>14</th>\n    </tr>\n    <tr>\n      <th>39</th>\n    </tr>\n    <tr>\n      <th>17</th>\n    </tr>\n    <tr>\n      <th>22</th>\n    </tr>\n    <tr>\n      <th>25</th>\n    </tr>\n    <tr>\n      <th>37</th>\n    </tr>\n    <tr>\n      <th>38</th>\n    </tr>\n    <tr>\n      <th>27</th>\n    </tr>\n    <tr>\n      <th>23</th>\n    </tr>\n    <tr>\n      <th>26</th>\n    </tr>\n    <tr>\n      <th>31</th>\n    </tr>\n    <tr>\n      <th>24</th>\n    </tr>\n    <tr>\n      <th>32</th>\n    </tr>\n    <tr>\n      <th>35</th>\n    </tr>\n    <tr>\n      <th>16</th>\n    </tr>\n    <tr>\n      <th>28</th>\n    </tr>\n    <tr>\n      <th>40</th>\n    </tr>\n    <tr>\n      <th>42</th>\n    </tr>\n    <tr>\n      <th>41</th>\n    </tr>\n  </tbody>\n</table>\n</div>"
     },
     "execution_count": 29,
     "metadata": {},
     "output_type": "execute_result"
    }
   ],
   "source": [
    "combined_df.set_index(\"interviewer_id\", inplace=True)\n",
    "combined_df"
   ],
   "metadata": {
    "collapsed": false,
    "ExecuteTime": {
     "end_time": "2024-06-01T22:57:07.427777Z",
     "start_time": "2024-06-01T22:57:07.424979Z"
    }
   },
   "id": "66d06a41c74fb758"
  },
  {
   "cell_type": "code",
   "execution_count": null,
   "outputs": [],
   "source": [
    "combined_df[\"first_name\"]"
   ],
   "metadata": {
    "collapsed": false,
    "ExecuteTime": {
     "start_time": "2024-06-01T22:54:52.334406Z"
    }
   },
   "id": "be5b11ae5d834f96"
  },
  {
   "cell_type": "code",
   "execution_count": 53,
   "outputs": [
    {
     "ename": "AttributeError",
     "evalue": "Invalid configuration for faker locale `en_NG`",
     "output_type": "error",
     "traceback": [
      "\u001B[0;31m---------------------------------------------------------------------------\u001B[0m",
      "\u001B[0;31mAttributeError\u001B[0m                            Traceback (most recent call last)",
      "Cell \u001B[0;32mIn[53], line 1\u001B[0m\n\u001B[0;32m----> 1\u001B[0m fake \u001B[38;5;241m=\u001B[39m \u001B[43mFaker\u001B[49m\u001B[43m(\u001B[49m\u001B[38;5;124;43m'\u001B[39;49m\u001B[38;5;124;43men_NG\u001B[39;49m\u001B[38;5;124;43m'\u001B[39;49m\u001B[43m)\u001B[49m\n",
      "File \u001B[0;32m~/Documents/swb_inspect_data/venv/lib/python3.11/site-packages/faker/proxy.py:72\u001B[0m, in \u001B[0;36mFaker.__init__\u001B[0;34m(self, locale, providers, generator, includes, use_weighting, **config)\u001B[0m\n\u001B[1;32m     69\u001B[0m     locales \u001B[38;5;241m=\u001B[39m [DEFAULT_LOCALE]\n\u001B[1;32m     71\u001B[0m \u001B[38;5;28;01mif\u001B[39;00m \u001B[38;5;28mlen\u001B[39m(locales) \u001B[38;5;241m==\u001B[39m \u001B[38;5;241m1\u001B[39m:\n\u001B[0;32m---> 72\u001B[0m     \u001B[38;5;28mself\u001B[39m\u001B[38;5;241m.\u001B[39m_factory_map[locales[\u001B[38;5;241m0\u001B[39m]] \u001B[38;5;241m=\u001B[39m \u001B[43mFactory\u001B[49m\u001B[38;5;241;43m.\u001B[39;49m\u001B[43mcreate\u001B[49m\u001B[43m(\u001B[49m\n\u001B[1;32m     73\u001B[0m \u001B[43m        \u001B[49m\u001B[43mlocales\u001B[49m\u001B[43m[\u001B[49m\u001B[38;5;241;43m0\u001B[39;49m\u001B[43m]\u001B[49m\u001B[43m,\u001B[49m\n\u001B[1;32m     74\u001B[0m \u001B[43m        \u001B[49m\u001B[43mproviders\u001B[49m\u001B[43m,\u001B[49m\n\u001B[1;32m     75\u001B[0m \u001B[43m        \u001B[49m\u001B[43mgenerator\u001B[49m\u001B[43m,\u001B[49m\n\u001B[1;32m     76\u001B[0m \u001B[43m        \u001B[49m\u001B[43mincludes\u001B[49m\u001B[43m,\u001B[49m\n\u001B[1;32m     77\u001B[0m \u001B[43m        \u001B[49m\u001B[43muse_weighting\u001B[49m\u001B[38;5;241;43m=\u001B[39;49m\u001B[43muse_weighting\u001B[49m\u001B[43m,\u001B[49m\n\u001B[1;32m     78\u001B[0m \u001B[43m        \u001B[49m\u001B[38;5;241;43m*\u001B[39;49m\u001B[38;5;241;43m*\u001B[39;49m\u001B[43mconfig\u001B[49m\u001B[43m,\u001B[49m\n\u001B[1;32m     79\u001B[0m \u001B[43m    \u001B[49m\u001B[43m)\u001B[49m\n\u001B[1;32m     80\u001B[0m \u001B[38;5;28;01melse\u001B[39;00m:\n\u001B[1;32m     81\u001B[0m     \u001B[38;5;28;01mfor\u001B[39;00m locale \u001B[38;5;129;01min\u001B[39;00m locales:\n",
      "File \u001B[0;32m~/Documents/swb_inspect_data/venv/lib/python3.11/site-packages/faker/factory.py:43\u001B[0m, in \u001B[0;36mFactory.create\u001B[0;34m(cls, locale, providers, generator, includes, use_weighting, **config)\u001B[0m\n\u001B[1;32m     41\u001B[0m \u001B[38;5;28;01mif\u001B[39;00m locale \u001B[38;5;129;01mnot\u001B[39;00m \u001B[38;5;129;01min\u001B[39;00m AVAILABLE_LOCALES:\n\u001B[1;32m     42\u001B[0m     msg \u001B[38;5;241m=\u001B[39m \u001B[38;5;124mf\u001B[39m\u001B[38;5;124m\"\u001B[39m\u001B[38;5;124mInvalid configuration for faker locale `\u001B[39m\u001B[38;5;132;01m{\u001B[39;00mlocale\u001B[38;5;132;01m}\u001B[39;00m\u001B[38;5;124m`\u001B[39m\u001B[38;5;124m\"\u001B[39m\n\u001B[0;32m---> 43\u001B[0m     \u001B[38;5;28;01mraise\u001B[39;00m \u001B[38;5;167;01mAttributeError\u001B[39;00m(msg)\n\u001B[1;32m     45\u001B[0m config[\u001B[38;5;124m\"\u001B[39m\u001B[38;5;124mlocale\u001B[39m\u001B[38;5;124m\"\u001B[39m] \u001B[38;5;241m=\u001B[39m locale\n\u001B[1;32m     46\u001B[0m config[\u001B[38;5;124m\"\u001B[39m\u001B[38;5;124muse_weighting\u001B[39m\u001B[38;5;124m\"\u001B[39m] \u001B[38;5;241m=\u001B[39m use_weighting\n",
      "\u001B[0;31mAttributeError\u001B[0m: Invalid configuration for faker locale `en_NG`"
     ]
    }
   ],
   "source": [
    "fake = Faker('en_NG')"
   ],
   "metadata": {
    "collapsed": false,
    "ExecuteTime": {
     "end_time": "2024-06-01T23:12:34.386400Z",
     "start_time": "2024-06-01T23:12:34.359422Z"
    }
   },
   "id": "3decbc8773134454"
  },
  {
   "cell_type": "code",
   "execution_count": 39,
   "outputs": [
    {
     "data": {
      "text/plain": "'Dustin Davis'"
     },
     "execution_count": 39,
     "metadata": {},
     "output_type": "execute_result"
    }
   ],
   "source": [
    "fake.name()"
   ],
   "metadata": {
    "collapsed": false,
    "ExecuteTime": {
     "end_time": "2024-06-01T23:06:13.379272Z",
     "start_time": "2024-06-01T23:06:13.372356Z"
    }
   },
   "id": "e828fe6abdbf94f9"
  },
  {
   "cell_type": "code",
   "execution_count": null,
   "outputs": [],
   "source": [],
   "metadata": {
    "collapsed": false
   },
   "id": "c611fb61a9615bf1"
  }
 ],
 "metadata": {
  "kernelspec": {
   "display_name": "Python 3",
   "language": "python",
   "name": "python3"
  },
  "language_info": {
   "codemirror_mode": {
    "name": "ipython",
    "version": 2
   },
   "file_extension": ".py",
   "mimetype": "text/x-python",
   "name": "python",
   "nbconvert_exporter": "python",
   "pygments_lexer": "ipython2",
   "version": "2.7.6"
  }
 },
 "nbformat": 4,
 "nbformat_minor": 5
}
