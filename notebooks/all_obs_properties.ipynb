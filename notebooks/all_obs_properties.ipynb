{
 "cells": [
  {
   "cell_type": "code",
   "execution_count": 46,
   "id": "initial_id",
   "metadata": {
    "collapsed": true,
    "ExecuteTime": {
     "end_time": "2024-06-01T21:58:54.064547Z",
     "start_time": "2024-06-01T21:58:54.053530Z"
    }
   },
   "outputs": [],
   "source": [
    "import pandas as pd\n",
    "import os"
   ]
  },
  {
   "cell_type": "code",
   "execution_count": 47,
   "outputs": [],
   "source": [
    "def read_csv(path: str) -> pd.DataFrame:\n",
    "    root_path = \"../data/raw\"\n",
    "    full_path = root_path + \"/\" +  path\n",
    "    df = pd.read_csv(full_path)\n",
    "    return df"
   ],
   "metadata": {
    "collapsed": false,
    "ExecuteTime": {
     "end_time": "2024-06-01T21:58:54.064729Z",
     "start_time": "2024-06-01T21:58:54.057933Z"
    }
   },
   "id": "bffdf6d9b9379e57"
  },
  {
   "cell_type": "code",
   "execution_count": 48,
   "outputs": [
    {
     "name": "stderr",
     "output_type": "stream",
     "text": [
      "/var/folders/lw/jy_c2z0x221fsb78kk1_h2800000gn/T/ipykernel_66859/931934681.py:6: DtypeWarning: Columns (10,17) have mixed types. Specify dtype option on import or set low_memory=False.\n",
      "  df = pd.read_csv(path_to_files + \"/\" + file_name)\n",
      "/var/folders/lw/jy_c2z0x221fsb78kk1_h2800000gn/T/ipykernel_66859/931934681.py:6: DtypeWarning: Columns (16,36,82) have mixed types. Specify dtype option on import or set low_memory=False.\n",
      "  df = pd.read_csv(path_to_files + \"/\" + file_name)\n",
      "/var/folders/lw/jy_c2z0x221fsb78kk1_h2800000gn/T/ipykernel_66859/931934681.py:6: DtypeWarning: Columns (28,33) have mixed types. Specify dtype option on import or set low_memory=False.\n",
      "  df = pd.read_csv(path_to_files + \"/\" + file_name)\n"
     ]
    },
    {
     "data": {
      "text/plain": "         hhid  sector    ea\n0       10001       1   670\n4       10002       1   670\n7       10003       1   670\n11      10004       1   670\n14      10005       1   670\n...       ...     ...   ...\n91912  379119       1  1836\n91914  379120       1  1836\n91930  379139       1  1102\n91942  379146       1  1102\n91944  379148       1  1102\n\n[4440 rows x 3 columns]",
      "text/html": "<div>\n<style scoped>\n    .dataframe tbody tr th:only-of-type {\n        vertical-align: middle;\n    }\n\n    .dataframe tbody tr th {\n        vertical-align: top;\n    }\n\n    .dataframe thead th {\n        text-align: right;\n    }\n</style>\n<table border=\"1\" class=\"dataframe\">\n  <thead>\n    <tr style=\"text-align: right;\">\n      <th></th>\n      <th>hhid</th>\n      <th>sector</th>\n      <th>ea</th>\n    </tr>\n  </thead>\n  <tbody>\n    <tr>\n      <th>0</th>\n      <td>10001</td>\n      <td>1</td>\n      <td>670</td>\n    </tr>\n    <tr>\n      <th>4</th>\n      <td>10002</td>\n      <td>1</td>\n      <td>670</td>\n    </tr>\n    <tr>\n      <th>7</th>\n      <td>10003</td>\n      <td>1</td>\n      <td>670</td>\n    </tr>\n    <tr>\n      <th>11</th>\n      <td>10004</td>\n      <td>1</td>\n      <td>670</td>\n    </tr>\n    <tr>\n      <th>14</th>\n      <td>10005</td>\n      <td>1</td>\n      <td>670</td>\n    </tr>\n    <tr>\n      <th>...</th>\n      <td>...</td>\n      <td>...</td>\n      <td>...</td>\n    </tr>\n    <tr>\n      <th>91912</th>\n      <td>379119</td>\n      <td>1</td>\n      <td>1836</td>\n    </tr>\n    <tr>\n      <th>91914</th>\n      <td>379120</td>\n      <td>1</td>\n      <td>1836</td>\n    </tr>\n    <tr>\n      <th>91930</th>\n      <td>379139</td>\n      <td>1</td>\n      <td>1102</td>\n    </tr>\n    <tr>\n      <th>91942</th>\n      <td>379146</td>\n      <td>1</td>\n      <td>1102</td>\n    </tr>\n    <tr>\n      <th>91944</th>\n      <td>379148</td>\n      <td>1</td>\n      <td>1102</td>\n    </tr>\n  </tbody>\n</table>\n<p>4440 rows × 3 columns</p>\n</div>"
     },
     "execution_count": 48,
     "metadata": {},
     "output_type": "execute_result"
    }
   ],
   "source": [
    "# Combine all files into one dataframe\n",
    "path_to_files = \"../data/raw\"\n",
    "csvs = os.listdir(path_to_files)\n",
    "dfs = []\n",
    "for file_name in csvs:\n",
    "    df = pd.read_csv(path_to_files + \"/\" + file_name)\n",
    "    df = df[[\"hhid\", \"sector\", \"ea\"]]\n",
    "    df.set_index(\"hhid\", inplace=True)\n",
    "    dfs.append(df)\n",
    "\n",
    "combined_df = pd.concat(dfs, axis=0)\n",
    "combined_df.reset_index(inplace=True)\n",
    "combined_df.drop_duplicates(subset=[\"hhid\", \"sector\", \"ea\"], keep=\"first\", inplace=True)\n",
    "combined_df"
   ],
   "metadata": {
    "collapsed": false,
    "ExecuteTime": {
     "end_time": "2024-06-01T21:58:54.699532Z",
     "start_time": "2024-06-01T21:58:54.062648Z"
    }
   },
   "id": "250173519e032baa"
  },
  {
   "cell_type": "code",
   "execution_count": 49,
   "outputs": [
    {
     "data": {
      "text/plain": "hhid      4440\nsector       2\nea         402\ndtype: int64"
     },
     "execution_count": 49,
     "metadata": {},
     "output_type": "execute_result"
    }
   ],
   "source": [
    "# same number of unique hhid values as rows in above df. We have unique observations now.\n",
    "combined_df.nunique()"
   ],
   "metadata": {
    "collapsed": false,
    "ExecuteTime": {
     "end_time": "2024-06-01T21:58:54.699891Z",
     "start_time": "2024-06-01T21:58:54.696554Z"
    }
   },
   "id": "58c683df7f802d9c"
  },
  {
   "cell_type": "code",
   "execution_count": 50,
   "outputs": [],
   "source": [
    "def recode_sector_numeric_to_text(entry):\n",
    "    if entry == 1:\n",
    "        return \"URBAN\"\n",
    "    elif entry == 2:\n",
    "        return \"RURAL\"\n",
    "    else:\n",
    "        return None"
   ],
   "metadata": {
    "collapsed": false,
    "ExecuteTime": {
     "end_time": "2024-06-01T21:58:54.704830Z",
     "start_time": "2024-06-01T21:58:54.701050Z"
    }
   },
   "id": "4c08feff60c8eeeb"
  },
  {
   "cell_type": "code",
   "execution_count": 51,
   "outputs": [],
   "source": [
    "combined_df[\"sector\"] = combined_df[\"sector\"].apply(lambda x: recode_sector_numeric_to_text(x))\n",
    "combined_df.set_index(\"hhid\", inplace=True)"
   ],
   "metadata": {
    "collapsed": false,
    "ExecuteTime": {
     "end_time": "2024-06-01T21:58:54.709523Z",
     "start_time": "2024-06-01T21:58:54.704724Z"
    }
   },
   "id": "7631234a6146e021"
  },
  {
   "cell_type": "code",
   "execution_count": 52,
   "outputs": [
    {
     "data": {
      "text/plain": "       sector    ea\nhhid               \n10001   URBAN   670\n10002   URBAN   670\n10003   URBAN   670\n10004   URBAN   670\n10005   URBAN   670\n...       ...   ...\n379119  URBAN  1836\n379120  URBAN  1836\n379139  URBAN  1102\n379146  URBAN  1102\n379148  URBAN  1102\n\n[4440 rows x 2 columns]",
      "text/html": "<div>\n<style scoped>\n    .dataframe tbody tr th:only-of-type {\n        vertical-align: middle;\n    }\n\n    .dataframe tbody tr th {\n        vertical-align: top;\n    }\n\n    .dataframe thead th {\n        text-align: right;\n    }\n</style>\n<table border=\"1\" class=\"dataframe\">\n  <thead>\n    <tr style=\"text-align: right;\">\n      <th></th>\n      <th>sector</th>\n      <th>ea</th>\n    </tr>\n    <tr>\n      <th>hhid</th>\n      <th></th>\n      <th></th>\n    </tr>\n  </thead>\n  <tbody>\n    <tr>\n      <th>10001</th>\n      <td>URBAN</td>\n      <td>670</td>\n    </tr>\n    <tr>\n      <th>10002</th>\n      <td>URBAN</td>\n      <td>670</td>\n    </tr>\n    <tr>\n      <th>10003</th>\n      <td>URBAN</td>\n      <td>670</td>\n    </tr>\n    <tr>\n      <th>10004</th>\n      <td>URBAN</td>\n      <td>670</td>\n    </tr>\n    <tr>\n      <th>10005</th>\n      <td>URBAN</td>\n      <td>670</td>\n    </tr>\n    <tr>\n      <th>...</th>\n      <td>...</td>\n      <td>...</td>\n    </tr>\n    <tr>\n      <th>379119</th>\n      <td>URBAN</td>\n      <td>1836</td>\n    </tr>\n    <tr>\n      <th>379120</th>\n      <td>URBAN</td>\n      <td>1836</td>\n    </tr>\n    <tr>\n      <th>379139</th>\n      <td>URBAN</td>\n      <td>1102</td>\n    </tr>\n    <tr>\n      <th>379146</th>\n      <td>URBAN</td>\n      <td>1102</td>\n    </tr>\n    <tr>\n      <th>379148</th>\n      <td>URBAN</td>\n      <td>1102</td>\n    </tr>\n  </tbody>\n</table>\n<p>4440 rows × 2 columns</p>\n</div>"
     },
     "execution_count": 52,
     "metadata": {},
     "output_type": "execute_result"
    }
   ],
   "source": [
    "combined_df"
   ],
   "metadata": {
    "collapsed": false,
    "ExecuteTime": {
     "end_time": "2024-06-01T21:58:54.710623Z",
     "start_time": "2024-06-01T21:58:54.708321Z"
    }
   },
   "id": "177f7ff45300d208"
  },
  {
   "cell_type": "code",
   "execution_count": 53,
   "outputs": [],
   "source": [
    "# combined_df.to_csv(\"../data/processed/all_obs_properties/hhid_sector_ea.csv\")"
   ],
   "metadata": {
    "collapsed": false,
    "ExecuteTime": {
     "end_time": "2024-06-01T22:00:30.051364Z",
     "start_time": "2024-06-01T22:00:30.036272Z"
    }
   },
   "id": "d51e667cd6c52480"
  },
  {
   "cell_type": "code",
   "execution_count": 57,
   "outputs": [
    {
     "name": "stderr",
     "output_type": "stream",
     "text": [
      "/var/folders/lw/jy_c2z0x221fsb78kk1_h2800000gn/T/ipykernel_66859/1133377693.py:6: DtypeWarning: Columns (10,17) have mixed types. Specify dtype option on import or set low_memory=False.\n",
      "  df = pd.read_csv(path_to_files + \"/\" + file_name)\n",
      "/var/folders/lw/jy_c2z0x221fsb78kk1_h2800000gn/T/ipykernel_66859/1133377693.py:6: DtypeWarning: Columns (16,36,82) have mixed types. Specify dtype option on import or set low_memory=False.\n",
      "  df = pd.read_csv(path_to_files + \"/\" + file_name)\n",
      "/var/folders/lw/jy_c2z0x221fsb78kk1_h2800000gn/T/ipykernel_66859/1133377693.py:6: DtypeWarning: Columns (28,33) have mixed types. Specify dtype option on import or set low_memory=False.\n",
      "  df = pd.read_csv(path_to_files + \"/\" + file_name)\n"
     ]
    },
    {
     "data": {
      "text/plain": "         hhid  interviewer_id\n0       10001               2\n1       10002              36\n2       10003              36\n3       10004              36\n4       10005              36\n...       ...             ...\n27021  379143              37\n27022  379144              19\n27023  379151              29\n27024  379154               4\n27025  379155               4\n\n[27026 rows x 2 columns]",
      "text/html": "<div>\n<style scoped>\n    .dataframe tbody tr th:only-of-type {\n        vertical-align: middle;\n    }\n\n    .dataframe tbody tr th {\n        vertical-align: top;\n    }\n\n    .dataframe thead th {\n        text-align: right;\n    }\n</style>\n<table border=\"1\" class=\"dataframe\">\n  <thead>\n    <tr style=\"text-align: right;\">\n      <th></th>\n      <th>hhid</th>\n      <th>interviewer_id</th>\n    </tr>\n  </thead>\n  <tbody>\n    <tr>\n      <th>0</th>\n      <td>10001</td>\n      <td>2</td>\n    </tr>\n    <tr>\n      <th>1</th>\n      <td>10002</td>\n      <td>36</td>\n    </tr>\n    <tr>\n      <th>2</th>\n      <td>10003</td>\n      <td>36</td>\n    </tr>\n    <tr>\n      <th>3</th>\n      <td>10004</td>\n      <td>36</td>\n    </tr>\n    <tr>\n      <th>4</th>\n      <td>10005</td>\n      <td>36</td>\n    </tr>\n    <tr>\n      <th>...</th>\n      <td>...</td>\n      <td>...</td>\n    </tr>\n    <tr>\n      <th>27021</th>\n      <td>379143</td>\n      <td>37</td>\n    </tr>\n    <tr>\n      <th>27022</th>\n      <td>379144</td>\n      <td>19</td>\n    </tr>\n    <tr>\n      <th>27023</th>\n      <td>379151</td>\n      <td>29</td>\n    </tr>\n    <tr>\n      <th>27024</th>\n      <td>379154</td>\n      <td>4</td>\n    </tr>\n    <tr>\n      <th>27025</th>\n      <td>379155</td>\n      <td>4</td>\n    </tr>\n  </tbody>\n</table>\n<p>27026 rows × 2 columns</p>\n</div>"
     },
     "execution_count": 57,
     "metadata": {},
     "output_type": "execute_result"
    }
   ],
   "source": [
    "# Combine all files into one dataframe\n",
    "path_to_files = \"../data/raw\"\n",
    "csvs = os.listdir(path_to_files)\n",
    "dfs = []\n",
    "for file_name in csvs:\n",
    "    df = pd.read_csv(path_to_files + \"/\" + file_name)\n",
    "    try:\n",
    "        df = df[[\"hhid\", \"interviewer_id\"]]\n",
    "        df.set_index(\"hhid\", inplace=True)\n",
    "        dfs.append(df)\n",
    "    except KeyError:\n",
    "        continue\n",
    "\n",
    "combined_df = pd.concat(dfs, axis=0)\n",
    "combined_df.reset_index(inplace=True)\n",
    "#combined_df.drop_duplicates(subset=[\"hhid\", \"sector\", \"ea\"], keep=\"first\", inplace=True)\n",
    "combined_df"
   ],
   "metadata": {
    "collapsed": false,
    "ExecuteTime": {
     "end_time": "2024-06-01T22:03:13.004410Z",
     "start_time": "2024-06-01T22:03:12.485475Z"
    }
   },
   "id": "79e4e8ec0aa8770e"
  },
  {
   "cell_type": "code",
   "execution_count": 66,
   "outputs": [
    {
     "data": {
      "text/plain": "        counts\nhhid          \n10001        2\n10002        3\n10003        2\n10004        1\n10005        1\n...        ...\n379146       1\n379148       1\n379151       5\n379154       3\n379155       4\n\n[4440 rows x 1 columns]",
      "text/html": "<div>\n<style scoped>\n    .dataframe tbody tr th:only-of-type {\n        vertical-align: middle;\n    }\n\n    .dataframe tbody tr th {\n        vertical-align: top;\n    }\n\n    .dataframe thead th {\n        text-align: right;\n    }\n</style>\n<table border=\"1\" class=\"dataframe\">\n  <thead>\n    <tr style=\"text-align: right;\">\n      <th></th>\n      <th>counts</th>\n    </tr>\n    <tr>\n      <th>hhid</th>\n      <th></th>\n    </tr>\n  </thead>\n  <tbody>\n    <tr>\n      <th>10001</th>\n      <td>2</td>\n    </tr>\n    <tr>\n      <th>10002</th>\n      <td>3</td>\n    </tr>\n    <tr>\n      <th>10003</th>\n      <td>2</td>\n    </tr>\n    <tr>\n      <th>10004</th>\n      <td>1</td>\n    </tr>\n    <tr>\n      <th>10005</th>\n      <td>1</td>\n    </tr>\n    <tr>\n      <th>...</th>\n      <td>...</td>\n    </tr>\n    <tr>\n      <th>379146</th>\n      <td>1</td>\n    </tr>\n    <tr>\n      <th>379148</th>\n      <td>1</td>\n    </tr>\n    <tr>\n      <th>379151</th>\n      <td>5</td>\n    </tr>\n    <tr>\n      <th>379154</th>\n      <td>3</td>\n    </tr>\n    <tr>\n      <th>379155</th>\n      <td>4</td>\n    </tr>\n  </tbody>\n</table>\n<p>4440 rows × 1 columns</p>\n</div>"
     },
     "execution_count": 66,
     "metadata": {},
     "output_type": "execute_result"
    }
   ],
   "source": [
    " combined_df.drop_duplicates(keep=\"first\", subset=[\"hhid\", \"interviewer_id\"], inplace=True)\n",
    " #combined_df.groupby(\"hhid\").agg(counts=(\"interviewer_id\", \"count\"))"
   ],
   "metadata": {
    "collapsed": false,
    "ExecuteTime": {
     "end_time": "2024-06-01T22:07:18.656103Z",
     "start_time": "2024-06-01T22:07:18.648733Z"
    }
   },
   "id": "e62ca9eb300b80d3"
  },
  {
   "cell_type": "code",
   "execution_count": 67,
   "outputs": [],
   "source": [
    "combined_df.to_csv(\"../data/processed/many_to_many/hhid_to_interviewer_id\")"
   ],
   "metadata": {
    "collapsed": false,
    "ExecuteTime": {
     "end_time": "2024-06-01T22:08:25.170529Z",
     "start_time": "2024-06-01T22:08:25.149088Z"
    }
   },
   "id": "1059ad9c61c1c949"
  },
  {
   "cell_type": "code",
   "execution_count": 68,
   "outputs": [
    {
     "data": {
      "text/plain": "         hhid  interviewer_id\n0       10001               2\n1       10002              36\n2       10003              36\n3       10004              36\n4       10005              36\n...       ...             ...\n27010  379103              29\n27013  379112              29\n27015  379117              33\n27018  379124              15\n27020  379141              29\n\n[7521 rows x 2 columns]",
      "text/html": "<div>\n<style scoped>\n    .dataframe tbody tr th:only-of-type {\n        vertical-align: middle;\n    }\n\n    .dataframe tbody tr th {\n        vertical-align: top;\n    }\n\n    .dataframe thead th {\n        text-align: right;\n    }\n</style>\n<table border=\"1\" class=\"dataframe\">\n  <thead>\n    <tr style=\"text-align: right;\">\n      <th></th>\n      <th>hhid</th>\n      <th>interviewer_id</th>\n    </tr>\n  </thead>\n  <tbody>\n    <tr>\n      <th>0</th>\n      <td>10001</td>\n      <td>2</td>\n    </tr>\n    <tr>\n      <th>1</th>\n      <td>10002</td>\n      <td>36</td>\n    </tr>\n    <tr>\n      <th>2</th>\n      <td>10003</td>\n      <td>36</td>\n    </tr>\n    <tr>\n      <th>3</th>\n      <td>10004</td>\n      <td>36</td>\n    </tr>\n    <tr>\n      <th>4</th>\n      <td>10005</td>\n      <td>36</td>\n    </tr>\n    <tr>\n      <th>...</th>\n      <td>...</td>\n      <td>...</td>\n    </tr>\n    <tr>\n      <th>27010</th>\n      <td>379103</td>\n      <td>29</td>\n    </tr>\n    <tr>\n      <th>27013</th>\n      <td>379112</td>\n      <td>29</td>\n    </tr>\n    <tr>\n      <th>27015</th>\n      <td>379117</td>\n      <td>33</td>\n    </tr>\n    <tr>\n      <th>27018</th>\n      <td>379124</td>\n      <td>15</td>\n    </tr>\n    <tr>\n      <th>27020</th>\n      <td>379141</td>\n      <td>29</td>\n    </tr>\n  </tbody>\n</table>\n<p>7521 rows × 2 columns</p>\n</div>"
     },
     "execution_count": 68,
     "metadata": {},
     "output_type": "execute_result"
    }
   ],
   "source": [
    "combined_df"
   ],
   "metadata": {
    "collapsed": false,
    "ExecuteTime": {
     "end_time": "2024-06-01T22:09:26.121441Z",
     "start_time": "2024-06-01T22:09:26.109911Z"
    }
   },
   "id": "126faa9bd2e41ad2"
  },
  {
   "cell_type": "code",
   "execution_count": null,
   "outputs": [],
   "source": [],
   "metadata": {
    "collapsed": false
   },
   "id": "a52598ae5842d33a"
  }
 ],
 "metadata": {
  "kernelspec": {
   "display_name": "Python 3",
   "language": "python",
   "name": "python3"
  },
  "language_info": {
   "codemirror_mode": {
    "name": "ipython",
    "version": 2
   },
   "file_extension": ".py",
   "mimetype": "text/x-python",
   "name": "python",
   "nbconvert_exporter": "python",
   "pygments_lexer": "ipython2",
   "version": "2.7.6"
  }
 },
 "nbformat": 4,
 "nbformat_minor": 5
}
