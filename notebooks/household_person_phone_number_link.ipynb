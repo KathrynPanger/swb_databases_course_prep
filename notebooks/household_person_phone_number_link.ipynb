{
 "cells": [
  {
   "cell_type": "code",
   "execution_count": 2,
   "outputs": [],
   "source": [
    "#todo do this same operation, where you create an id from individual to household, on every dataset which contains both variables, then save those datasets to \"processed/individual_id_questions\""
   ],
   "metadata": {
    "collapsed": false,
    "ExecuteTime": {
     "end_time": "2024-06-13T23:01:50.990496Z",
     "start_time": "2024-06-13T23:01:50.967338Z"
    }
   },
   "id": "7a05f6d03bc5877e"
  },
  {
   "cell_type": "code",
   "execution_count": 3,
   "id": "initial_id",
   "metadata": {
    "collapsed": true,
    "ExecuteTime": {
     "end_time": "2024-06-13T23:01:51.491106Z",
     "start_time": "2024-06-13T23:01:50.970943Z"
    }
   },
   "outputs": [],
   "source": [
    "import pandas as pd\n",
    "import os\n",
    "import random\n",
    "import math\n",
    "import uuid\n",
    "from typing import Optional\n",
    "from collections.abc import Callable\n",
    "from cleaning_functions.clean_csv import *\n",
    "import numpy as np"
   ]
  },
  {
   "cell_type": "markdown",
   "source": [
    "Household to individual linking table"
   ],
   "metadata": {
    "collapsed": false
   },
   "id": "4d2817cc0e8ab548"
  },
  {
   "cell_type": "code",
   "execution_count": 4,
   "outputs": [
    {
     "name": "stderr",
     "output_type": "stream",
     "text": [
      "/var/folders/lw/jy_c2z0x221fsb78kk1_h2800000gn/T/ipykernel_14590/634710397.py:8: DtypeWarning: Columns (10,17) have mixed types. Specify dtype option on import or set low_memory=False.\n",
      "  df = pd.read_csv(path_to_files + \"/\" + file_name)\n",
      "/var/folders/lw/jy_c2z0x221fsb78kk1_h2800000gn/T/ipykernel_14590/634710397.py:8: DtypeWarning: Columns (16,36,82) have mixed types. Specify dtype option on import or set low_memory=False.\n",
      "  df = pd.read_csv(path_to_files + \"/\" + file_name)\n",
      "/var/folders/lw/jy_c2z0x221fsb78kk1_h2800000gn/T/ipykernel_14590/634710397.py:8: DtypeWarning: Columns (28,33) have mixed types. Specify dtype option on import or set low_memory=False.\n",
      "  df = pd.read_csv(path_to_files + \"/\" + file_name)\n"
     ]
    },
    {
     "data": {
      "text/plain": "        indiv    hhid\n0         1.0   10001\n1         2.0   10001\n2         3.0   10001\n3         4.0   10001\n4         8.0   10001\n...       ...     ...\n196250    1.0  379155\n196251    2.0  379155\n196252    3.0  379155\n196253    4.0  379155\n196254  101.0  379155\n\n[196255 rows x 2 columns]",
      "text/html": "<div>\n<style scoped>\n    .dataframe tbody tr th:only-of-type {\n        vertical-align: middle;\n    }\n\n    .dataframe tbody tr th {\n        vertical-align: top;\n    }\n\n    .dataframe thead th {\n        text-align: right;\n    }\n</style>\n<table border=\"1\" class=\"dataframe\">\n  <thead>\n    <tr style=\"text-align: right;\">\n      <th></th>\n      <th>indiv</th>\n      <th>hhid</th>\n    </tr>\n  </thead>\n  <tbody>\n    <tr>\n      <th>0</th>\n      <td>1.0</td>\n      <td>10001</td>\n    </tr>\n    <tr>\n      <th>1</th>\n      <td>2.0</td>\n      <td>10001</td>\n    </tr>\n    <tr>\n      <th>2</th>\n      <td>3.0</td>\n      <td>10001</td>\n    </tr>\n    <tr>\n      <th>3</th>\n      <td>4.0</td>\n      <td>10001</td>\n    </tr>\n    <tr>\n      <th>4</th>\n      <td>8.0</td>\n      <td>10001</td>\n    </tr>\n    <tr>\n      <th>...</th>\n      <td>...</td>\n      <td>...</td>\n    </tr>\n    <tr>\n      <th>196250</th>\n      <td>1.0</td>\n      <td>379155</td>\n    </tr>\n    <tr>\n      <th>196251</th>\n      <td>2.0</td>\n      <td>379155</td>\n    </tr>\n    <tr>\n      <th>196252</th>\n      <td>3.0</td>\n      <td>379155</td>\n    </tr>\n    <tr>\n      <th>196253</th>\n      <td>4.0</td>\n      <td>379155</td>\n    </tr>\n    <tr>\n      <th>196254</th>\n      <td>101.0</td>\n      <td>379155</td>\n    </tr>\n  </tbody>\n</table>\n<p>196255 rows × 2 columns</p>\n</div>"
     },
     "execution_count": 4,
     "metadata": {},
     "output_type": "execute_result"
    }
   ],
   "source": [
    "# Combine all files with households and individuals in one table\n",
    "# note that individual ids are not unique. They reset for each new househould starting at 1\n",
    "# we will need to create our own invidividual ids\n",
    "path_to_files = \"../data/raw\"\n",
    "csvs = os.listdir(path_to_files)\n",
    "dfs = []\n",
    "for file_name in csvs:\n",
    "    df = pd.read_csv(path_to_files + \"/\" + file_name)\n",
    "    try:\n",
    "        df = df[[\"hhid\", \"indiv\", ]]\n",
    "        df.set_index(\"indiv\", inplace=True)\n",
    "        dfs.append(df)\n",
    "    except KeyError:\n",
    "        continue\n",
    "\n",
    "combined_df = pd.concat(dfs, axis=0)\n",
    "combined_df.reset_index(inplace=True)\n",
    "#combined_df.drop_duplicates(subset=[\"hhid\", \"sector\", \"ea\"], keep=\"first\", inplace=True)\n",
    "combined_df"
   ],
   "metadata": {
    "collapsed": false,
    "ExecuteTime": {
     "end_time": "2024-06-13T23:01:52.104175Z",
     "start_time": "2024-06-13T23:01:51.492627Z"
    }
   },
   "id": "ff7ed5a43a8e05b3"
  },
  {
   "cell_type": "code",
   "execution_count": 5,
   "outputs": [
    {
     "data": {
      "text/plain": "         indiv    hhid\n0          1.0   10001\n1          2.0   10001\n2          3.0   10001\n3          4.0   10001\n4          8.0   10001\n...        ...     ...\n189939  1601.0  209113\n190134  1601.0  219049\n190135  1602.0  219049\n193474  1601.0  299015\n195412  1601.0  359021\n\n[22488 rows x 2 columns]",
      "text/html": "<div>\n<style scoped>\n    .dataframe tbody tr th:only-of-type {\n        vertical-align: middle;\n    }\n\n    .dataframe tbody tr th {\n        vertical-align: top;\n    }\n\n    .dataframe thead th {\n        text-align: right;\n    }\n</style>\n<table border=\"1\" class=\"dataframe\">\n  <thead>\n    <tr style=\"text-align: right;\">\n      <th></th>\n      <th>indiv</th>\n      <th>hhid</th>\n    </tr>\n  </thead>\n  <tbody>\n    <tr>\n      <th>0</th>\n      <td>1.0</td>\n      <td>10001</td>\n    </tr>\n    <tr>\n      <th>1</th>\n      <td>2.0</td>\n      <td>10001</td>\n    </tr>\n    <tr>\n      <th>2</th>\n      <td>3.0</td>\n      <td>10001</td>\n    </tr>\n    <tr>\n      <th>3</th>\n      <td>4.0</td>\n      <td>10001</td>\n    </tr>\n    <tr>\n      <th>4</th>\n      <td>8.0</td>\n      <td>10001</td>\n    </tr>\n    <tr>\n      <th>...</th>\n      <td>...</td>\n      <td>...</td>\n    </tr>\n    <tr>\n      <th>189939</th>\n      <td>1601.0</td>\n      <td>209113</td>\n    </tr>\n    <tr>\n      <th>190134</th>\n      <td>1601.0</td>\n      <td>219049</td>\n    </tr>\n    <tr>\n      <th>190135</th>\n      <td>1602.0</td>\n      <td>219049</td>\n    </tr>\n    <tr>\n      <th>193474</th>\n      <td>1601.0</td>\n      <td>299015</td>\n    </tr>\n    <tr>\n      <th>195412</th>\n      <td>1601.0</td>\n      <td>359021</td>\n    </tr>\n  </tbody>\n</table>\n<p>22488 rows × 2 columns</p>\n</div>"
     },
     "execution_count": 5,
     "metadata": {},
     "output_type": "execute_result"
    }
   ],
   "source": [
    "combined_df.drop_duplicates(inplace=True)\n",
    "combined_df"
   ],
   "metadata": {
    "collapsed": false,
    "ExecuteTime": {
     "end_time": "2024-06-13T23:01:52.109765Z",
     "start_time": "2024-06-13T23:01:52.096976Z"
    }
   },
   "id": "44755969768731c6"
  },
  {
   "cell_type": "code",
   "execution_count": 6,
   "outputs": [
    {
     "data": {
      "text/plain": "                indiv    hhid\nindividual_id                \nf1f0cf89a4ed      1.0   10001\n30f515782f82      2.0   10001\n068d9042a81d      3.0   10001\n88a95dd65b02      4.0   10001\nb68864634b74      8.0   10001\n...               ...     ...\n34454fb5c5a6   1601.0  209113\n1e8f93ed5b11   1601.0  219049\n0e26fe36ed1a   1602.0  219049\n3919d25832b9   1601.0  299015\n925d032f1526   1601.0  359021\n\n[22488 rows x 2 columns]",
      "text/html": "<div>\n<style scoped>\n    .dataframe tbody tr th:only-of-type {\n        vertical-align: middle;\n    }\n\n    .dataframe tbody tr th {\n        vertical-align: top;\n    }\n\n    .dataframe thead th {\n        text-align: right;\n    }\n</style>\n<table border=\"1\" class=\"dataframe\">\n  <thead>\n    <tr style=\"text-align: right;\">\n      <th></th>\n      <th>indiv</th>\n      <th>hhid</th>\n    </tr>\n    <tr>\n      <th>individual_id</th>\n      <th></th>\n      <th></th>\n    </tr>\n  </thead>\n  <tbody>\n    <tr>\n      <th>f1f0cf89a4ed</th>\n      <td>1.0</td>\n      <td>10001</td>\n    </tr>\n    <tr>\n      <th>30f515782f82</th>\n      <td>2.0</td>\n      <td>10001</td>\n    </tr>\n    <tr>\n      <th>068d9042a81d</th>\n      <td>3.0</td>\n      <td>10001</td>\n    </tr>\n    <tr>\n      <th>88a95dd65b02</th>\n      <td>4.0</td>\n      <td>10001</td>\n    </tr>\n    <tr>\n      <th>b68864634b74</th>\n      <td>8.0</td>\n      <td>10001</td>\n    </tr>\n    <tr>\n      <th>...</th>\n      <td>...</td>\n      <td>...</td>\n    </tr>\n    <tr>\n      <th>34454fb5c5a6</th>\n      <td>1601.0</td>\n      <td>209113</td>\n    </tr>\n    <tr>\n      <th>1e8f93ed5b11</th>\n      <td>1601.0</td>\n      <td>219049</td>\n    </tr>\n    <tr>\n      <th>0e26fe36ed1a</th>\n      <td>1602.0</td>\n      <td>219049</td>\n    </tr>\n    <tr>\n      <th>3919d25832b9</th>\n      <td>1601.0</td>\n      <td>299015</td>\n    </tr>\n    <tr>\n      <th>925d032f1526</th>\n      <td>1601.0</td>\n      <td>359021</td>\n    </tr>\n  </tbody>\n</table>\n<p>22488 rows × 2 columns</p>\n</div>"
     },
     "execution_count": 6,
     "metadata": {},
     "output_type": "execute_result"
    }
   ],
   "source": [
    "identifying_columns = [\"hhid\", \"indiv\"]\n",
    "index_name = \"individual_id\"\n",
    "set_unique_index(df=combined_df, columns_to_hash = identifying_columns, index_length_limit=12, index_name=index_name)\n",
    "combined_df"
   ],
   "metadata": {
    "collapsed": false,
    "ExecuteTime": {
     "end_time": "2024-06-13T23:01:52.358676Z",
     "start_time": "2024-06-13T23:01:52.110219Z"
    }
   },
   "id": "69ccf5ed5a9bd56b"
  },
  {
   "cell_type": "code",
   "execution_count": 7,
   "outputs": [],
   "source": [
    "combined_df.rename(columns = {\"hhid\": \"household_id\"}, inplace=True)\n",
    "combined_df = combined_df[[\"household_id\"]]"
   ],
   "metadata": {
    "collapsed": false,
    "ExecuteTime": {
     "end_time": "2024-06-13T23:01:52.364244Z",
     "start_time": "2024-06-13T23:01:52.359735Z"
    }
   },
   "id": "40a748951e9edde5"
  },
  {
   "cell_type": "code",
   "execution_count": 8,
   "outputs": [],
   "source": [
    "combined_df.to_csv(\"../data/processed/linking_tables/individual_id_to_household_id\")"
   ],
   "metadata": {
    "collapsed": false,
    "ExecuteTime": {
     "end_time": "2024-06-13T23:01:52.375605Z",
     "start_time": "2024-06-13T23:01:52.362516Z"
    }
   },
   "id": "6ddf158b981e2c23"
  },
  {
   "cell_type": "markdown",
   "source": [
    "household to phone number linking table"
   ],
   "metadata": {
    "collapsed": false
   },
   "id": "6dbae8ec657ac2ff"
  },
  {
   "cell_type": "code",
   "execution_count": 9,
   "outputs": [
    {
     "name": "stderr",
     "output_type": "stream",
     "text": [
      "/var/folders/lw/jy_c2z0x221fsb78kk1_h2800000gn/T/ipykernel_14590/1535863809.py:10: DtypeWarning: Columns (10,17) have mixed types. Specify dtype option on import or set low_memory=False.\n",
      "  df = pd.read_csv(path_to_files + \"/\" + file_name)\n",
      "/var/folders/lw/jy_c2z0x221fsb78kk1_h2800000gn/T/ipykernel_14590/1535863809.py:10: DtypeWarning: Columns (16,36,82) have mixed types. Specify dtype option on import or set low_memory=False.\n",
      "  df = pd.read_csv(path_to_files + \"/\" + file_name)\n",
      "/var/folders/lw/jy_c2z0x221fsb78kk1_h2800000gn/T/ipykernel_14590/1535863809.py:10: DtypeWarning: Columns (28,33) have mixed types. Specify dtype option on import or set low_memory=False.\n",
      "  df = pd.read_csv(path_to_files + \"/\" + file_name)\n"
     ]
    }
   ],
   "source": [
    "# get a list of datasets which contain individual and household, and create the relationship from the linking table for each of them.\n",
    "# save each df in a list\n",
    "path_to_files = \"../data/raw\"\n",
    "csvs = os.listdir(path_to_files)\n",
    "dfs = []\n",
    "identifying_columns = [\"hhid\", \"indiv\"]\n",
    "index_name = \"individual_id\"\n",
    "\n",
    "for file_name in csvs:\n",
    "    df = pd.read_csv(path_to_files + \"/\" + file_name)\n",
    "    try:\n",
    "        df2 = df[[\"hhid\", \"indiv\", ]]\n",
    "        set_unique_index(df=df, columns_to_hash = identifying_columns, index_length_limit=12, index_name=index_name, set_index=True)\n",
    "        dfs.append((df, file_name))\n",
    "    except KeyError:\n",
    "        continue"
   ],
   "metadata": {
    "collapsed": false,
    "ExecuteTime": {
     "end_time": "2024-06-13T23:01:55.091302Z",
     "start_time": "2024-06-13T23:01:52.376875Z"
    }
   },
   "id": "990ad1988c3719aa"
  },
  {
   "cell_type": "code",
   "execution_count": 10,
   "outputs": [
    {
     "data": {
      "text/plain": "'p2r7_sect_2.csv'"
     },
     "execution_count": 10,
     "metadata": {},
     "output_type": "execute_result"
    }
   ],
   "source": [
    "dfs[0][1]"
   ],
   "metadata": {
    "collapsed": false,
    "ExecuteTime": {
     "end_time": "2024-06-13T23:01:55.096332Z",
     "start_time": "2024-06-13T23:01:55.092738Z"
    }
   },
   "id": "20602b4ba001ddf3"
  },
  {
   "cell_type": "code",
   "execution_count": 11,
   "outputs": [
    {
     "data": {
      "text/plain": "               zone  state   lga  sector    ea    hhid  indiv  s2q2  s2q3  \\\nindividual_id                                                               \ndb95a04273b3      4      1   115       1   670   10001      1     2   1.0   \n58b6880790bd      4      1   115       1   670   10001      2     2   1.0   \nd2a2b4eb1d80      4      1   115       1   670   10001      3     2   1.0   \n9dadc3d1eff3      4      1   115       1   670   10001      4     2   1.0   \ncd696cdeb3ac      4      1   115       1   670   10001      8     2   1.0   \n...             ...    ...   ...     ...   ...     ...    ...   ...   ...   \n7b559a072842      1     37  3702       1  1102  379155      1     2   1.0   \ne102508752e8      1     37  3702       1  1102  379155      2     2   1.0   \nb93d164cbee8      1     37  3702       1  1102  379155      3     2   1.0   \n621de7851948      1     37  3702       1  1102  379155      4     2   1.0   \nbfb8a7761218      1     37  3702       1  1102  379155    101     2   1.0   \n\n               s2q4  ... s2q5  s2q6  s2q7a  s2q7  s2q7_os s2q8  s2q8_os s2q9  \\\nindividual_id        ...                                                       \ndb95a04273b3    NaN  ...  1.0  63.0      1   1.0      NaN  NaN      NaN  NaN   \n58b6880790bd    NaN  ...  2.0  59.0      1   2.0      NaN  NaN      NaN  NaN   \nd2a2b4eb1d80    NaN  ...  2.0  13.0      1   3.0      NaN  NaN      NaN  NaN   \n9dadc3d1eff3    NaN  ...  2.0  54.0      1  12.0      NaN  NaN      NaN  NaN   \ncd696cdeb3ac    NaN  ...  1.0  10.0      1   3.0      NaN  NaN      NaN  NaN   \n...             ...  ...  ...   ...    ...   ...      ...  ...      ...  ...   \n7b559a072842    NaN  ...  1.0  49.0      1   1.0      NaN  NaN      NaN  NaN   \ne102508752e8    NaN  ...  2.0  45.0      1   2.0      NaN  NaN      NaN  NaN   \nb93d164cbee8    NaN  ...  2.0   9.0      1   3.0      NaN  NaN      NaN  NaN   \n621de7851948    NaN  ...  1.0   7.0      1   3.0      NaN  NaN      NaN  NaN   \nbfb8a7761218    NaN  ...  2.0  22.0      1   8.0      NaN  NaN      NaN  NaN   \n\n               s2q9_os  selected_farmer  \nindividual_id                            \ndb95a04273b3       NaN              NaN  \n58b6880790bd       NaN              NaN  \nd2a2b4eb1d80       NaN              NaN  \n9dadc3d1eff3       NaN              NaN  \ncd696cdeb3ac       NaN              NaN  \n...                ...              ...  \n7b559a072842       NaN              NaN  \ne102508752e8       NaN              NaN  \nb93d164cbee8       NaN              NaN  \n621de7851948       NaN              NaN  \nbfb8a7761218       NaN              NaN  \n\n[16153 rows x 21 columns]",
      "text/html": "<div>\n<style scoped>\n    .dataframe tbody tr th:only-of-type {\n        vertical-align: middle;\n    }\n\n    .dataframe tbody tr th {\n        vertical-align: top;\n    }\n\n    .dataframe thead th {\n        text-align: right;\n    }\n</style>\n<table border=\"1\" class=\"dataframe\">\n  <thead>\n    <tr style=\"text-align: right;\">\n      <th></th>\n      <th>zone</th>\n      <th>state</th>\n      <th>lga</th>\n      <th>sector</th>\n      <th>ea</th>\n      <th>hhid</th>\n      <th>indiv</th>\n      <th>s2q2</th>\n      <th>s2q3</th>\n      <th>s2q4</th>\n      <th>...</th>\n      <th>s2q5</th>\n      <th>s2q6</th>\n      <th>s2q7a</th>\n      <th>s2q7</th>\n      <th>s2q7_os</th>\n      <th>s2q8</th>\n      <th>s2q8_os</th>\n      <th>s2q9</th>\n      <th>s2q9_os</th>\n      <th>selected_farmer</th>\n    </tr>\n    <tr>\n      <th>individual_id</th>\n      <th></th>\n      <th></th>\n      <th></th>\n      <th></th>\n      <th></th>\n      <th></th>\n      <th></th>\n      <th></th>\n      <th></th>\n      <th></th>\n      <th></th>\n      <th></th>\n      <th></th>\n      <th></th>\n      <th></th>\n      <th></th>\n      <th></th>\n      <th></th>\n      <th></th>\n      <th></th>\n      <th></th>\n    </tr>\n  </thead>\n  <tbody>\n    <tr>\n      <th>db95a04273b3</th>\n      <td>4</td>\n      <td>1</td>\n      <td>115</td>\n      <td>1</td>\n      <td>670</td>\n      <td>10001</td>\n      <td>1</td>\n      <td>2</td>\n      <td>1.0</td>\n      <td>NaN</td>\n      <td>...</td>\n      <td>1.0</td>\n      <td>63.0</td>\n      <td>1</td>\n      <td>1.0</td>\n      <td>NaN</td>\n      <td>NaN</td>\n      <td>NaN</td>\n      <td>NaN</td>\n      <td>NaN</td>\n      <td>NaN</td>\n    </tr>\n    <tr>\n      <th>58b6880790bd</th>\n      <td>4</td>\n      <td>1</td>\n      <td>115</td>\n      <td>1</td>\n      <td>670</td>\n      <td>10001</td>\n      <td>2</td>\n      <td>2</td>\n      <td>1.0</td>\n      <td>NaN</td>\n      <td>...</td>\n      <td>2.0</td>\n      <td>59.0</td>\n      <td>1</td>\n      <td>2.0</td>\n      <td>NaN</td>\n      <td>NaN</td>\n      <td>NaN</td>\n      <td>NaN</td>\n      <td>NaN</td>\n      <td>NaN</td>\n    </tr>\n    <tr>\n      <th>d2a2b4eb1d80</th>\n      <td>4</td>\n      <td>1</td>\n      <td>115</td>\n      <td>1</td>\n      <td>670</td>\n      <td>10001</td>\n      <td>3</td>\n      <td>2</td>\n      <td>1.0</td>\n      <td>NaN</td>\n      <td>...</td>\n      <td>2.0</td>\n      <td>13.0</td>\n      <td>1</td>\n      <td>3.0</td>\n      <td>NaN</td>\n      <td>NaN</td>\n      <td>NaN</td>\n      <td>NaN</td>\n      <td>NaN</td>\n      <td>NaN</td>\n    </tr>\n    <tr>\n      <th>9dadc3d1eff3</th>\n      <td>4</td>\n      <td>1</td>\n      <td>115</td>\n      <td>1</td>\n      <td>670</td>\n      <td>10001</td>\n      <td>4</td>\n      <td>2</td>\n      <td>1.0</td>\n      <td>NaN</td>\n      <td>...</td>\n      <td>2.0</td>\n      <td>54.0</td>\n      <td>1</td>\n      <td>12.0</td>\n      <td>NaN</td>\n      <td>NaN</td>\n      <td>NaN</td>\n      <td>NaN</td>\n      <td>NaN</td>\n      <td>NaN</td>\n    </tr>\n    <tr>\n      <th>cd696cdeb3ac</th>\n      <td>4</td>\n      <td>1</td>\n      <td>115</td>\n      <td>1</td>\n      <td>670</td>\n      <td>10001</td>\n      <td>8</td>\n      <td>2</td>\n      <td>1.0</td>\n      <td>NaN</td>\n      <td>...</td>\n      <td>1.0</td>\n      <td>10.0</td>\n      <td>1</td>\n      <td>3.0</td>\n      <td>NaN</td>\n      <td>NaN</td>\n      <td>NaN</td>\n      <td>NaN</td>\n      <td>NaN</td>\n      <td>NaN</td>\n    </tr>\n    <tr>\n      <th>...</th>\n      <td>...</td>\n      <td>...</td>\n      <td>...</td>\n      <td>...</td>\n      <td>...</td>\n      <td>...</td>\n      <td>...</td>\n      <td>...</td>\n      <td>...</td>\n      <td>...</td>\n      <td>...</td>\n      <td>...</td>\n      <td>...</td>\n      <td>...</td>\n      <td>...</td>\n      <td>...</td>\n      <td>...</td>\n      <td>...</td>\n      <td>...</td>\n      <td>...</td>\n      <td>...</td>\n    </tr>\n    <tr>\n      <th>7b559a072842</th>\n      <td>1</td>\n      <td>37</td>\n      <td>3702</td>\n      <td>1</td>\n      <td>1102</td>\n      <td>379155</td>\n      <td>1</td>\n      <td>2</td>\n      <td>1.0</td>\n      <td>NaN</td>\n      <td>...</td>\n      <td>1.0</td>\n      <td>49.0</td>\n      <td>1</td>\n      <td>1.0</td>\n      <td>NaN</td>\n      <td>NaN</td>\n      <td>NaN</td>\n      <td>NaN</td>\n      <td>NaN</td>\n      <td>NaN</td>\n    </tr>\n    <tr>\n      <th>e102508752e8</th>\n      <td>1</td>\n      <td>37</td>\n      <td>3702</td>\n      <td>1</td>\n      <td>1102</td>\n      <td>379155</td>\n      <td>2</td>\n      <td>2</td>\n      <td>1.0</td>\n      <td>NaN</td>\n      <td>...</td>\n      <td>2.0</td>\n      <td>45.0</td>\n      <td>1</td>\n      <td>2.0</td>\n      <td>NaN</td>\n      <td>NaN</td>\n      <td>NaN</td>\n      <td>NaN</td>\n      <td>NaN</td>\n      <td>NaN</td>\n    </tr>\n    <tr>\n      <th>b93d164cbee8</th>\n      <td>1</td>\n      <td>37</td>\n      <td>3702</td>\n      <td>1</td>\n      <td>1102</td>\n      <td>379155</td>\n      <td>3</td>\n      <td>2</td>\n      <td>1.0</td>\n      <td>NaN</td>\n      <td>...</td>\n      <td>2.0</td>\n      <td>9.0</td>\n      <td>1</td>\n      <td>3.0</td>\n      <td>NaN</td>\n      <td>NaN</td>\n      <td>NaN</td>\n      <td>NaN</td>\n      <td>NaN</td>\n      <td>NaN</td>\n    </tr>\n    <tr>\n      <th>621de7851948</th>\n      <td>1</td>\n      <td>37</td>\n      <td>3702</td>\n      <td>1</td>\n      <td>1102</td>\n      <td>379155</td>\n      <td>4</td>\n      <td>2</td>\n      <td>1.0</td>\n      <td>NaN</td>\n      <td>...</td>\n      <td>1.0</td>\n      <td>7.0</td>\n      <td>1</td>\n      <td>3.0</td>\n      <td>NaN</td>\n      <td>NaN</td>\n      <td>NaN</td>\n      <td>NaN</td>\n      <td>NaN</td>\n      <td>NaN</td>\n    </tr>\n    <tr>\n      <th>bfb8a7761218</th>\n      <td>1</td>\n      <td>37</td>\n      <td>3702</td>\n      <td>1</td>\n      <td>1102</td>\n      <td>379155</td>\n      <td>101</td>\n      <td>2</td>\n      <td>1.0</td>\n      <td>NaN</td>\n      <td>...</td>\n      <td>2.0</td>\n      <td>22.0</td>\n      <td>1</td>\n      <td>8.0</td>\n      <td>NaN</td>\n      <td>NaN</td>\n      <td>NaN</td>\n      <td>NaN</td>\n      <td>NaN</td>\n      <td>NaN</td>\n    </tr>\n  </tbody>\n</table>\n<p>16153 rows × 21 columns</p>\n</div>"
     },
     "execution_count": 11,
     "metadata": {},
     "output_type": "execute_result"
    }
   ],
   "source": [
    "working_df = dfs[0][0]\n",
    "working_df"
   ],
   "metadata": {
    "collapsed": false,
    "ExecuteTime": {
     "end_time": "2024-06-13T23:01:55.107975Z",
     "start_time": "2024-06-13T23:01:55.096041Z"
    }
   },
   "id": "70a95aba8bb04388"
  },
  {
   "cell_type": "code",
   "execution_count": 12,
   "outputs": [
    {
     "data": {
      "text/plain": "               zone  state   lga  sector    ea    hhid  indiv  \\\nindividual_id                                                   \ndb95a04273b3      4      1   115       1   670   10001      1   \n58b6880790bd      4      1   115       1   670   10001      2   \nd2a2b4eb1d80      4      1   115       1   670   10001      3   \n9dadc3d1eff3      4      1   115       1   670   10001      4   \ncd696cdeb3ac      4      1   115       1   670   10001      8   \n...             ...    ...   ...     ...   ...     ...    ...   \n7b559a072842      1     37  3702       1  1102  379155      1   \ne102508752e8      1     37  3702       1  1102  379155      2   \nb93d164cbee8      1     37  3702       1  1102  379155      3   \n621de7851948      1     37  3702       1  1102  379155      4   \nbfb8a7761218      1     37  3702       1  1102  379155    101   \n\n               is_new_household_member  is_still_household_member  s2q4  ...  \\\nindividual_id                                                            ...   \ndb95a04273b3                         2                        1.0   NaN  ...   \n58b6880790bd                         2                        1.0   NaN  ...   \nd2a2b4eb1d80                         2                        1.0   NaN  ...   \n9dadc3d1eff3                         2                        1.0   NaN  ...   \ncd696cdeb3ac                         2                        1.0   NaN  ...   \n...                                ...                        ...   ...  ...   \n7b559a072842                         2                        1.0   NaN  ...   \ne102508752e8                         2                        1.0   NaN  ...   \nb93d164cbee8                         2                        1.0   NaN  ...   \n621de7851948                         2                        1.0   NaN  ...   \nbfb8a7761218                         2                        1.0   NaN  ...   \n\n               sex   age  s2q7a  relationship_to_head  other_relationship  \\\nindividual_id                                                               \ndb95a04273b3   1.0  63.0      1                   1.0                 NaN   \n58b6880790bd   2.0  59.0      1                   2.0                 NaN   \nd2a2b4eb1d80   2.0  13.0      1                   3.0                 NaN   \n9dadc3d1eff3   2.0  54.0      1                  12.0                 NaN   \ncd696cdeb3ac   1.0  10.0      1                   3.0                 NaN   \n...            ...   ...    ...                   ...                 ...   \n7b559a072842   1.0  49.0      1                   1.0                 NaN   \ne102508752e8   2.0  45.0      1                   2.0                 NaN   \nb93d164cbee8   2.0   9.0      1                   3.0                 NaN   \n621de7851948   1.0   7.0      1                   3.0                 NaN   \nbfb8a7761218   2.0  22.0      1                   8.0                 NaN   \n\n              why_join_household  other_reason_for_joining s2q9  s2q9_os  \\\nindividual_id                                                              \ndb95a04273b3                 NaN                       NaN  NaN      NaN   \n58b6880790bd                 NaN                       NaN  NaN      NaN   \nd2a2b4eb1d80                 NaN                       NaN  NaN      NaN   \n9dadc3d1eff3                 NaN                       NaN  NaN      NaN   \ncd696cdeb3ac                 NaN                       NaN  NaN      NaN   \n...                          ...                       ...  ...      ...   \n7b559a072842                 NaN                       NaN  NaN      NaN   \ne102508752e8                 NaN                       NaN  NaN      NaN   \nb93d164cbee8                 NaN                       NaN  NaN      NaN   \n621de7851948                 NaN                       NaN  NaN      NaN   \nbfb8a7761218                 NaN                       NaN  NaN      NaN   \n\n               is_selected_farmer  \nindividual_id                      \ndb95a04273b3                  NaN  \n58b6880790bd                  NaN  \nd2a2b4eb1d80                  NaN  \n9dadc3d1eff3                  NaN  \ncd696cdeb3ac                  NaN  \n...                           ...  \n7b559a072842                  NaN  \ne102508752e8                  NaN  \nb93d164cbee8                  NaN  \n621de7851948                  NaN  \nbfb8a7761218                  NaN  \n\n[16153 rows x 21 columns]",
      "text/html": "<div>\n<style scoped>\n    .dataframe tbody tr th:only-of-type {\n        vertical-align: middle;\n    }\n\n    .dataframe tbody tr th {\n        vertical-align: top;\n    }\n\n    .dataframe thead th {\n        text-align: right;\n    }\n</style>\n<table border=\"1\" class=\"dataframe\">\n  <thead>\n    <tr style=\"text-align: right;\">\n      <th></th>\n      <th>zone</th>\n      <th>state</th>\n      <th>lga</th>\n      <th>sector</th>\n      <th>ea</th>\n      <th>hhid</th>\n      <th>indiv</th>\n      <th>is_new_household_member</th>\n      <th>is_still_household_member</th>\n      <th>s2q4</th>\n      <th>...</th>\n      <th>sex</th>\n      <th>age</th>\n      <th>s2q7a</th>\n      <th>relationship_to_head</th>\n      <th>other_relationship</th>\n      <th>why_join_household</th>\n      <th>other_reason_for_joining</th>\n      <th>s2q9</th>\n      <th>s2q9_os</th>\n      <th>is_selected_farmer</th>\n    </tr>\n    <tr>\n      <th>individual_id</th>\n      <th></th>\n      <th></th>\n      <th></th>\n      <th></th>\n      <th></th>\n      <th></th>\n      <th></th>\n      <th></th>\n      <th></th>\n      <th></th>\n      <th></th>\n      <th></th>\n      <th></th>\n      <th></th>\n      <th></th>\n      <th></th>\n      <th></th>\n      <th></th>\n      <th></th>\n      <th></th>\n      <th></th>\n    </tr>\n  </thead>\n  <tbody>\n    <tr>\n      <th>db95a04273b3</th>\n      <td>4</td>\n      <td>1</td>\n      <td>115</td>\n      <td>1</td>\n      <td>670</td>\n      <td>10001</td>\n      <td>1</td>\n      <td>2</td>\n      <td>1.0</td>\n      <td>NaN</td>\n      <td>...</td>\n      <td>1.0</td>\n      <td>63.0</td>\n      <td>1</td>\n      <td>1.0</td>\n      <td>NaN</td>\n      <td>NaN</td>\n      <td>NaN</td>\n      <td>NaN</td>\n      <td>NaN</td>\n      <td>NaN</td>\n    </tr>\n    <tr>\n      <th>58b6880790bd</th>\n      <td>4</td>\n      <td>1</td>\n      <td>115</td>\n      <td>1</td>\n      <td>670</td>\n      <td>10001</td>\n      <td>2</td>\n      <td>2</td>\n      <td>1.0</td>\n      <td>NaN</td>\n      <td>...</td>\n      <td>2.0</td>\n      <td>59.0</td>\n      <td>1</td>\n      <td>2.0</td>\n      <td>NaN</td>\n      <td>NaN</td>\n      <td>NaN</td>\n      <td>NaN</td>\n      <td>NaN</td>\n      <td>NaN</td>\n    </tr>\n    <tr>\n      <th>d2a2b4eb1d80</th>\n      <td>4</td>\n      <td>1</td>\n      <td>115</td>\n      <td>1</td>\n      <td>670</td>\n      <td>10001</td>\n      <td>3</td>\n      <td>2</td>\n      <td>1.0</td>\n      <td>NaN</td>\n      <td>...</td>\n      <td>2.0</td>\n      <td>13.0</td>\n      <td>1</td>\n      <td>3.0</td>\n      <td>NaN</td>\n      <td>NaN</td>\n      <td>NaN</td>\n      <td>NaN</td>\n      <td>NaN</td>\n      <td>NaN</td>\n    </tr>\n    <tr>\n      <th>9dadc3d1eff3</th>\n      <td>4</td>\n      <td>1</td>\n      <td>115</td>\n      <td>1</td>\n      <td>670</td>\n      <td>10001</td>\n      <td>4</td>\n      <td>2</td>\n      <td>1.0</td>\n      <td>NaN</td>\n      <td>...</td>\n      <td>2.0</td>\n      <td>54.0</td>\n      <td>1</td>\n      <td>12.0</td>\n      <td>NaN</td>\n      <td>NaN</td>\n      <td>NaN</td>\n      <td>NaN</td>\n      <td>NaN</td>\n      <td>NaN</td>\n    </tr>\n    <tr>\n      <th>cd696cdeb3ac</th>\n      <td>4</td>\n      <td>1</td>\n      <td>115</td>\n      <td>1</td>\n      <td>670</td>\n      <td>10001</td>\n      <td>8</td>\n      <td>2</td>\n      <td>1.0</td>\n      <td>NaN</td>\n      <td>...</td>\n      <td>1.0</td>\n      <td>10.0</td>\n      <td>1</td>\n      <td>3.0</td>\n      <td>NaN</td>\n      <td>NaN</td>\n      <td>NaN</td>\n      <td>NaN</td>\n      <td>NaN</td>\n      <td>NaN</td>\n    </tr>\n    <tr>\n      <th>...</th>\n      <td>...</td>\n      <td>...</td>\n      <td>...</td>\n      <td>...</td>\n      <td>...</td>\n      <td>...</td>\n      <td>...</td>\n      <td>...</td>\n      <td>...</td>\n      <td>...</td>\n      <td>...</td>\n      <td>...</td>\n      <td>...</td>\n      <td>...</td>\n      <td>...</td>\n      <td>...</td>\n      <td>...</td>\n      <td>...</td>\n      <td>...</td>\n      <td>...</td>\n      <td>...</td>\n    </tr>\n    <tr>\n      <th>7b559a072842</th>\n      <td>1</td>\n      <td>37</td>\n      <td>3702</td>\n      <td>1</td>\n      <td>1102</td>\n      <td>379155</td>\n      <td>1</td>\n      <td>2</td>\n      <td>1.0</td>\n      <td>NaN</td>\n      <td>...</td>\n      <td>1.0</td>\n      <td>49.0</td>\n      <td>1</td>\n      <td>1.0</td>\n      <td>NaN</td>\n      <td>NaN</td>\n      <td>NaN</td>\n      <td>NaN</td>\n      <td>NaN</td>\n      <td>NaN</td>\n    </tr>\n    <tr>\n      <th>e102508752e8</th>\n      <td>1</td>\n      <td>37</td>\n      <td>3702</td>\n      <td>1</td>\n      <td>1102</td>\n      <td>379155</td>\n      <td>2</td>\n      <td>2</td>\n      <td>1.0</td>\n      <td>NaN</td>\n      <td>...</td>\n      <td>2.0</td>\n      <td>45.0</td>\n      <td>1</td>\n      <td>2.0</td>\n      <td>NaN</td>\n      <td>NaN</td>\n      <td>NaN</td>\n      <td>NaN</td>\n      <td>NaN</td>\n      <td>NaN</td>\n    </tr>\n    <tr>\n      <th>b93d164cbee8</th>\n      <td>1</td>\n      <td>37</td>\n      <td>3702</td>\n      <td>1</td>\n      <td>1102</td>\n      <td>379155</td>\n      <td>3</td>\n      <td>2</td>\n      <td>1.0</td>\n      <td>NaN</td>\n      <td>...</td>\n      <td>2.0</td>\n      <td>9.0</td>\n      <td>1</td>\n      <td>3.0</td>\n      <td>NaN</td>\n      <td>NaN</td>\n      <td>NaN</td>\n      <td>NaN</td>\n      <td>NaN</td>\n      <td>NaN</td>\n    </tr>\n    <tr>\n      <th>621de7851948</th>\n      <td>1</td>\n      <td>37</td>\n      <td>3702</td>\n      <td>1</td>\n      <td>1102</td>\n      <td>379155</td>\n      <td>4</td>\n      <td>2</td>\n      <td>1.0</td>\n      <td>NaN</td>\n      <td>...</td>\n      <td>1.0</td>\n      <td>7.0</td>\n      <td>1</td>\n      <td>3.0</td>\n      <td>NaN</td>\n      <td>NaN</td>\n      <td>NaN</td>\n      <td>NaN</td>\n      <td>NaN</td>\n      <td>NaN</td>\n    </tr>\n    <tr>\n      <th>bfb8a7761218</th>\n      <td>1</td>\n      <td>37</td>\n      <td>3702</td>\n      <td>1</td>\n      <td>1102</td>\n      <td>379155</td>\n      <td>101</td>\n      <td>2</td>\n      <td>1.0</td>\n      <td>NaN</td>\n      <td>...</td>\n      <td>2.0</td>\n      <td>22.0</td>\n      <td>1</td>\n      <td>8.0</td>\n      <td>NaN</td>\n      <td>NaN</td>\n      <td>NaN</td>\n      <td>NaN</td>\n      <td>NaN</td>\n      <td>NaN</td>\n    </tr>\n  </tbody>\n</table>\n<p>16153 rows × 21 columns</p>\n</div>"
     },
     "execution_count": 12,
     "metadata": {},
     "output_type": "execute_result"
    }
   ],
   "source": [
    "rename_dict= {'s2q2': 'is_new_household_member',\n",
    "              's2q3': 'is_still_household_member',\n",
    "              's2q5': 'sex',\n",
    "              's2q6': 'age',\n",
    "              's2q7': 'relationship_to_head',\n",
    "              's2q7_os': 'other_relationship',\n",
    "              's2q8': 'why_join_household',\n",
    "              's2q8_os':'other_reason_for_joining',\n",
    "              'selected_farmer': 'is_selected_farmer'\n",
    "              }\n",
    "working_df = working_df.rename(columns = rename_dict)\n",
    "working_df"
   ],
   "metadata": {
    "collapsed": false,
    "ExecuteTime": {
     "end_time": "2024-06-13T23:01:55.149959Z",
     "start_time": "2024-06-13T23:01:55.110851Z"
    }
   },
   "id": "da87f15b4bed1431"
  },
  {
   "cell_type": "code",
   "execution_count": 13,
   "outputs": [
    {
     "data": {
      "text/plain": "               is_new_household_member  is_still_household_member  sex   age  \\\nindividual_id                                                                  \ndb95a04273b3                         2                        1.0  1.0  63.0   \n58b6880790bd                         2                        1.0  2.0  59.0   \nd2a2b4eb1d80                         2                        1.0  2.0  13.0   \n9dadc3d1eff3                         2                        1.0  2.0  54.0   \ncd696cdeb3ac                         2                        1.0  1.0  10.0   \n...                                ...                        ...  ...   ...   \n7b559a072842                         2                        1.0  1.0  49.0   \ne102508752e8                         2                        1.0  2.0  45.0   \nb93d164cbee8                         2                        1.0  2.0   9.0   \n621de7851948                         2                        1.0  1.0   7.0   \nbfb8a7761218                         2                        1.0  2.0  22.0   \n\n               relationship_to_head other_relationship  why_join_household  \\\nindividual_id                                                                \ndb95a04273b3                    1.0                NaN                 NaN   \n58b6880790bd                    2.0                NaN                 NaN   \nd2a2b4eb1d80                    3.0                NaN                 NaN   \n9dadc3d1eff3                   12.0                NaN                 NaN   \ncd696cdeb3ac                    3.0                NaN                 NaN   \n...                             ...                ...                 ...   \n7b559a072842                    1.0                NaN                 NaN   \ne102508752e8                    2.0                NaN                 NaN   \nb93d164cbee8                    3.0                NaN                 NaN   \n621de7851948                    3.0                NaN                 NaN   \nbfb8a7761218                    8.0                NaN                 NaN   \n\n              other_reason_for_joining  is_selected_farmer  \nindividual_id                                               \ndb95a04273b3                       NaN                 NaN  \n58b6880790bd                       NaN                 NaN  \nd2a2b4eb1d80                       NaN                 NaN  \n9dadc3d1eff3                       NaN                 NaN  \ncd696cdeb3ac                       NaN                 NaN  \n...                                ...                 ...  \n7b559a072842                       NaN                 NaN  \ne102508752e8                       NaN                 NaN  \nb93d164cbee8                       NaN                 NaN  \n621de7851948                       NaN                 NaN  \nbfb8a7761218                       NaN                 NaN  \n\n[16153 rows x 9 columns]",
      "text/html": "<div>\n<style scoped>\n    .dataframe tbody tr th:only-of-type {\n        vertical-align: middle;\n    }\n\n    .dataframe tbody tr th {\n        vertical-align: top;\n    }\n\n    .dataframe thead th {\n        text-align: right;\n    }\n</style>\n<table border=\"1\" class=\"dataframe\">\n  <thead>\n    <tr style=\"text-align: right;\">\n      <th></th>\n      <th>is_new_household_member</th>\n      <th>is_still_household_member</th>\n      <th>sex</th>\n      <th>age</th>\n      <th>relationship_to_head</th>\n      <th>other_relationship</th>\n      <th>why_join_household</th>\n      <th>other_reason_for_joining</th>\n      <th>is_selected_farmer</th>\n    </tr>\n    <tr>\n      <th>individual_id</th>\n      <th></th>\n      <th></th>\n      <th></th>\n      <th></th>\n      <th></th>\n      <th></th>\n      <th></th>\n      <th></th>\n      <th></th>\n    </tr>\n  </thead>\n  <tbody>\n    <tr>\n      <th>db95a04273b3</th>\n      <td>2</td>\n      <td>1.0</td>\n      <td>1.0</td>\n      <td>63.0</td>\n      <td>1.0</td>\n      <td>NaN</td>\n      <td>NaN</td>\n      <td>NaN</td>\n      <td>NaN</td>\n    </tr>\n    <tr>\n      <th>58b6880790bd</th>\n      <td>2</td>\n      <td>1.0</td>\n      <td>2.0</td>\n      <td>59.0</td>\n      <td>2.0</td>\n      <td>NaN</td>\n      <td>NaN</td>\n      <td>NaN</td>\n      <td>NaN</td>\n    </tr>\n    <tr>\n      <th>d2a2b4eb1d80</th>\n      <td>2</td>\n      <td>1.0</td>\n      <td>2.0</td>\n      <td>13.0</td>\n      <td>3.0</td>\n      <td>NaN</td>\n      <td>NaN</td>\n      <td>NaN</td>\n      <td>NaN</td>\n    </tr>\n    <tr>\n      <th>9dadc3d1eff3</th>\n      <td>2</td>\n      <td>1.0</td>\n      <td>2.0</td>\n      <td>54.0</td>\n      <td>12.0</td>\n      <td>NaN</td>\n      <td>NaN</td>\n      <td>NaN</td>\n      <td>NaN</td>\n    </tr>\n    <tr>\n      <th>cd696cdeb3ac</th>\n      <td>2</td>\n      <td>1.0</td>\n      <td>1.0</td>\n      <td>10.0</td>\n      <td>3.0</td>\n      <td>NaN</td>\n      <td>NaN</td>\n      <td>NaN</td>\n      <td>NaN</td>\n    </tr>\n    <tr>\n      <th>...</th>\n      <td>...</td>\n      <td>...</td>\n      <td>...</td>\n      <td>...</td>\n      <td>...</td>\n      <td>...</td>\n      <td>...</td>\n      <td>...</td>\n      <td>...</td>\n    </tr>\n    <tr>\n      <th>7b559a072842</th>\n      <td>2</td>\n      <td>1.0</td>\n      <td>1.0</td>\n      <td>49.0</td>\n      <td>1.0</td>\n      <td>NaN</td>\n      <td>NaN</td>\n      <td>NaN</td>\n      <td>NaN</td>\n    </tr>\n    <tr>\n      <th>e102508752e8</th>\n      <td>2</td>\n      <td>1.0</td>\n      <td>2.0</td>\n      <td>45.0</td>\n      <td>2.0</td>\n      <td>NaN</td>\n      <td>NaN</td>\n      <td>NaN</td>\n      <td>NaN</td>\n    </tr>\n    <tr>\n      <th>b93d164cbee8</th>\n      <td>2</td>\n      <td>1.0</td>\n      <td>2.0</td>\n      <td>9.0</td>\n      <td>3.0</td>\n      <td>NaN</td>\n      <td>NaN</td>\n      <td>NaN</td>\n      <td>NaN</td>\n    </tr>\n    <tr>\n      <th>621de7851948</th>\n      <td>2</td>\n      <td>1.0</td>\n      <td>1.0</td>\n      <td>7.0</td>\n      <td>3.0</td>\n      <td>NaN</td>\n      <td>NaN</td>\n      <td>NaN</td>\n      <td>NaN</td>\n    </tr>\n    <tr>\n      <th>bfb8a7761218</th>\n      <td>2</td>\n      <td>1.0</td>\n      <td>2.0</td>\n      <td>22.0</td>\n      <td>8.0</td>\n      <td>NaN</td>\n      <td>NaN</td>\n      <td>NaN</td>\n      <td>NaN</td>\n    </tr>\n  </tbody>\n</table>\n<p>16153 rows × 9 columns</p>\n</div>"
     },
     "execution_count": 13,
     "metadata": {},
     "output_type": "execute_result"
    }
   ],
   "source": [
    "working_df = working_df[[item for item in rename_dict.values()]]\n",
    "working_df"
   ],
   "metadata": {
    "collapsed": false,
    "ExecuteTime": {
     "end_time": "2024-06-13T23:01:55.183285Z",
     "start_time": "2024-06-13T23:01:55.123761Z"
    }
   },
   "id": "14c5c08babaf7ae3"
  },
  {
   "cell_type": "code",
   "execution_count": 14,
   "outputs": [],
   "source": [
    "def recode_binary(entry):\n",
    "    if math.isnan(entry):\n",
    "        return entry\n",
    "    #If not, recode the variable this way\n",
    "    else:\n",
    "        value = int(entry)\n",
    "        if value == 1:\n",
    "            return \"YES\"\n",
    "        elif value == 2:\n",
    "            return \"NO\"\n",
    "        else:\n",
    "            return np.nan"
   ],
   "metadata": {
    "collapsed": false,
    "ExecuteTime": {
     "end_time": "2024-06-13T23:01:55.183516Z",
     "start_time": "2024-06-13T23:01:55.131694Z"
    }
   },
   "id": "e41773b4b077e128"
  },
  {
   "cell_type": "code",
   "execution_count": 15,
   "outputs": [
    {
     "name": "stderr",
     "output_type": "stream",
     "text": [
      "/Users/kathrynpanger/Documents/swb_inspect_data/cleaning_functions/clean_csv.py:74: SettingWithCopyWarning: \n",
      "A value is trying to be set on a copy of a slice from a DataFrame.\n",
      "Try using .loc[row_indexer,col_indexer] = value instead\n",
      "\n",
      "See the caveats in the documentation: https://pandas.pydata.org/pandas-docs/stable/user_guide/indexing.html#returning-a-view-versus-a-copy\n",
      "  df[col] = df[col].apply(lambda x: function(x))\n"
     ]
    },
    {
     "data": {
      "text/plain": "              is_new_household_member is_still_household_member  sex   age  \\\nindividual_id                                                                \ndb95a04273b3                       NO                       YES  1.0  63.0   \n58b6880790bd                       NO                       YES  2.0  59.0   \nd2a2b4eb1d80                       NO                       YES  2.0  13.0   \n9dadc3d1eff3                       NO                       YES  2.0  54.0   \ncd696cdeb3ac                       NO                       YES  1.0  10.0   \n...                               ...                       ...  ...   ...   \n7b559a072842                       NO                       YES  1.0  49.0   \ne102508752e8                       NO                       YES  2.0  45.0   \nb93d164cbee8                       NO                       YES  2.0   9.0   \n621de7851948                       NO                       YES  1.0   7.0   \nbfb8a7761218                       NO                       YES  2.0  22.0   \n\n               relationship_to_head other_relationship  why_join_household  \\\nindividual_id                                                                \ndb95a04273b3                    1.0                NaN                 NaN   \n58b6880790bd                    2.0                NaN                 NaN   \nd2a2b4eb1d80                    3.0                NaN                 NaN   \n9dadc3d1eff3                   12.0                NaN                 NaN   \ncd696cdeb3ac                    3.0                NaN                 NaN   \n...                             ...                ...                 ...   \n7b559a072842                    1.0                NaN                 NaN   \ne102508752e8                    2.0                NaN                 NaN   \nb93d164cbee8                    3.0                NaN                 NaN   \n621de7851948                    3.0                NaN                 NaN   \nbfb8a7761218                    8.0                NaN                 NaN   \n\n              other_reason_for_joining is_selected_farmer  \nindividual_id                                              \ndb95a04273b3                       NaN                NaN  \n58b6880790bd                       NaN                NaN  \nd2a2b4eb1d80                       NaN                NaN  \n9dadc3d1eff3                       NaN                NaN  \ncd696cdeb3ac                       NaN                NaN  \n...                                ...                ...  \n7b559a072842                       NaN                NaN  \ne102508752e8                       NaN                NaN  \nb93d164cbee8                       NaN                NaN  \n621de7851948                       NaN                NaN  \nbfb8a7761218                       NaN                NaN  \n\n[16153 rows x 9 columns]",
      "text/html": "<div>\n<style scoped>\n    .dataframe tbody tr th:only-of-type {\n        vertical-align: middle;\n    }\n\n    .dataframe tbody tr th {\n        vertical-align: top;\n    }\n\n    .dataframe thead th {\n        text-align: right;\n    }\n</style>\n<table border=\"1\" class=\"dataframe\">\n  <thead>\n    <tr style=\"text-align: right;\">\n      <th></th>\n      <th>is_new_household_member</th>\n      <th>is_still_household_member</th>\n      <th>sex</th>\n      <th>age</th>\n      <th>relationship_to_head</th>\n      <th>other_relationship</th>\n      <th>why_join_household</th>\n      <th>other_reason_for_joining</th>\n      <th>is_selected_farmer</th>\n    </tr>\n    <tr>\n      <th>individual_id</th>\n      <th></th>\n      <th></th>\n      <th></th>\n      <th></th>\n      <th></th>\n      <th></th>\n      <th></th>\n      <th></th>\n      <th></th>\n    </tr>\n  </thead>\n  <tbody>\n    <tr>\n      <th>db95a04273b3</th>\n      <td>NO</td>\n      <td>YES</td>\n      <td>1.0</td>\n      <td>63.0</td>\n      <td>1.0</td>\n      <td>NaN</td>\n      <td>NaN</td>\n      <td>NaN</td>\n      <td>NaN</td>\n    </tr>\n    <tr>\n      <th>58b6880790bd</th>\n      <td>NO</td>\n      <td>YES</td>\n      <td>2.0</td>\n      <td>59.0</td>\n      <td>2.0</td>\n      <td>NaN</td>\n      <td>NaN</td>\n      <td>NaN</td>\n      <td>NaN</td>\n    </tr>\n    <tr>\n      <th>d2a2b4eb1d80</th>\n      <td>NO</td>\n      <td>YES</td>\n      <td>2.0</td>\n      <td>13.0</td>\n      <td>3.0</td>\n      <td>NaN</td>\n      <td>NaN</td>\n      <td>NaN</td>\n      <td>NaN</td>\n    </tr>\n    <tr>\n      <th>9dadc3d1eff3</th>\n      <td>NO</td>\n      <td>YES</td>\n      <td>2.0</td>\n      <td>54.0</td>\n      <td>12.0</td>\n      <td>NaN</td>\n      <td>NaN</td>\n      <td>NaN</td>\n      <td>NaN</td>\n    </tr>\n    <tr>\n      <th>cd696cdeb3ac</th>\n      <td>NO</td>\n      <td>YES</td>\n      <td>1.0</td>\n      <td>10.0</td>\n      <td>3.0</td>\n      <td>NaN</td>\n      <td>NaN</td>\n      <td>NaN</td>\n      <td>NaN</td>\n    </tr>\n    <tr>\n      <th>...</th>\n      <td>...</td>\n      <td>...</td>\n      <td>...</td>\n      <td>...</td>\n      <td>...</td>\n      <td>...</td>\n      <td>...</td>\n      <td>...</td>\n      <td>...</td>\n    </tr>\n    <tr>\n      <th>7b559a072842</th>\n      <td>NO</td>\n      <td>YES</td>\n      <td>1.0</td>\n      <td>49.0</td>\n      <td>1.0</td>\n      <td>NaN</td>\n      <td>NaN</td>\n      <td>NaN</td>\n      <td>NaN</td>\n    </tr>\n    <tr>\n      <th>e102508752e8</th>\n      <td>NO</td>\n      <td>YES</td>\n      <td>2.0</td>\n      <td>45.0</td>\n      <td>2.0</td>\n      <td>NaN</td>\n      <td>NaN</td>\n      <td>NaN</td>\n      <td>NaN</td>\n    </tr>\n    <tr>\n      <th>b93d164cbee8</th>\n      <td>NO</td>\n      <td>YES</td>\n      <td>2.0</td>\n      <td>9.0</td>\n      <td>3.0</td>\n      <td>NaN</td>\n      <td>NaN</td>\n      <td>NaN</td>\n      <td>NaN</td>\n    </tr>\n    <tr>\n      <th>621de7851948</th>\n      <td>NO</td>\n      <td>YES</td>\n      <td>1.0</td>\n      <td>7.0</td>\n      <td>3.0</td>\n      <td>NaN</td>\n      <td>NaN</td>\n      <td>NaN</td>\n      <td>NaN</td>\n    </tr>\n    <tr>\n      <th>bfb8a7761218</th>\n      <td>NO</td>\n      <td>YES</td>\n      <td>2.0</td>\n      <td>22.0</td>\n      <td>8.0</td>\n      <td>NaN</td>\n      <td>NaN</td>\n      <td>NaN</td>\n      <td>NaN</td>\n    </tr>\n  </tbody>\n</table>\n<p>16153 rows × 9 columns</p>\n</div>"
     },
     "execution_count": 15,
     "metadata": {},
     "output_type": "execute_result"
    }
   ],
   "source": [
    "binary_columns = ['is_new_household_member',\n",
    "                  'is_still_household_member',\n",
    "                  'is_selected_farmer']\n",
    "clean_columns(working_df, selected_columns=binary_columns, cleaning_functions_list=[recode_binary])\n",
    "working_df"
   ],
   "metadata": {
    "collapsed": false,
    "ExecuteTime": {
     "end_time": "2024-06-13T23:01:55.184610Z",
     "start_time": "2024-06-13T23:01:55.136922Z"
    }
   },
   "id": "19d1de572e98980f"
  },
  {
   "cell_type": "code",
   "execution_count": 16,
   "outputs": [],
   "source": [
    "def recode_sex(entry):\n",
    "    if math.isnan(entry):\n",
    "        return entry\n",
    "    #If not, recode the variable this way\n",
    "    else:\n",
    "        value = int(entry)\n",
    "        if value == 1:\n",
    "            return \"MALE\"\n",
    "        elif value == 2:\n",
    "            return \"FEMALE\"\n",
    "        else:\n",
    "            return np.nan"
   ],
   "metadata": {
    "collapsed": false,
    "ExecuteTime": {
     "end_time": "2024-06-13T23:01:55.185240Z",
     "start_time": "2024-06-13T23:01:55.149055Z"
    }
   },
   "id": "1a08991136f0929d"
  },
  {
   "cell_type": "code",
   "execution_count": 17,
   "outputs": [
    {
     "name": "stderr",
     "output_type": "stream",
     "text": [
      "/Users/kathrynpanger/Documents/swb_inspect_data/cleaning_functions/clean_csv.py:74: SettingWithCopyWarning: \n",
      "A value is trying to be set on a copy of a slice from a DataFrame.\n",
      "Try using .loc[row_indexer,col_indexer] = value instead\n",
      "\n",
      "See the caveats in the documentation: https://pandas.pydata.org/pandas-docs/stable/user_guide/indexing.html#returning-a-view-versus-a-copy\n",
      "  df[col] = df[col].apply(lambda x: function(x))\n"
     ]
    },
    {
     "data": {
      "text/plain": "              is_new_household_member is_still_household_member     sex   age  \\\nindividual_id                                                                   \ndb95a04273b3                       NO                       YES    MALE  63.0   \n58b6880790bd                       NO                       YES  FEMALE  59.0   \nd2a2b4eb1d80                       NO                       YES  FEMALE  13.0   \n9dadc3d1eff3                       NO                       YES  FEMALE  54.0   \ncd696cdeb3ac                       NO                       YES    MALE  10.0   \n...                               ...                       ...     ...   ...   \n7b559a072842                       NO                       YES    MALE  49.0   \ne102508752e8                       NO                       YES  FEMALE  45.0   \nb93d164cbee8                       NO                       YES  FEMALE   9.0   \n621de7851948                       NO                       YES    MALE   7.0   \nbfb8a7761218                       NO                       YES  FEMALE  22.0   \n\n               relationship_to_head other_relationship  why_join_household  \\\nindividual_id                                                                \ndb95a04273b3                    1.0                NaN                 NaN   \n58b6880790bd                    2.0                NaN                 NaN   \nd2a2b4eb1d80                    3.0                NaN                 NaN   \n9dadc3d1eff3                   12.0                NaN                 NaN   \ncd696cdeb3ac                    3.0                NaN                 NaN   \n...                             ...                ...                 ...   \n7b559a072842                    1.0                NaN                 NaN   \ne102508752e8                    2.0                NaN                 NaN   \nb93d164cbee8                    3.0                NaN                 NaN   \n621de7851948                    3.0                NaN                 NaN   \nbfb8a7761218                    8.0                NaN                 NaN   \n\n              other_reason_for_joining is_selected_farmer  \nindividual_id                                              \ndb95a04273b3                       NaN                NaN  \n58b6880790bd                       NaN                NaN  \nd2a2b4eb1d80                       NaN                NaN  \n9dadc3d1eff3                       NaN                NaN  \ncd696cdeb3ac                       NaN                NaN  \n...                                ...                ...  \n7b559a072842                       NaN                NaN  \ne102508752e8                       NaN                NaN  \nb93d164cbee8                       NaN                NaN  \n621de7851948                       NaN                NaN  \nbfb8a7761218                       NaN                NaN  \n\n[16153 rows x 9 columns]",
      "text/html": "<div>\n<style scoped>\n    .dataframe tbody tr th:only-of-type {\n        vertical-align: middle;\n    }\n\n    .dataframe tbody tr th {\n        vertical-align: top;\n    }\n\n    .dataframe thead th {\n        text-align: right;\n    }\n</style>\n<table border=\"1\" class=\"dataframe\">\n  <thead>\n    <tr style=\"text-align: right;\">\n      <th></th>\n      <th>is_new_household_member</th>\n      <th>is_still_household_member</th>\n      <th>sex</th>\n      <th>age</th>\n      <th>relationship_to_head</th>\n      <th>other_relationship</th>\n      <th>why_join_household</th>\n      <th>other_reason_for_joining</th>\n      <th>is_selected_farmer</th>\n    </tr>\n    <tr>\n      <th>individual_id</th>\n      <th></th>\n      <th></th>\n      <th></th>\n      <th></th>\n      <th></th>\n      <th></th>\n      <th></th>\n      <th></th>\n      <th></th>\n    </tr>\n  </thead>\n  <tbody>\n    <tr>\n      <th>db95a04273b3</th>\n      <td>NO</td>\n      <td>YES</td>\n      <td>MALE</td>\n      <td>63.0</td>\n      <td>1.0</td>\n      <td>NaN</td>\n      <td>NaN</td>\n      <td>NaN</td>\n      <td>NaN</td>\n    </tr>\n    <tr>\n      <th>58b6880790bd</th>\n      <td>NO</td>\n      <td>YES</td>\n      <td>FEMALE</td>\n      <td>59.0</td>\n      <td>2.0</td>\n      <td>NaN</td>\n      <td>NaN</td>\n      <td>NaN</td>\n      <td>NaN</td>\n    </tr>\n    <tr>\n      <th>d2a2b4eb1d80</th>\n      <td>NO</td>\n      <td>YES</td>\n      <td>FEMALE</td>\n      <td>13.0</td>\n      <td>3.0</td>\n      <td>NaN</td>\n      <td>NaN</td>\n      <td>NaN</td>\n      <td>NaN</td>\n    </tr>\n    <tr>\n      <th>9dadc3d1eff3</th>\n      <td>NO</td>\n      <td>YES</td>\n      <td>FEMALE</td>\n      <td>54.0</td>\n      <td>12.0</td>\n      <td>NaN</td>\n      <td>NaN</td>\n      <td>NaN</td>\n      <td>NaN</td>\n    </tr>\n    <tr>\n      <th>cd696cdeb3ac</th>\n      <td>NO</td>\n      <td>YES</td>\n      <td>MALE</td>\n      <td>10.0</td>\n      <td>3.0</td>\n      <td>NaN</td>\n      <td>NaN</td>\n      <td>NaN</td>\n      <td>NaN</td>\n    </tr>\n    <tr>\n      <th>...</th>\n      <td>...</td>\n      <td>...</td>\n      <td>...</td>\n      <td>...</td>\n      <td>...</td>\n      <td>...</td>\n      <td>...</td>\n      <td>...</td>\n      <td>...</td>\n    </tr>\n    <tr>\n      <th>7b559a072842</th>\n      <td>NO</td>\n      <td>YES</td>\n      <td>MALE</td>\n      <td>49.0</td>\n      <td>1.0</td>\n      <td>NaN</td>\n      <td>NaN</td>\n      <td>NaN</td>\n      <td>NaN</td>\n    </tr>\n    <tr>\n      <th>e102508752e8</th>\n      <td>NO</td>\n      <td>YES</td>\n      <td>FEMALE</td>\n      <td>45.0</td>\n      <td>2.0</td>\n      <td>NaN</td>\n      <td>NaN</td>\n      <td>NaN</td>\n      <td>NaN</td>\n    </tr>\n    <tr>\n      <th>b93d164cbee8</th>\n      <td>NO</td>\n      <td>YES</td>\n      <td>FEMALE</td>\n      <td>9.0</td>\n      <td>3.0</td>\n      <td>NaN</td>\n      <td>NaN</td>\n      <td>NaN</td>\n      <td>NaN</td>\n    </tr>\n    <tr>\n      <th>621de7851948</th>\n      <td>NO</td>\n      <td>YES</td>\n      <td>MALE</td>\n      <td>7.0</td>\n      <td>3.0</td>\n      <td>NaN</td>\n      <td>NaN</td>\n      <td>NaN</td>\n      <td>NaN</td>\n    </tr>\n    <tr>\n      <th>bfb8a7761218</th>\n      <td>NO</td>\n      <td>YES</td>\n      <td>FEMALE</td>\n      <td>22.0</td>\n      <td>8.0</td>\n      <td>NaN</td>\n      <td>NaN</td>\n      <td>NaN</td>\n      <td>NaN</td>\n    </tr>\n  </tbody>\n</table>\n<p>16153 rows × 9 columns</p>\n</div>"
     },
     "execution_count": 17,
     "metadata": {},
     "output_type": "execute_result"
    }
   ],
   "source": [
    "clean_columns(working_df, ['sex'], [recode_sex])\n",
    "working_df"
   ],
   "metadata": {
    "collapsed": false,
    "ExecuteTime": {
     "end_time": "2024-06-13T23:01:55.232762Z",
     "start_time": "2024-06-13T23:01:55.158138Z"
    }
   },
   "id": "16709ee5aefd7c52"
  },
  {
   "cell_type": "code",
   "execution_count": 18,
   "outputs": [],
   "source": [
    "def recode_relationship_to_head(entry):\n",
    "    if math.isnan(entry):\n",
    "        return entry\n",
    "    #If not, recode the variable this way\n",
    "    else:\n",
    "        value = int(entry)\n",
    "        if value == 1:\n",
    "            return \"HEAD\"\n",
    "        elif value == 2:\n",
    "            return \"SPOUSE\"\n",
    "        elif value == 3:\n",
    "            return \"OWN CHILD\"\n",
    "        elif value == 4:\n",
    "            return \"STEP CHILD\"\n",
    "        elif value == 5:\n",
    "            return \"ADOPTED CHILD\"\n",
    "        elif value == 6:\n",
    "            return \"GRANDCHILD\"\n",
    "        elif value == 7:\n",
    "            return \"SIBLING\"\n",
    "        elif value == 8:\n",
    "            return 'NIECE OR NEPHEW'\n",
    "        elif value == 9:\n",
    "            return \"SIBLING-IN-LAW\"\n",
    "        elif value == 10:\n",
    "            return \"PARENT\"\n",
    "        elif value == 11:\n",
    "            return \"PARENT-IN-LAW\"\n",
    "        elif value == 12:\n",
    "            return \"DOMESTIC HELP\"\n",
    "        elif value == 14:\n",
    "            return \"OTHER RELATION\"\n",
    "        elif value == 15:\n",
    "            return \"OTHER NON-RELATION\"\n",
    "        elif value == 16:\n",
    "            return \"CHILD-IN-LAW\"\n",
    "        elif value == 98:\n",
    "            return 'FORMER_HEAD'\n",
    "        else:\n",
    "            return np.nan"
   ],
   "metadata": {
    "collapsed": false,
    "ExecuteTime": {
     "end_time": "2024-06-13T23:01:55.232951Z",
     "start_time": "2024-06-13T23:01:55.162164Z"
    }
   },
   "id": "9e184810940653f9"
  },
  {
   "cell_type": "code",
   "execution_count": 19,
   "outputs": [
    {
     "name": "stderr",
     "output_type": "stream",
     "text": [
      "/Users/kathrynpanger/Documents/swb_inspect_data/cleaning_functions/clean_csv.py:74: SettingWithCopyWarning: \n",
      "A value is trying to be set on a copy of a slice from a DataFrame.\n",
      "Try using .loc[row_indexer,col_indexer] = value instead\n",
      "\n",
      "See the caveats in the documentation: https://pandas.pydata.org/pandas-docs/stable/user_guide/indexing.html#returning-a-view-versus-a-copy\n",
      "  df[col] = df[col].apply(lambda x: function(x))\n"
     ]
    },
    {
     "data": {
      "text/plain": "              is_new_household_member is_still_household_member     sex   age  \\\nindividual_id                                                                   \ndb95a04273b3                       NO                       YES    MALE  63.0   \n58b6880790bd                       NO                       YES  FEMALE  59.0   \nd2a2b4eb1d80                       NO                       YES  FEMALE  13.0   \n9dadc3d1eff3                       NO                       YES  FEMALE  54.0   \ncd696cdeb3ac                       NO                       YES    MALE  10.0   \n...                               ...                       ...     ...   ...   \n7b559a072842                       NO                       YES    MALE  49.0   \ne102508752e8                       NO                       YES  FEMALE  45.0   \nb93d164cbee8                       NO                       YES  FEMALE   9.0   \n621de7851948                       NO                       YES    MALE   7.0   \nbfb8a7761218                       NO                       YES  FEMALE  22.0   \n\n              relationship_to_head other_relationship  why_join_household  \\\nindividual_id                                                               \ndb95a04273b3                  HEAD                NaN                 NaN   \n58b6880790bd                SPOUSE                NaN                 NaN   \nd2a2b4eb1d80             OWN CHILD                NaN                 NaN   \n9dadc3d1eff3         DOMESTIC HELP                NaN                 NaN   \ncd696cdeb3ac             OWN CHILD                NaN                 NaN   \n...                            ...                ...                 ...   \n7b559a072842                  HEAD                NaN                 NaN   \ne102508752e8                SPOUSE                NaN                 NaN   \nb93d164cbee8             OWN CHILD                NaN                 NaN   \n621de7851948             OWN CHILD                NaN                 NaN   \nbfb8a7761218       NIECE OR NEPHEW                NaN                 NaN   \n\n              other_reason_for_joining is_selected_farmer  \nindividual_id                                              \ndb95a04273b3                       NaN                NaN  \n58b6880790bd                       NaN                NaN  \nd2a2b4eb1d80                       NaN                NaN  \n9dadc3d1eff3                       NaN                NaN  \ncd696cdeb3ac                       NaN                NaN  \n...                                ...                ...  \n7b559a072842                       NaN                NaN  \ne102508752e8                       NaN                NaN  \nb93d164cbee8                       NaN                NaN  \n621de7851948                       NaN                NaN  \nbfb8a7761218                       NaN                NaN  \n\n[16153 rows x 9 columns]",
      "text/html": "<div>\n<style scoped>\n    .dataframe tbody tr th:only-of-type {\n        vertical-align: middle;\n    }\n\n    .dataframe tbody tr th {\n        vertical-align: top;\n    }\n\n    .dataframe thead th {\n        text-align: right;\n    }\n</style>\n<table border=\"1\" class=\"dataframe\">\n  <thead>\n    <tr style=\"text-align: right;\">\n      <th></th>\n      <th>is_new_household_member</th>\n      <th>is_still_household_member</th>\n      <th>sex</th>\n      <th>age</th>\n      <th>relationship_to_head</th>\n      <th>other_relationship</th>\n      <th>why_join_household</th>\n      <th>other_reason_for_joining</th>\n      <th>is_selected_farmer</th>\n    </tr>\n    <tr>\n      <th>individual_id</th>\n      <th></th>\n      <th></th>\n      <th></th>\n      <th></th>\n      <th></th>\n      <th></th>\n      <th></th>\n      <th></th>\n      <th></th>\n    </tr>\n  </thead>\n  <tbody>\n    <tr>\n      <th>db95a04273b3</th>\n      <td>NO</td>\n      <td>YES</td>\n      <td>MALE</td>\n      <td>63.0</td>\n      <td>HEAD</td>\n      <td>NaN</td>\n      <td>NaN</td>\n      <td>NaN</td>\n      <td>NaN</td>\n    </tr>\n    <tr>\n      <th>58b6880790bd</th>\n      <td>NO</td>\n      <td>YES</td>\n      <td>FEMALE</td>\n      <td>59.0</td>\n      <td>SPOUSE</td>\n      <td>NaN</td>\n      <td>NaN</td>\n      <td>NaN</td>\n      <td>NaN</td>\n    </tr>\n    <tr>\n      <th>d2a2b4eb1d80</th>\n      <td>NO</td>\n      <td>YES</td>\n      <td>FEMALE</td>\n      <td>13.0</td>\n      <td>OWN CHILD</td>\n      <td>NaN</td>\n      <td>NaN</td>\n      <td>NaN</td>\n      <td>NaN</td>\n    </tr>\n    <tr>\n      <th>9dadc3d1eff3</th>\n      <td>NO</td>\n      <td>YES</td>\n      <td>FEMALE</td>\n      <td>54.0</td>\n      <td>DOMESTIC HELP</td>\n      <td>NaN</td>\n      <td>NaN</td>\n      <td>NaN</td>\n      <td>NaN</td>\n    </tr>\n    <tr>\n      <th>cd696cdeb3ac</th>\n      <td>NO</td>\n      <td>YES</td>\n      <td>MALE</td>\n      <td>10.0</td>\n      <td>OWN CHILD</td>\n      <td>NaN</td>\n      <td>NaN</td>\n      <td>NaN</td>\n      <td>NaN</td>\n    </tr>\n    <tr>\n      <th>...</th>\n      <td>...</td>\n      <td>...</td>\n      <td>...</td>\n      <td>...</td>\n      <td>...</td>\n      <td>...</td>\n      <td>...</td>\n      <td>...</td>\n      <td>...</td>\n    </tr>\n    <tr>\n      <th>7b559a072842</th>\n      <td>NO</td>\n      <td>YES</td>\n      <td>MALE</td>\n      <td>49.0</td>\n      <td>HEAD</td>\n      <td>NaN</td>\n      <td>NaN</td>\n      <td>NaN</td>\n      <td>NaN</td>\n    </tr>\n    <tr>\n      <th>e102508752e8</th>\n      <td>NO</td>\n      <td>YES</td>\n      <td>FEMALE</td>\n      <td>45.0</td>\n      <td>SPOUSE</td>\n      <td>NaN</td>\n      <td>NaN</td>\n      <td>NaN</td>\n      <td>NaN</td>\n    </tr>\n    <tr>\n      <th>b93d164cbee8</th>\n      <td>NO</td>\n      <td>YES</td>\n      <td>FEMALE</td>\n      <td>9.0</td>\n      <td>OWN CHILD</td>\n      <td>NaN</td>\n      <td>NaN</td>\n      <td>NaN</td>\n      <td>NaN</td>\n    </tr>\n    <tr>\n      <th>621de7851948</th>\n      <td>NO</td>\n      <td>YES</td>\n      <td>MALE</td>\n      <td>7.0</td>\n      <td>OWN CHILD</td>\n      <td>NaN</td>\n      <td>NaN</td>\n      <td>NaN</td>\n      <td>NaN</td>\n    </tr>\n    <tr>\n      <th>bfb8a7761218</th>\n      <td>NO</td>\n      <td>YES</td>\n      <td>FEMALE</td>\n      <td>22.0</td>\n      <td>NIECE OR NEPHEW</td>\n      <td>NaN</td>\n      <td>NaN</td>\n      <td>NaN</td>\n      <td>NaN</td>\n    </tr>\n  </tbody>\n</table>\n<p>16153 rows × 9 columns</p>\n</div>"
     },
     "execution_count": 19,
     "metadata": {},
     "output_type": "execute_result"
    }
   ],
   "source": [
    "\n",
    "clean_columns(working_df, ['relationship_to_head'], [recode_relationship_to_head])\n",
    "working_df"
   ],
   "metadata": {
    "collapsed": false,
    "ExecuteTime": {
     "end_time": "2024-06-13T23:01:55.264917Z",
     "start_time": "2024-06-13T23:01:55.170792Z"
    }
   },
   "id": "5f40f4ca29df2a07"
  },
  {
   "cell_type": "code",
   "execution_count": 20,
   "outputs": [],
   "source": [
    "def recode_why_join_household(entry):\n",
    "    if math.isnan(entry):\n",
    "        return entry\n",
    "    #If not, recode the variable this way\n",
    "    else:\n",
    "        value = int(entry)\n",
    "        if value == 1:\n",
    "            return \"NEW BORN\"\n",
    "        elif value == 2:\n",
    "            return \"ADOPTED CHILD\"\n",
    "        elif value == 3:\n",
    "            return \"MARRIAGE OR COHABITATION\"\n",
    "        elif value == 4:\n",
    "            return \"DIVORCE OR SEPARATION\"\n",
    "        elif value == 5:\n",
    "            return \"RETURNED FROM COLLEGE\"\n",
    "        elif value == 6:\n",
    "            return \"RETURNED FROM INSTITUTION\"\n",
    "        elif value == 7:\n",
    "            return \"MOVED IN WITH RELATIVE\"\n",
    "        elif value == 8:\n",
    "            return 'SHARED ACCOMMODATION'\n",
    "        elif value == 9:\n",
    "            return \"RETURN FROM WORK MIGRATION\"\n",
    "        elif value == 10:\n",
    "            return \"MISTAKENLY NOT REPORTED OR FORGOTTEN LAST VISIT\"\n",
    "        elif value == 11:\n",
    "            return \"DISPLACED DUE TO CONFLICT\"\n",
    "        elif value == 12:\n",
    "            return \"CORONAVIRUS RELATED\"\n",
    "        elif value == 15:\n",
    "            return \"DISPLACED DUE TO DROUGHT\"\n",
    "        elif value == 16:\n",
    "            return \"HARVEST LOSS\"\n",
    "        elif value == 17:\n",
    "            return \"DISPLACED DUE TO FLOOD\"\n",
    "        elif value == 96:\n",
    "            return 'OTHER'\n",
    "        else:\n",
    "            return np.nan"
   ],
   "metadata": {
    "collapsed": false,
    "ExecuteTime": {
     "end_time": "2024-06-13T23:01:55.265166Z",
     "start_time": "2024-06-13T23:01:55.175001Z"
    }
   },
   "id": "d80c018be304e3ed"
  },
  {
   "cell_type": "code",
   "execution_count": 21,
   "outputs": [
    {
     "name": "stderr",
     "output_type": "stream",
     "text": [
      "/Users/kathrynpanger/Documents/swb_inspect_data/cleaning_functions/clean_csv.py:74: SettingWithCopyWarning: \n",
      "A value is trying to be set on a copy of a slice from a DataFrame.\n",
      "Try using .loc[row_indexer,col_indexer] = value instead\n",
      "\n",
      "See the caveats in the documentation: https://pandas.pydata.org/pandas-docs/stable/user_guide/indexing.html#returning-a-view-versus-a-copy\n",
      "  df[col] = df[col].apply(lambda x: function(x))\n"
     ]
    },
    {
     "data": {
      "text/plain": "              is_new_household_member is_still_household_member     sex   age  \\\nindividual_id                                                                   \ndb95a04273b3                       NO                       YES    MALE  63.0   \n58b6880790bd                       NO                       YES  FEMALE  59.0   \nd2a2b4eb1d80                       NO                       YES  FEMALE  13.0   \n9dadc3d1eff3                       NO                       YES  FEMALE  54.0   \ncd696cdeb3ac                       NO                       YES    MALE  10.0   \n...                               ...                       ...     ...   ...   \n7b559a072842                       NO                       YES    MALE  49.0   \ne102508752e8                       NO                       YES  FEMALE  45.0   \nb93d164cbee8                       NO                       YES  FEMALE   9.0   \n621de7851948                       NO                       YES    MALE   7.0   \nbfb8a7761218                       NO                       YES  FEMALE  22.0   \n\n              relationship_to_head other_relationship why_join_household  \\\nindividual_id                                                              \ndb95a04273b3                  HEAD                NaN                NaN   \n58b6880790bd                SPOUSE                NaN                NaN   \nd2a2b4eb1d80             OWN CHILD                NaN                NaN   \n9dadc3d1eff3         DOMESTIC HELP                NaN                NaN   \ncd696cdeb3ac             OWN CHILD                NaN                NaN   \n...                            ...                ...                ...   \n7b559a072842                  HEAD                NaN                NaN   \ne102508752e8                SPOUSE                NaN                NaN   \nb93d164cbee8             OWN CHILD                NaN                NaN   \n621de7851948             OWN CHILD                NaN                NaN   \nbfb8a7761218       NIECE OR NEPHEW                NaN                NaN   \n\n              other_reason_for_joining is_selected_farmer  \nindividual_id                                              \ndb95a04273b3                       NaN                NaN  \n58b6880790bd                       NaN                NaN  \nd2a2b4eb1d80                       NaN                NaN  \n9dadc3d1eff3                       NaN                NaN  \ncd696cdeb3ac                       NaN                NaN  \n...                                ...                ...  \n7b559a072842                       NaN                NaN  \ne102508752e8                       NaN                NaN  \nb93d164cbee8                       NaN                NaN  \n621de7851948                       NaN                NaN  \nbfb8a7761218                       NaN                NaN  \n\n[16153 rows x 9 columns]",
      "text/html": "<div>\n<style scoped>\n    .dataframe tbody tr th:only-of-type {\n        vertical-align: middle;\n    }\n\n    .dataframe tbody tr th {\n        vertical-align: top;\n    }\n\n    .dataframe thead th {\n        text-align: right;\n    }\n</style>\n<table border=\"1\" class=\"dataframe\">\n  <thead>\n    <tr style=\"text-align: right;\">\n      <th></th>\n      <th>is_new_household_member</th>\n      <th>is_still_household_member</th>\n      <th>sex</th>\n      <th>age</th>\n      <th>relationship_to_head</th>\n      <th>other_relationship</th>\n      <th>why_join_household</th>\n      <th>other_reason_for_joining</th>\n      <th>is_selected_farmer</th>\n    </tr>\n    <tr>\n      <th>individual_id</th>\n      <th></th>\n      <th></th>\n      <th></th>\n      <th></th>\n      <th></th>\n      <th></th>\n      <th></th>\n      <th></th>\n      <th></th>\n    </tr>\n  </thead>\n  <tbody>\n    <tr>\n      <th>db95a04273b3</th>\n      <td>NO</td>\n      <td>YES</td>\n      <td>MALE</td>\n      <td>63.0</td>\n      <td>HEAD</td>\n      <td>NaN</td>\n      <td>NaN</td>\n      <td>NaN</td>\n      <td>NaN</td>\n    </tr>\n    <tr>\n      <th>58b6880790bd</th>\n      <td>NO</td>\n      <td>YES</td>\n      <td>FEMALE</td>\n      <td>59.0</td>\n      <td>SPOUSE</td>\n      <td>NaN</td>\n      <td>NaN</td>\n      <td>NaN</td>\n      <td>NaN</td>\n    </tr>\n    <tr>\n      <th>d2a2b4eb1d80</th>\n      <td>NO</td>\n      <td>YES</td>\n      <td>FEMALE</td>\n      <td>13.0</td>\n      <td>OWN CHILD</td>\n      <td>NaN</td>\n      <td>NaN</td>\n      <td>NaN</td>\n      <td>NaN</td>\n    </tr>\n    <tr>\n      <th>9dadc3d1eff3</th>\n      <td>NO</td>\n      <td>YES</td>\n      <td>FEMALE</td>\n      <td>54.0</td>\n      <td>DOMESTIC HELP</td>\n      <td>NaN</td>\n      <td>NaN</td>\n      <td>NaN</td>\n      <td>NaN</td>\n    </tr>\n    <tr>\n      <th>cd696cdeb3ac</th>\n      <td>NO</td>\n      <td>YES</td>\n      <td>MALE</td>\n      <td>10.0</td>\n      <td>OWN CHILD</td>\n      <td>NaN</td>\n      <td>NaN</td>\n      <td>NaN</td>\n      <td>NaN</td>\n    </tr>\n    <tr>\n      <th>...</th>\n      <td>...</td>\n      <td>...</td>\n      <td>...</td>\n      <td>...</td>\n      <td>...</td>\n      <td>...</td>\n      <td>...</td>\n      <td>...</td>\n      <td>...</td>\n    </tr>\n    <tr>\n      <th>7b559a072842</th>\n      <td>NO</td>\n      <td>YES</td>\n      <td>MALE</td>\n      <td>49.0</td>\n      <td>HEAD</td>\n      <td>NaN</td>\n      <td>NaN</td>\n      <td>NaN</td>\n      <td>NaN</td>\n    </tr>\n    <tr>\n      <th>e102508752e8</th>\n      <td>NO</td>\n      <td>YES</td>\n      <td>FEMALE</td>\n      <td>45.0</td>\n      <td>SPOUSE</td>\n      <td>NaN</td>\n      <td>NaN</td>\n      <td>NaN</td>\n      <td>NaN</td>\n    </tr>\n    <tr>\n      <th>b93d164cbee8</th>\n      <td>NO</td>\n      <td>YES</td>\n      <td>FEMALE</td>\n      <td>9.0</td>\n      <td>OWN CHILD</td>\n      <td>NaN</td>\n      <td>NaN</td>\n      <td>NaN</td>\n      <td>NaN</td>\n    </tr>\n    <tr>\n      <th>621de7851948</th>\n      <td>NO</td>\n      <td>YES</td>\n      <td>MALE</td>\n      <td>7.0</td>\n      <td>OWN CHILD</td>\n      <td>NaN</td>\n      <td>NaN</td>\n      <td>NaN</td>\n      <td>NaN</td>\n    </tr>\n    <tr>\n      <th>bfb8a7761218</th>\n      <td>NO</td>\n      <td>YES</td>\n      <td>FEMALE</td>\n      <td>22.0</td>\n      <td>NIECE OR NEPHEW</td>\n      <td>NaN</td>\n      <td>NaN</td>\n      <td>NaN</td>\n      <td>NaN</td>\n    </tr>\n  </tbody>\n</table>\n<p>16153 rows × 9 columns</p>\n</div>"
     },
     "execution_count": 21,
     "metadata": {},
     "output_type": "execute_result"
    }
   ],
   "source": [
    "clean_columns(working_df, ['why_join_household'], [recode_why_join_household])\n",
    "working_df"
   ],
   "metadata": {
    "collapsed": false,
    "ExecuteTime": {
     "end_time": "2024-06-13T23:01:55.267697Z",
     "start_time": "2024-06-13T23:01:55.182966Z"
    }
   },
   "id": "7df0dce5631d7b5f"
  },
  {
   "cell_type": "code",
   "execution_count": 22,
   "outputs": [
    {
     "name": "stderr",
     "output_type": "stream",
     "text": [
      "/var/folders/lw/jy_c2z0x221fsb78kk1_h2800000gn/T/ipykernel_14590/391576009.py:1: SettingWithCopyWarning: \n",
      "A value is trying to be set on a copy of a slice from a DataFrame.\n",
      "Try using .loc[row_indexer,col_indexer] = value instead\n",
      "\n",
      "See the caveats in the documentation: https://pandas.pydata.org/pandas-docs/stable/user_guide/indexing.html#returning-a-view-versus-a-copy\n",
      "  working_df['age'] = working_df['age'].astype(\"Int64\")\n"
     ]
    },
    {
     "data": {
      "text/plain": "              is_new_household_member is_still_household_member     sex  age  \\\nindividual_id                                                                  \ndb95a04273b3                       NO                       YES    MALE   63   \n58b6880790bd                       NO                       YES  FEMALE   59   \nd2a2b4eb1d80                       NO                       YES  FEMALE   13   \n9dadc3d1eff3                       NO                       YES  FEMALE   54   \ncd696cdeb3ac                       NO                       YES    MALE   10   \n...                               ...                       ...     ...  ...   \n7b559a072842                       NO                       YES    MALE   49   \ne102508752e8                       NO                       YES  FEMALE   45   \nb93d164cbee8                       NO                       YES  FEMALE    9   \n621de7851948                       NO                       YES    MALE    7   \nbfb8a7761218                       NO                       YES  FEMALE   22   \n\n              relationship_to_head other_relationship why_join_household  \\\nindividual_id                                                              \ndb95a04273b3                  HEAD                NaN                NaN   \n58b6880790bd                SPOUSE                NaN                NaN   \nd2a2b4eb1d80             OWN CHILD                NaN                NaN   \n9dadc3d1eff3         DOMESTIC HELP                NaN                NaN   \ncd696cdeb3ac             OWN CHILD                NaN                NaN   \n...                            ...                ...                ...   \n7b559a072842                  HEAD                NaN                NaN   \ne102508752e8                SPOUSE                NaN                NaN   \nb93d164cbee8             OWN CHILD                NaN                NaN   \n621de7851948             OWN CHILD                NaN                NaN   \nbfb8a7761218       NIECE OR NEPHEW                NaN                NaN   \n\n              other_reason_for_joining is_selected_farmer  \nindividual_id                                              \ndb95a04273b3                       NaN                NaN  \n58b6880790bd                       NaN                NaN  \nd2a2b4eb1d80                       NaN                NaN  \n9dadc3d1eff3                       NaN                NaN  \ncd696cdeb3ac                       NaN                NaN  \n...                                ...                ...  \n7b559a072842                       NaN                NaN  \ne102508752e8                       NaN                NaN  \nb93d164cbee8                       NaN                NaN  \n621de7851948                       NaN                NaN  \nbfb8a7761218                       NaN                NaN  \n\n[16153 rows x 9 columns]",
      "text/html": "<div>\n<style scoped>\n    .dataframe tbody tr th:only-of-type {\n        vertical-align: middle;\n    }\n\n    .dataframe tbody tr th {\n        vertical-align: top;\n    }\n\n    .dataframe thead th {\n        text-align: right;\n    }\n</style>\n<table border=\"1\" class=\"dataframe\">\n  <thead>\n    <tr style=\"text-align: right;\">\n      <th></th>\n      <th>is_new_household_member</th>\n      <th>is_still_household_member</th>\n      <th>sex</th>\n      <th>age</th>\n      <th>relationship_to_head</th>\n      <th>other_relationship</th>\n      <th>why_join_household</th>\n      <th>other_reason_for_joining</th>\n      <th>is_selected_farmer</th>\n    </tr>\n    <tr>\n      <th>individual_id</th>\n      <th></th>\n      <th></th>\n      <th></th>\n      <th></th>\n      <th></th>\n      <th></th>\n      <th></th>\n      <th></th>\n      <th></th>\n    </tr>\n  </thead>\n  <tbody>\n    <tr>\n      <th>db95a04273b3</th>\n      <td>NO</td>\n      <td>YES</td>\n      <td>MALE</td>\n      <td>63</td>\n      <td>HEAD</td>\n      <td>NaN</td>\n      <td>NaN</td>\n      <td>NaN</td>\n      <td>NaN</td>\n    </tr>\n    <tr>\n      <th>58b6880790bd</th>\n      <td>NO</td>\n      <td>YES</td>\n      <td>FEMALE</td>\n      <td>59</td>\n      <td>SPOUSE</td>\n      <td>NaN</td>\n      <td>NaN</td>\n      <td>NaN</td>\n      <td>NaN</td>\n    </tr>\n    <tr>\n      <th>d2a2b4eb1d80</th>\n      <td>NO</td>\n      <td>YES</td>\n      <td>FEMALE</td>\n      <td>13</td>\n      <td>OWN CHILD</td>\n      <td>NaN</td>\n      <td>NaN</td>\n      <td>NaN</td>\n      <td>NaN</td>\n    </tr>\n    <tr>\n      <th>9dadc3d1eff3</th>\n      <td>NO</td>\n      <td>YES</td>\n      <td>FEMALE</td>\n      <td>54</td>\n      <td>DOMESTIC HELP</td>\n      <td>NaN</td>\n      <td>NaN</td>\n      <td>NaN</td>\n      <td>NaN</td>\n    </tr>\n    <tr>\n      <th>cd696cdeb3ac</th>\n      <td>NO</td>\n      <td>YES</td>\n      <td>MALE</td>\n      <td>10</td>\n      <td>OWN CHILD</td>\n      <td>NaN</td>\n      <td>NaN</td>\n      <td>NaN</td>\n      <td>NaN</td>\n    </tr>\n    <tr>\n      <th>...</th>\n      <td>...</td>\n      <td>...</td>\n      <td>...</td>\n      <td>...</td>\n      <td>...</td>\n      <td>...</td>\n      <td>...</td>\n      <td>...</td>\n      <td>...</td>\n    </tr>\n    <tr>\n      <th>7b559a072842</th>\n      <td>NO</td>\n      <td>YES</td>\n      <td>MALE</td>\n      <td>49</td>\n      <td>HEAD</td>\n      <td>NaN</td>\n      <td>NaN</td>\n      <td>NaN</td>\n      <td>NaN</td>\n    </tr>\n    <tr>\n      <th>e102508752e8</th>\n      <td>NO</td>\n      <td>YES</td>\n      <td>FEMALE</td>\n      <td>45</td>\n      <td>SPOUSE</td>\n      <td>NaN</td>\n      <td>NaN</td>\n      <td>NaN</td>\n      <td>NaN</td>\n    </tr>\n    <tr>\n      <th>b93d164cbee8</th>\n      <td>NO</td>\n      <td>YES</td>\n      <td>FEMALE</td>\n      <td>9</td>\n      <td>OWN CHILD</td>\n      <td>NaN</td>\n      <td>NaN</td>\n      <td>NaN</td>\n      <td>NaN</td>\n    </tr>\n    <tr>\n      <th>621de7851948</th>\n      <td>NO</td>\n      <td>YES</td>\n      <td>MALE</td>\n      <td>7</td>\n      <td>OWN CHILD</td>\n      <td>NaN</td>\n      <td>NaN</td>\n      <td>NaN</td>\n      <td>NaN</td>\n    </tr>\n    <tr>\n      <th>bfb8a7761218</th>\n      <td>NO</td>\n      <td>YES</td>\n      <td>FEMALE</td>\n      <td>22</td>\n      <td>NIECE OR NEPHEW</td>\n      <td>NaN</td>\n      <td>NaN</td>\n      <td>NaN</td>\n      <td>NaN</td>\n    </tr>\n  </tbody>\n</table>\n<p>16153 rows × 9 columns</p>\n</div>"
     },
     "execution_count": 22,
     "metadata": {},
     "output_type": "execute_result"
    }
   ],
   "source": [
    "working_df['age'] = working_df['age'].astype(\"Int64\")\n",
    "working_df"
   ],
   "metadata": {
    "collapsed": false,
    "ExecuteTime": {
     "end_time": "2024-06-13T23:01:55.269067Z",
     "start_time": "2024-06-13T23:01:55.187315Z"
    }
   },
   "id": "e0a9770954335e13"
  },
  {
   "cell_type": "code",
   "execution_count": 23,
   "outputs": [],
   "source": [
    "save_string = f\"../data/processed/individual_id_questions/{dfs[0][1]}\"\n",
    "# working_df.to_csv(save_string)"
   ],
   "metadata": {
    "collapsed": false,
    "ExecuteTime": {
     "end_time": "2024-06-13T23:01:55.300720Z",
     "start_time": "2024-06-13T23:01:55.193747Z"
    }
   },
   "id": "d7cffa01ef9fad7"
  },
  {
   "cell_type": "code",
   "execution_count": 37,
   "outputs": [
    {
     "name": "stdout",
     "output_type": "stream",
     "text": [
      "p2r3_sect_2_6b_6c.csv\n"
     ]
    },
    {
     "data": {
      "text/plain": "               zone  state   lga  sector    ea    hhid  indiv  s2q2  s2q3  \\\nindividual_id                                                               \ndb95a04273b3      4      1   115       1   670   10001      1     2   1.0   \n58b6880790bd      4      1   115       1   670   10001      2     2   1.0   \nd2a2b4eb1d80      4      1   115       1   670   10001      3     2   1.0   \n9dadc3d1eff3      4      1   115       1   670   10001      4     2   1.0   \ncd696cdeb3ac      4      1   115       1   670   10001      8     2   1.0   \n...             ...    ...   ...     ...   ...     ...    ...   ...   ...   \n7b559a072842      1     37  3702       1  1102  379155      1     2   1.0   \ne102508752e8      1     37  3702       1  1102  379155      2     2   1.0   \nb93d164cbee8      1     37  3702       1  1102  379155      3     2   1.0   \n621de7851948      1     37  3702       1  1102  379155      4     2   1.0   \nbfb8a7761218      1     37  3702       1  1102  379155    101     2   2.0   \n\n               s2q4  ... s6cq1_1  s6cqe2_1  s6cq1b_1  s6cq2_1  s6cq3_1  \\\nindividual_id        ...                                                 \ndb95a04273b3    NaN  ...    18.0       1.0       1.0      NaN      NaN   \n58b6880790bd    NaN  ...    99.0       1.0       2.0      5.0      9.0   \nd2a2b4eb1d80    NaN  ...     NaN       NaN       NaN      NaN      NaN   \n9dadc3d1eff3    NaN  ...    99.0       2.0       NaN      1.0      NaN   \ncd696cdeb3ac    NaN  ...     NaN       NaN       NaN      NaN      NaN   \n...             ...  ...     ...       ...       ...      ...      ...   \n7b559a072842    NaN  ...    16.0       1.0       2.0      4.0      4.0   \ne102508752e8    NaN  ...    99.0       1.0       NaN      NaN      NaN   \nb93d164cbee8    NaN  ...     NaN       NaN       NaN      NaN      NaN   \n621de7851948    NaN  ...     NaN       NaN       NaN      NaN      NaN   \nbfb8a7761218    2.0  ...     NaN       NaN       NaN      NaN      NaN   \n\n              s6cq4_1  s6cq5_1 s6cqe3_1  s6cq6_1 s6cq6_os_1  \nindividual_id                                                \ndb95a04273b3      3.0     44.0      1.0      NaN        NaN  \n58b6880790bd      3.0      NaN      1.0      6.0        NaN  \nd2a2b4eb1d80      NaN      NaN      NaN      NaN        NaN  \n9dadc3d1eff3      NaN      NaN      2.0      NaN        NaN  \ncd696cdeb3ac      NaN      NaN      NaN      NaN        NaN  \n...               ...      ...      ...      ...        ...  \n7b559a072842      6.0      NaN      1.0      2.0        NaN  \ne102508752e8      NaN      NaN      1.0      NaN        NaN  \nb93d164cbee8      NaN      NaN      NaN      NaN        NaN  \n621de7851948      NaN      NaN      NaN      NaN        NaN  \nbfb8a7761218      NaN      NaN      NaN      NaN        NaN  \n\n[17627 rows x 55 columns]",
      "text/html": "<div>\n<style scoped>\n    .dataframe tbody tr th:only-of-type {\n        vertical-align: middle;\n    }\n\n    .dataframe tbody tr th {\n        vertical-align: top;\n    }\n\n    .dataframe thead th {\n        text-align: right;\n    }\n</style>\n<table border=\"1\" class=\"dataframe\">\n  <thead>\n    <tr style=\"text-align: right;\">\n      <th></th>\n      <th>zone</th>\n      <th>state</th>\n      <th>lga</th>\n      <th>sector</th>\n      <th>ea</th>\n      <th>hhid</th>\n      <th>indiv</th>\n      <th>s2q2</th>\n      <th>s2q3</th>\n      <th>s2q4</th>\n      <th>...</th>\n      <th>s6cq1_1</th>\n      <th>s6cqe2_1</th>\n      <th>s6cq1b_1</th>\n      <th>s6cq2_1</th>\n      <th>s6cq3_1</th>\n      <th>s6cq4_1</th>\n      <th>s6cq5_1</th>\n      <th>s6cqe3_1</th>\n      <th>s6cq6_1</th>\n      <th>s6cq6_os_1</th>\n    </tr>\n    <tr>\n      <th>individual_id</th>\n      <th></th>\n      <th></th>\n      <th></th>\n      <th></th>\n      <th></th>\n      <th></th>\n      <th></th>\n      <th></th>\n      <th></th>\n      <th></th>\n      <th></th>\n      <th></th>\n      <th></th>\n      <th></th>\n      <th></th>\n      <th></th>\n      <th></th>\n      <th></th>\n      <th></th>\n      <th></th>\n      <th></th>\n    </tr>\n  </thead>\n  <tbody>\n    <tr>\n      <th>db95a04273b3</th>\n      <td>4</td>\n      <td>1</td>\n      <td>115</td>\n      <td>1</td>\n      <td>670</td>\n      <td>10001</td>\n      <td>1</td>\n      <td>2</td>\n      <td>1.0</td>\n      <td>NaN</td>\n      <td>...</td>\n      <td>18.0</td>\n      <td>1.0</td>\n      <td>1.0</td>\n      <td>NaN</td>\n      <td>NaN</td>\n      <td>3.0</td>\n      <td>44.0</td>\n      <td>1.0</td>\n      <td>NaN</td>\n      <td>NaN</td>\n    </tr>\n    <tr>\n      <th>58b6880790bd</th>\n      <td>4</td>\n      <td>1</td>\n      <td>115</td>\n      <td>1</td>\n      <td>670</td>\n      <td>10001</td>\n      <td>2</td>\n      <td>2</td>\n      <td>1.0</td>\n      <td>NaN</td>\n      <td>...</td>\n      <td>99.0</td>\n      <td>1.0</td>\n      <td>2.0</td>\n      <td>5.0</td>\n      <td>9.0</td>\n      <td>3.0</td>\n      <td>NaN</td>\n      <td>1.0</td>\n      <td>6.0</td>\n      <td>NaN</td>\n    </tr>\n    <tr>\n      <th>d2a2b4eb1d80</th>\n      <td>4</td>\n      <td>1</td>\n      <td>115</td>\n      <td>1</td>\n      <td>670</td>\n      <td>10001</td>\n      <td>3</td>\n      <td>2</td>\n      <td>1.0</td>\n      <td>NaN</td>\n      <td>...</td>\n      <td>NaN</td>\n      <td>NaN</td>\n      <td>NaN</td>\n      <td>NaN</td>\n      <td>NaN</td>\n      <td>NaN</td>\n      <td>NaN</td>\n      <td>NaN</td>\n      <td>NaN</td>\n      <td>NaN</td>\n    </tr>\n    <tr>\n      <th>9dadc3d1eff3</th>\n      <td>4</td>\n      <td>1</td>\n      <td>115</td>\n      <td>1</td>\n      <td>670</td>\n      <td>10001</td>\n      <td>4</td>\n      <td>2</td>\n      <td>1.0</td>\n      <td>NaN</td>\n      <td>...</td>\n      <td>99.0</td>\n      <td>2.0</td>\n      <td>NaN</td>\n      <td>1.0</td>\n      <td>NaN</td>\n      <td>NaN</td>\n      <td>NaN</td>\n      <td>2.0</td>\n      <td>NaN</td>\n      <td>NaN</td>\n    </tr>\n    <tr>\n      <th>cd696cdeb3ac</th>\n      <td>4</td>\n      <td>1</td>\n      <td>115</td>\n      <td>1</td>\n      <td>670</td>\n      <td>10001</td>\n      <td>8</td>\n      <td>2</td>\n      <td>1.0</td>\n      <td>NaN</td>\n      <td>...</td>\n      <td>NaN</td>\n      <td>NaN</td>\n      <td>NaN</td>\n      <td>NaN</td>\n      <td>NaN</td>\n      <td>NaN</td>\n      <td>NaN</td>\n      <td>NaN</td>\n      <td>NaN</td>\n      <td>NaN</td>\n    </tr>\n    <tr>\n      <th>...</th>\n      <td>...</td>\n      <td>...</td>\n      <td>...</td>\n      <td>...</td>\n      <td>...</td>\n      <td>...</td>\n      <td>...</td>\n      <td>...</td>\n      <td>...</td>\n      <td>...</td>\n      <td>...</td>\n      <td>...</td>\n      <td>...</td>\n      <td>...</td>\n      <td>...</td>\n      <td>...</td>\n      <td>...</td>\n      <td>...</td>\n      <td>...</td>\n      <td>...</td>\n      <td>...</td>\n    </tr>\n    <tr>\n      <th>7b559a072842</th>\n      <td>1</td>\n      <td>37</td>\n      <td>3702</td>\n      <td>1</td>\n      <td>1102</td>\n      <td>379155</td>\n      <td>1</td>\n      <td>2</td>\n      <td>1.0</td>\n      <td>NaN</td>\n      <td>...</td>\n      <td>16.0</td>\n      <td>1.0</td>\n      <td>2.0</td>\n      <td>4.0</td>\n      <td>4.0</td>\n      <td>6.0</td>\n      <td>NaN</td>\n      <td>1.0</td>\n      <td>2.0</td>\n      <td>NaN</td>\n    </tr>\n    <tr>\n      <th>e102508752e8</th>\n      <td>1</td>\n      <td>37</td>\n      <td>3702</td>\n      <td>1</td>\n      <td>1102</td>\n      <td>379155</td>\n      <td>2</td>\n      <td>2</td>\n      <td>1.0</td>\n      <td>NaN</td>\n      <td>...</td>\n      <td>99.0</td>\n      <td>1.0</td>\n      <td>NaN</td>\n      <td>NaN</td>\n      <td>NaN</td>\n      <td>NaN</td>\n      <td>NaN</td>\n      <td>1.0</td>\n      <td>NaN</td>\n      <td>NaN</td>\n    </tr>\n    <tr>\n      <th>b93d164cbee8</th>\n      <td>1</td>\n      <td>37</td>\n      <td>3702</td>\n      <td>1</td>\n      <td>1102</td>\n      <td>379155</td>\n      <td>3</td>\n      <td>2</td>\n      <td>1.0</td>\n      <td>NaN</td>\n      <td>...</td>\n      <td>NaN</td>\n      <td>NaN</td>\n      <td>NaN</td>\n      <td>NaN</td>\n      <td>NaN</td>\n      <td>NaN</td>\n      <td>NaN</td>\n      <td>NaN</td>\n      <td>NaN</td>\n      <td>NaN</td>\n    </tr>\n    <tr>\n      <th>621de7851948</th>\n      <td>1</td>\n      <td>37</td>\n      <td>3702</td>\n      <td>1</td>\n      <td>1102</td>\n      <td>379155</td>\n      <td>4</td>\n      <td>2</td>\n      <td>1.0</td>\n      <td>NaN</td>\n      <td>...</td>\n      <td>NaN</td>\n      <td>NaN</td>\n      <td>NaN</td>\n      <td>NaN</td>\n      <td>NaN</td>\n      <td>NaN</td>\n      <td>NaN</td>\n      <td>NaN</td>\n      <td>NaN</td>\n      <td>NaN</td>\n    </tr>\n    <tr>\n      <th>bfb8a7761218</th>\n      <td>1</td>\n      <td>37</td>\n      <td>3702</td>\n      <td>1</td>\n      <td>1102</td>\n      <td>379155</td>\n      <td>101</td>\n      <td>2</td>\n      <td>2.0</td>\n      <td>2.0</td>\n      <td>...</td>\n      <td>NaN</td>\n      <td>NaN</td>\n      <td>NaN</td>\n      <td>NaN</td>\n      <td>NaN</td>\n      <td>NaN</td>\n      <td>NaN</td>\n      <td>NaN</td>\n      <td>NaN</td>\n      <td>NaN</td>\n    </tr>\n  </tbody>\n</table>\n<p>17627 rows × 55 columns</p>\n</div>"
     },
     "execution_count": 37,
     "metadata": {},
     "output_type": "execute_result"
    }
   ],
   "source": [
    "working_df = dfs[1][0]\n",
    "working_df_name = dfs[1][1]\n",
    "print(working_df_name)\n",
    "working_df"
   ],
   "metadata": {
    "collapsed": false,
    "ExecuteTime": {
     "end_time": "2024-06-14T01:32:25.832875Z",
     "start_time": "2024-06-14T01:32:25.806936Z"
    }
   },
   "id": "ebf2b91f8ab9c852"
  },
  {
   "cell_type": "code",
   "execution_count": 38,
   "outputs": [
    {
     "data": {
      "text/plain": "               zone  state   lga  sector    ea    hhid  indiv  \\\nindividual_id                                                   \ndb95a04273b3      4      1   115       1   670   10001      1   \n58b6880790bd      4      1   115       1   670   10001      2   \nd2a2b4eb1d80      4      1   115       1   670   10001      3   \n9dadc3d1eff3      4      1   115       1   670   10001      4   \ncd696cdeb3ac      4      1   115       1   670   10001      8   \n...             ...    ...   ...     ...   ...     ...    ...   \n7b559a072842      1     37  3702       1  1102  379155      1   \ne102508752e8      1     37  3702       1  1102  379155      2   \nb93d164cbee8      1     37  3702       1  1102  379155      3   \n621de7851948      1     37  3702       1  1102  379155      4   \nbfb8a7761218      1     37  3702       1  1102  379155    101   \n\n               is_new_household_member  is_still_household_member  s2q4  ...  \\\nindividual_id                                                            ...   \ndb95a04273b3                         2                        1.0   NaN  ...   \n58b6880790bd                         2                        1.0   NaN  ...   \nd2a2b4eb1d80                         2                        1.0   NaN  ...   \n9dadc3d1eff3                         2                        1.0   NaN  ...   \ncd696cdeb3ac                         2                        1.0   NaN  ...   \n...                                ...                        ...   ...  ...   \n7b559a072842                         2                        1.0   NaN  ...   \ne102508752e8                         2                        1.0   NaN  ...   \nb93d164cbee8                         2                        1.0   NaN  ...   \n621de7851948                         2                        1.0   NaN  ...   \nbfb8a7761218                         2                        2.0   2.0  ...   \n\n              age_started_working  is_employed  s6cq1b_1  s6cq2_1  s6cq3_1  \\\nindividual_id                                                                \ndb95a04273b3                 18.0          1.0       1.0      NaN      NaN   \n58b6880790bd                 99.0          1.0       2.0      5.0      9.0   \nd2a2b4eb1d80                  NaN          NaN       NaN      NaN      NaN   \n9dadc3d1eff3                 99.0          2.0       NaN      1.0      NaN   \ncd696cdeb3ac                  NaN          NaN       NaN      NaN      NaN   \n...                           ...          ...       ...      ...      ...   \n7b559a072842                 16.0          1.0       2.0      4.0      4.0   \ne102508752e8                 99.0          1.0       NaN      NaN      NaN   \nb93d164cbee8                  NaN          NaN       NaN      NaN      NaN   \n621de7851948                  NaN          NaN       NaN      NaN      NaN   \nbfb8a7761218                  NaN          NaN       NaN      NaN      NaN   \n\n              s6cq4_1  years_worked_first_job s6cqe3_1  why_left_first_job  \\\nindividual_id                                                                \ndb95a04273b3      3.0                    44.0      1.0                 NaN   \n58b6880790bd      3.0                     NaN      1.0                 6.0   \nd2a2b4eb1d80      NaN                     NaN      NaN                 NaN   \n9dadc3d1eff3      NaN                     NaN      2.0                 NaN   \ncd696cdeb3ac      NaN                     NaN      NaN                 NaN   \n...               ...                     ...      ...                 ...   \n7b559a072842      6.0                     NaN      1.0                 2.0   \ne102508752e8      NaN                     NaN      1.0                 NaN   \nb93d164cbee8      NaN                     NaN      NaN                 NaN   \n621de7851948      NaN                     NaN      NaN                 NaN   \nbfb8a7761218      NaN                     NaN      NaN                 NaN   \n\n              s6cq6_os_1  \nindividual_id             \ndb95a04273b3         NaN  \n58b6880790bd         NaN  \nd2a2b4eb1d80         NaN  \n9dadc3d1eff3         NaN  \ncd696cdeb3ac         NaN  \n...                  ...  \n7b559a072842         NaN  \ne102508752e8         NaN  \nb93d164cbee8         NaN  \n621de7851948         NaN  \nbfb8a7761218         NaN  \n\n[17627 rows x 55 columns]",
      "text/html": "<div>\n<style scoped>\n    .dataframe tbody tr th:only-of-type {\n        vertical-align: middle;\n    }\n\n    .dataframe tbody tr th {\n        vertical-align: top;\n    }\n\n    .dataframe thead th {\n        text-align: right;\n    }\n</style>\n<table border=\"1\" class=\"dataframe\">\n  <thead>\n    <tr style=\"text-align: right;\">\n      <th></th>\n      <th>zone</th>\n      <th>state</th>\n      <th>lga</th>\n      <th>sector</th>\n      <th>ea</th>\n      <th>hhid</th>\n      <th>indiv</th>\n      <th>is_new_household_member</th>\n      <th>is_still_household_member</th>\n      <th>s2q4</th>\n      <th>...</th>\n      <th>age_started_working</th>\n      <th>is_employed</th>\n      <th>s6cq1b_1</th>\n      <th>s6cq2_1</th>\n      <th>s6cq3_1</th>\n      <th>s6cq4_1</th>\n      <th>years_worked_first_job</th>\n      <th>s6cqe3_1</th>\n      <th>why_left_first_job</th>\n      <th>s6cq6_os_1</th>\n    </tr>\n    <tr>\n      <th>individual_id</th>\n      <th></th>\n      <th></th>\n      <th></th>\n      <th></th>\n      <th></th>\n      <th></th>\n      <th></th>\n      <th></th>\n      <th></th>\n      <th></th>\n      <th></th>\n      <th></th>\n      <th></th>\n      <th></th>\n      <th></th>\n      <th></th>\n      <th></th>\n      <th></th>\n      <th></th>\n      <th></th>\n      <th></th>\n    </tr>\n  </thead>\n  <tbody>\n    <tr>\n      <th>db95a04273b3</th>\n      <td>4</td>\n      <td>1</td>\n      <td>115</td>\n      <td>1</td>\n      <td>670</td>\n      <td>10001</td>\n      <td>1</td>\n      <td>2</td>\n      <td>1.0</td>\n      <td>NaN</td>\n      <td>...</td>\n      <td>18.0</td>\n      <td>1.0</td>\n      <td>1.0</td>\n      <td>NaN</td>\n      <td>NaN</td>\n      <td>3.0</td>\n      <td>44.0</td>\n      <td>1.0</td>\n      <td>NaN</td>\n      <td>NaN</td>\n    </tr>\n    <tr>\n      <th>58b6880790bd</th>\n      <td>4</td>\n      <td>1</td>\n      <td>115</td>\n      <td>1</td>\n      <td>670</td>\n      <td>10001</td>\n      <td>2</td>\n      <td>2</td>\n      <td>1.0</td>\n      <td>NaN</td>\n      <td>...</td>\n      <td>99.0</td>\n      <td>1.0</td>\n      <td>2.0</td>\n      <td>5.0</td>\n      <td>9.0</td>\n      <td>3.0</td>\n      <td>NaN</td>\n      <td>1.0</td>\n      <td>6.0</td>\n      <td>NaN</td>\n    </tr>\n    <tr>\n      <th>d2a2b4eb1d80</th>\n      <td>4</td>\n      <td>1</td>\n      <td>115</td>\n      <td>1</td>\n      <td>670</td>\n      <td>10001</td>\n      <td>3</td>\n      <td>2</td>\n      <td>1.0</td>\n      <td>NaN</td>\n      <td>...</td>\n      <td>NaN</td>\n      <td>NaN</td>\n      <td>NaN</td>\n      <td>NaN</td>\n      <td>NaN</td>\n      <td>NaN</td>\n      <td>NaN</td>\n      <td>NaN</td>\n      <td>NaN</td>\n      <td>NaN</td>\n    </tr>\n    <tr>\n      <th>9dadc3d1eff3</th>\n      <td>4</td>\n      <td>1</td>\n      <td>115</td>\n      <td>1</td>\n      <td>670</td>\n      <td>10001</td>\n      <td>4</td>\n      <td>2</td>\n      <td>1.0</td>\n      <td>NaN</td>\n      <td>...</td>\n      <td>99.0</td>\n      <td>2.0</td>\n      <td>NaN</td>\n      <td>1.0</td>\n      <td>NaN</td>\n      <td>NaN</td>\n      <td>NaN</td>\n      <td>2.0</td>\n      <td>NaN</td>\n      <td>NaN</td>\n    </tr>\n    <tr>\n      <th>cd696cdeb3ac</th>\n      <td>4</td>\n      <td>1</td>\n      <td>115</td>\n      <td>1</td>\n      <td>670</td>\n      <td>10001</td>\n      <td>8</td>\n      <td>2</td>\n      <td>1.0</td>\n      <td>NaN</td>\n      <td>...</td>\n      <td>NaN</td>\n      <td>NaN</td>\n      <td>NaN</td>\n      <td>NaN</td>\n      <td>NaN</td>\n      <td>NaN</td>\n      <td>NaN</td>\n      <td>NaN</td>\n      <td>NaN</td>\n      <td>NaN</td>\n    </tr>\n    <tr>\n      <th>...</th>\n      <td>...</td>\n      <td>...</td>\n      <td>...</td>\n      <td>...</td>\n      <td>...</td>\n      <td>...</td>\n      <td>...</td>\n      <td>...</td>\n      <td>...</td>\n      <td>...</td>\n      <td>...</td>\n      <td>...</td>\n      <td>...</td>\n      <td>...</td>\n      <td>...</td>\n      <td>...</td>\n      <td>...</td>\n      <td>...</td>\n      <td>...</td>\n      <td>...</td>\n      <td>...</td>\n    </tr>\n    <tr>\n      <th>7b559a072842</th>\n      <td>1</td>\n      <td>37</td>\n      <td>3702</td>\n      <td>1</td>\n      <td>1102</td>\n      <td>379155</td>\n      <td>1</td>\n      <td>2</td>\n      <td>1.0</td>\n      <td>NaN</td>\n      <td>...</td>\n      <td>16.0</td>\n      <td>1.0</td>\n      <td>2.0</td>\n      <td>4.0</td>\n      <td>4.0</td>\n      <td>6.0</td>\n      <td>NaN</td>\n      <td>1.0</td>\n      <td>2.0</td>\n      <td>NaN</td>\n    </tr>\n    <tr>\n      <th>e102508752e8</th>\n      <td>1</td>\n      <td>37</td>\n      <td>3702</td>\n      <td>1</td>\n      <td>1102</td>\n      <td>379155</td>\n      <td>2</td>\n      <td>2</td>\n      <td>1.0</td>\n      <td>NaN</td>\n      <td>...</td>\n      <td>99.0</td>\n      <td>1.0</td>\n      <td>NaN</td>\n      <td>NaN</td>\n      <td>NaN</td>\n      <td>NaN</td>\n      <td>NaN</td>\n      <td>1.0</td>\n      <td>NaN</td>\n      <td>NaN</td>\n    </tr>\n    <tr>\n      <th>b93d164cbee8</th>\n      <td>1</td>\n      <td>37</td>\n      <td>3702</td>\n      <td>1</td>\n      <td>1102</td>\n      <td>379155</td>\n      <td>3</td>\n      <td>2</td>\n      <td>1.0</td>\n      <td>NaN</td>\n      <td>...</td>\n      <td>NaN</td>\n      <td>NaN</td>\n      <td>NaN</td>\n      <td>NaN</td>\n      <td>NaN</td>\n      <td>NaN</td>\n      <td>NaN</td>\n      <td>NaN</td>\n      <td>NaN</td>\n      <td>NaN</td>\n    </tr>\n    <tr>\n      <th>621de7851948</th>\n      <td>1</td>\n      <td>37</td>\n      <td>3702</td>\n      <td>1</td>\n      <td>1102</td>\n      <td>379155</td>\n      <td>4</td>\n      <td>2</td>\n      <td>1.0</td>\n      <td>NaN</td>\n      <td>...</td>\n      <td>NaN</td>\n      <td>NaN</td>\n      <td>NaN</td>\n      <td>NaN</td>\n      <td>NaN</td>\n      <td>NaN</td>\n      <td>NaN</td>\n      <td>NaN</td>\n      <td>NaN</td>\n      <td>NaN</td>\n    </tr>\n    <tr>\n      <th>bfb8a7761218</th>\n      <td>1</td>\n      <td>37</td>\n      <td>3702</td>\n      <td>1</td>\n      <td>1102</td>\n      <td>379155</td>\n      <td>101</td>\n      <td>2</td>\n      <td>2.0</td>\n      <td>2.0</td>\n      <td>...</td>\n      <td>NaN</td>\n      <td>NaN</td>\n      <td>NaN</td>\n      <td>NaN</td>\n      <td>NaN</td>\n      <td>NaN</td>\n      <td>NaN</td>\n      <td>NaN</td>\n      <td>NaN</td>\n      <td>NaN</td>\n    </tr>\n  </tbody>\n</table>\n<p>17627 rows × 55 columns</p>\n</div>"
     },
     "execution_count": 38,
     "metadata": {},
     "output_type": "execute_result"
    }
   ],
   "source": [
    "rename_dict= {'s2q2': 'is_new_household_member',\n",
    "              's2q3': 'is_still_household_member',\n",
    "              's2q5': 'sex',\n",
    "              's2q6': 'age',\n",
    "              's2q7': 'relationship_to_head',\n",
    "              's2q7_os': 'other_relationship',\n",
    "              's2q8': 'why_join_household',\n",
    "              's2q8_os':'other_reason_for_joining',\n",
    "              's2q14': 'is_covid_vaccinated',\n",
    "              's6q0b_1': 'is_available_to_respond',\n",
    "              's6q1_1': 'worked_for_pay_last_week',\n",
    "              's6q1a_1': 'has_business_was_absent_last_week',\n",
    "              's6q1b_1': 'when_expected_to_return_to_work',\n",
    "              's6q1c_1': 'why_not_work_last_week',\n",
    "              's6q1c_os_1': 'other_reason_not_work',\n",
    "              's6q3a_1': 'tried_to_earn_pay_last_month',\n",
    "              's6q3b_1': 'how_tried_to_earn_pay_last_month',\n",
    "              's6q3b_os_1': 'other_way_tried_to_earn_pay_last_month',\n",
    "              's6q5b_1': 'main_activity_of_employers_business_last_week',\n",
    "              's6q6a_1': \"family_farm_food_fate\",\n",
    "              \"s6q8b1_1\": 'hours_worked_last_week_main_business_activity',\n",
    "              's6q9a_1': 'worked_december_2021',\n",
    "              's6q9b_1': 'worked_january_2022',\n",
    "              's6q9c_1': 'worked_february_2022',\n",
    "              's6q9d_1': 'worked_march_2022',\n",
    "              's6cq1_1': 'age_started_working',\n",
    "              's6cqe2_1': 'is_employed',\n",
    "              's6cq5_1': 'years_worked_first_job',\n",
    "              's6cq6_1': 'why_left_first_job'\n",
    "              }\n",
    "working_df = working_df.rename(columns = rename_dict)\n",
    "working_df"
   ],
   "metadata": {
    "collapsed": false,
    "ExecuteTime": {
     "end_time": "2024-06-14T01:32:26.591993Z",
     "start_time": "2024-06-14T01:32:26.569758Z"
    }
   },
   "id": "2a30296fd4608aeb"
  },
  {
   "cell_type": "code",
   "execution_count": 39,
   "outputs": [
    {
     "data": {
      "text/plain": "               zone  state   lga  sector    ea    hhid  indiv  \\\nindividual_id                                                   \ndb95a04273b3      4      1   115       1   670   10001      1   \n58b6880790bd      4      1   115       1   670   10001      2   \nd2a2b4eb1d80      4      1   115       1   670   10001      3   \n9dadc3d1eff3      4      1   115       1   670   10001      4   \ncd696cdeb3ac      4      1   115       1   670   10001      8   \n...             ...    ...   ...     ...   ...     ...    ...   \n7b559a072842      1     37  3702       1  1102  379155      1   \ne102508752e8      1     37  3702       1  1102  379155      2   \nb93d164cbee8      1     37  3702       1  1102  379155      3   \n621de7851948      1     37  3702       1  1102  379155      4   \nbfb8a7761218      1     37  3702       1  1102  379155    101   \n\n              is_new_household_member is_still_household_member  s2q4  ...  \\\nindividual_id                                                          ...   \ndb95a04273b3                       NO                       YES   NaN  ...   \n58b6880790bd                       NO                       YES   NaN  ...   \nd2a2b4eb1d80                       NO                       YES   NaN  ...   \n9dadc3d1eff3                       NO                       YES   NaN  ...   \ncd696cdeb3ac                       NO                       YES   NaN  ...   \n...                               ...                       ...   ...  ...   \n7b559a072842                       NO                       YES   NaN  ...   \ne102508752e8                       NO                       YES   NaN  ...   \nb93d164cbee8                       NO                       YES   NaN  ...   \n621de7851948                       NO                       YES   NaN  ...   \nbfb8a7761218                       NO                        NO   2.0  ...   \n\n              age_started_working is_employed  s6cq1b_1  s6cq2_1 s6cq3_1  \\\nindividual_id                                                              \ndb95a04273b3                   63         YES       1.0      NaN     NaN   \n58b6880790bd                   42         YES       2.0      5.0     9.0   \nd2a2b4eb1d80                   12         NaN       NaN      NaN     NaN   \n9dadc3d1eff3                   54          NO       NaN      1.0     NaN   \ncd696cdeb3ac                    9         NaN       NaN      NaN     NaN   \n...                           ...         ...       ...      ...     ...   \n7b559a072842                   49         YES       2.0      4.0     4.0   \ne102508752e8                   45         YES       NaN      NaN     NaN   \nb93d164cbee8                    9         NaN       NaN      NaN     NaN   \n621de7851948                    7         NaN       NaN      NaN     NaN   \nbfb8a7761218                 <NA>         NaN       NaN      NaN     NaN   \n\n              s6cq4_1 years_worked_first_job s6cqe3_1  why_left_first_job  \\\nindividual_id                                                               \ndb95a04273b3      3.0                     63      1.0                 NaN   \n58b6880790bd      3.0                     42      1.0                 6.0   \nd2a2b4eb1d80      NaN                     12      NaN                 NaN   \n9dadc3d1eff3      NaN                     54      2.0                 NaN   \ncd696cdeb3ac      NaN                      9      NaN                 NaN   \n...               ...                    ...      ...                 ...   \n7b559a072842      6.0                     49      1.0                 2.0   \ne102508752e8      NaN                     45      1.0                 NaN   \nb93d164cbee8      NaN                      9      NaN                 NaN   \n621de7851948      NaN                      7      NaN                 NaN   \nbfb8a7761218      NaN                   <NA>      NaN                 NaN   \n\n              s6cq6_os_1  \nindividual_id             \ndb95a04273b3         NaN  \n58b6880790bd         NaN  \nd2a2b4eb1d80         NaN  \n9dadc3d1eff3         NaN  \ncd696cdeb3ac         NaN  \n...                  ...  \n7b559a072842         NaN  \ne102508752e8         NaN  \nb93d164cbee8         NaN  \n621de7851948         NaN  \nbfb8a7761218         NaN  \n\n[17627 rows x 55 columns]",
      "text/html": "<div>\n<style scoped>\n    .dataframe tbody tr th:only-of-type {\n        vertical-align: middle;\n    }\n\n    .dataframe tbody tr th {\n        vertical-align: top;\n    }\n\n    .dataframe thead th {\n        text-align: right;\n    }\n</style>\n<table border=\"1\" class=\"dataframe\">\n  <thead>\n    <tr style=\"text-align: right;\">\n      <th></th>\n      <th>zone</th>\n      <th>state</th>\n      <th>lga</th>\n      <th>sector</th>\n      <th>ea</th>\n      <th>hhid</th>\n      <th>indiv</th>\n      <th>is_new_household_member</th>\n      <th>is_still_household_member</th>\n      <th>s2q4</th>\n      <th>...</th>\n      <th>age_started_working</th>\n      <th>is_employed</th>\n      <th>s6cq1b_1</th>\n      <th>s6cq2_1</th>\n      <th>s6cq3_1</th>\n      <th>s6cq4_1</th>\n      <th>years_worked_first_job</th>\n      <th>s6cqe3_1</th>\n      <th>why_left_first_job</th>\n      <th>s6cq6_os_1</th>\n    </tr>\n    <tr>\n      <th>individual_id</th>\n      <th></th>\n      <th></th>\n      <th></th>\n      <th></th>\n      <th></th>\n      <th></th>\n      <th></th>\n      <th></th>\n      <th></th>\n      <th></th>\n      <th></th>\n      <th></th>\n      <th></th>\n      <th></th>\n      <th></th>\n      <th></th>\n      <th></th>\n      <th></th>\n      <th></th>\n      <th></th>\n      <th></th>\n    </tr>\n  </thead>\n  <tbody>\n    <tr>\n      <th>db95a04273b3</th>\n      <td>4</td>\n      <td>1</td>\n      <td>115</td>\n      <td>1</td>\n      <td>670</td>\n      <td>10001</td>\n      <td>1</td>\n      <td>NO</td>\n      <td>YES</td>\n      <td>NaN</td>\n      <td>...</td>\n      <td>63</td>\n      <td>YES</td>\n      <td>1.0</td>\n      <td>NaN</td>\n      <td>NaN</td>\n      <td>3.0</td>\n      <td>63</td>\n      <td>1.0</td>\n      <td>NaN</td>\n      <td>NaN</td>\n    </tr>\n    <tr>\n      <th>58b6880790bd</th>\n      <td>4</td>\n      <td>1</td>\n      <td>115</td>\n      <td>1</td>\n      <td>670</td>\n      <td>10001</td>\n      <td>2</td>\n      <td>NO</td>\n      <td>YES</td>\n      <td>NaN</td>\n      <td>...</td>\n      <td>42</td>\n      <td>YES</td>\n      <td>2.0</td>\n      <td>5.0</td>\n      <td>9.0</td>\n      <td>3.0</td>\n      <td>42</td>\n      <td>1.0</td>\n      <td>6.0</td>\n      <td>NaN</td>\n    </tr>\n    <tr>\n      <th>d2a2b4eb1d80</th>\n      <td>4</td>\n      <td>1</td>\n      <td>115</td>\n      <td>1</td>\n      <td>670</td>\n      <td>10001</td>\n      <td>3</td>\n      <td>NO</td>\n      <td>YES</td>\n      <td>NaN</td>\n      <td>...</td>\n      <td>12</td>\n      <td>NaN</td>\n      <td>NaN</td>\n      <td>NaN</td>\n      <td>NaN</td>\n      <td>NaN</td>\n      <td>12</td>\n      <td>NaN</td>\n      <td>NaN</td>\n      <td>NaN</td>\n    </tr>\n    <tr>\n      <th>9dadc3d1eff3</th>\n      <td>4</td>\n      <td>1</td>\n      <td>115</td>\n      <td>1</td>\n      <td>670</td>\n      <td>10001</td>\n      <td>4</td>\n      <td>NO</td>\n      <td>YES</td>\n      <td>NaN</td>\n      <td>...</td>\n      <td>54</td>\n      <td>NO</td>\n      <td>NaN</td>\n      <td>1.0</td>\n      <td>NaN</td>\n      <td>NaN</td>\n      <td>54</td>\n      <td>2.0</td>\n      <td>NaN</td>\n      <td>NaN</td>\n    </tr>\n    <tr>\n      <th>cd696cdeb3ac</th>\n      <td>4</td>\n      <td>1</td>\n      <td>115</td>\n      <td>1</td>\n      <td>670</td>\n      <td>10001</td>\n      <td>8</td>\n      <td>NO</td>\n      <td>YES</td>\n      <td>NaN</td>\n      <td>...</td>\n      <td>9</td>\n      <td>NaN</td>\n      <td>NaN</td>\n      <td>NaN</td>\n      <td>NaN</td>\n      <td>NaN</td>\n      <td>9</td>\n      <td>NaN</td>\n      <td>NaN</td>\n      <td>NaN</td>\n    </tr>\n    <tr>\n      <th>...</th>\n      <td>...</td>\n      <td>...</td>\n      <td>...</td>\n      <td>...</td>\n      <td>...</td>\n      <td>...</td>\n      <td>...</td>\n      <td>...</td>\n      <td>...</td>\n      <td>...</td>\n      <td>...</td>\n      <td>...</td>\n      <td>...</td>\n      <td>...</td>\n      <td>...</td>\n      <td>...</td>\n      <td>...</td>\n      <td>...</td>\n      <td>...</td>\n      <td>...</td>\n      <td>...</td>\n    </tr>\n    <tr>\n      <th>7b559a072842</th>\n      <td>1</td>\n      <td>37</td>\n      <td>3702</td>\n      <td>1</td>\n      <td>1102</td>\n      <td>379155</td>\n      <td>1</td>\n      <td>NO</td>\n      <td>YES</td>\n      <td>NaN</td>\n      <td>...</td>\n      <td>49</td>\n      <td>YES</td>\n      <td>2.0</td>\n      <td>4.0</td>\n      <td>4.0</td>\n      <td>6.0</td>\n      <td>49</td>\n      <td>1.0</td>\n      <td>2.0</td>\n      <td>NaN</td>\n    </tr>\n    <tr>\n      <th>e102508752e8</th>\n      <td>1</td>\n      <td>37</td>\n      <td>3702</td>\n      <td>1</td>\n      <td>1102</td>\n      <td>379155</td>\n      <td>2</td>\n      <td>NO</td>\n      <td>YES</td>\n      <td>NaN</td>\n      <td>...</td>\n      <td>45</td>\n      <td>YES</td>\n      <td>NaN</td>\n      <td>NaN</td>\n      <td>NaN</td>\n      <td>NaN</td>\n      <td>45</td>\n      <td>1.0</td>\n      <td>NaN</td>\n      <td>NaN</td>\n    </tr>\n    <tr>\n      <th>b93d164cbee8</th>\n      <td>1</td>\n      <td>37</td>\n      <td>3702</td>\n      <td>1</td>\n      <td>1102</td>\n      <td>379155</td>\n      <td>3</td>\n      <td>NO</td>\n      <td>YES</td>\n      <td>NaN</td>\n      <td>...</td>\n      <td>9</td>\n      <td>NaN</td>\n      <td>NaN</td>\n      <td>NaN</td>\n      <td>NaN</td>\n      <td>NaN</td>\n      <td>9</td>\n      <td>NaN</td>\n      <td>NaN</td>\n      <td>NaN</td>\n    </tr>\n    <tr>\n      <th>621de7851948</th>\n      <td>1</td>\n      <td>37</td>\n      <td>3702</td>\n      <td>1</td>\n      <td>1102</td>\n      <td>379155</td>\n      <td>4</td>\n      <td>NO</td>\n      <td>YES</td>\n      <td>NaN</td>\n      <td>...</td>\n      <td>7</td>\n      <td>NaN</td>\n      <td>NaN</td>\n      <td>NaN</td>\n      <td>NaN</td>\n      <td>NaN</td>\n      <td>7</td>\n      <td>NaN</td>\n      <td>NaN</td>\n      <td>NaN</td>\n    </tr>\n    <tr>\n      <th>bfb8a7761218</th>\n      <td>1</td>\n      <td>37</td>\n      <td>3702</td>\n      <td>1</td>\n      <td>1102</td>\n      <td>379155</td>\n      <td>101</td>\n      <td>NO</td>\n      <td>NO</td>\n      <td>2.0</td>\n      <td>...</td>\n      <td>&lt;NA&gt;</td>\n      <td>NaN</td>\n      <td>NaN</td>\n      <td>NaN</td>\n      <td>NaN</td>\n      <td>NaN</td>\n      <td>&lt;NA&gt;</td>\n      <td>NaN</td>\n      <td>NaN</td>\n      <td>NaN</td>\n    </tr>\n  </tbody>\n</table>\n<p>17627 rows × 55 columns</p>\n</div>"
     },
     "execution_count": 39,
     "metadata": {},
     "output_type": "execute_result"
    }
   ],
   "source": [
    "# Recode  the binary columns and all shared variables from the previous dataset\n",
    "\n",
    "#binary variables\n",
    "binary_columns = ['is_new_household_member',\n",
    "                  'is_still_household_member',\n",
    "                  'is_covid_vaccinated',\n",
    "                  'is_available_to_respond',\n",
    "                  'worked_for_pay_last_week',\n",
    "                  'has_business_was_absent_last_week',\n",
    "                  'tried_to_earn_pay_last_month',\n",
    "                  'worked_december_2021',\n",
    "                  'worked_january_2022',\n",
    "                  'worked_february_2022',\n",
    "                  'worked_march_2022',\n",
    "                  'is_employed'\n",
    "                  ]\n",
    "# age and sex\n",
    "clean_columns(working_df, selected_columns=binary_columns, cleaning_functions_list=[recode_binary])\n",
    "working_df['age'] = working_df['age'].astype(\"Int64\")\n",
    "working_df['age_started_working'] = working_df['age'].astype(\"Int64\")\n",
    "working_df['years_worked_first_job'] = working_df['age'].astype(\"Int64\")\n",
    "clean_columns(working_df, ['sex'], [recode_sex])\n",
    "\n",
    "# Relationship to head\n",
    "clean_columns(working_df, ['relationship_to_head'], [recode_relationship_to_head])\n",
    "\n",
    "#Why Join household\n",
    "clean_columns(working_df, ['why_join_household'], [recode_why_join_household])\n",
    "\n",
    "working_df"
   ],
   "metadata": {
    "collapsed": false,
    "ExecuteTime": {
     "end_time": "2024-06-14T01:32:27.565665Z",
     "start_time": "2024-06-14T01:32:27.517176Z"
    }
   },
   "id": "3d67073a999027ec"
  },
  {
   "cell_type": "code",
   "execution_count": 40,
   "outputs": [
    {
     "data": {
      "text/plain": "               zone  state   lga  sector    ea    hhid  indiv  \\\nindividual_id                                                   \ndb95a04273b3      4      1   115       1   670   10001      1   \n58b6880790bd      4      1   115       1   670   10001      2   \nd2a2b4eb1d80      4      1   115       1   670   10001      3   \n9dadc3d1eff3      4      1   115       1   670   10001      4   \ncd696cdeb3ac      4      1   115       1   670   10001      8   \n...             ...    ...   ...     ...   ...     ...    ...   \n7b559a072842      1     37  3702       1  1102  379155      1   \ne102508752e8      1     37  3702       1  1102  379155      2   \nb93d164cbee8      1     37  3702       1  1102  379155      3   \n621de7851948      1     37  3702       1  1102  379155      4   \nbfb8a7761218      1     37  3702       1  1102  379155    101   \n\n              is_new_household_member is_still_household_member  s2q4  ...  \\\nindividual_id                                                          ...   \ndb95a04273b3                       NO                       YES   NaN  ...   \n58b6880790bd                       NO                       YES   NaN  ...   \nd2a2b4eb1d80                       NO                       YES   NaN  ...   \n9dadc3d1eff3                       NO                       YES   NaN  ...   \ncd696cdeb3ac                       NO                       YES   NaN  ...   \n...                               ...                       ...   ...  ...   \n7b559a072842                       NO                       YES   NaN  ...   \ne102508752e8                       NO                       YES   NaN  ...   \nb93d164cbee8                       NO                       YES   NaN  ...   \n621de7851948                       NO                       YES   NaN  ...   \nbfb8a7761218                       NO                        NO   2.0  ...   \n\n              age_started_working is_employed  s6cq1b_1  s6cq2_1 s6cq3_1  \\\nindividual_id                                                              \ndb95a04273b3                   63         YES       1.0      NaN     NaN   \n58b6880790bd                   42         YES       2.0      5.0     9.0   \nd2a2b4eb1d80                   12         NaN       NaN      NaN     NaN   \n9dadc3d1eff3                   54          NO       NaN      1.0     NaN   \ncd696cdeb3ac                    9         NaN       NaN      NaN     NaN   \n...                           ...         ...       ...      ...     ...   \n7b559a072842                   49         YES       2.0      4.0     4.0   \ne102508752e8                   45         YES       NaN      NaN     NaN   \nb93d164cbee8                    9         NaN       NaN      NaN     NaN   \n621de7851948                    7         NaN       NaN      NaN     NaN   \nbfb8a7761218                 <NA>         NaN       NaN      NaN     NaN   \n\n              s6cq4_1 years_worked_first_job s6cqe3_1  why_left_first_job  \\\nindividual_id                                                               \ndb95a04273b3      3.0                     63      1.0                 NaN   \n58b6880790bd      3.0                     42      1.0                 6.0   \nd2a2b4eb1d80      NaN                     12      NaN                 NaN   \n9dadc3d1eff3      NaN                     54      2.0                 NaN   \ncd696cdeb3ac      NaN                      9      NaN                 NaN   \n...               ...                    ...      ...                 ...   \n7b559a072842      6.0                     49      1.0                 2.0   \ne102508752e8      NaN                     45      1.0                 NaN   \nb93d164cbee8      NaN                      9      NaN                 NaN   \n621de7851948      NaN                      7      NaN                 NaN   \nbfb8a7761218      NaN                   <NA>      NaN                 NaN   \n\n              s6cq6_os_1  \nindividual_id             \ndb95a04273b3         NaN  \n58b6880790bd         NaN  \nd2a2b4eb1d80         NaN  \n9dadc3d1eff3         NaN  \ncd696cdeb3ac         NaN  \n...                  ...  \n7b559a072842         NaN  \ne102508752e8         NaN  \nb93d164cbee8         NaN  \n621de7851948         NaN  \nbfb8a7761218         NaN  \n\n[17627 rows x 55 columns]",
      "text/html": "<div>\n<style scoped>\n    .dataframe tbody tr th:only-of-type {\n        vertical-align: middle;\n    }\n\n    .dataframe tbody tr th {\n        vertical-align: top;\n    }\n\n    .dataframe thead th {\n        text-align: right;\n    }\n</style>\n<table border=\"1\" class=\"dataframe\">\n  <thead>\n    <tr style=\"text-align: right;\">\n      <th></th>\n      <th>zone</th>\n      <th>state</th>\n      <th>lga</th>\n      <th>sector</th>\n      <th>ea</th>\n      <th>hhid</th>\n      <th>indiv</th>\n      <th>is_new_household_member</th>\n      <th>is_still_household_member</th>\n      <th>s2q4</th>\n      <th>...</th>\n      <th>age_started_working</th>\n      <th>is_employed</th>\n      <th>s6cq1b_1</th>\n      <th>s6cq2_1</th>\n      <th>s6cq3_1</th>\n      <th>s6cq4_1</th>\n      <th>years_worked_first_job</th>\n      <th>s6cqe3_1</th>\n      <th>why_left_first_job</th>\n      <th>s6cq6_os_1</th>\n    </tr>\n    <tr>\n      <th>individual_id</th>\n      <th></th>\n      <th></th>\n      <th></th>\n      <th></th>\n      <th></th>\n      <th></th>\n      <th></th>\n      <th></th>\n      <th></th>\n      <th></th>\n      <th></th>\n      <th></th>\n      <th></th>\n      <th></th>\n      <th></th>\n      <th></th>\n      <th></th>\n      <th></th>\n      <th></th>\n      <th></th>\n      <th></th>\n    </tr>\n  </thead>\n  <tbody>\n    <tr>\n      <th>db95a04273b3</th>\n      <td>4</td>\n      <td>1</td>\n      <td>115</td>\n      <td>1</td>\n      <td>670</td>\n      <td>10001</td>\n      <td>1</td>\n      <td>NO</td>\n      <td>YES</td>\n      <td>NaN</td>\n      <td>...</td>\n      <td>63</td>\n      <td>YES</td>\n      <td>1.0</td>\n      <td>NaN</td>\n      <td>NaN</td>\n      <td>3.0</td>\n      <td>63</td>\n      <td>1.0</td>\n      <td>NaN</td>\n      <td>NaN</td>\n    </tr>\n    <tr>\n      <th>58b6880790bd</th>\n      <td>4</td>\n      <td>1</td>\n      <td>115</td>\n      <td>1</td>\n      <td>670</td>\n      <td>10001</td>\n      <td>2</td>\n      <td>NO</td>\n      <td>YES</td>\n      <td>NaN</td>\n      <td>...</td>\n      <td>42</td>\n      <td>YES</td>\n      <td>2.0</td>\n      <td>5.0</td>\n      <td>9.0</td>\n      <td>3.0</td>\n      <td>42</td>\n      <td>1.0</td>\n      <td>6.0</td>\n      <td>NaN</td>\n    </tr>\n    <tr>\n      <th>d2a2b4eb1d80</th>\n      <td>4</td>\n      <td>1</td>\n      <td>115</td>\n      <td>1</td>\n      <td>670</td>\n      <td>10001</td>\n      <td>3</td>\n      <td>NO</td>\n      <td>YES</td>\n      <td>NaN</td>\n      <td>...</td>\n      <td>12</td>\n      <td>NaN</td>\n      <td>NaN</td>\n      <td>NaN</td>\n      <td>NaN</td>\n      <td>NaN</td>\n      <td>12</td>\n      <td>NaN</td>\n      <td>NaN</td>\n      <td>NaN</td>\n    </tr>\n    <tr>\n      <th>9dadc3d1eff3</th>\n      <td>4</td>\n      <td>1</td>\n      <td>115</td>\n      <td>1</td>\n      <td>670</td>\n      <td>10001</td>\n      <td>4</td>\n      <td>NO</td>\n      <td>YES</td>\n      <td>NaN</td>\n      <td>...</td>\n      <td>54</td>\n      <td>NO</td>\n      <td>NaN</td>\n      <td>1.0</td>\n      <td>NaN</td>\n      <td>NaN</td>\n      <td>54</td>\n      <td>2.0</td>\n      <td>NaN</td>\n      <td>NaN</td>\n    </tr>\n    <tr>\n      <th>cd696cdeb3ac</th>\n      <td>4</td>\n      <td>1</td>\n      <td>115</td>\n      <td>1</td>\n      <td>670</td>\n      <td>10001</td>\n      <td>8</td>\n      <td>NO</td>\n      <td>YES</td>\n      <td>NaN</td>\n      <td>...</td>\n      <td>9</td>\n      <td>NaN</td>\n      <td>NaN</td>\n      <td>NaN</td>\n      <td>NaN</td>\n      <td>NaN</td>\n      <td>9</td>\n      <td>NaN</td>\n      <td>NaN</td>\n      <td>NaN</td>\n    </tr>\n    <tr>\n      <th>...</th>\n      <td>...</td>\n      <td>...</td>\n      <td>...</td>\n      <td>...</td>\n      <td>...</td>\n      <td>...</td>\n      <td>...</td>\n      <td>...</td>\n      <td>...</td>\n      <td>...</td>\n      <td>...</td>\n      <td>...</td>\n      <td>...</td>\n      <td>...</td>\n      <td>...</td>\n      <td>...</td>\n      <td>...</td>\n      <td>...</td>\n      <td>...</td>\n      <td>...</td>\n      <td>...</td>\n    </tr>\n    <tr>\n      <th>7b559a072842</th>\n      <td>1</td>\n      <td>37</td>\n      <td>3702</td>\n      <td>1</td>\n      <td>1102</td>\n      <td>379155</td>\n      <td>1</td>\n      <td>NO</td>\n      <td>YES</td>\n      <td>NaN</td>\n      <td>...</td>\n      <td>49</td>\n      <td>YES</td>\n      <td>2.0</td>\n      <td>4.0</td>\n      <td>4.0</td>\n      <td>6.0</td>\n      <td>49</td>\n      <td>1.0</td>\n      <td>2.0</td>\n      <td>NaN</td>\n    </tr>\n    <tr>\n      <th>e102508752e8</th>\n      <td>1</td>\n      <td>37</td>\n      <td>3702</td>\n      <td>1</td>\n      <td>1102</td>\n      <td>379155</td>\n      <td>2</td>\n      <td>NO</td>\n      <td>YES</td>\n      <td>NaN</td>\n      <td>...</td>\n      <td>45</td>\n      <td>YES</td>\n      <td>NaN</td>\n      <td>NaN</td>\n      <td>NaN</td>\n      <td>NaN</td>\n      <td>45</td>\n      <td>1.0</td>\n      <td>NaN</td>\n      <td>NaN</td>\n    </tr>\n    <tr>\n      <th>b93d164cbee8</th>\n      <td>1</td>\n      <td>37</td>\n      <td>3702</td>\n      <td>1</td>\n      <td>1102</td>\n      <td>379155</td>\n      <td>3</td>\n      <td>NO</td>\n      <td>YES</td>\n      <td>NaN</td>\n      <td>...</td>\n      <td>9</td>\n      <td>NaN</td>\n      <td>NaN</td>\n      <td>NaN</td>\n      <td>NaN</td>\n      <td>NaN</td>\n      <td>9</td>\n      <td>NaN</td>\n      <td>NaN</td>\n      <td>NaN</td>\n    </tr>\n    <tr>\n      <th>621de7851948</th>\n      <td>1</td>\n      <td>37</td>\n      <td>3702</td>\n      <td>1</td>\n      <td>1102</td>\n      <td>379155</td>\n      <td>4</td>\n      <td>NO</td>\n      <td>YES</td>\n      <td>NaN</td>\n      <td>...</td>\n      <td>7</td>\n      <td>NaN</td>\n      <td>NaN</td>\n      <td>NaN</td>\n      <td>NaN</td>\n      <td>NaN</td>\n      <td>7</td>\n      <td>NaN</td>\n      <td>NaN</td>\n      <td>NaN</td>\n    </tr>\n    <tr>\n      <th>bfb8a7761218</th>\n      <td>1</td>\n      <td>37</td>\n      <td>3702</td>\n      <td>1</td>\n      <td>1102</td>\n      <td>379155</td>\n      <td>101</td>\n      <td>NO</td>\n      <td>NO</td>\n      <td>2.0</td>\n      <td>...</td>\n      <td>&lt;NA&gt;</td>\n      <td>NaN</td>\n      <td>NaN</td>\n      <td>NaN</td>\n      <td>NaN</td>\n      <td>NaN</td>\n      <td>&lt;NA&gt;</td>\n      <td>NaN</td>\n      <td>NaN</td>\n      <td>NaN</td>\n    </tr>\n  </tbody>\n</table>\n<p>17627 rows × 55 columns</p>\n</div>"
     },
     "execution_count": 40,
     "metadata": {},
     "output_type": "execute_result"
    }
   ],
   "source": [
    "# recode when_expected_to_return_to_work\n",
    "\n",
    "def recode_when_expected_to_return_to_work(entry):\n",
    "    if math.isnan(entry):\n",
    "        return entry\n",
    "    #If not, recode the variable this way\n",
    "    else:\n",
    "        value = int(entry)\n",
    "        if value == 1:\n",
    "            return \"WITHIN ONE WEEK\"\n",
    "        elif value == 2:\n",
    "            return \"WITHIN ONE MONTH\"\n",
    "        elif value == 3:\n",
    "            return \"WITHIN THREE MONTHS\"\n",
    "        elif value == 4:\n",
    "            return \"MORE THAN THREE MONTHS\"\n",
    "        elif value == 5:\n",
    "            return \"ONCE RESTRICTIONS ARE LIFTED\"\n",
    "        elif value == 98:\n",
    "            return \"DO NOT KNOW\"\n",
    "        else:\n",
    "            return np.nan\n",
    "        \n",
    "clean_columns(working_df, ['when_expected_to_return_to_work'], [recode_when_expected_to_return_to_work])"
   ],
   "metadata": {
    "collapsed": false,
    "ExecuteTime": {
     "end_time": "2024-06-14T01:32:28.686366Z",
     "start_time": "2024-06-14T01:32:28.659517Z"
    }
   },
   "id": "27d701625da9018f"
  },
  {
   "cell_type": "code",
   "execution_count": 41,
   "outputs": [
    {
     "data": {
      "text/plain": "               zone  state   lga  sector    ea    hhid  indiv  \\\nindividual_id                                                   \ndb95a04273b3      4      1   115       1   670   10001      1   \n58b6880790bd      4      1   115       1   670   10001      2   \nd2a2b4eb1d80      4      1   115       1   670   10001      3   \n9dadc3d1eff3      4      1   115       1   670   10001      4   \ncd696cdeb3ac      4      1   115       1   670   10001      8   \n...             ...    ...   ...     ...   ...     ...    ...   \n7b559a072842      1     37  3702       1  1102  379155      1   \ne102508752e8      1     37  3702       1  1102  379155      2   \nb93d164cbee8      1     37  3702       1  1102  379155      3   \n621de7851948      1     37  3702       1  1102  379155      4   \nbfb8a7761218      1     37  3702       1  1102  379155    101   \n\n              is_new_household_member is_still_household_member  s2q4  ...  \\\nindividual_id                                                          ...   \ndb95a04273b3                       NO                       YES   NaN  ...   \n58b6880790bd                       NO                       YES   NaN  ...   \nd2a2b4eb1d80                       NO                       YES   NaN  ...   \n9dadc3d1eff3                       NO                       YES   NaN  ...   \ncd696cdeb3ac                       NO                       YES   NaN  ...   \n...                               ...                       ...   ...  ...   \n7b559a072842                       NO                       YES   NaN  ...   \ne102508752e8                       NO                       YES   NaN  ...   \nb93d164cbee8                       NO                       YES   NaN  ...   \n621de7851948                       NO                       YES   NaN  ...   \nbfb8a7761218                       NO                        NO   2.0  ...   \n\n              age_started_working is_employed  s6cq1b_1  s6cq2_1 s6cq3_1  \\\nindividual_id                                                              \ndb95a04273b3                   63         YES       1.0      NaN     NaN   \n58b6880790bd                   42         YES       2.0      5.0     9.0   \nd2a2b4eb1d80                   12         NaN       NaN      NaN     NaN   \n9dadc3d1eff3                   54          NO       NaN      1.0     NaN   \ncd696cdeb3ac                    9         NaN       NaN      NaN     NaN   \n...                           ...         ...       ...      ...     ...   \n7b559a072842                   49         YES       2.0      4.0     4.0   \ne102508752e8                   45         YES       NaN      NaN     NaN   \nb93d164cbee8                    9         NaN       NaN      NaN     NaN   \n621de7851948                    7         NaN       NaN      NaN     NaN   \nbfb8a7761218                 <NA>         NaN       NaN      NaN     NaN   \n\n              s6cq4_1 years_worked_first_job s6cqe3_1  why_left_first_job  \\\nindividual_id                                                               \ndb95a04273b3      3.0                     63      1.0                 NaN   \n58b6880790bd      3.0                     42      1.0                 6.0   \nd2a2b4eb1d80      NaN                     12      NaN                 NaN   \n9dadc3d1eff3      NaN                     54      2.0                 NaN   \ncd696cdeb3ac      NaN                      9      NaN                 NaN   \n...               ...                    ...      ...                 ...   \n7b559a072842      6.0                     49      1.0                 2.0   \ne102508752e8      NaN                     45      1.0                 NaN   \nb93d164cbee8      NaN                      9      NaN                 NaN   \n621de7851948      NaN                      7      NaN                 NaN   \nbfb8a7761218      NaN                   <NA>      NaN                 NaN   \n\n              s6cq6_os_1  \nindividual_id             \ndb95a04273b3         NaN  \n58b6880790bd         NaN  \nd2a2b4eb1d80         NaN  \n9dadc3d1eff3         NaN  \ncd696cdeb3ac         NaN  \n...                  ...  \n7b559a072842         NaN  \ne102508752e8         NaN  \nb93d164cbee8         NaN  \n621de7851948         NaN  \nbfb8a7761218         NaN  \n\n[17627 rows x 55 columns]",
      "text/html": "<div>\n<style scoped>\n    .dataframe tbody tr th:only-of-type {\n        vertical-align: middle;\n    }\n\n    .dataframe tbody tr th {\n        vertical-align: top;\n    }\n\n    .dataframe thead th {\n        text-align: right;\n    }\n</style>\n<table border=\"1\" class=\"dataframe\">\n  <thead>\n    <tr style=\"text-align: right;\">\n      <th></th>\n      <th>zone</th>\n      <th>state</th>\n      <th>lga</th>\n      <th>sector</th>\n      <th>ea</th>\n      <th>hhid</th>\n      <th>indiv</th>\n      <th>is_new_household_member</th>\n      <th>is_still_household_member</th>\n      <th>s2q4</th>\n      <th>...</th>\n      <th>age_started_working</th>\n      <th>is_employed</th>\n      <th>s6cq1b_1</th>\n      <th>s6cq2_1</th>\n      <th>s6cq3_1</th>\n      <th>s6cq4_1</th>\n      <th>years_worked_first_job</th>\n      <th>s6cqe3_1</th>\n      <th>why_left_first_job</th>\n      <th>s6cq6_os_1</th>\n    </tr>\n    <tr>\n      <th>individual_id</th>\n      <th></th>\n      <th></th>\n      <th></th>\n      <th></th>\n      <th></th>\n      <th></th>\n      <th></th>\n      <th></th>\n      <th></th>\n      <th></th>\n      <th></th>\n      <th></th>\n      <th></th>\n      <th></th>\n      <th></th>\n      <th></th>\n      <th></th>\n      <th></th>\n      <th></th>\n      <th></th>\n      <th></th>\n    </tr>\n  </thead>\n  <tbody>\n    <tr>\n      <th>db95a04273b3</th>\n      <td>4</td>\n      <td>1</td>\n      <td>115</td>\n      <td>1</td>\n      <td>670</td>\n      <td>10001</td>\n      <td>1</td>\n      <td>NO</td>\n      <td>YES</td>\n      <td>NaN</td>\n      <td>...</td>\n      <td>63</td>\n      <td>YES</td>\n      <td>1.0</td>\n      <td>NaN</td>\n      <td>NaN</td>\n      <td>3.0</td>\n      <td>63</td>\n      <td>1.0</td>\n      <td>NaN</td>\n      <td>NaN</td>\n    </tr>\n    <tr>\n      <th>58b6880790bd</th>\n      <td>4</td>\n      <td>1</td>\n      <td>115</td>\n      <td>1</td>\n      <td>670</td>\n      <td>10001</td>\n      <td>2</td>\n      <td>NO</td>\n      <td>YES</td>\n      <td>NaN</td>\n      <td>...</td>\n      <td>42</td>\n      <td>YES</td>\n      <td>2.0</td>\n      <td>5.0</td>\n      <td>9.0</td>\n      <td>3.0</td>\n      <td>42</td>\n      <td>1.0</td>\n      <td>6.0</td>\n      <td>NaN</td>\n    </tr>\n    <tr>\n      <th>d2a2b4eb1d80</th>\n      <td>4</td>\n      <td>1</td>\n      <td>115</td>\n      <td>1</td>\n      <td>670</td>\n      <td>10001</td>\n      <td>3</td>\n      <td>NO</td>\n      <td>YES</td>\n      <td>NaN</td>\n      <td>...</td>\n      <td>12</td>\n      <td>NaN</td>\n      <td>NaN</td>\n      <td>NaN</td>\n      <td>NaN</td>\n      <td>NaN</td>\n      <td>12</td>\n      <td>NaN</td>\n      <td>NaN</td>\n      <td>NaN</td>\n    </tr>\n    <tr>\n      <th>9dadc3d1eff3</th>\n      <td>4</td>\n      <td>1</td>\n      <td>115</td>\n      <td>1</td>\n      <td>670</td>\n      <td>10001</td>\n      <td>4</td>\n      <td>NO</td>\n      <td>YES</td>\n      <td>NaN</td>\n      <td>...</td>\n      <td>54</td>\n      <td>NO</td>\n      <td>NaN</td>\n      <td>1.0</td>\n      <td>NaN</td>\n      <td>NaN</td>\n      <td>54</td>\n      <td>2.0</td>\n      <td>NaN</td>\n      <td>NaN</td>\n    </tr>\n    <tr>\n      <th>cd696cdeb3ac</th>\n      <td>4</td>\n      <td>1</td>\n      <td>115</td>\n      <td>1</td>\n      <td>670</td>\n      <td>10001</td>\n      <td>8</td>\n      <td>NO</td>\n      <td>YES</td>\n      <td>NaN</td>\n      <td>...</td>\n      <td>9</td>\n      <td>NaN</td>\n      <td>NaN</td>\n      <td>NaN</td>\n      <td>NaN</td>\n      <td>NaN</td>\n      <td>9</td>\n      <td>NaN</td>\n      <td>NaN</td>\n      <td>NaN</td>\n    </tr>\n    <tr>\n      <th>...</th>\n      <td>...</td>\n      <td>...</td>\n      <td>...</td>\n      <td>...</td>\n      <td>...</td>\n      <td>...</td>\n      <td>...</td>\n      <td>...</td>\n      <td>...</td>\n      <td>...</td>\n      <td>...</td>\n      <td>...</td>\n      <td>...</td>\n      <td>...</td>\n      <td>...</td>\n      <td>...</td>\n      <td>...</td>\n      <td>...</td>\n      <td>...</td>\n      <td>...</td>\n      <td>...</td>\n    </tr>\n    <tr>\n      <th>7b559a072842</th>\n      <td>1</td>\n      <td>37</td>\n      <td>3702</td>\n      <td>1</td>\n      <td>1102</td>\n      <td>379155</td>\n      <td>1</td>\n      <td>NO</td>\n      <td>YES</td>\n      <td>NaN</td>\n      <td>...</td>\n      <td>49</td>\n      <td>YES</td>\n      <td>2.0</td>\n      <td>4.0</td>\n      <td>4.0</td>\n      <td>6.0</td>\n      <td>49</td>\n      <td>1.0</td>\n      <td>2.0</td>\n      <td>NaN</td>\n    </tr>\n    <tr>\n      <th>e102508752e8</th>\n      <td>1</td>\n      <td>37</td>\n      <td>3702</td>\n      <td>1</td>\n      <td>1102</td>\n      <td>379155</td>\n      <td>2</td>\n      <td>NO</td>\n      <td>YES</td>\n      <td>NaN</td>\n      <td>...</td>\n      <td>45</td>\n      <td>YES</td>\n      <td>NaN</td>\n      <td>NaN</td>\n      <td>NaN</td>\n      <td>NaN</td>\n      <td>45</td>\n      <td>1.0</td>\n      <td>NaN</td>\n      <td>NaN</td>\n    </tr>\n    <tr>\n      <th>b93d164cbee8</th>\n      <td>1</td>\n      <td>37</td>\n      <td>3702</td>\n      <td>1</td>\n      <td>1102</td>\n      <td>379155</td>\n      <td>3</td>\n      <td>NO</td>\n      <td>YES</td>\n      <td>NaN</td>\n      <td>...</td>\n      <td>9</td>\n      <td>NaN</td>\n      <td>NaN</td>\n      <td>NaN</td>\n      <td>NaN</td>\n      <td>NaN</td>\n      <td>9</td>\n      <td>NaN</td>\n      <td>NaN</td>\n      <td>NaN</td>\n    </tr>\n    <tr>\n      <th>621de7851948</th>\n      <td>1</td>\n      <td>37</td>\n      <td>3702</td>\n      <td>1</td>\n      <td>1102</td>\n      <td>379155</td>\n      <td>4</td>\n      <td>NO</td>\n      <td>YES</td>\n      <td>NaN</td>\n      <td>...</td>\n      <td>7</td>\n      <td>NaN</td>\n      <td>NaN</td>\n      <td>NaN</td>\n      <td>NaN</td>\n      <td>NaN</td>\n      <td>7</td>\n      <td>NaN</td>\n      <td>NaN</td>\n      <td>NaN</td>\n    </tr>\n    <tr>\n      <th>bfb8a7761218</th>\n      <td>1</td>\n      <td>37</td>\n      <td>3702</td>\n      <td>1</td>\n      <td>1102</td>\n      <td>379155</td>\n      <td>101</td>\n      <td>NO</td>\n      <td>NO</td>\n      <td>2.0</td>\n      <td>...</td>\n      <td>&lt;NA&gt;</td>\n      <td>NaN</td>\n      <td>NaN</td>\n      <td>NaN</td>\n      <td>NaN</td>\n      <td>NaN</td>\n      <td>&lt;NA&gt;</td>\n      <td>NaN</td>\n      <td>NaN</td>\n      <td>NaN</td>\n    </tr>\n  </tbody>\n</table>\n<p>17627 rows × 55 columns</p>\n</div>"
     },
     "execution_count": 41,
     "metadata": {},
     "output_type": "execute_result"
    }
   ],
   "source": [
    "def recode_why_not_work_last_week(entry):\n",
    "    if math.isnan(entry):\n",
    "        return entry\n",
    "    #If not, recode the variable this way\n",
    "    else:\n",
    "        value = int(entry)\n",
    "        if value == 1:\n",
    "            return \"CORONAVIRUS CLOSURE\"\n",
    "        elif value == 2:\n",
    "            return \"CLOSURE FOR NON-CORONAVIRUS REASON\"\n",
    "        elif value == 3:\n",
    "            return \"LAID OFF\"\n",
    "        elif value == 4:\n",
    "            return \"FURLOUGHED\"\n",
    "        elif value == 5:\n",
    "            return \"VACATION\"\n",
    "        elif value == 6:\n",
    "            return \"SICK\"\n",
    "        elif value == 7:\n",
    "            return \"CARE FOR ILL RELATIVE\"\n",
    "        elif value == 8:\n",
    "            return 'SEASONAL WORKER'\n",
    "        elif value == 9:\n",
    "            return \"RETIRED\"\n",
    "        elif value == 10:\n",
    "            return \"MOVEMENT RESTRICTIONS\"\n",
    "        elif value == 11:\n",
    "            return \"LACK OF INPUTS FOR FARMING\"\n",
    "        elif value == 12:\n",
    "            return \"NOT FARMING SEASON\"\n",
    "        elif value == 13:\n",
    "            return \"PERSONNEL ROTATION DUE TO CORONAVIRUS\"\n",
    "        elif value == 14:\n",
    "            return \"CONFLICT OR INSURGENCY\"\n",
    "        elif value == 15:\n",
    "            return \"CLOSED DUE TO ENDSARS PROTESTS\"\n",
    "        elif value == 17:\n",
    "            return 'LACK OF BUSINESS INPUTS'\n",
    "        elif value == 18:\n",
    "            return \"MATERNITY LEAVE\"\n",
    "        elif value == 96:\n",
    "            return 'OTHER'\n",
    "        else:\n",
    "            return np.nan\n",
    "        \n",
    "clean_columns(working_df, ['why_not_work_last_week'], [recode_why_not_work_last_week])"
   ],
   "metadata": {
    "collapsed": false,
    "ExecuteTime": {
     "end_time": "2024-06-14T01:32:29.553903Z",
     "start_time": "2024-06-14T01:32:29.524789Z"
    }
   },
   "id": "609f3cc1c75157d"
  },
  {
   "cell_type": "code",
   "execution_count": 42,
   "outputs": [
    {
     "data": {
      "text/plain": "               zone  state   lga  sector    ea    hhid  indiv  \\\nindividual_id                                                   \ndb95a04273b3      4      1   115       1   670   10001      1   \n58b6880790bd      4      1   115       1   670   10001      2   \nd2a2b4eb1d80      4      1   115       1   670   10001      3   \n9dadc3d1eff3      4      1   115       1   670   10001      4   \ncd696cdeb3ac      4      1   115       1   670   10001      8   \n...             ...    ...   ...     ...   ...     ...    ...   \n7b559a072842      1     37  3702       1  1102  379155      1   \ne102508752e8      1     37  3702       1  1102  379155      2   \nb93d164cbee8      1     37  3702       1  1102  379155      3   \n621de7851948      1     37  3702       1  1102  379155      4   \nbfb8a7761218      1     37  3702       1  1102  379155    101   \n\n              is_new_household_member is_still_household_member  s2q4  ...  \\\nindividual_id                                                          ...   \ndb95a04273b3                       NO                       YES   NaN  ...   \n58b6880790bd                       NO                       YES   NaN  ...   \nd2a2b4eb1d80                       NO                       YES   NaN  ...   \n9dadc3d1eff3                       NO                       YES   NaN  ...   \ncd696cdeb3ac                       NO                       YES   NaN  ...   \n...                               ...                       ...   ...  ...   \n7b559a072842                       NO                       YES   NaN  ...   \ne102508752e8                       NO                       YES   NaN  ...   \nb93d164cbee8                       NO                       YES   NaN  ...   \n621de7851948                       NO                       YES   NaN  ...   \nbfb8a7761218                       NO                        NO   2.0  ...   \n\n              age_started_working is_employed  s6cq1b_1  s6cq2_1 s6cq3_1  \\\nindividual_id                                                              \ndb95a04273b3                   63         YES       1.0      NaN     NaN   \n58b6880790bd                   42         YES       2.0      5.0     9.0   \nd2a2b4eb1d80                   12         NaN       NaN      NaN     NaN   \n9dadc3d1eff3                   54          NO       NaN      1.0     NaN   \ncd696cdeb3ac                    9         NaN       NaN      NaN     NaN   \n...                           ...         ...       ...      ...     ...   \n7b559a072842                   49         YES       2.0      4.0     4.0   \ne102508752e8                   45         YES       NaN      NaN     NaN   \nb93d164cbee8                    9         NaN       NaN      NaN     NaN   \n621de7851948                    7         NaN       NaN      NaN     NaN   \nbfb8a7761218                 <NA>         NaN       NaN      NaN     NaN   \n\n              s6cq4_1 years_worked_first_job s6cqe3_1  why_left_first_job  \\\nindividual_id                                                               \ndb95a04273b3      3.0                     63      1.0                 NaN   \n58b6880790bd      3.0                     42      1.0                 6.0   \nd2a2b4eb1d80      NaN                     12      NaN                 NaN   \n9dadc3d1eff3      NaN                     54      2.0                 NaN   \ncd696cdeb3ac      NaN                      9      NaN                 NaN   \n...               ...                    ...      ...                 ...   \n7b559a072842      6.0                     49      1.0                 2.0   \ne102508752e8      NaN                     45      1.0                 NaN   \nb93d164cbee8      NaN                      9      NaN                 NaN   \n621de7851948      NaN                      7      NaN                 NaN   \nbfb8a7761218      NaN                   <NA>      NaN                 NaN   \n\n              s6cq6_os_1  \nindividual_id             \ndb95a04273b3         NaN  \n58b6880790bd         NaN  \nd2a2b4eb1d80         NaN  \n9dadc3d1eff3         NaN  \ncd696cdeb3ac         NaN  \n...                  ...  \n7b559a072842         NaN  \ne102508752e8         NaN  \nb93d164cbee8         NaN  \n621de7851948         NaN  \nbfb8a7761218         NaN  \n\n[17627 rows x 55 columns]",
      "text/html": "<div>\n<style scoped>\n    .dataframe tbody tr th:only-of-type {\n        vertical-align: middle;\n    }\n\n    .dataframe tbody tr th {\n        vertical-align: top;\n    }\n\n    .dataframe thead th {\n        text-align: right;\n    }\n</style>\n<table border=\"1\" class=\"dataframe\">\n  <thead>\n    <tr style=\"text-align: right;\">\n      <th></th>\n      <th>zone</th>\n      <th>state</th>\n      <th>lga</th>\n      <th>sector</th>\n      <th>ea</th>\n      <th>hhid</th>\n      <th>indiv</th>\n      <th>is_new_household_member</th>\n      <th>is_still_household_member</th>\n      <th>s2q4</th>\n      <th>...</th>\n      <th>age_started_working</th>\n      <th>is_employed</th>\n      <th>s6cq1b_1</th>\n      <th>s6cq2_1</th>\n      <th>s6cq3_1</th>\n      <th>s6cq4_1</th>\n      <th>years_worked_first_job</th>\n      <th>s6cqe3_1</th>\n      <th>why_left_first_job</th>\n      <th>s6cq6_os_1</th>\n    </tr>\n    <tr>\n      <th>individual_id</th>\n      <th></th>\n      <th></th>\n      <th></th>\n      <th></th>\n      <th></th>\n      <th></th>\n      <th></th>\n      <th></th>\n      <th></th>\n      <th></th>\n      <th></th>\n      <th></th>\n      <th></th>\n      <th></th>\n      <th></th>\n      <th></th>\n      <th></th>\n      <th></th>\n      <th></th>\n      <th></th>\n      <th></th>\n    </tr>\n  </thead>\n  <tbody>\n    <tr>\n      <th>db95a04273b3</th>\n      <td>4</td>\n      <td>1</td>\n      <td>115</td>\n      <td>1</td>\n      <td>670</td>\n      <td>10001</td>\n      <td>1</td>\n      <td>NO</td>\n      <td>YES</td>\n      <td>NaN</td>\n      <td>...</td>\n      <td>63</td>\n      <td>YES</td>\n      <td>1.0</td>\n      <td>NaN</td>\n      <td>NaN</td>\n      <td>3.0</td>\n      <td>63</td>\n      <td>1.0</td>\n      <td>NaN</td>\n      <td>NaN</td>\n    </tr>\n    <tr>\n      <th>58b6880790bd</th>\n      <td>4</td>\n      <td>1</td>\n      <td>115</td>\n      <td>1</td>\n      <td>670</td>\n      <td>10001</td>\n      <td>2</td>\n      <td>NO</td>\n      <td>YES</td>\n      <td>NaN</td>\n      <td>...</td>\n      <td>42</td>\n      <td>YES</td>\n      <td>2.0</td>\n      <td>5.0</td>\n      <td>9.0</td>\n      <td>3.0</td>\n      <td>42</td>\n      <td>1.0</td>\n      <td>6.0</td>\n      <td>NaN</td>\n    </tr>\n    <tr>\n      <th>d2a2b4eb1d80</th>\n      <td>4</td>\n      <td>1</td>\n      <td>115</td>\n      <td>1</td>\n      <td>670</td>\n      <td>10001</td>\n      <td>3</td>\n      <td>NO</td>\n      <td>YES</td>\n      <td>NaN</td>\n      <td>...</td>\n      <td>12</td>\n      <td>NaN</td>\n      <td>NaN</td>\n      <td>NaN</td>\n      <td>NaN</td>\n      <td>NaN</td>\n      <td>12</td>\n      <td>NaN</td>\n      <td>NaN</td>\n      <td>NaN</td>\n    </tr>\n    <tr>\n      <th>9dadc3d1eff3</th>\n      <td>4</td>\n      <td>1</td>\n      <td>115</td>\n      <td>1</td>\n      <td>670</td>\n      <td>10001</td>\n      <td>4</td>\n      <td>NO</td>\n      <td>YES</td>\n      <td>NaN</td>\n      <td>...</td>\n      <td>54</td>\n      <td>NO</td>\n      <td>NaN</td>\n      <td>1.0</td>\n      <td>NaN</td>\n      <td>NaN</td>\n      <td>54</td>\n      <td>2.0</td>\n      <td>NaN</td>\n      <td>NaN</td>\n    </tr>\n    <tr>\n      <th>cd696cdeb3ac</th>\n      <td>4</td>\n      <td>1</td>\n      <td>115</td>\n      <td>1</td>\n      <td>670</td>\n      <td>10001</td>\n      <td>8</td>\n      <td>NO</td>\n      <td>YES</td>\n      <td>NaN</td>\n      <td>...</td>\n      <td>9</td>\n      <td>NaN</td>\n      <td>NaN</td>\n      <td>NaN</td>\n      <td>NaN</td>\n      <td>NaN</td>\n      <td>9</td>\n      <td>NaN</td>\n      <td>NaN</td>\n      <td>NaN</td>\n    </tr>\n    <tr>\n      <th>...</th>\n      <td>...</td>\n      <td>...</td>\n      <td>...</td>\n      <td>...</td>\n      <td>...</td>\n      <td>...</td>\n      <td>...</td>\n      <td>...</td>\n      <td>...</td>\n      <td>...</td>\n      <td>...</td>\n      <td>...</td>\n      <td>...</td>\n      <td>...</td>\n      <td>...</td>\n      <td>...</td>\n      <td>...</td>\n      <td>...</td>\n      <td>...</td>\n      <td>...</td>\n      <td>...</td>\n    </tr>\n    <tr>\n      <th>7b559a072842</th>\n      <td>1</td>\n      <td>37</td>\n      <td>3702</td>\n      <td>1</td>\n      <td>1102</td>\n      <td>379155</td>\n      <td>1</td>\n      <td>NO</td>\n      <td>YES</td>\n      <td>NaN</td>\n      <td>...</td>\n      <td>49</td>\n      <td>YES</td>\n      <td>2.0</td>\n      <td>4.0</td>\n      <td>4.0</td>\n      <td>6.0</td>\n      <td>49</td>\n      <td>1.0</td>\n      <td>2.0</td>\n      <td>NaN</td>\n    </tr>\n    <tr>\n      <th>e102508752e8</th>\n      <td>1</td>\n      <td>37</td>\n      <td>3702</td>\n      <td>1</td>\n      <td>1102</td>\n      <td>379155</td>\n      <td>2</td>\n      <td>NO</td>\n      <td>YES</td>\n      <td>NaN</td>\n      <td>...</td>\n      <td>45</td>\n      <td>YES</td>\n      <td>NaN</td>\n      <td>NaN</td>\n      <td>NaN</td>\n      <td>NaN</td>\n      <td>45</td>\n      <td>1.0</td>\n      <td>NaN</td>\n      <td>NaN</td>\n    </tr>\n    <tr>\n      <th>b93d164cbee8</th>\n      <td>1</td>\n      <td>37</td>\n      <td>3702</td>\n      <td>1</td>\n      <td>1102</td>\n      <td>379155</td>\n      <td>3</td>\n      <td>NO</td>\n      <td>YES</td>\n      <td>NaN</td>\n      <td>...</td>\n      <td>9</td>\n      <td>NaN</td>\n      <td>NaN</td>\n      <td>NaN</td>\n      <td>NaN</td>\n      <td>NaN</td>\n      <td>9</td>\n      <td>NaN</td>\n      <td>NaN</td>\n      <td>NaN</td>\n    </tr>\n    <tr>\n      <th>621de7851948</th>\n      <td>1</td>\n      <td>37</td>\n      <td>3702</td>\n      <td>1</td>\n      <td>1102</td>\n      <td>379155</td>\n      <td>4</td>\n      <td>NO</td>\n      <td>YES</td>\n      <td>NaN</td>\n      <td>...</td>\n      <td>7</td>\n      <td>NaN</td>\n      <td>NaN</td>\n      <td>NaN</td>\n      <td>NaN</td>\n      <td>NaN</td>\n      <td>7</td>\n      <td>NaN</td>\n      <td>NaN</td>\n      <td>NaN</td>\n    </tr>\n    <tr>\n      <th>bfb8a7761218</th>\n      <td>1</td>\n      <td>37</td>\n      <td>3702</td>\n      <td>1</td>\n      <td>1102</td>\n      <td>379155</td>\n      <td>101</td>\n      <td>NO</td>\n      <td>NO</td>\n      <td>2.0</td>\n      <td>...</td>\n      <td>&lt;NA&gt;</td>\n      <td>NaN</td>\n      <td>NaN</td>\n      <td>NaN</td>\n      <td>NaN</td>\n      <td>NaN</td>\n      <td>&lt;NA&gt;</td>\n      <td>NaN</td>\n      <td>NaN</td>\n      <td>NaN</td>\n    </tr>\n  </tbody>\n</table>\n<p>17627 rows × 55 columns</p>\n</div>"
     },
     "execution_count": 42,
     "metadata": {},
     "output_type": "execute_result"
    }
   ],
   "source": [
    "def recode_how_tried_to_earn_pay_last_month(entry):\n",
    "    if math.isnan(entry):\n",
    "        return entry\n",
    "    #If not, recode the variable this way\n",
    "    else:\n",
    "        value = int(entry)\n",
    "        if value == 1:\n",
    "            return \"APPLY TO PROSPECTIVE EMPLOYERS\"\n",
    "        elif value == 2:\n",
    "            return \"ANSWER JOB ADVERTISEMENTS\"\n",
    "        elif value == 3:\n",
    "            return \"STUDY JOB ADVERTISEMENTS\"\n",
    "        elif value == 4:\n",
    "            return \"REGISTER WITH UNEMPLOYMENT CENTER\"\n",
    "        elif value == 5:\n",
    "            return \"REGISTER WITH PRIVATE RECRUITMENT OFFICE\"\n",
    "        elif value == 6:\n",
    "            return \"TAKE A TEST OR INTERVIEDW\"\n",
    "        elif value == 7:\n",
    "            return \"SEEK HELP FROM RELATIVES, FRIENDS, OTHERS\"\n",
    "        elif value == 8:\n",
    "            return 'CHECK AT WORK SITES'\n",
    "        elif value == 9:\n",
    "            return \"WAIT ON TEH STREET TO BE RECRUITED\"\n",
    "        elif value == 10:\n",
    "            return \"SEEK FINANCIAL HELP TO START A BUSINESS\"\n",
    "        elif value == 11:\n",
    "            return \"LOOK FOR NON-FINANCIAL RESOURCES TO START A BUSINESS\"\n",
    "        elif value == 12:\n",
    "            return \"APPLY FOR PERMIT TO START A BUSINESS\"\n",
    "        elif value == 96:\n",
    "            return \"OTHER\"\n",
    "        else:\n",
    "            return np.nan\n",
    "clean_columns(working_df, ['how_tried_to_earn_pay_last_month'], [recode_how_tried_to_earn_pay_last_month])"
   ],
   "metadata": {
    "collapsed": false,
    "ExecuteTime": {
     "end_time": "2024-06-14T01:32:40.545663Z",
     "start_time": "2024-06-14T01:32:40.501963Z"
    }
   },
   "id": "4216da615b00eb2"
  },
  {
   "cell_type": "code",
   "execution_count": 43,
   "outputs": [
    {
     "data": {
      "text/plain": "               zone  state   lga  sector    ea    hhid  indiv  \\\nindividual_id                                                   \ndb95a04273b3      4      1   115       1   670   10001      1   \n58b6880790bd      4      1   115       1   670   10001      2   \nd2a2b4eb1d80      4      1   115       1   670   10001      3   \n9dadc3d1eff3      4      1   115       1   670   10001      4   \ncd696cdeb3ac      4      1   115       1   670   10001      8   \n...             ...    ...   ...     ...   ...     ...    ...   \n7b559a072842      1     37  3702       1  1102  379155      1   \ne102508752e8      1     37  3702       1  1102  379155      2   \nb93d164cbee8      1     37  3702       1  1102  379155      3   \n621de7851948      1     37  3702       1  1102  379155      4   \nbfb8a7761218      1     37  3702       1  1102  379155    101   \n\n              is_new_household_member is_still_household_member  s2q4  ...  \\\nindividual_id                                                          ...   \ndb95a04273b3                       NO                       YES   NaN  ...   \n58b6880790bd                       NO                       YES   NaN  ...   \nd2a2b4eb1d80                       NO                       YES   NaN  ...   \n9dadc3d1eff3                       NO                       YES   NaN  ...   \ncd696cdeb3ac                       NO                       YES   NaN  ...   \n...                               ...                       ...   ...  ...   \n7b559a072842                       NO                       YES   NaN  ...   \ne102508752e8                       NO                       YES   NaN  ...   \nb93d164cbee8                       NO                       YES   NaN  ...   \n621de7851948                       NO                       YES   NaN  ...   \nbfb8a7761218                       NO                        NO   2.0  ...   \n\n              age_started_working is_employed  s6cq1b_1  s6cq2_1 s6cq3_1  \\\nindividual_id                                                              \ndb95a04273b3                   63         YES       1.0      NaN     NaN   \n58b6880790bd                   42         YES       2.0      5.0     9.0   \nd2a2b4eb1d80                   12         NaN       NaN      NaN     NaN   \n9dadc3d1eff3                   54          NO       NaN      1.0     NaN   \ncd696cdeb3ac                    9         NaN       NaN      NaN     NaN   \n...                           ...         ...       ...      ...     ...   \n7b559a072842                   49         YES       2.0      4.0     4.0   \ne102508752e8                   45         YES       NaN      NaN     NaN   \nb93d164cbee8                    9         NaN       NaN      NaN     NaN   \n621de7851948                    7         NaN       NaN      NaN     NaN   \nbfb8a7761218                 <NA>         NaN       NaN      NaN     NaN   \n\n              s6cq4_1 years_worked_first_job s6cqe3_1  why_left_first_job  \\\nindividual_id                                                               \ndb95a04273b3      3.0                     63      1.0                 NaN   \n58b6880790bd      3.0                     42      1.0                 6.0   \nd2a2b4eb1d80      NaN                     12      NaN                 NaN   \n9dadc3d1eff3      NaN                     54      2.0                 NaN   \ncd696cdeb3ac      NaN                      9      NaN                 NaN   \n...               ...                    ...      ...                 ...   \n7b559a072842      6.0                     49      1.0                 2.0   \ne102508752e8      NaN                     45      1.0                 NaN   \nb93d164cbee8      NaN                      9      NaN                 NaN   \n621de7851948      NaN                      7      NaN                 NaN   \nbfb8a7761218      NaN                   <NA>      NaN                 NaN   \n\n              s6cq6_os_1  \nindividual_id             \ndb95a04273b3         NaN  \n58b6880790bd         NaN  \nd2a2b4eb1d80         NaN  \n9dadc3d1eff3         NaN  \ncd696cdeb3ac         NaN  \n...                  ...  \n7b559a072842         NaN  \ne102508752e8         NaN  \nb93d164cbee8         NaN  \n621de7851948         NaN  \nbfb8a7761218         NaN  \n\n[17627 rows x 55 columns]",
      "text/html": "<div>\n<style scoped>\n    .dataframe tbody tr th:only-of-type {\n        vertical-align: middle;\n    }\n\n    .dataframe tbody tr th {\n        vertical-align: top;\n    }\n\n    .dataframe thead th {\n        text-align: right;\n    }\n</style>\n<table border=\"1\" class=\"dataframe\">\n  <thead>\n    <tr style=\"text-align: right;\">\n      <th></th>\n      <th>zone</th>\n      <th>state</th>\n      <th>lga</th>\n      <th>sector</th>\n      <th>ea</th>\n      <th>hhid</th>\n      <th>indiv</th>\n      <th>is_new_household_member</th>\n      <th>is_still_household_member</th>\n      <th>s2q4</th>\n      <th>...</th>\n      <th>age_started_working</th>\n      <th>is_employed</th>\n      <th>s6cq1b_1</th>\n      <th>s6cq2_1</th>\n      <th>s6cq3_1</th>\n      <th>s6cq4_1</th>\n      <th>years_worked_first_job</th>\n      <th>s6cqe3_1</th>\n      <th>why_left_first_job</th>\n      <th>s6cq6_os_1</th>\n    </tr>\n    <tr>\n      <th>individual_id</th>\n      <th></th>\n      <th></th>\n      <th></th>\n      <th></th>\n      <th></th>\n      <th></th>\n      <th></th>\n      <th></th>\n      <th></th>\n      <th></th>\n      <th></th>\n      <th></th>\n      <th></th>\n      <th></th>\n      <th></th>\n      <th></th>\n      <th></th>\n      <th></th>\n      <th></th>\n      <th></th>\n      <th></th>\n    </tr>\n  </thead>\n  <tbody>\n    <tr>\n      <th>db95a04273b3</th>\n      <td>4</td>\n      <td>1</td>\n      <td>115</td>\n      <td>1</td>\n      <td>670</td>\n      <td>10001</td>\n      <td>1</td>\n      <td>NO</td>\n      <td>YES</td>\n      <td>NaN</td>\n      <td>...</td>\n      <td>63</td>\n      <td>YES</td>\n      <td>1.0</td>\n      <td>NaN</td>\n      <td>NaN</td>\n      <td>3.0</td>\n      <td>63</td>\n      <td>1.0</td>\n      <td>NaN</td>\n      <td>NaN</td>\n    </tr>\n    <tr>\n      <th>58b6880790bd</th>\n      <td>4</td>\n      <td>1</td>\n      <td>115</td>\n      <td>1</td>\n      <td>670</td>\n      <td>10001</td>\n      <td>2</td>\n      <td>NO</td>\n      <td>YES</td>\n      <td>NaN</td>\n      <td>...</td>\n      <td>42</td>\n      <td>YES</td>\n      <td>2.0</td>\n      <td>5.0</td>\n      <td>9.0</td>\n      <td>3.0</td>\n      <td>42</td>\n      <td>1.0</td>\n      <td>6.0</td>\n      <td>NaN</td>\n    </tr>\n    <tr>\n      <th>d2a2b4eb1d80</th>\n      <td>4</td>\n      <td>1</td>\n      <td>115</td>\n      <td>1</td>\n      <td>670</td>\n      <td>10001</td>\n      <td>3</td>\n      <td>NO</td>\n      <td>YES</td>\n      <td>NaN</td>\n      <td>...</td>\n      <td>12</td>\n      <td>NaN</td>\n      <td>NaN</td>\n      <td>NaN</td>\n      <td>NaN</td>\n      <td>NaN</td>\n      <td>12</td>\n      <td>NaN</td>\n      <td>NaN</td>\n      <td>NaN</td>\n    </tr>\n    <tr>\n      <th>9dadc3d1eff3</th>\n      <td>4</td>\n      <td>1</td>\n      <td>115</td>\n      <td>1</td>\n      <td>670</td>\n      <td>10001</td>\n      <td>4</td>\n      <td>NO</td>\n      <td>YES</td>\n      <td>NaN</td>\n      <td>...</td>\n      <td>54</td>\n      <td>NO</td>\n      <td>NaN</td>\n      <td>1.0</td>\n      <td>NaN</td>\n      <td>NaN</td>\n      <td>54</td>\n      <td>2.0</td>\n      <td>NaN</td>\n      <td>NaN</td>\n    </tr>\n    <tr>\n      <th>cd696cdeb3ac</th>\n      <td>4</td>\n      <td>1</td>\n      <td>115</td>\n      <td>1</td>\n      <td>670</td>\n      <td>10001</td>\n      <td>8</td>\n      <td>NO</td>\n      <td>YES</td>\n      <td>NaN</td>\n      <td>...</td>\n      <td>9</td>\n      <td>NaN</td>\n      <td>NaN</td>\n      <td>NaN</td>\n      <td>NaN</td>\n      <td>NaN</td>\n      <td>9</td>\n      <td>NaN</td>\n      <td>NaN</td>\n      <td>NaN</td>\n    </tr>\n    <tr>\n      <th>...</th>\n      <td>...</td>\n      <td>...</td>\n      <td>...</td>\n      <td>...</td>\n      <td>...</td>\n      <td>...</td>\n      <td>...</td>\n      <td>...</td>\n      <td>...</td>\n      <td>...</td>\n      <td>...</td>\n      <td>...</td>\n      <td>...</td>\n      <td>...</td>\n      <td>...</td>\n      <td>...</td>\n      <td>...</td>\n      <td>...</td>\n      <td>...</td>\n      <td>...</td>\n      <td>...</td>\n    </tr>\n    <tr>\n      <th>7b559a072842</th>\n      <td>1</td>\n      <td>37</td>\n      <td>3702</td>\n      <td>1</td>\n      <td>1102</td>\n      <td>379155</td>\n      <td>1</td>\n      <td>NO</td>\n      <td>YES</td>\n      <td>NaN</td>\n      <td>...</td>\n      <td>49</td>\n      <td>YES</td>\n      <td>2.0</td>\n      <td>4.0</td>\n      <td>4.0</td>\n      <td>6.0</td>\n      <td>49</td>\n      <td>1.0</td>\n      <td>2.0</td>\n      <td>NaN</td>\n    </tr>\n    <tr>\n      <th>e102508752e8</th>\n      <td>1</td>\n      <td>37</td>\n      <td>3702</td>\n      <td>1</td>\n      <td>1102</td>\n      <td>379155</td>\n      <td>2</td>\n      <td>NO</td>\n      <td>YES</td>\n      <td>NaN</td>\n      <td>...</td>\n      <td>45</td>\n      <td>YES</td>\n      <td>NaN</td>\n      <td>NaN</td>\n      <td>NaN</td>\n      <td>NaN</td>\n      <td>45</td>\n      <td>1.0</td>\n      <td>NaN</td>\n      <td>NaN</td>\n    </tr>\n    <tr>\n      <th>b93d164cbee8</th>\n      <td>1</td>\n      <td>37</td>\n      <td>3702</td>\n      <td>1</td>\n      <td>1102</td>\n      <td>379155</td>\n      <td>3</td>\n      <td>NO</td>\n      <td>YES</td>\n      <td>NaN</td>\n      <td>...</td>\n      <td>9</td>\n      <td>NaN</td>\n      <td>NaN</td>\n      <td>NaN</td>\n      <td>NaN</td>\n      <td>NaN</td>\n      <td>9</td>\n      <td>NaN</td>\n      <td>NaN</td>\n      <td>NaN</td>\n    </tr>\n    <tr>\n      <th>621de7851948</th>\n      <td>1</td>\n      <td>37</td>\n      <td>3702</td>\n      <td>1</td>\n      <td>1102</td>\n      <td>379155</td>\n      <td>4</td>\n      <td>NO</td>\n      <td>YES</td>\n      <td>NaN</td>\n      <td>...</td>\n      <td>7</td>\n      <td>NaN</td>\n      <td>NaN</td>\n      <td>NaN</td>\n      <td>NaN</td>\n      <td>NaN</td>\n      <td>7</td>\n      <td>NaN</td>\n      <td>NaN</td>\n      <td>NaN</td>\n    </tr>\n    <tr>\n      <th>bfb8a7761218</th>\n      <td>1</td>\n      <td>37</td>\n      <td>3702</td>\n      <td>1</td>\n      <td>1102</td>\n      <td>379155</td>\n      <td>101</td>\n      <td>NO</td>\n      <td>NO</td>\n      <td>2.0</td>\n      <td>...</td>\n      <td>&lt;NA&gt;</td>\n      <td>NaN</td>\n      <td>NaN</td>\n      <td>NaN</td>\n      <td>NaN</td>\n      <td>NaN</td>\n      <td>&lt;NA&gt;</td>\n      <td>NaN</td>\n      <td>NaN</td>\n      <td>NaN</td>\n    </tr>\n  </tbody>\n</table>\n<p>17627 rows × 55 columns</p>\n</div>"
     },
     "execution_count": 43,
     "metadata": {},
     "output_type": "execute_result"
    }
   ],
   "source": [
    "def recode_main_activity_of_employers_business_last_week(entry):\n",
    "    if math.isnan(entry):\n",
    "        return entry\n",
    "    #If not, recode the variable this way\n",
    "    else:\n",
    "        value = int(entry)\n",
    "        if value == 1:\n",
    "            return \"AGRICULTURE, HUNTING, FISHING\"\n",
    "        elif value == 2:\n",
    "            return \"MINING, MANUFACTURING\"\n",
    "        elif value == 3:\n",
    "            return \"ELECTRICITY, GAS, WATER SUPPLY\"\n",
    "        elif value == 4:\n",
    "            return \"CONSTRUCTION\"\n",
    "        elif value == 5:\n",
    "            return \"BUYING & SELLING GOODS, REPAIR OF GOODS, HOTELS & RESTAURANTS\"\n",
    "        elif value == 6:\n",
    "            return \"TRANSPORT, DRIVING, POST, TRAVEL AGENCIES\"\n",
    "        elif value == 7:\n",
    "            return \"PROFESSIONAL ACTIVITIES: FINANCE, LEGAL, ANALYSIS, COMPUTER, REAL ESTATE\"\n",
    "        elif value == 8:\n",
    "            return 'PUBLIC ADMINISTRATION'\n",
    "        elif value == 9:\n",
    "            return \"PERSONAL SERVICES, EDUCATION, HEALTH, CULTURE, SPORT, DOMESTIC WORK, OTHER\"\n",
    "        else:\n",
    "            return np.nan\n",
    "clean_columns(working_df, ['main_activity_of_employers_business_last_week'], [recode_main_activity_of_employers_business_last_week])\n",
    "working_df"
   ],
   "metadata": {
    "collapsed": false,
    "ExecuteTime": {
     "end_time": "2024-06-14T01:32:40.796890Z",
     "start_time": "2024-06-14T01:32:40.695165Z"
    }
   },
   "id": "9fba22e061c96d87"
  },
  {
   "cell_type": "markdown",
   "source": [],
   "metadata": {
    "collapsed": false
   },
   "id": "96ea81db7a7c2ffc"
  },
  {
   "cell_type": "code",
   "execution_count": 44,
   "outputs": [
    {
     "data": {
      "text/plain": "               zone  state   lga  sector    ea    hhid  indiv  \\\nindividual_id                                                   \ndb95a04273b3      4      1   115       1   670   10001      1   \n58b6880790bd      4      1   115       1   670   10001      2   \nd2a2b4eb1d80      4      1   115       1   670   10001      3   \n9dadc3d1eff3      4      1   115       1   670   10001      4   \ncd696cdeb3ac      4      1   115       1   670   10001      8   \n...             ...    ...   ...     ...   ...     ...    ...   \n7b559a072842      1     37  3702       1  1102  379155      1   \ne102508752e8      1     37  3702       1  1102  379155      2   \nb93d164cbee8      1     37  3702       1  1102  379155      3   \n621de7851948      1     37  3702       1  1102  379155      4   \nbfb8a7761218      1     37  3702       1  1102  379155    101   \n\n              is_new_household_member is_still_household_member  s2q4  ...  \\\nindividual_id                                                          ...   \ndb95a04273b3                       NO                       YES   NaN  ...   \n58b6880790bd                       NO                       YES   NaN  ...   \nd2a2b4eb1d80                       NO                       YES   NaN  ...   \n9dadc3d1eff3                       NO                       YES   NaN  ...   \ncd696cdeb3ac                       NO                       YES   NaN  ...   \n...                               ...                       ...   ...  ...   \n7b559a072842                       NO                       YES   NaN  ...   \ne102508752e8                       NO                       YES   NaN  ...   \nb93d164cbee8                       NO                       YES   NaN  ...   \n621de7851948                       NO                       YES   NaN  ...   \nbfb8a7761218                       NO                        NO   2.0  ...   \n\n              age_started_working is_employed  s6cq1b_1  s6cq2_1 s6cq3_1  \\\nindividual_id                                                              \ndb95a04273b3                   63         YES       1.0      NaN     NaN   \n58b6880790bd                   42         YES       2.0      5.0     9.0   \nd2a2b4eb1d80                   12         NaN       NaN      NaN     NaN   \n9dadc3d1eff3                   54          NO       NaN      1.0     NaN   \ncd696cdeb3ac                    9         NaN       NaN      NaN     NaN   \n...                           ...         ...       ...      ...     ...   \n7b559a072842                   49         YES       2.0      4.0     4.0   \ne102508752e8                   45         YES       NaN      NaN     NaN   \nb93d164cbee8                    9         NaN       NaN      NaN     NaN   \n621de7851948                    7         NaN       NaN      NaN     NaN   \nbfb8a7761218                 <NA>         NaN       NaN      NaN     NaN   \n\n              s6cq4_1 years_worked_first_job s6cqe3_1  why_left_first_job  \\\nindividual_id                                                               \ndb95a04273b3      3.0                     63      1.0                 NaN   \n58b6880790bd      3.0                     42      1.0                 6.0   \nd2a2b4eb1d80      NaN                     12      NaN                 NaN   \n9dadc3d1eff3      NaN                     54      2.0                 NaN   \ncd696cdeb3ac      NaN                      9      NaN                 NaN   \n...               ...                    ...      ...                 ...   \n7b559a072842      6.0                     49      1.0                 2.0   \ne102508752e8      NaN                     45      1.0                 NaN   \nb93d164cbee8      NaN                      9      NaN                 NaN   \n621de7851948      NaN                      7      NaN                 NaN   \nbfb8a7761218      NaN                   <NA>      NaN                 NaN   \n\n              s6cq6_os_1  \nindividual_id             \ndb95a04273b3         NaN  \n58b6880790bd         NaN  \nd2a2b4eb1d80         NaN  \n9dadc3d1eff3         NaN  \ncd696cdeb3ac         NaN  \n...                  ...  \n7b559a072842         NaN  \ne102508752e8         NaN  \nb93d164cbee8         NaN  \n621de7851948         NaN  \nbfb8a7761218         NaN  \n\n[17627 rows x 55 columns]",
      "text/html": "<div>\n<style scoped>\n    .dataframe tbody tr th:only-of-type {\n        vertical-align: middle;\n    }\n\n    .dataframe tbody tr th {\n        vertical-align: top;\n    }\n\n    .dataframe thead th {\n        text-align: right;\n    }\n</style>\n<table border=\"1\" class=\"dataframe\">\n  <thead>\n    <tr style=\"text-align: right;\">\n      <th></th>\n      <th>zone</th>\n      <th>state</th>\n      <th>lga</th>\n      <th>sector</th>\n      <th>ea</th>\n      <th>hhid</th>\n      <th>indiv</th>\n      <th>is_new_household_member</th>\n      <th>is_still_household_member</th>\n      <th>s2q4</th>\n      <th>...</th>\n      <th>age_started_working</th>\n      <th>is_employed</th>\n      <th>s6cq1b_1</th>\n      <th>s6cq2_1</th>\n      <th>s6cq3_1</th>\n      <th>s6cq4_1</th>\n      <th>years_worked_first_job</th>\n      <th>s6cqe3_1</th>\n      <th>why_left_first_job</th>\n      <th>s6cq6_os_1</th>\n    </tr>\n    <tr>\n      <th>individual_id</th>\n      <th></th>\n      <th></th>\n      <th></th>\n      <th></th>\n      <th></th>\n      <th></th>\n      <th></th>\n      <th></th>\n      <th></th>\n      <th></th>\n      <th></th>\n      <th></th>\n      <th></th>\n      <th></th>\n      <th></th>\n      <th></th>\n      <th></th>\n      <th></th>\n      <th></th>\n      <th></th>\n      <th></th>\n    </tr>\n  </thead>\n  <tbody>\n    <tr>\n      <th>db95a04273b3</th>\n      <td>4</td>\n      <td>1</td>\n      <td>115</td>\n      <td>1</td>\n      <td>670</td>\n      <td>10001</td>\n      <td>1</td>\n      <td>NO</td>\n      <td>YES</td>\n      <td>NaN</td>\n      <td>...</td>\n      <td>63</td>\n      <td>YES</td>\n      <td>1.0</td>\n      <td>NaN</td>\n      <td>NaN</td>\n      <td>3.0</td>\n      <td>63</td>\n      <td>1.0</td>\n      <td>NaN</td>\n      <td>NaN</td>\n    </tr>\n    <tr>\n      <th>58b6880790bd</th>\n      <td>4</td>\n      <td>1</td>\n      <td>115</td>\n      <td>1</td>\n      <td>670</td>\n      <td>10001</td>\n      <td>2</td>\n      <td>NO</td>\n      <td>YES</td>\n      <td>NaN</td>\n      <td>...</td>\n      <td>42</td>\n      <td>YES</td>\n      <td>2.0</td>\n      <td>5.0</td>\n      <td>9.0</td>\n      <td>3.0</td>\n      <td>42</td>\n      <td>1.0</td>\n      <td>6.0</td>\n      <td>NaN</td>\n    </tr>\n    <tr>\n      <th>d2a2b4eb1d80</th>\n      <td>4</td>\n      <td>1</td>\n      <td>115</td>\n      <td>1</td>\n      <td>670</td>\n      <td>10001</td>\n      <td>3</td>\n      <td>NO</td>\n      <td>YES</td>\n      <td>NaN</td>\n      <td>...</td>\n      <td>12</td>\n      <td>NaN</td>\n      <td>NaN</td>\n      <td>NaN</td>\n      <td>NaN</td>\n      <td>NaN</td>\n      <td>12</td>\n      <td>NaN</td>\n      <td>NaN</td>\n      <td>NaN</td>\n    </tr>\n    <tr>\n      <th>9dadc3d1eff3</th>\n      <td>4</td>\n      <td>1</td>\n      <td>115</td>\n      <td>1</td>\n      <td>670</td>\n      <td>10001</td>\n      <td>4</td>\n      <td>NO</td>\n      <td>YES</td>\n      <td>NaN</td>\n      <td>...</td>\n      <td>54</td>\n      <td>NO</td>\n      <td>NaN</td>\n      <td>1.0</td>\n      <td>NaN</td>\n      <td>NaN</td>\n      <td>54</td>\n      <td>2.0</td>\n      <td>NaN</td>\n      <td>NaN</td>\n    </tr>\n    <tr>\n      <th>cd696cdeb3ac</th>\n      <td>4</td>\n      <td>1</td>\n      <td>115</td>\n      <td>1</td>\n      <td>670</td>\n      <td>10001</td>\n      <td>8</td>\n      <td>NO</td>\n      <td>YES</td>\n      <td>NaN</td>\n      <td>...</td>\n      <td>9</td>\n      <td>NaN</td>\n      <td>NaN</td>\n      <td>NaN</td>\n      <td>NaN</td>\n      <td>NaN</td>\n      <td>9</td>\n      <td>NaN</td>\n      <td>NaN</td>\n      <td>NaN</td>\n    </tr>\n    <tr>\n      <th>...</th>\n      <td>...</td>\n      <td>...</td>\n      <td>...</td>\n      <td>...</td>\n      <td>...</td>\n      <td>...</td>\n      <td>...</td>\n      <td>...</td>\n      <td>...</td>\n      <td>...</td>\n      <td>...</td>\n      <td>...</td>\n      <td>...</td>\n      <td>...</td>\n      <td>...</td>\n      <td>...</td>\n      <td>...</td>\n      <td>...</td>\n      <td>...</td>\n      <td>...</td>\n      <td>...</td>\n    </tr>\n    <tr>\n      <th>7b559a072842</th>\n      <td>1</td>\n      <td>37</td>\n      <td>3702</td>\n      <td>1</td>\n      <td>1102</td>\n      <td>379155</td>\n      <td>1</td>\n      <td>NO</td>\n      <td>YES</td>\n      <td>NaN</td>\n      <td>...</td>\n      <td>49</td>\n      <td>YES</td>\n      <td>2.0</td>\n      <td>4.0</td>\n      <td>4.0</td>\n      <td>6.0</td>\n      <td>49</td>\n      <td>1.0</td>\n      <td>2.0</td>\n      <td>NaN</td>\n    </tr>\n    <tr>\n      <th>e102508752e8</th>\n      <td>1</td>\n      <td>37</td>\n      <td>3702</td>\n      <td>1</td>\n      <td>1102</td>\n      <td>379155</td>\n      <td>2</td>\n      <td>NO</td>\n      <td>YES</td>\n      <td>NaN</td>\n      <td>...</td>\n      <td>45</td>\n      <td>YES</td>\n      <td>NaN</td>\n      <td>NaN</td>\n      <td>NaN</td>\n      <td>NaN</td>\n      <td>45</td>\n      <td>1.0</td>\n      <td>NaN</td>\n      <td>NaN</td>\n    </tr>\n    <tr>\n      <th>b93d164cbee8</th>\n      <td>1</td>\n      <td>37</td>\n      <td>3702</td>\n      <td>1</td>\n      <td>1102</td>\n      <td>379155</td>\n      <td>3</td>\n      <td>NO</td>\n      <td>YES</td>\n      <td>NaN</td>\n      <td>...</td>\n      <td>9</td>\n      <td>NaN</td>\n      <td>NaN</td>\n      <td>NaN</td>\n      <td>NaN</td>\n      <td>NaN</td>\n      <td>9</td>\n      <td>NaN</td>\n      <td>NaN</td>\n      <td>NaN</td>\n    </tr>\n    <tr>\n      <th>621de7851948</th>\n      <td>1</td>\n      <td>37</td>\n      <td>3702</td>\n      <td>1</td>\n      <td>1102</td>\n      <td>379155</td>\n      <td>4</td>\n      <td>NO</td>\n      <td>YES</td>\n      <td>NaN</td>\n      <td>...</td>\n      <td>7</td>\n      <td>NaN</td>\n      <td>NaN</td>\n      <td>NaN</td>\n      <td>NaN</td>\n      <td>NaN</td>\n      <td>7</td>\n      <td>NaN</td>\n      <td>NaN</td>\n      <td>NaN</td>\n    </tr>\n    <tr>\n      <th>bfb8a7761218</th>\n      <td>1</td>\n      <td>37</td>\n      <td>3702</td>\n      <td>1</td>\n      <td>1102</td>\n      <td>379155</td>\n      <td>101</td>\n      <td>NO</td>\n      <td>NO</td>\n      <td>2.0</td>\n      <td>...</td>\n      <td>&lt;NA&gt;</td>\n      <td>NaN</td>\n      <td>NaN</td>\n      <td>NaN</td>\n      <td>NaN</td>\n      <td>NaN</td>\n      <td>&lt;NA&gt;</td>\n      <td>NaN</td>\n      <td>NaN</td>\n      <td>NaN</td>\n    </tr>\n  </tbody>\n</table>\n<p>17627 rows × 55 columns</p>\n</div>"
     },
     "execution_count": 44,
     "metadata": {},
     "output_type": "execute_result"
    }
   ],
   "source": [
    "def recode_family_farm_food_fate(entry):\n",
    "    if math.isnan(entry):\n",
    "        return entry\n",
    "    #If not, recode the variable this way\n",
    "    else:\n",
    "        value = int(entry)\n",
    "        if value == 1:\n",
    "            return \"ONLY FOR SALE\"\n",
    "        elif value == 2:\n",
    "            return \"ONLY FOR FAMILY CONSUMPTION\"\n",
    "        elif value == 3:\n",
    "            return \"BOTH FAMILY AND SALE\"\n",
    "        else:\n",
    "            return np.nan\n",
    "clean_columns(working_df, ['family_farm_food_fate'], [recode_family_farm_food_fate])\n",
    "working_df"
   ],
   "metadata": {
    "collapsed": false,
    "ExecuteTime": {
     "end_time": "2024-06-14T01:32:41.112342Z",
     "start_time": "2024-06-14T01:32:41.058765Z"
    }
   },
   "id": "ec73a7dfede398f6"
  },
  {
   "cell_type": "code",
   "execution_count": 45,
   "outputs": [
    {
     "data": {
      "text/plain": "               zone  state   lga  sector    ea    hhid  indiv  \\\nindividual_id                                                   \ndb95a04273b3      4      1   115       1   670   10001      1   \n58b6880790bd      4      1   115       1   670   10001      2   \nd2a2b4eb1d80      4      1   115       1   670   10001      3   \n9dadc3d1eff3      4      1   115       1   670   10001      4   \ncd696cdeb3ac      4      1   115       1   670   10001      8   \n...             ...    ...   ...     ...   ...     ...    ...   \n7b559a072842      1     37  3702       1  1102  379155      1   \ne102508752e8      1     37  3702       1  1102  379155      2   \nb93d164cbee8      1     37  3702       1  1102  379155      3   \n621de7851948      1     37  3702       1  1102  379155      4   \nbfb8a7761218      1     37  3702       1  1102  379155    101   \n\n              is_new_household_member is_still_household_member  s2q4  ...  \\\nindividual_id                                                          ...   \ndb95a04273b3                       NO                       YES   NaN  ...   \n58b6880790bd                       NO                       YES   NaN  ...   \nd2a2b4eb1d80                       NO                       YES   NaN  ...   \n9dadc3d1eff3                       NO                       YES   NaN  ...   \ncd696cdeb3ac                       NO                       YES   NaN  ...   \n...                               ...                       ...   ...  ...   \n7b559a072842                       NO                       YES   NaN  ...   \ne102508752e8                       NO                       YES   NaN  ...   \nb93d164cbee8                       NO                       YES   NaN  ...   \n621de7851948                       NO                       YES   NaN  ...   \nbfb8a7761218                       NO                        NO   2.0  ...   \n\n              age_started_working is_employed  s6cq1b_1  s6cq2_1 s6cq3_1  \\\nindividual_id                                                              \ndb95a04273b3                   63         YES       1.0      NaN     NaN   \n58b6880790bd                   42         YES       2.0      5.0     9.0   \nd2a2b4eb1d80                   12         NaN       NaN      NaN     NaN   \n9dadc3d1eff3                   54          NO       NaN      1.0     NaN   \ncd696cdeb3ac                    9         NaN       NaN      NaN     NaN   \n...                           ...         ...       ...      ...     ...   \n7b559a072842                   49         YES       2.0      4.0     4.0   \ne102508752e8                   45         YES       NaN      NaN     NaN   \nb93d164cbee8                    9         NaN       NaN      NaN     NaN   \n621de7851948                    7         NaN       NaN      NaN     NaN   \nbfb8a7761218                 <NA>         NaN       NaN      NaN     NaN   \n\n              s6cq4_1 years_worked_first_job s6cqe3_1  why_left_first_job  \\\nindividual_id                                                               \ndb95a04273b3      3.0                     63      1.0                 NaN   \n58b6880790bd      3.0                     42      1.0                 6.0   \nd2a2b4eb1d80      NaN                     12      NaN                 NaN   \n9dadc3d1eff3      NaN                     54      2.0                 NaN   \ncd696cdeb3ac      NaN                      9      NaN                 NaN   \n...               ...                    ...      ...                 ...   \n7b559a072842      6.0                     49      1.0                 2.0   \ne102508752e8      NaN                     45      1.0                 NaN   \nb93d164cbee8      NaN                      9      NaN                 NaN   \n621de7851948      NaN                      7      NaN                 NaN   \nbfb8a7761218      NaN                   <NA>      NaN                 NaN   \n\n              s6cq6_os_1  \nindividual_id             \ndb95a04273b3         NaN  \n58b6880790bd         NaN  \nd2a2b4eb1d80         NaN  \n9dadc3d1eff3         NaN  \ncd696cdeb3ac         NaN  \n...                  ...  \n7b559a072842         NaN  \ne102508752e8         NaN  \nb93d164cbee8         NaN  \n621de7851948         NaN  \nbfb8a7761218         NaN  \n\n[17627 rows x 55 columns]",
      "text/html": "<div>\n<style scoped>\n    .dataframe tbody tr th:only-of-type {\n        vertical-align: middle;\n    }\n\n    .dataframe tbody tr th {\n        vertical-align: top;\n    }\n\n    .dataframe thead th {\n        text-align: right;\n    }\n</style>\n<table border=\"1\" class=\"dataframe\">\n  <thead>\n    <tr style=\"text-align: right;\">\n      <th></th>\n      <th>zone</th>\n      <th>state</th>\n      <th>lga</th>\n      <th>sector</th>\n      <th>ea</th>\n      <th>hhid</th>\n      <th>indiv</th>\n      <th>is_new_household_member</th>\n      <th>is_still_household_member</th>\n      <th>s2q4</th>\n      <th>...</th>\n      <th>age_started_working</th>\n      <th>is_employed</th>\n      <th>s6cq1b_1</th>\n      <th>s6cq2_1</th>\n      <th>s6cq3_1</th>\n      <th>s6cq4_1</th>\n      <th>years_worked_first_job</th>\n      <th>s6cqe3_1</th>\n      <th>why_left_first_job</th>\n      <th>s6cq6_os_1</th>\n    </tr>\n    <tr>\n      <th>individual_id</th>\n      <th></th>\n      <th></th>\n      <th></th>\n      <th></th>\n      <th></th>\n      <th></th>\n      <th></th>\n      <th></th>\n      <th></th>\n      <th></th>\n      <th></th>\n      <th></th>\n      <th></th>\n      <th></th>\n      <th></th>\n      <th></th>\n      <th></th>\n      <th></th>\n      <th></th>\n      <th></th>\n      <th></th>\n    </tr>\n  </thead>\n  <tbody>\n    <tr>\n      <th>db95a04273b3</th>\n      <td>4</td>\n      <td>1</td>\n      <td>115</td>\n      <td>1</td>\n      <td>670</td>\n      <td>10001</td>\n      <td>1</td>\n      <td>NO</td>\n      <td>YES</td>\n      <td>NaN</td>\n      <td>...</td>\n      <td>63</td>\n      <td>YES</td>\n      <td>1.0</td>\n      <td>NaN</td>\n      <td>NaN</td>\n      <td>3.0</td>\n      <td>63</td>\n      <td>1.0</td>\n      <td>NaN</td>\n      <td>NaN</td>\n    </tr>\n    <tr>\n      <th>58b6880790bd</th>\n      <td>4</td>\n      <td>1</td>\n      <td>115</td>\n      <td>1</td>\n      <td>670</td>\n      <td>10001</td>\n      <td>2</td>\n      <td>NO</td>\n      <td>YES</td>\n      <td>NaN</td>\n      <td>...</td>\n      <td>42</td>\n      <td>YES</td>\n      <td>2.0</td>\n      <td>5.0</td>\n      <td>9.0</td>\n      <td>3.0</td>\n      <td>42</td>\n      <td>1.0</td>\n      <td>6.0</td>\n      <td>NaN</td>\n    </tr>\n    <tr>\n      <th>d2a2b4eb1d80</th>\n      <td>4</td>\n      <td>1</td>\n      <td>115</td>\n      <td>1</td>\n      <td>670</td>\n      <td>10001</td>\n      <td>3</td>\n      <td>NO</td>\n      <td>YES</td>\n      <td>NaN</td>\n      <td>...</td>\n      <td>12</td>\n      <td>NaN</td>\n      <td>NaN</td>\n      <td>NaN</td>\n      <td>NaN</td>\n      <td>NaN</td>\n      <td>12</td>\n      <td>NaN</td>\n      <td>NaN</td>\n      <td>NaN</td>\n    </tr>\n    <tr>\n      <th>9dadc3d1eff3</th>\n      <td>4</td>\n      <td>1</td>\n      <td>115</td>\n      <td>1</td>\n      <td>670</td>\n      <td>10001</td>\n      <td>4</td>\n      <td>NO</td>\n      <td>YES</td>\n      <td>NaN</td>\n      <td>...</td>\n      <td>54</td>\n      <td>NO</td>\n      <td>NaN</td>\n      <td>1.0</td>\n      <td>NaN</td>\n      <td>NaN</td>\n      <td>54</td>\n      <td>2.0</td>\n      <td>NaN</td>\n      <td>NaN</td>\n    </tr>\n    <tr>\n      <th>cd696cdeb3ac</th>\n      <td>4</td>\n      <td>1</td>\n      <td>115</td>\n      <td>1</td>\n      <td>670</td>\n      <td>10001</td>\n      <td>8</td>\n      <td>NO</td>\n      <td>YES</td>\n      <td>NaN</td>\n      <td>...</td>\n      <td>9</td>\n      <td>NaN</td>\n      <td>NaN</td>\n      <td>NaN</td>\n      <td>NaN</td>\n      <td>NaN</td>\n      <td>9</td>\n      <td>NaN</td>\n      <td>NaN</td>\n      <td>NaN</td>\n    </tr>\n    <tr>\n      <th>...</th>\n      <td>...</td>\n      <td>...</td>\n      <td>...</td>\n      <td>...</td>\n      <td>...</td>\n      <td>...</td>\n      <td>...</td>\n      <td>...</td>\n      <td>...</td>\n      <td>...</td>\n      <td>...</td>\n      <td>...</td>\n      <td>...</td>\n      <td>...</td>\n      <td>...</td>\n      <td>...</td>\n      <td>...</td>\n      <td>...</td>\n      <td>...</td>\n      <td>...</td>\n      <td>...</td>\n    </tr>\n    <tr>\n      <th>7b559a072842</th>\n      <td>1</td>\n      <td>37</td>\n      <td>3702</td>\n      <td>1</td>\n      <td>1102</td>\n      <td>379155</td>\n      <td>1</td>\n      <td>NO</td>\n      <td>YES</td>\n      <td>NaN</td>\n      <td>...</td>\n      <td>49</td>\n      <td>YES</td>\n      <td>2.0</td>\n      <td>4.0</td>\n      <td>4.0</td>\n      <td>6.0</td>\n      <td>49</td>\n      <td>1.0</td>\n      <td>2.0</td>\n      <td>NaN</td>\n    </tr>\n    <tr>\n      <th>e102508752e8</th>\n      <td>1</td>\n      <td>37</td>\n      <td>3702</td>\n      <td>1</td>\n      <td>1102</td>\n      <td>379155</td>\n      <td>2</td>\n      <td>NO</td>\n      <td>YES</td>\n      <td>NaN</td>\n      <td>...</td>\n      <td>45</td>\n      <td>YES</td>\n      <td>NaN</td>\n      <td>NaN</td>\n      <td>NaN</td>\n      <td>NaN</td>\n      <td>45</td>\n      <td>1.0</td>\n      <td>NaN</td>\n      <td>NaN</td>\n    </tr>\n    <tr>\n      <th>b93d164cbee8</th>\n      <td>1</td>\n      <td>37</td>\n      <td>3702</td>\n      <td>1</td>\n      <td>1102</td>\n      <td>379155</td>\n      <td>3</td>\n      <td>NO</td>\n      <td>YES</td>\n      <td>NaN</td>\n      <td>...</td>\n      <td>9</td>\n      <td>NaN</td>\n      <td>NaN</td>\n      <td>NaN</td>\n      <td>NaN</td>\n      <td>NaN</td>\n      <td>9</td>\n      <td>NaN</td>\n      <td>NaN</td>\n      <td>NaN</td>\n    </tr>\n    <tr>\n      <th>621de7851948</th>\n      <td>1</td>\n      <td>37</td>\n      <td>3702</td>\n      <td>1</td>\n      <td>1102</td>\n      <td>379155</td>\n      <td>4</td>\n      <td>NO</td>\n      <td>YES</td>\n      <td>NaN</td>\n      <td>...</td>\n      <td>7</td>\n      <td>NaN</td>\n      <td>NaN</td>\n      <td>NaN</td>\n      <td>NaN</td>\n      <td>NaN</td>\n      <td>7</td>\n      <td>NaN</td>\n      <td>NaN</td>\n      <td>NaN</td>\n    </tr>\n    <tr>\n      <th>bfb8a7761218</th>\n      <td>1</td>\n      <td>37</td>\n      <td>3702</td>\n      <td>1</td>\n      <td>1102</td>\n      <td>379155</td>\n      <td>101</td>\n      <td>NO</td>\n      <td>NO</td>\n      <td>2.0</td>\n      <td>...</td>\n      <td>&lt;NA&gt;</td>\n      <td>NaN</td>\n      <td>NaN</td>\n      <td>NaN</td>\n      <td>NaN</td>\n      <td>NaN</td>\n      <td>&lt;NA&gt;</td>\n      <td>NaN</td>\n      <td>NaN</td>\n      <td>NaN</td>\n    </tr>\n  </tbody>\n</table>\n<p>17627 rows × 55 columns</p>\n</div>"
     },
     "execution_count": 45,
     "metadata": {},
     "output_type": "execute_result"
    }
   ],
   "source": [
    "def recode_hours_worked_last_week_main_business_activity(entry):\n",
    "    if math.isnan(entry) or int(entry) != 998:\n",
    "        return entry\n",
    "    #If not, recode the variable this way\n",
    "    else:\n",
    "        return \"DO NOT KNOW\"\n",
    "    \n",
    "clean_columns(working_df, ['hours_worked_last_week_main_business_activity'], [recode_hours_worked_last_week_main_business_activity])\n",
    "working_df"
   ],
   "metadata": {
    "collapsed": false,
    "ExecuteTime": {
     "end_time": "2024-06-14T01:32:42.083675Z",
     "start_time": "2024-06-14T01:32:42.064904Z"
    }
   },
   "id": "7d4a99df4086b1c9"
  },
  {
   "cell_type": "markdown",
   "source": [],
   "metadata": {
    "collapsed": false
   },
   "id": "7b0bd4a32336164f"
  },
  {
   "cell_type": "code",
   "execution_count": 46,
   "outputs": [
    {
     "data": {
      "text/plain": "               zone  state   lga  sector    ea    hhid  indiv  \\\nindividual_id                                                   \ndb95a04273b3      4      1   115       1   670   10001      1   \n58b6880790bd      4      1   115       1   670   10001      2   \nd2a2b4eb1d80      4      1   115       1   670   10001      3   \n9dadc3d1eff3      4      1   115       1   670   10001      4   \ncd696cdeb3ac      4      1   115       1   670   10001      8   \n...             ...    ...   ...     ...   ...     ...    ...   \n7b559a072842      1     37  3702       1  1102  379155      1   \ne102508752e8      1     37  3702       1  1102  379155      2   \nb93d164cbee8      1     37  3702       1  1102  379155      3   \n621de7851948      1     37  3702       1  1102  379155      4   \nbfb8a7761218      1     37  3702       1  1102  379155    101   \n\n              is_new_household_member is_still_household_member  s2q4  ...  \\\nindividual_id                                                          ...   \ndb95a04273b3                       NO                       YES   NaN  ...   \n58b6880790bd                       NO                       YES   NaN  ...   \nd2a2b4eb1d80                       NO                       YES   NaN  ...   \n9dadc3d1eff3                       NO                       YES   NaN  ...   \ncd696cdeb3ac                       NO                       YES   NaN  ...   \n...                               ...                       ...   ...  ...   \n7b559a072842                       NO                       YES   NaN  ...   \ne102508752e8                       NO                       YES   NaN  ...   \nb93d164cbee8                       NO                       YES   NaN  ...   \n621de7851948                       NO                       YES   NaN  ...   \nbfb8a7761218                       NO                        NO   2.0  ...   \n\n              age_started_working is_employed  s6cq1b_1  s6cq2_1 s6cq3_1  \\\nindividual_id                                                              \ndb95a04273b3                   63         YES       1.0      NaN     NaN   \n58b6880790bd                   42         YES       2.0      5.0     9.0   \nd2a2b4eb1d80                   12         NaN       NaN      NaN     NaN   \n9dadc3d1eff3                   54          NO       NaN      1.0     NaN   \ncd696cdeb3ac                    9         NaN       NaN      NaN     NaN   \n...                           ...         ...       ...      ...     ...   \n7b559a072842                   49         YES       2.0      4.0     4.0   \ne102508752e8                   45         YES       NaN      NaN     NaN   \nb93d164cbee8                    9         NaN       NaN      NaN     NaN   \n621de7851948                    7         NaN       NaN      NaN     NaN   \nbfb8a7761218                 <NA>         NaN       NaN      NaN     NaN   \n\n              s6cq4_1 years_worked_first_job s6cqe3_1  \\\nindividual_id                                           \ndb95a04273b3      3.0                     63      1.0   \n58b6880790bd      3.0                     42      1.0   \nd2a2b4eb1d80      NaN                     12      NaN   \n9dadc3d1eff3      NaN                     54      2.0   \ncd696cdeb3ac      NaN                      9      NaN   \n...               ...                    ...      ...   \n7b559a072842      6.0                     49      1.0   \ne102508752e8      NaN                     45      1.0   \nb93d164cbee8      NaN                      9      NaN   \n621de7851948      NaN                      7      NaN   \nbfb8a7761218      NaN                   <NA>      NaN   \n\n                      why_left_first_job s6cq6_os_1  \nindividual_id                                        \ndb95a04273b3                         NaN        NaN  \n58b6880790bd      TO BETTER MATCH SKILLS        NaN  \nd2a2b4eb1d80                         NaN        NaN  \n9dadc3d1eff3                         NaN        NaN  \ncd696cdeb3ac                         NaN        NaN  \n...                                  ...        ...  \n7b559a072842   TO HAVE A BETTER PAID JOB        NaN  \ne102508752e8                         NaN        NaN  \nb93d164cbee8                         NaN        NaN  \n621de7851948                         NaN        NaN  \nbfb8a7761218                         NaN        NaN  \n\n[17627 rows x 55 columns]",
      "text/html": "<div>\n<style scoped>\n    .dataframe tbody tr th:only-of-type {\n        vertical-align: middle;\n    }\n\n    .dataframe tbody tr th {\n        vertical-align: top;\n    }\n\n    .dataframe thead th {\n        text-align: right;\n    }\n</style>\n<table border=\"1\" class=\"dataframe\">\n  <thead>\n    <tr style=\"text-align: right;\">\n      <th></th>\n      <th>zone</th>\n      <th>state</th>\n      <th>lga</th>\n      <th>sector</th>\n      <th>ea</th>\n      <th>hhid</th>\n      <th>indiv</th>\n      <th>is_new_household_member</th>\n      <th>is_still_household_member</th>\n      <th>s2q4</th>\n      <th>...</th>\n      <th>age_started_working</th>\n      <th>is_employed</th>\n      <th>s6cq1b_1</th>\n      <th>s6cq2_1</th>\n      <th>s6cq3_1</th>\n      <th>s6cq4_1</th>\n      <th>years_worked_first_job</th>\n      <th>s6cqe3_1</th>\n      <th>why_left_first_job</th>\n      <th>s6cq6_os_1</th>\n    </tr>\n    <tr>\n      <th>individual_id</th>\n      <th></th>\n      <th></th>\n      <th></th>\n      <th></th>\n      <th></th>\n      <th></th>\n      <th></th>\n      <th></th>\n      <th></th>\n      <th></th>\n      <th></th>\n      <th></th>\n      <th></th>\n      <th></th>\n      <th></th>\n      <th></th>\n      <th></th>\n      <th></th>\n      <th></th>\n      <th></th>\n      <th></th>\n    </tr>\n  </thead>\n  <tbody>\n    <tr>\n      <th>db95a04273b3</th>\n      <td>4</td>\n      <td>1</td>\n      <td>115</td>\n      <td>1</td>\n      <td>670</td>\n      <td>10001</td>\n      <td>1</td>\n      <td>NO</td>\n      <td>YES</td>\n      <td>NaN</td>\n      <td>...</td>\n      <td>63</td>\n      <td>YES</td>\n      <td>1.0</td>\n      <td>NaN</td>\n      <td>NaN</td>\n      <td>3.0</td>\n      <td>63</td>\n      <td>1.0</td>\n      <td>NaN</td>\n      <td>NaN</td>\n    </tr>\n    <tr>\n      <th>58b6880790bd</th>\n      <td>4</td>\n      <td>1</td>\n      <td>115</td>\n      <td>1</td>\n      <td>670</td>\n      <td>10001</td>\n      <td>2</td>\n      <td>NO</td>\n      <td>YES</td>\n      <td>NaN</td>\n      <td>...</td>\n      <td>42</td>\n      <td>YES</td>\n      <td>2.0</td>\n      <td>5.0</td>\n      <td>9.0</td>\n      <td>3.0</td>\n      <td>42</td>\n      <td>1.0</td>\n      <td>TO BETTER MATCH SKILLS</td>\n      <td>NaN</td>\n    </tr>\n    <tr>\n      <th>d2a2b4eb1d80</th>\n      <td>4</td>\n      <td>1</td>\n      <td>115</td>\n      <td>1</td>\n      <td>670</td>\n      <td>10001</td>\n      <td>3</td>\n      <td>NO</td>\n      <td>YES</td>\n      <td>NaN</td>\n      <td>...</td>\n      <td>12</td>\n      <td>NaN</td>\n      <td>NaN</td>\n      <td>NaN</td>\n      <td>NaN</td>\n      <td>NaN</td>\n      <td>12</td>\n      <td>NaN</td>\n      <td>NaN</td>\n      <td>NaN</td>\n    </tr>\n    <tr>\n      <th>9dadc3d1eff3</th>\n      <td>4</td>\n      <td>1</td>\n      <td>115</td>\n      <td>1</td>\n      <td>670</td>\n      <td>10001</td>\n      <td>4</td>\n      <td>NO</td>\n      <td>YES</td>\n      <td>NaN</td>\n      <td>...</td>\n      <td>54</td>\n      <td>NO</td>\n      <td>NaN</td>\n      <td>1.0</td>\n      <td>NaN</td>\n      <td>NaN</td>\n      <td>54</td>\n      <td>2.0</td>\n      <td>NaN</td>\n      <td>NaN</td>\n    </tr>\n    <tr>\n      <th>cd696cdeb3ac</th>\n      <td>4</td>\n      <td>1</td>\n      <td>115</td>\n      <td>1</td>\n      <td>670</td>\n      <td>10001</td>\n      <td>8</td>\n      <td>NO</td>\n      <td>YES</td>\n      <td>NaN</td>\n      <td>...</td>\n      <td>9</td>\n      <td>NaN</td>\n      <td>NaN</td>\n      <td>NaN</td>\n      <td>NaN</td>\n      <td>NaN</td>\n      <td>9</td>\n      <td>NaN</td>\n      <td>NaN</td>\n      <td>NaN</td>\n    </tr>\n    <tr>\n      <th>...</th>\n      <td>...</td>\n      <td>...</td>\n      <td>...</td>\n      <td>...</td>\n      <td>...</td>\n      <td>...</td>\n      <td>...</td>\n      <td>...</td>\n      <td>...</td>\n      <td>...</td>\n      <td>...</td>\n      <td>...</td>\n      <td>...</td>\n      <td>...</td>\n      <td>...</td>\n      <td>...</td>\n      <td>...</td>\n      <td>...</td>\n      <td>...</td>\n      <td>...</td>\n      <td>...</td>\n    </tr>\n    <tr>\n      <th>7b559a072842</th>\n      <td>1</td>\n      <td>37</td>\n      <td>3702</td>\n      <td>1</td>\n      <td>1102</td>\n      <td>379155</td>\n      <td>1</td>\n      <td>NO</td>\n      <td>YES</td>\n      <td>NaN</td>\n      <td>...</td>\n      <td>49</td>\n      <td>YES</td>\n      <td>2.0</td>\n      <td>4.0</td>\n      <td>4.0</td>\n      <td>6.0</td>\n      <td>49</td>\n      <td>1.0</td>\n      <td>TO HAVE A BETTER PAID JOB</td>\n      <td>NaN</td>\n    </tr>\n    <tr>\n      <th>e102508752e8</th>\n      <td>1</td>\n      <td>37</td>\n      <td>3702</td>\n      <td>1</td>\n      <td>1102</td>\n      <td>379155</td>\n      <td>2</td>\n      <td>NO</td>\n      <td>YES</td>\n      <td>NaN</td>\n      <td>...</td>\n      <td>45</td>\n      <td>YES</td>\n      <td>NaN</td>\n      <td>NaN</td>\n      <td>NaN</td>\n      <td>NaN</td>\n      <td>45</td>\n      <td>1.0</td>\n      <td>NaN</td>\n      <td>NaN</td>\n    </tr>\n    <tr>\n      <th>b93d164cbee8</th>\n      <td>1</td>\n      <td>37</td>\n      <td>3702</td>\n      <td>1</td>\n      <td>1102</td>\n      <td>379155</td>\n      <td>3</td>\n      <td>NO</td>\n      <td>YES</td>\n      <td>NaN</td>\n      <td>...</td>\n      <td>9</td>\n      <td>NaN</td>\n      <td>NaN</td>\n      <td>NaN</td>\n      <td>NaN</td>\n      <td>NaN</td>\n      <td>9</td>\n      <td>NaN</td>\n      <td>NaN</td>\n      <td>NaN</td>\n    </tr>\n    <tr>\n      <th>621de7851948</th>\n      <td>1</td>\n      <td>37</td>\n      <td>3702</td>\n      <td>1</td>\n      <td>1102</td>\n      <td>379155</td>\n      <td>4</td>\n      <td>NO</td>\n      <td>YES</td>\n      <td>NaN</td>\n      <td>...</td>\n      <td>7</td>\n      <td>NaN</td>\n      <td>NaN</td>\n      <td>NaN</td>\n      <td>NaN</td>\n      <td>NaN</td>\n      <td>7</td>\n      <td>NaN</td>\n      <td>NaN</td>\n      <td>NaN</td>\n    </tr>\n    <tr>\n      <th>bfb8a7761218</th>\n      <td>1</td>\n      <td>37</td>\n      <td>3702</td>\n      <td>1</td>\n      <td>1102</td>\n      <td>379155</td>\n      <td>101</td>\n      <td>NO</td>\n      <td>NO</td>\n      <td>2.0</td>\n      <td>...</td>\n      <td>&lt;NA&gt;</td>\n      <td>NaN</td>\n      <td>NaN</td>\n      <td>NaN</td>\n      <td>NaN</td>\n      <td>NaN</td>\n      <td>&lt;NA&gt;</td>\n      <td>NaN</td>\n      <td>NaN</td>\n      <td>NaN</td>\n    </tr>\n  </tbody>\n</table>\n<p>17627 rows × 55 columns</p>\n</div>"
     },
     "execution_count": 46,
     "metadata": {},
     "output_type": "execute_result"
    }
   ],
   "source": [
    "def recode_why_left_first_job(entry):\n",
    "    if math.isnan(entry):\n",
    "        return entry\n",
    "    #If not, recode the variable this way\n",
    "    else:\n",
    "        value = int(entry)\n",
    "        if value == 1:\n",
    "            return \"TEMPORARY CONTRACT\"\n",
    "        elif value == 2:\n",
    "            return \"TO HAVE A BETTER PAID JOB\"\n",
    "        elif value == 3:\n",
    "            return \"TO HAVE MORE CLIENTS OR BUSINESS\"\n",
    "        elif value == 4:\n",
    "            return \"TO WORK MORE HOURS\"\n",
    "        elif value == 5:\n",
    "            return \"TO WORK FEWER HOURS\"\n",
    "        elif value == 6:\n",
    "            return \"TO BETTER MATCH SKILLS\"\n",
    "        elif value == 7:\n",
    "            return \"TO WORK CLOSER TO HOME\"\n",
    "        elif value == 8:\n",
    "            return \"TO IMPROVE OTHER WORKING CONDITIONS\"  \n",
    "        elif value == 9:\n",
    "            return \"LAID OFF\"\n",
    "        elif value == 10:\n",
    "            return \"BUSINESS CLOSED\"\n",
    "        elif value == 11:\n",
    "            return \"TO RELOCATE\"        \n",
    "        elif value == 12:\n",
    "            return \"TO STUDY OR GAIN NEW SKILLS\"      \n",
    "        elif value == 96:\n",
    "            return \"OTHER\"\n",
    "        else:\n",
    "            return np.nan\n",
    "clean_columns(working_df, ['why_left_first_job'], [recode_why_left_first_job])\n",
    "working_df"
   ],
   "metadata": {
    "collapsed": false,
    "ExecuteTime": {
     "end_time": "2024-06-14T01:37:33.147846Z",
     "start_time": "2024-06-14T01:37:33.125335Z"
    }
   },
   "id": "4f55d28552a468a0"
  },
  {
   "cell_type": "code",
   "execution_count": 48,
   "outputs": [
    {
     "data": {
      "text/plain": "'p2r8_sect_2.csv'"
     },
     "execution_count": 48,
     "metadata": {},
     "output_type": "execute_result"
    }
   ],
   "source": [
    "working_df = dfs[2][0]\n",
    "working_df_name = dfs[2][1]\n",
    "working_df_name"
   ],
   "metadata": {
    "collapsed": false,
    "ExecuteTime": {
     "end_time": "2024-06-14T12:04:39.125239Z",
     "start_time": "2024-06-14T12:04:39.110302Z"
    }
   },
   "id": "56391c39e6781517"
  },
  {
   "cell_type": "code",
   "execution_count": 49,
   "outputs": [
    {
     "data": {
      "text/plain": "               zone  state   lga  sector    ea    hhid  indiv  s2q2  s2q3  \\\nindividual_id                                                               \ndb95a04273b3      4      1   115       1   670   10001      1     2   1.0   \n58b6880790bd      4      1   115       1   670   10001      2     2   1.0   \nd2a2b4eb1d80      4      1   115       1   670   10001      3     2   1.0   \n9dadc3d1eff3      4      1   115       1   670   10001      4     2   1.0   \ncd696cdeb3ac      4      1   115       1   670   10001      8     2   1.0   \n...             ...    ...   ...     ...   ...     ...    ...   ...   ...   \n7b559a072842      1     37  3702       1  1102  379155      1     2   1.0   \ne102508752e8      1     37  3702       1  1102  379155      2     2   1.0   \nb93d164cbee8      1     37  3702       1  1102  379155      3     2   1.0   \n621de7851948      1     37  3702       1  1102  379155      4     2   1.0   \nbfb8a7761218      1     37  3702       1  1102  379155    101     2   1.0   \n\n               s2q4 s2q4_os  s2q5  s2q6  s2q7a  s2q7 s2q7_os  s2q8 s2q8_os  \\\nindividual_id                                                                \ndb95a04273b3    NaN     NaN   1.0  63.0      1   1.0     NaN   NaN     NaN   \n58b6880790bd    NaN     NaN   2.0  59.0      1   2.0     NaN   NaN     NaN   \nd2a2b4eb1d80    NaN     NaN   2.0  13.0      1   3.0     NaN   NaN     NaN   \n9dadc3d1eff3    NaN     NaN   2.0  54.0      1  12.0     NaN   NaN     NaN   \ncd696cdeb3ac    NaN     NaN   1.0  10.0      1   3.0     NaN   NaN     NaN   \n...             ...     ...   ...   ...    ...   ...     ...   ...     ...   \n7b559a072842    NaN     NaN   1.0  49.0      1   1.0     NaN   NaN     NaN   \ne102508752e8    NaN     NaN   2.0  45.0      1   2.0     NaN   NaN     NaN   \nb93d164cbee8    NaN     NaN   2.0   9.0      1   3.0     NaN   NaN     NaN   \n621de7851948    NaN     NaN   1.0   7.0      1   3.0     NaN   NaN     NaN   \nbfb8a7761218    NaN     NaN   2.0  22.0      1   8.0     NaN   NaN     NaN   \n\n               s2q9 s2q9_os  \nindividual_id                \ndb95a04273b3    NaN     NaN  \n58b6880790bd    NaN     NaN  \nd2a2b4eb1d80    NaN     NaN  \n9dadc3d1eff3    NaN     NaN  \ncd696cdeb3ac    NaN     NaN  \n...             ...     ...  \n7b559a072842    NaN     NaN  \ne102508752e8    NaN     NaN  \nb93d164cbee8    NaN     NaN  \n621de7851948    NaN     NaN  \nbfb8a7761218    NaN     NaN  \n\n[16374 rows x 20 columns]",
      "text/html": "<div>\n<style scoped>\n    .dataframe tbody tr th:only-of-type {\n        vertical-align: middle;\n    }\n\n    .dataframe tbody tr th {\n        vertical-align: top;\n    }\n\n    .dataframe thead th {\n        text-align: right;\n    }\n</style>\n<table border=\"1\" class=\"dataframe\">\n  <thead>\n    <tr style=\"text-align: right;\">\n      <th></th>\n      <th>zone</th>\n      <th>state</th>\n      <th>lga</th>\n      <th>sector</th>\n      <th>ea</th>\n      <th>hhid</th>\n      <th>indiv</th>\n      <th>s2q2</th>\n      <th>s2q3</th>\n      <th>s2q4</th>\n      <th>s2q4_os</th>\n      <th>s2q5</th>\n      <th>s2q6</th>\n      <th>s2q7a</th>\n      <th>s2q7</th>\n      <th>s2q7_os</th>\n      <th>s2q8</th>\n      <th>s2q8_os</th>\n      <th>s2q9</th>\n      <th>s2q9_os</th>\n    </tr>\n    <tr>\n      <th>individual_id</th>\n      <th></th>\n      <th></th>\n      <th></th>\n      <th></th>\n      <th></th>\n      <th></th>\n      <th></th>\n      <th></th>\n      <th></th>\n      <th></th>\n      <th></th>\n      <th></th>\n      <th></th>\n      <th></th>\n      <th></th>\n      <th></th>\n      <th></th>\n      <th></th>\n      <th></th>\n      <th></th>\n    </tr>\n  </thead>\n  <tbody>\n    <tr>\n      <th>db95a04273b3</th>\n      <td>4</td>\n      <td>1</td>\n      <td>115</td>\n      <td>1</td>\n      <td>670</td>\n      <td>10001</td>\n      <td>1</td>\n      <td>2</td>\n      <td>1.0</td>\n      <td>NaN</td>\n      <td>NaN</td>\n      <td>1.0</td>\n      <td>63.0</td>\n      <td>1</td>\n      <td>1.0</td>\n      <td>NaN</td>\n      <td>NaN</td>\n      <td>NaN</td>\n      <td>NaN</td>\n      <td>NaN</td>\n    </tr>\n    <tr>\n      <th>58b6880790bd</th>\n      <td>4</td>\n      <td>1</td>\n      <td>115</td>\n      <td>1</td>\n      <td>670</td>\n      <td>10001</td>\n      <td>2</td>\n      <td>2</td>\n      <td>1.0</td>\n      <td>NaN</td>\n      <td>NaN</td>\n      <td>2.0</td>\n      <td>59.0</td>\n      <td>1</td>\n      <td>2.0</td>\n      <td>NaN</td>\n      <td>NaN</td>\n      <td>NaN</td>\n      <td>NaN</td>\n      <td>NaN</td>\n    </tr>\n    <tr>\n      <th>d2a2b4eb1d80</th>\n      <td>4</td>\n      <td>1</td>\n      <td>115</td>\n      <td>1</td>\n      <td>670</td>\n      <td>10001</td>\n      <td>3</td>\n      <td>2</td>\n      <td>1.0</td>\n      <td>NaN</td>\n      <td>NaN</td>\n      <td>2.0</td>\n      <td>13.0</td>\n      <td>1</td>\n      <td>3.0</td>\n      <td>NaN</td>\n      <td>NaN</td>\n      <td>NaN</td>\n      <td>NaN</td>\n      <td>NaN</td>\n    </tr>\n    <tr>\n      <th>9dadc3d1eff3</th>\n      <td>4</td>\n      <td>1</td>\n      <td>115</td>\n      <td>1</td>\n      <td>670</td>\n      <td>10001</td>\n      <td>4</td>\n      <td>2</td>\n      <td>1.0</td>\n      <td>NaN</td>\n      <td>NaN</td>\n      <td>2.0</td>\n      <td>54.0</td>\n      <td>1</td>\n      <td>12.0</td>\n      <td>NaN</td>\n      <td>NaN</td>\n      <td>NaN</td>\n      <td>NaN</td>\n      <td>NaN</td>\n    </tr>\n    <tr>\n      <th>cd696cdeb3ac</th>\n      <td>4</td>\n      <td>1</td>\n      <td>115</td>\n      <td>1</td>\n      <td>670</td>\n      <td>10001</td>\n      <td>8</td>\n      <td>2</td>\n      <td>1.0</td>\n      <td>NaN</td>\n      <td>NaN</td>\n      <td>1.0</td>\n      <td>10.0</td>\n      <td>1</td>\n      <td>3.0</td>\n      <td>NaN</td>\n      <td>NaN</td>\n      <td>NaN</td>\n      <td>NaN</td>\n      <td>NaN</td>\n    </tr>\n    <tr>\n      <th>...</th>\n      <td>...</td>\n      <td>...</td>\n      <td>...</td>\n      <td>...</td>\n      <td>...</td>\n      <td>...</td>\n      <td>...</td>\n      <td>...</td>\n      <td>...</td>\n      <td>...</td>\n      <td>...</td>\n      <td>...</td>\n      <td>...</td>\n      <td>...</td>\n      <td>...</td>\n      <td>...</td>\n      <td>...</td>\n      <td>...</td>\n      <td>...</td>\n      <td>...</td>\n    </tr>\n    <tr>\n      <th>7b559a072842</th>\n      <td>1</td>\n      <td>37</td>\n      <td>3702</td>\n      <td>1</td>\n      <td>1102</td>\n      <td>379155</td>\n      <td>1</td>\n      <td>2</td>\n      <td>1.0</td>\n      <td>NaN</td>\n      <td>NaN</td>\n      <td>1.0</td>\n      <td>49.0</td>\n      <td>1</td>\n      <td>1.0</td>\n      <td>NaN</td>\n      <td>NaN</td>\n      <td>NaN</td>\n      <td>NaN</td>\n      <td>NaN</td>\n    </tr>\n    <tr>\n      <th>e102508752e8</th>\n      <td>1</td>\n      <td>37</td>\n      <td>3702</td>\n      <td>1</td>\n      <td>1102</td>\n      <td>379155</td>\n      <td>2</td>\n      <td>2</td>\n      <td>1.0</td>\n      <td>NaN</td>\n      <td>NaN</td>\n      <td>2.0</td>\n      <td>45.0</td>\n      <td>1</td>\n      <td>2.0</td>\n      <td>NaN</td>\n      <td>NaN</td>\n      <td>NaN</td>\n      <td>NaN</td>\n      <td>NaN</td>\n    </tr>\n    <tr>\n      <th>b93d164cbee8</th>\n      <td>1</td>\n      <td>37</td>\n      <td>3702</td>\n      <td>1</td>\n      <td>1102</td>\n      <td>379155</td>\n      <td>3</td>\n      <td>2</td>\n      <td>1.0</td>\n      <td>NaN</td>\n      <td>NaN</td>\n      <td>2.0</td>\n      <td>9.0</td>\n      <td>1</td>\n      <td>3.0</td>\n      <td>NaN</td>\n      <td>NaN</td>\n      <td>NaN</td>\n      <td>NaN</td>\n      <td>NaN</td>\n    </tr>\n    <tr>\n      <th>621de7851948</th>\n      <td>1</td>\n      <td>37</td>\n      <td>3702</td>\n      <td>1</td>\n      <td>1102</td>\n      <td>379155</td>\n      <td>4</td>\n      <td>2</td>\n      <td>1.0</td>\n      <td>NaN</td>\n      <td>NaN</td>\n      <td>1.0</td>\n      <td>7.0</td>\n      <td>1</td>\n      <td>3.0</td>\n      <td>NaN</td>\n      <td>NaN</td>\n      <td>NaN</td>\n      <td>NaN</td>\n      <td>NaN</td>\n    </tr>\n    <tr>\n      <th>bfb8a7761218</th>\n      <td>1</td>\n      <td>37</td>\n      <td>3702</td>\n      <td>1</td>\n      <td>1102</td>\n      <td>379155</td>\n      <td>101</td>\n      <td>2</td>\n      <td>1.0</td>\n      <td>NaN</td>\n      <td>NaN</td>\n      <td>2.0</td>\n      <td>22.0</td>\n      <td>1</td>\n      <td>8.0</td>\n      <td>NaN</td>\n      <td>NaN</td>\n      <td>NaN</td>\n      <td>NaN</td>\n      <td>NaN</td>\n    </tr>\n  </tbody>\n</table>\n<p>16374 rows × 20 columns</p>\n</div>"
     },
     "execution_count": 49,
     "metadata": {},
     "output_type": "execute_result"
    }
   ],
   "source": [
    "working_df "
   ],
   "metadata": {
    "collapsed": false,
    "ExecuteTime": {
     "end_time": "2024-06-14T12:04:47.846126Z",
     "start_time": "2024-06-14T12:04:47.833209Z"
    }
   },
   "id": "ed1a5441746d9bbf"
  },
  {
   "cell_type": "code",
   "execution_count": null,
   "outputs": [],
   "source": [
    "working_df = dfs[3][0]\n",
    "working_df_name = dfs[3][1]\n",
    "working_df_name"
   ],
   "metadata": {
    "collapsed": false
   },
   "id": "c8e316dabab8d00f"
  },
  {
   "cell_type": "markdown",
   "source": [],
   "metadata": {
    "collapsed": false
   },
   "id": "de060376179062fd"
  }
 ],
 "metadata": {
  "kernelspec": {
   "display_name": "Python 3",
   "language": "python",
   "name": "python3"
  },
  "language_info": {
   "codemirror_mode": {
    "name": "ipython",
    "version": 2
   },
   "file_extension": ".py",
   "mimetype": "text/x-python",
   "name": "python",
   "nbconvert_exporter": "python",
   "pygments_lexer": "ipython2",
   "version": "2.7.6"
  }
 },
 "nbformat": 4,
 "nbformat_minor": 5
}
