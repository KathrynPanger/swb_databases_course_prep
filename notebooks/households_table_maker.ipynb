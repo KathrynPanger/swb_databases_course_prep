{
 "cells": [
  {
   "cell_type": "code",
   "execution_count": 1,
   "id": "initial_id",
   "metadata": {
    "collapsed": true,
    "ExecuteTime": {
     "end_time": "2024-06-27T01:45:54.787562Z",
     "start_time": "2024-06-27T01:45:54.515837Z"
    }
   },
   "outputs": [],
   "source": [
    "import pandas as pd\n",
    "import os\n",
    "import random\n",
    "import math\n",
    "import uuid\n",
    "from typing import Optional\n",
    "from collections.abc import Callable\n",
    "from cleaning_functions.clean_csv import *\n",
    "from cleaning_functions.recode_households import *\n",
    "import numpy as np"
   ]
  },
  {
   "cell_type": "code",
   "execution_count": 2,
   "outputs": [],
   "source": [
    "variables_to_renames = {\n",
    "    \"hhid\" : \"household_id\",\n",
    "    \"lga\" : \"lga_id\",\n",
    "    \"s2q0a\": \"someone_left\",\n",
    "    \"s2q0b\": \"someone_joined\",\n",
    "    \"s2aq0a\": \"household_stil_in_state\",\n",
    "    \"s2bq0a\": \"someone_moved_away\",\n",
    "    \"s5fq3\": \"health_services_last_month\",\n",
    "    \"s5gq0\": \"bought_petrol_ever\",\n",
    "    \"s5gq1\": \"when_bought_petrol\",\n",
    "    \"s5gq3\": \"liters_petrol_last_bought\",\n",
    "    \"s5gq4\": \"cost_of_petrol_last_bought\",\n",
    "    \"s5gq5\": \"changed_price_of_petrol_last_month\",\n",
    "    \"s11cq1\": \"food_consumption_last_month\",\n",
    "    \"s11cq2\": \"housing_last_month\",\n",
    "    \"s11cq3\": \"clothing_last_month\",\n",
    "    \"s11cq4\": \"healthcare_standard_last_month\",\n",
    "    \"s11cq5\": \"how_getting_by_financially\",  \n",
    "}"
   ],
   "metadata": {
    "collapsed": false,
    "ExecuteTime": {
     "end_time": "2024-06-27T01:45:55.334869Z",
     "start_time": "2024-06-27T01:45:55.330083Z"
    }
   },
   "id": "5b03f63c532f927"
  },
  {
   "cell_type": "code",
   "execution_count": 3,
   "outputs": [],
   "source": [
    "variables_to_recodes = {\n",
    "    \"someone_left\": recode_binary,\n",
    "    \"someone_joined\": recode_binary,\n",
    "    \"household_stil_in_state\": recode_binary,\n",
    "    \"someone_moved_away\": recode_binary,\n",
    "    \"health_services_last_month\": recode_binary,\n",
    "    \"bought_petrol_ever\": recode_binary,\n",
    "    \"when_bought_petrol\": recode_when_bought_petrol,\n",
    "#    \"liters_petrol_last_bought\": recode_liters_petrol_last_bought,\n",
    "#    \"cost_of_petrol_last_bought\": recode_cost_of_petrol_last_bought,\n",
    "    \"changed_price_of_petrol_last_month\": recode_changed_price_of_petrol_last_month,\n",
    "    \"food_consumption_last_month\": recode_adequate_last_month,\n",
    "    \"housing_last_month\": recode_adequate_last_month,\n",
    "    \"clothing_last_month\": recode_adequate_last_month,\n",
    "    \"healthcare_standard_last_month\": recode_adequate_healthcare_last_month,\n",
    "    \"how_getting_by_financially\": recode_how_getting_by_financially,  \n",
    "}"
   ],
   "metadata": {
    "collapsed": false,
    "ExecuteTime": {
     "end_time": "2024-06-27T01:45:56.531698Z",
     "start_time": "2024-06-27T01:45:56.525356Z"
    }
   },
   "id": "9b3dacbe4f4a228b"
  },
  {
   "cell_type": "code",
   "execution_count": 4,
   "outputs": [
    {
     "name": "stderr",
     "output_type": "stream",
     "text": [
      "/var/folders/lw/jy_c2z0x221fsb78kk1_h2800000gn/T/ipykernel_82554/2509650888.py:7: DtypeWarning: Columns (10,17) have mixed types. Specify dtype option on import or set low_memory=False.\n",
      "  df = pd.read_csv(path_to_files + \"/\" + file_name)\n",
      "/var/folders/lw/jy_c2z0x221fsb78kk1_h2800000gn/T/ipykernel_82554/2509650888.py:7: DtypeWarning: Columns (16,36,82) have mixed types. Specify dtype option on import or set low_memory=False.\n",
      "  df = pd.read_csv(path_to_files + \"/\" + file_name)\n",
      "/var/folders/lw/jy_c2z0x221fsb78kk1_h2800000gn/T/ipykernel_82554/2509650888.py:7: DtypeWarning: Columns (28,33) have mixed types. Specify dtype option on import or set low_memory=False.\n",
      "  df = pd.read_csv(path_to_files + \"/\" + file_name)\n"
     ]
    },
    {
     "data": {
      "text/plain": "        household_id  lga_id  someone_left  someone_joined  \\\n0              10001     115           NaN             NaN   \n1              10001     115           NaN             NaN   \n2              10001     115           NaN             NaN   \n3              10001     115           NaN             NaN   \n4              10002     115           NaN             NaN   \n...              ...     ...           ...             ...   \n546394        379143    3702           2.0             2.0   \n546395        379144    3702           NaN             NaN   \n546396        379151    3702           2.0             2.0   \n546397        379154    3702           2.0             2.0   \n546398        379155    3702           2.0             2.0   \n\n        health_services_last_month  household_stil_in_state  \\\n0                              NaN                      NaN   \n1                              NaN                      NaN   \n2                              NaN                      NaN   \n3                              NaN                      NaN   \n4                              NaN                      NaN   \n...                            ...                      ...   \n546394                         2.0                      NaN   \n546395                         NaN                      NaN   \n546396                         1.0                      NaN   \n546397                         2.0                      NaN   \n546398                         2.0                      NaN   \n\n        someone_moved_away  bought_petrol_ever  when_bought_petrol  \\\n0                      NaN                 NaN                 NaN   \n1                      NaN                 NaN                 NaN   \n2                      NaN                 NaN                 NaN   \n3                      NaN                 NaN                 NaN   \n4                      NaN                 NaN                 NaN   \n...                    ...                 ...                 ...   \n546394                 NaN                 NaN                 NaN   \n546395                 NaN                 NaN                 NaN   \n546396                 NaN                 NaN                 NaN   \n546397                 NaN                 NaN                 NaN   \n546398                 NaN                 NaN                 NaN   \n\n        liters_petrol_last_bought  cost_of_petrol_last_bought  \\\n0                             NaN                         NaN   \n1                             NaN                         NaN   \n2                             NaN                         NaN   \n3                             NaN                         NaN   \n4                             NaN                         NaN   \n...                           ...                         ...   \n546394                        NaN                         NaN   \n546395                        NaN                         NaN   \n546396                        NaN                         NaN   \n546397                        NaN                         NaN   \n546398                        NaN                         NaN   \n\n        changed_price_of_petrol_last_month  food_consumption_last_month  \\\n0                                      NaN                          NaN   \n1                                      NaN                          NaN   \n2                                      NaN                          NaN   \n3                                      NaN                          NaN   \n4                                      NaN                          NaN   \n...                                    ...                          ...   \n546394                                 NaN                          NaN   \n546395                                 NaN                          NaN   \n546396                                 NaN                          NaN   \n546397                                 NaN                          NaN   \n546398                                 NaN                          NaN   \n\n        housing_last_month  clothing_last_month  \\\n0                      NaN                  NaN   \n1                      NaN                  NaN   \n2                      NaN                  NaN   \n3                      NaN                  NaN   \n4                      NaN                  NaN   \n...                    ...                  ...   \n546394                 NaN                  NaN   \n546395                 NaN                  NaN   \n546396                 NaN                  NaN   \n546397                 NaN                  NaN   \n546398                 NaN                  NaN   \n\n        healthcare_standard_last_month  how_getting_by_financially  \n0                                  NaN                         NaN  \n1                                  NaN                         NaN  \n2                                  NaN                         NaN  \n3                                  NaN                         NaN  \n4                                  NaN                         NaN  \n...                                ...                         ...  \n546394                             NaN                         NaN  \n546395                             NaN                         NaN  \n546396                             NaN                         NaN  \n546397                             NaN                         NaN  \n546398                             NaN                         NaN  \n\n[546399 rows x 17 columns]",
      "text/html": "<div>\n<style scoped>\n    .dataframe tbody tr th:only-of-type {\n        vertical-align: middle;\n    }\n\n    .dataframe tbody tr th {\n        vertical-align: top;\n    }\n\n    .dataframe thead th {\n        text-align: right;\n    }\n</style>\n<table border=\"1\" class=\"dataframe\">\n  <thead>\n    <tr style=\"text-align: right;\">\n      <th></th>\n      <th>household_id</th>\n      <th>lga_id</th>\n      <th>someone_left</th>\n      <th>someone_joined</th>\n      <th>health_services_last_month</th>\n      <th>household_stil_in_state</th>\n      <th>someone_moved_away</th>\n      <th>bought_petrol_ever</th>\n      <th>when_bought_petrol</th>\n      <th>liters_petrol_last_bought</th>\n      <th>cost_of_petrol_last_bought</th>\n      <th>changed_price_of_petrol_last_month</th>\n      <th>food_consumption_last_month</th>\n      <th>housing_last_month</th>\n      <th>clothing_last_month</th>\n      <th>healthcare_standard_last_month</th>\n      <th>how_getting_by_financially</th>\n    </tr>\n  </thead>\n  <tbody>\n    <tr>\n      <th>0</th>\n      <td>10001</td>\n      <td>115</td>\n      <td>NaN</td>\n      <td>NaN</td>\n      <td>NaN</td>\n      <td>NaN</td>\n      <td>NaN</td>\n      <td>NaN</td>\n      <td>NaN</td>\n      <td>NaN</td>\n      <td>NaN</td>\n      <td>NaN</td>\n      <td>NaN</td>\n      <td>NaN</td>\n      <td>NaN</td>\n      <td>NaN</td>\n      <td>NaN</td>\n    </tr>\n    <tr>\n      <th>1</th>\n      <td>10001</td>\n      <td>115</td>\n      <td>NaN</td>\n      <td>NaN</td>\n      <td>NaN</td>\n      <td>NaN</td>\n      <td>NaN</td>\n      <td>NaN</td>\n      <td>NaN</td>\n      <td>NaN</td>\n      <td>NaN</td>\n      <td>NaN</td>\n      <td>NaN</td>\n      <td>NaN</td>\n      <td>NaN</td>\n      <td>NaN</td>\n      <td>NaN</td>\n    </tr>\n    <tr>\n      <th>2</th>\n      <td>10001</td>\n      <td>115</td>\n      <td>NaN</td>\n      <td>NaN</td>\n      <td>NaN</td>\n      <td>NaN</td>\n      <td>NaN</td>\n      <td>NaN</td>\n      <td>NaN</td>\n      <td>NaN</td>\n      <td>NaN</td>\n      <td>NaN</td>\n      <td>NaN</td>\n      <td>NaN</td>\n      <td>NaN</td>\n      <td>NaN</td>\n      <td>NaN</td>\n    </tr>\n    <tr>\n      <th>3</th>\n      <td>10001</td>\n      <td>115</td>\n      <td>NaN</td>\n      <td>NaN</td>\n      <td>NaN</td>\n      <td>NaN</td>\n      <td>NaN</td>\n      <td>NaN</td>\n      <td>NaN</td>\n      <td>NaN</td>\n      <td>NaN</td>\n      <td>NaN</td>\n      <td>NaN</td>\n      <td>NaN</td>\n      <td>NaN</td>\n      <td>NaN</td>\n      <td>NaN</td>\n    </tr>\n    <tr>\n      <th>4</th>\n      <td>10002</td>\n      <td>115</td>\n      <td>NaN</td>\n      <td>NaN</td>\n      <td>NaN</td>\n      <td>NaN</td>\n      <td>NaN</td>\n      <td>NaN</td>\n      <td>NaN</td>\n      <td>NaN</td>\n      <td>NaN</td>\n      <td>NaN</td>\n      <td>NaN</td>\n      <td>NaN</td>\n      <td>NaN</td>\n      <td>NaN</td>\n      <td>NaN</td>\n    </tr>\n    <tr>\n      <th>...</th>\n      <td>...</td>\n      <td>...</td>\n      <td>...</td>\n      <td>...</td>\n      <td>...</td>\n      <td>...</td>\n      <td>...</td>\n      <td>...</td>\n      <td>...</td>\n      <td>...</td>\n      <td>...</td>\n      <td>...</td>\n      <td>...</td>\n      <td>...</td>\n      <td>...</td>\n      <td>...</td>\n      <td>...</td>\n    </tr>\n    <tr>\n      <th>546394</th>\n      <td>379143</td>\n      <td>3702</td>\n      <td>2.0</td>\n      <td>2.0</td>\n      <td>2.0</td>\n      <td>NaN</td>\n      <td>NaN</td>\n      <td>NaN</td>\n      <td>NaN</td>\n      <td>NaN</td>\n      <td>NaN</td>\n      <td>NaN</td>\n      <td>NaN</td>\n      <td>NaN</td>\n      <td>NaN</td>\n      <td>NaN</td>\n      <td>NaN</td>\n    </tr>\n    <tr>\n      <th>546395</th>\n      <td>379144</td>\n      <td>3702</td>\n      <td>NaN</td>\n      <td>NaN</td>\n      <td>NaN</td>\n      <td>NaN</td>\n      <td>NaN</td>\n      <td>NaN</td>\n      <td>NaN</td>\n      <td>NaN</td>\n      <td>NaN</td>\n      <td>NaN</td>\n      <td>NaN</td>\n      <td>NaN</td>\n      <td>NaN</td>\n      <td>NaN</td>\n      <td>NaN</td>\n    </tr>\n    <tr>\n      <th>546396</th>\n      <td>379151</td>\n      <td>3702</td>\n      <td>2.0</td>\n      <td>2.0</td>\n      <td>1.0</td>\n      <td>NaN</td>\n      <td>NaN</td>\n      <td>NaN</td>\n      <td>NaN</td>\n      <td>NaN</td>\n      <td>NaN</td>\n      <td>NaN</td>\n      <td>NaN</td>\n      <td>NaN</td>\n      <td>NaN</td>\n      <td>NaN</td>\n      <td>NaN</td>\n    </tr>\n    <tr>\n      <th>546397</th>\n      <td>379154</td>\n      <td>3702</td>\n      <td>2.0</td>\n      <td>2.0</td>\n      <td>2.0</td>\n      <td>NaN</td>\n      <td>NaN</td>\n      <td>NaN</td>\n      <td>NaN</td>\n      <td>NaN</td>\n      <td>NaN</td>\n      <td>NaN</td>\n      <td>NaN</td>\n      <td>NaN</td>\n      <td>NaN</td>\n      <td>NaN</td>\n      <td>NaN</td>\n    </tr>\n    <tr>\n      <th>546398</th>\n      <td>379155</td>\n      <td>3702</td>\n      <td>2.0</td>\n      <td>2.0</td>\n      <td>2.0</td>\n      <td>NaN</td>\n      <td>NaN</td>\n      <td>NaN</td>\n      <td>NaN</td>\n      <td>NaN</td>\n      <td>NaN</td>\n      <td>NaN</td>\n      <td>NaN</td>\n      <td>NaN</td>\n      <td>NaN</td>\n      <td>NaN</td>\n      <td>NaN</td>\n    </tr>\n  </tbody>\n</table>\n<p>546399 rows × 17 columns</p>\n</div>"
     },
     "execution_count": 4,
     "metadata": {},
     "output_type": "execute_result"
    }
   ],
   "source": [
    "individuaL_dfs=[]\n",
    "# Combine all files with households and any of the desired variables in one table\n",
    "path_to_files = \"../data/raw\"\n",
    "csvs = os.listdir(path_to_files)\n",
    "dfs = []\n",
    "for file_name in csvs:\n",
    "    df = pd.read_csv(path_to_files + \"/\" + file_name)\n",
    "    columns_of_interest = [item for item in df.columns if item in variables_to_renames.keys()]\n",
    "    try:\n",
    "        df = df[columns_of_interest]\n",
    "        df.set_index(\"hhid\", inplace=True)\n",
    "        dfs.append(df)\n",
    "    except KeyError:\n",
    "        continue\n",
    "\n",
    "combined_df = pd.concat(dfs, axis=0)\n",
    "combined_df.reset_index(inplace=True)\n",
    "combined_df.rename(columns = variables_to_renames, inplace=True)\n",
    "combined_df"
   ],
   "metadata": {
    "collapsed": false,
    "ExecuteTime": {
     "end_time": "2024-06-27T01:45:58.678071Z",
     "start_time": "2024-06-27T01:45:58.107245Z"
    }
   },
   "id": "c809a2bd1754830c"
  },
  {
   "cell_type": "code",
   "execution_count": 13,
   "outputs": [
    {
     "name": "stdout",
     "output_type": "stream",
     "text": [
      "someone_left\n",
      "someone_joined\n",
      "health_services_last_month\n",
      "household_stil_in_state\n",
      "someone_moved_away\n",
      "bought_petrol_ever\n",
      "when_bought_petrol\n",
      "changed_price_of_petrol_last_month\n",
      "food_consumption_last_month\n",
      "housing_last_month\n",
      "clothing_last_month\n",
      "healthcare_standard_last_month\n",
      "how_getting_by_financially\n"
     ]
    },
    {
     "data": {
      "text/plain": "        household_id  lga_id someone_left someone_joined  \\\n0              10001     115          NaN            NaN   \n1              10001     115          NaN            NaN   \n2              10001     115          NaN            NaN   \n3              10001     115          NaN            NaN   \n4              10002     115          NaN            NaN   \n...              ...     ...          ...            ...   \n546394        379143    3702           NO             NO   \n546395        379144    3702          NaN            NaN   \n546396        379151    3702           NO             NO   \n546397        379154    3702           NO             NO   \n546398        379155    3702           NO             NO   \n\n       health_services_last_month household_stil_in_state someone_moved_away  \\\n0                             NaN                     NaN                NaN   \n1                             NaN                     NaN                NaN   \n2                             NaN                     NaN                NaN   \n3                             NaN                     NaN                NaN   \n4                             NaN                     NaN                NaN   \n...                           ...                     ...                ...   \n546394                         NO                     NaN                NaN   \n546395                        NaN                     NaN                NaN   \n546396                        YES                     NaN                NaN   \n546397                         NO                     NaN                NaN   \n546398                         NO                     NaN                NaN   \n\n       bought_petrol_ever when_bought_petrol  liters_petrol_last_bought  \\\n0                     NaN                NaN                        NaN   \n1                     NaN                NaN                        NaN   \n2                     NaN                NaN                        NaN   \n3                     NaN                NaN                        NaN   \n4                     NaN                NaN                        NaN   \n...                   ...                ...                        ...   \n546394                NaN                NaN                        NaN   \n546395                NaN                NaN                        NaN   \n546396                NaN                NaN                        NaN   \n546397                NaN                NaN                        NaN   \n546398                NaN                NaN                        NaN   \n\n        cost_of_petrol_last_bought changed_price_of_petrol_last_month  \\\n0                              NaN                                NaN   \n1                              NaN                                NaN   \n2                              NaN                                NaN   \n3                              NaN                                NaN   \n4                              NaN                                NaN   \n...                            ...                                ...   \n546394                         NaN                                NaN   \n546395                         NaN                                NaN   \n546396                         NaN                                NaN   \n546397                         NaN                                NaN   \n546398                         NaN                                NaN   \n\n       food_consumption_last_month housing_last_month clothing_last_month  \\\n0                              NaN                NaN                 NaN   \n1                              NaN                NaN                 NaN   \n2                              NaN                NaN                 NaN   \n3                              NaN                NaN                 NaN   \n4                              NaN                NaN                 NaN   \n...                            ...                ...                 ...   \n546394                         NaN                NaN                 NaN   \n546395                         NaN                NaN                 NaN   \n546396                         NaN                NaN                 NaN   \n546397                         NaN                NaN                 NaN   \n546398                         NaN                NaN                 NaN   \n\n       healthcare_standard_last_month how_getting_by_financially  \n0                                 NaN                        NaN  \n1                                 NaN                        NaN  \n2                                 NaN                        NaN  \n3                                 NaN                        NaN  \n4                                 NaN                        NaN  \n...                               ...                        ...  \n546394                            NaN                        NaN  \n546395                            NaN                        NaN  \n546396                            NaN                        NaN  \n546397                            NaN                        NaN  \n546398                            NaN                        NaN  \n\n[546399 rows x 17 columns]",
      "text/html": "<div>\n<style scoped>\n    .dataframe tbody tr th:only-of-type {\n        vertical-align: middle;\n    }\n\n    .dataframe tbody tr th {\n        vertical-align: top;\n    }\n\n    .dataframe thead th {\n        text-align: right;\n    }\n</style>\n<table border=\"1\" class=\"dataframe\">\n  <thead>\n    <tr style=\"text-align: right;\">\n      <th></th>\n      <th>household_id</th>\n      <th>lga_id</th>\n      <th>someone_left</th>\n      <th>someone_joined</th>\n      <th>health_services_last_month</th>\n      <th>household_stil_in_state</th>\n      <th>someone_moved_away</th>\n      <th>bought_petrol_ever</th>\n      <th>when_bought_petrol</th>\n      <th>liters_petrol_last_bought</th>\n      <th>cost_of_petrol_last_bought</th>\n      <th>changed_price_of_petrol_last_month</th>\n      <th>food_consumption_last_month</th>\n      <th>housing_last_month</th>\n      <th>clothing_last_month</th>\n      <th>healthcare_standard_last_month</th>\n      <th>how_getting_by_financially</th>\n    </tr>\n  </thead>\n  <tbody>\n    <tr>\n      <th>0</th>\n      <td>10001</td>\n      <td>115</td>\n      <td>NaN</td>\n      <td>NaN</td>\n      <td>NaN</td>\n      <td>NaN</td>\n      <td>NaN</td>\n      <td>NaN</td>\n      <td>NaN</td>\n      <td>NaN</td>\n      <td>NaN</td>\n      <td>NaN</td>\n      <td>NaN</td>\n      <td>NaN</td>\n      <td>NaN</td>\n      <td>NaN</td>\n      <td>NaN</td>\n    </tr>\n    <tr>\n      <th>1</th>\n      <td>10001</td>\n      <td>115</td>\n      <td>NaN</td>\n      <td>NaN</td>\n      <td>NaN</td>\n      <td>NaN</td>\n      <td>NaN</td>\n      <td>NaN</td>\n      <td>NaN</td>\n      <td>NaN</td>\n      <td>NaN</td>\n      <td>NaN</td>\n      <td>NaN</td>\n      <td>NaN</td>\n      <td>NaN</td>\n      <td>NaN</td>\n      <td>NaN</td>\n    </tr>\n    <tr>\n      <th>2</th>\n      <td>10001</td>\n      <td>115</td>\n      <td>NaN</td>\n      <td>NaN</td>\n      <td>NaN</td>\n      <td>NaN</td>\n      <td>NaN</td>\n      <td>NaN</td>\n      <td>NaN</td>\n      <td>NaN</td>\n      <td>NaN</td>\n      <td>NaN</td>\n      <td>NaN</td>\n      <td>NaN</td>\n      <td>NaN</td>\n      <td>NaN</td>\n      <td>NaN</td>\n    </tr>\n    <tr>\n      <th>3</th>\n      <td>10001</td>\n      <td>115</td>\n      <td>NaN</td>\n      <td>NaN</td>\n      <td>NaN</td>\n      <td>NaN</td>\n      <td>NaN</td>\n      <td>NaN</td>\n      <td>NaN</td>\n      <td>NaN</td>\n      <td>NaN</td>\n      <td>NaN</td>\n      <td>NaN</td>\n      <td>NaN</td>\n      <td>NaN</td>\n      <td>NaN</td>\n      <td>NaN</td>\n    </tr>\n    <tr>\n      <th>4</th>\n      <td>10002</td>\n      <td>115</td>\n      <td>NaN</td>\n      <td>NaN</td>\n      <td>NaN</td>\n      <td>NaN</td>\n      <td>NaN</td>\n      <td>NaN</td>\n      <td>NaN</td>\n      <td>NaN</td>\n      <td>NaN</td>\n      <td>NaN</td>\n      <td>NaN</td>\n      <td>NaN</td>\n      <td>NaN</td>\n      <td>NaN</td>\n      <td>NaN</td>\n    </tr>\n    <tr>\n      <th>...</th>\n      <td>...</td>\n      <td>...</td>\n      <td>...</td>\n      <td>...</td>\n      <td>...</td>\n      <td>...</td>\n      <td>...</td>\n      <td>...</td>\n      <td>...</td>\n      <td>...</td>\n      <td>...</td>\n      <td>...</td>\n      <td>...</td>\n      <td>...</td>\n      <td>...</td>\n      <td>...</td>\n      <td>...</td>\n    </tr>\n    <tr>\n      <th>546394</th>\n      <td>379143</td>\n      <td>3702</td>\n      <td>NO</td>\n      <td>NO</td>\n      <td>NO</td>\n      <td>NaN</td>\n      <td>NaN</td>\n      <td>NaN</td>\n      <td>NaN</td>\n      <td>NaN</td>\n      <td>NaN</td>\n      <td>NaN</td>\n      <td>NaN</td>\n      <td>NaN</td>\n      <td>NaN</td>\n      <td>NaN</td>\n      <td>NaN</td>\n    </tr>\n    <tr>\n      <th>546395</th>\n      <td>379144</td>\n      <td>3702</td>\n      <td>NaN</td>\n      <td>NaN</td>\n      <td>NaN</td>\n      <td>NaN</td>\n      <td>NaN</td>\n      <td>NaN</td>\n      <td>NaN</td>\n      <td>NaN</td>\n      <td>NaN</td>\n      <td>NaN</td>\n      <td>NaN</td>\n      <td>NaN</td>\n      <td>NaN</td>\n      <td>NaN</td>\n      <td>NaN</td>\n    </tr>\n    <tr>\n      <th>546396</th>\n      <td>379151</td>\n      <td>3702</td>\n      <td>NO</td>\n      <td>NO</td>\n      <td>YES</td>\n      <td>NaN</td>\n      <td>NaN</td>\n      <td>NaN</td>\n      <td>NaN</td>\n      <td>NaN</td>\n      <td>NaN</td>\n      <td>NaN</td>\n      <td>NaN</td>\n      <td>NaN</td>\n      <td>NaN</td>\n      <td>NaN</td>\n      <td>NaN</td>\n    </tr>\n    <tr>\n      <th>546397</th>\n      <td>379154</td>\n      <td>3702</td>\n      <td>NO</td>\n      <td>NO</td>\n      <td>NO</td>\n      <td>NaN</td>\n      <td>NaN</td>\n      <td>NaN</td>\n      <td>NaN</td>\n      <td>NaN</td>\n      <td>NaN</td>\n      <td>NaN</td>\n      <td>NaN</td>\n      <td>NaN</td>\n      <td>NaN</td>\n      <td>NaN</td>\n      <td>NaN</td>\n    </tr>\n    <tr>\n      <th>546398</th>\n      <td>379155</td>\n      <td>3702</td>\n      <td>NO</td>\n      <td>NO</td>\n      <td>NO</td>\n      <td>NaN</td>\n      <td>NaN</td>\n      <td>NaN</td>\n      <td>NaN</td>\n      <td>NaN</td>\n      <td>NaN</td>\n      <td>NaN</td>\n      <td>NaN</td>\n      <td>NaN</td>\n      <td>NaN</td>\n      <td>NaN</td>\n      <td>NaN</td>\n    </tr>\n  </tbody>\n</table>\n<p>546399 rows × 17 columns</p>\n</div>"
     },
     "execution_count": 13,
     "metadata": {},
     "output_type": "execute_result"
    }
   ],
   "source": [
    "for column in combined_df.columns:\n",
    "    if column in variables_to_recodes.keys():\n",
    "        combined_df[column] = combined_df[column].apply(lambda x: variables_to_recodes[column](x))\n",
    "combined_df"
   ],
   "metadata": {
    "collapsed": false,
    "ExecuteTime": {
     "end_time": "2024-06-27T01:49:11.864416Z",
     "start_time": "2024-06-27T01:49:10.974207Z"
    }
   },
   "id": "5b23526c95d1b1c3"
  },
  {
   "cell_type": "code",
   "execution_count": 14,
   "outputs": [],
   "source": [
    "combined_df.set_index(\"household_id\", inplace=True)"
   ],
   "metadata": {
    "collapsed": false,
    "ExecuteTime": {
     "end_time": "2024-06-27T01:50:38.846608Z",
     "start_time": "2024-06-27T01:50:38.844642Z"
    }
   },
   "id": "23d2e89859d57ca9"
  },
  {
   "cell_type": "code",
   "execution_count": 16,
   "outputs": [],
   "source": [
    "combined_df.to_csv(\"../data/processed/households_table/households.csv\")"
   ],
   "metadata": {
    "collapsed": false,
    "ExecuteTime": {
     "end_time": "2024-06-27T01:51:21.088098Z",
     "start_time": "2024-06-27T01:51:20.269687Z"
    }
   },
   "id": "c2015467148cc28d"
  },
  {
   "cell_type": "code",
   "execution_count": null,
   "outputs": [],
   "source": [],
   "metadata": {
    "collapsed": false
   },
   "id": "f87d283d2ad3110b"
  }
 ],
 "metadata": {
  "kernelspec": {
   "display_name": "Python 3",
   "language": "python",
   "name": "python3"
  },
  "language_info": {
   "codemirror_mode": {
    "name": "ipython",
    "version": 2
   },
   "file_extension": ".py",
   "mimetype": "text/x-python",
   "name": "python",
   "nbconvert_exporter": "python",
   "pygments_lexer": "ipython2",
   "version": "2.7.6"
  }
 },
 "nbformat": 4,
 "nbformat_minor": 5
}
