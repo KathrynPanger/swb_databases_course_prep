{
 "cells": [
  {
   "cell_type": "code",
   "execution_count": 1,
   "id": "initial_id",
   "metadata": {
    "collapsed": true,
    "ExecuteTime": {
     "end_time": "2024-06-28T09:25:50.843032Z",
     "start_time": "2024-06-28T09:25:50.589326Z"
    }
   },
   "outputs": [],
   "source": [
    "import pandas as pd\n",
    "import os\n",
    "import random\n",
    "import math\n",
    "import uuid\n",
    "from typing import Optional\n",
    "from collections.abc import Callable\n",
    "from cleaning_functions.clean_csv import *\n",
    "from cleaning_functions.recode_households import *\n",
    "import numpy as np"
   ]
  },
  {
   "cell_type": "code",
   "execution_count": 2,
   "outputs": [],
   "source": [
    "variables_to_renames = {\n",
    "    \"hhid\" : \"household_id\",\n",
    "    \"lga\" : \"lga_id\",\n",
    "    \"s2q0a\": \"someone_left\",\n",
    "    \"s2q0b\": \"someone_joined\",\n",
    "    \"s2aq0a\": \"household_stil_in_state\",\n",
    "    \"s2bq0a\": \"someone_moved_away\",\n",
    "    \"s5fq3\": \"health_services_last_month\",\n",
    "    \"s5gq0\": \"bought_petrol_ever\",\n",
    "    \"s5gq1\": \"when_bought_petrol\",\n",
    "    \"s5gq3\": \"liters_petrol_last_bought\",\n",
    "    \"s5gq4\": \"cost_of_petrol_last_bought_naira\",\n",
    "    \"s5gq5\": \"changed_price_of_petrol_last_month\",\n",
    "    \"s11cq1\": \"food_consumption_last_month\",\n",
    "    \"s11cq2\": \"housing_last_month\",\n",
    "    \"s11cq3\": \"clothing_last_month\",\n",
    "    \"s11cq4\": \"healthcare_standard_last_month\",\n",
    "    \"s11cq5\": \"how_getting_by_financially\",  \n",
    "}"
   ],
   "metadata": {
    "collapsed": false,
    "ExecuteTime": {
     "end_time": "2024-06-28T09:25:51.639190Z",
     "start_time": "2024-06-28T09:25:51.625410Z"
    }
   },
   "id": "5b03f63c532f927"
  },
  {
   "cell_type": "code",
   "execution_count": 3,
   "outputs": [],
   "source": [
    "variables_to_recodes = {\n",
    "    \"someone_left\": recode_binary,\n",
    "    \"someone_joined\": recode_binary,\n",
    "    \"household_stil_in_state\": recode_binary,\n",
    "    \"someone_moved_away\": recode_binary,\n",
    "    \"health_services_last_month\": recode_binary,\n",
    "    \"bought_petrol_ever\": recode_binary,\n",
    "    \"when_bought_petrol\": recode_when_bought_petrol,\n",
    "#    \"liters_petrol_last_bought\": recode_liters_petrol_last_bought,\n",
    "#    \"cost_of_petrol_last_bought\": recode_cost_of_petrol_last_bought,\n",
    "    \"changed_price_of_petrol_last_month\": recode_changed_price_of_petrol_last_month,\n",
    "    \"food_consumption_last_month\": recode_adequate_last_month,\n",
    "    \"housing_last_month\": recode_adequate_last_month,\n",
    "    \"clothing_last_month\": recode_adequate_last_month,\n",
    "    \"healthcare_standard_last_month\": recode_adequate_healthcare_last_month,\n",
    "    \"how_getting_by_financially\": recode_how_getting_by_financially,  \n",
    "}"
   ],
   "metadata": {
    "collapsed": false,
    "ExecuteTime": {
     "end_time": "2024-06-28T09:25:52.380513Z",
     "start_time": "2024-06-28T09:25:52.369103Z"
    }
   },
   "id": "9b3dacbe4f4a228b"
  },
  {
   "cell_type": "code",
   "execution_count": 4,
   "outputs": [],
   "source": [
    "# individuaL_dfs=[]\n",
    "# # Combine all files with households and any of the desired variables in one table\n",
    "# path_to_files = \"../data/raw\"\n",
    "# csvs = os.listdir(path_to_files)\n",
    "# dfs = []\n",
    "# for file_name in csvs:\n",
    "#     df = pd.read_csv(path_to_files + \"/\" + file_name)\n",
    "#     columns_of_interest = [item for item in df.columns if item in variables_to_renames.keys()]\n",
    "#     try:\n",
    "#         df = df[columns_of_interest]\n",
    "#         df.set_index(\"hhid\", inplace=True)\n",
    "#         dfs.append(df)\n",
    "#     except KeyError:\n",
    "#         continue\n",
    "# \n",
    "# combined_df = pd.concat(dfs, axis=0)\n",
    "# combined_df.reset_index(inplace=True)\n",
    "# combined_df.rename(columns = variables_to_renames, inplace=True)\n",
    "# combined_df"
   ],
   "metadata": {
    "collapsed": false,
    "ExecuteTime": {
     "end_time": "2024-06-28T09:25:53.097944Z",
     "start_time": "2024-06-28T09:25:53.093709Z"
    }
   },
   "id": "c809a2bd1754830c"
  },
  {
   "cell_type": "code",
   "execution_count": 5,
   "outputs": [
    {
     "name": "stderr",
     "output_type": "stream",
     "text": [
      "/var/folders/lw/jy_c2z0x221fsb78kk1_h2800000gn/T/ipykernel_79611/4059651509.py:7: DtypeWarning: Columns (10,17) have mixed types. Specify dtype option on import or set low_memory=False.\n",
      "  df = pd.read_csv(path_to_files + \"/\" + file_name)\n",
      "/var/folders/lw/jy_c2z0x221fsb78kk1_h2800000gn/T/ipykernel_79611/4059651509.py:7: DtypeWarning: Columns (16,36,82) have mixed types. Specify dtype option on import or set low_memory=False.\n",
      "  df = pd.read_csv(path_to_files + \"/\" + file_name)\n",
      "/var/folders/lw/jy_c2z0x221fsb78kk1_h2800000gn/T/ipykernel_79611/4059651509.py:7: DtypeWarning: Columns (28,33) have mixed types. Specify dtype option on import or set low_memory=False.\n",
      "  df = pd.read_csv(path_to_files + \"/\" + file_name)\n"
     ]
    },
    {
     "data": {
      "text/plain": "       lga    hhid  s2q0a  s2q0b  s5fq3  s2aq0a  s2bq0a  s5gq0  s5gq1  s5gq3  \\\n0      115   10001    NaN    NaN    NaN     NaN     NaN    NaN    NaN    NaN   \n1      115   10001    NaN    NaN    NaN     NaN     NaN    NaN    NaN    NaN   \n2      115   10001    NaN    NaN    NaN     NaN     NaN    NaN    NaN    NaN   \n3      115   10001    NaN    NaN    NaN     NaN     NaN    NaN    NaN    NaN   \n4      115   10002    NaN    NaN    NaN     NaN     NaN    NaN    NaN    NaN   \n...    ...     ...    ...    ...    ...     ...     ...    ...    ...    ...   \n2819  3702  379143    2.0    2.0    2.0     NaN     NaN    NaN    NaN    NaN   \n2820  3702  379144    NaN    NaN    NaN     NaN     NaN    NaN    NaN    NaN   \n2821  3702  379151    2.0    2.0    1.0     NaN     NaN    NaN    NaN    NaN   \n2822  3702  379154    2.0    2.0    2.0     NaN     NaN    NaN    NaN    NaN   \n2823  3702  379155    2.0    2.0    2.0     NaN     NaN    NaN    NaN    NaN   \n\n      s5gq4  s5gq5  s11cq1  s11cq2  s11cq3  s11cq4  s11cq5  \n0       NaN    NaN     NaN     NaN     NaN     NaN     NaN  \n1       NaN    NaN     NaN     NaN     NaN     NaN     NaN  \n2       NaN    NaN     NaN     NaN     NaN     NaN     NaN  \n3       NaN    NaN     NaN     NaN     NaN     NaN     NaN  \n4       NaN    NaN     NaN     NaN     NaN     NaN     NaN  \n...     ...    ...     ...     ...     ...     ...     ...  \n2819    NaN    NaN     NaN     NaN     NaN     NaN     NaN  \n2820    NaN    NaN     NaN     NaN     NaN     NaN     NaN  \n2821    NaN    NaN     NaN     NaN     NaN     NaN     NaN  \n2822    NaN    NaN     NaN     NaN     NaN     NaN     NaN  \n2823    NaN    NaN     NaN     NaN     NaN     NaN     NaN  \n\n[546399 rows x 17 columns]",
      "text/html": "<div>\n<style scoped>\n    .dataframe tbody tr th:only-of-type {\n        vertical-align: middle;\n    }\n\n    .dataframe tbody tr th {\n        vertical-align: top;\n    }\n\n    .dataframe thead th {\n        text-align: right;\n    }\n</style>\n<table border=\"1\" class=\"dataframe\">\n  <thead>\n    <tr style=\"text-align: right;\">\n      <th></th>\n      <th>lga</th>\n      <th>hhid</th>\n      <th>s2q0a</th>\n      <th>s2q0b</th>\n      <th>s5fq3</th>\n      <th>s2aq0a</th>\n      <th>s2bq0a</th>\n      <th>s5gq0</th>\n      <th>s5gq1</th>\n      <th>s5gq3</th>\n      <th>s5gq4</th>\n      <th>s5gq5</th>\n      <th>s11cq1</th>\n      <th>s11cq2</th>\n      <th>s11cq3</th>\n      <th>s11cq4</th>\n      <th>s11cq5</th>\n    </tr>\n  </thead>\n  <tbody>\n    <tr>\n      <th>0</th>\n      <td>115</td>\n      <td>10001</td>\n      <td>NaN</td>\n      <td>NaN</td>\n      <td>NaN</td>\n      <td>NaN</td>\n      <td>NaN</td>\n      <td>NaN</td>\n      <td>NaN</td>\n      <td>NaN</td>\n      <td>NaN</td>\n      <td>NaN</td>\n      <td>NaN</td>\n      <td>NaN</td>\n      <td>NaN</td>\n      <td>NaN</td>\n      <td>NaN</td>\n    </tr>\n    <tr>\n      <th>1</th>\n      <td>115</td>\n      <td>10001</td>\n      <td>NaN</td>\n      <td>NaN</td>\n      <td>NaN</td>\n      <td>NaN</td>\n      <td>NaN</td>\n      <td>NaN</td>\n      <td>NaN</td>\n      <td>NaN</td>\n      <td>NaN</td>\n      <td>NaN</td>\n      <td>NaN</td>\n      <td>NaN</td>\n      <td>NaN</td>\n      <td>NaN</td>\n      <td>NaN</td>\n    </tr>\n    <tr>\n      <th>2</th>\n      <td>115</td>\n      <td>10001</td>\n      <td>NaN</td>\n      <td>NaN</td>\n      <td>NaN</td>\n      <td>NaN</td>\n      <td>NaN</td>\n      <td>NaN</td>\n      <td>NaN</td>\n      <td>NaN</td>\n      <td>NaN</td>\n      <td>NaN</td>\n      <td>NaN</td>\n      <td>NaN</td>\n      <td>NaN</td>\n      <td>NaN</td>\n      <td>NaN</td>\n    </tr>\n    <tr>\n      <th>3</th>\n      <td>115</td>\n      <td>10001</td>\n      <td>NaN</td>\n      <td>NaN</td>\n      <td>NaN</td>\n      <td>NaN</td>\n      <td>NaN</td>\n      <td>NaN</td>\n      <td>NaN</td>\n      <td>NaN</td>\n      <td>NaN</td>\n      <td>NaN</td>\n      <td>NaN</td>\n      <td>NaN</td>\n      <td>NaN</td>\n      <td>NaN</td>\n      <td>NaN</td>\n    </tr>\n    <tr>\n      <th>4</th>\n      <td>115</td>\n      <td>10002</td>\n      <td>NaN</td>\n      <td>NaN</td>\n      <td>NaN</td>\n      <td>NaN</td>\n      <td>NaN</td>\n      <td>NaN</td>\n      <td>NaN</td>\n      <td>NaN</td>\n      <td>NaN</td>\n      <td>NaN</td>\n      <td>NaN</td>\n      <td>NaN</td>\n      <td>NaN</td>\n      <td>NaN</td>\n      <td>NaN</td>\n    </tr>\n    <tr>\n      <th>...</th>\n      <td>...</td>\n      <td>...</td>\n      <td>...</td>\n      <td>...</td>\n      <td>...</td>\n      <td>...</td>\n      <td>...</td>\n      <td>...</td>\n      <td>...</td>\n      <td>...</td>\n      <td>...</td>\n      <td>...</td>\n      <td>...</td>\n      <td>...</td>\n      <td>...</td>\n      <td>...</td>\n      <td>...</td>\n    </tr>\n    <tr>\n      <th>2819</th>\n      <td>3702</td>\n      <td>379143</td>\n      <td>2.0</td>\n      <td>2.0</td>\n      <td>2.0</td>\n      <td>NaN</td>\n      <td>NaN</td>\n      <td>NaN</td>\n      <td>NaN</td>\n      <td>NaN</td>\n      <td>NaN</td>\n      <td>NaN</td>\n      <td>NaN</td>\n      <td>NaN</td>\n      <td>NaN</td>\n      <td>NaN</td>\n      <td>NaN</td>\n    </tr>\n    <tr>\n      <th>2820</th>\n      <td>3702</td>\n      <td>379144</td>\n      <td>NaN</td>\n      <td>NaN</td>\n      <td>NaN</td>\n      <td>NaN</td>\n      <td>NaN</td>\n      <td>NaN</td>\n      <td>NaN</td>\n      <td>NaN</td>\n      <td>NaN</td>\n      <td>NaN</td>\n      <td>NaN</td>\n      <td>NaN</td>\n      <td>NaN</td>\n      <td>NaN</td>\n      <td>NaN</td>\n    </tr>\n    <tr>\n      <th>2821</th>\n      <td>3702</td>\n      <td>379151</td>\n      <td>2.0</td>\n      <td>2.0</td>\n      <td>1.0</td>\n      <td>NaN</td>\n      <td>NaN</td>\n      <td>NaN</td>\n      <td>NaN</td>\n      <td>NaN</td>\n      <td>NaN</td>\n      <td>NaN</td>\n      <td>NaN</td>\n      <td>NaN</td>\n      <td>NaN</td>\n      <td>NaN</td>\n      <td>NaN</td>\n    </tr>\n    <tr>\n      <th>2822</th>\n      <td>3702</td>\n      <td>379154</td>\n      <td>2.0</td>\n      <td>2.0</td>\n      <td>2.0</td>\n      <td>NaN</td>\n      <td>NaN</td>\n      <td>NaN</td>\n      <td>NaN</td>\n      <td>NaN</td>\n      <td>NaN</td>\n      <td>NaN</td>\n      <td>NaN</td>\n      <td>NaN</td>\n      <td>NaN</td>\n      <td>NaN</td>\n      <td>NaN</td>\n    </tr>\n    <tr>\n      <th>2823</th>\n      <td>3702</td>\n      <td>379155</td>\n      <td>2.0</td>\n      <td>2.0</td>\n      <td>2.0</td>\n      <td>NaN</td>\n      <td>NaN</td>\n      <td>NaN</td>\n      <td>NaN</td>\n      <td>NaN</td>\n      <td>NaN</td>\n      <td>NaN</td>\n      <td>NaN</td>\n      <td>NaN</td>\n      <td>NaN</td>\n      <td>NaN</td>\n      <td>NaN</td>\n    </tr>\n  </tbody>\n</table>\n<p>546399 rows × 17 columns</p>\n</div>"
     },
     "execution_count": 5,
     "metadata": {},
     "output_type": "execute_result"
    }
   ],
   "source": [
    "individuaL_dfs=[]\n",
    "# Combine all files with households and any of the desired variables in one table\n",
    "path_to_files = \"../data/raw\"\n",
    "csvs = os.listdir(path_to_files)\n",
    "dfs = []\n",
    "for file_name in csvs:\n",
    "    df = pd.read_csv(path_to_files + \"/\" + file_name)\n",
    "    columns_of_interest = [item for item in df.columns if item in variables_to_renames.keys()]\n",
    "    try:\n",
    "        df = df[columns_of_interest]\n",
    "        dfs.append(df)\n",
    "    except KeyError:\n",
    "        continue\n",
    "\n",
    "combined_df = pd.concat(dfs, axis=0)\n",
    "combined_df"
   ],
   "metadata": {
    "collapsed": false,
    "ExecuteTime": {
     "end_time": "2024-06-28T09:25:54.144861Z",
     "start_time": "2024-06-28T09:25:53.605346Z"
    }
   },
   "id": "77c2c9ae06af3267"
  },
  {
   "cell_type": "code",
   "execution_count": 6,
   "outputs": [
    {
     "data": {
      "text/plain": "         hhid\n0       10001\n4       10002\n7       10003\n11      10004\n14      10005\n...       ...\n13579  379119\n13581  379120\n13597  379139\n13609  379146\n13611  379148\n\n[4440 rows x 1 columns]",
      "text/html": "<div>\n<style scoped>\n    .dataframe tbody tr th:only-of-type {\n        vertical-align: middle;\n    }\n\n    .dataframe tbody tr th {\n        vertical-align: top;\n    }\n\n    .dataframe thead th {\n        text-align: right;\n    }\n</style>\n<table border=\"1\" class=\"dataframe\">\n  <thead>\n    <tr style=\"text-align: right;\">\n      <th></th>\n      <th>hhid</th>\n    </tr>\n  </thead>\n  <tbody>\n    <tr>\n      <th>0</th>\n      <td>10001</td>\n    </tr>\n    <tr>\n      <th>4</th>\n      <td>10002</td>\n    </tr>\n    <tr>\n      <th>7</th>\n      <td>10003</td>\n    </tr>\n    <tr>\n      <th>11</th>\n      <td>10004</td>\n    </tr>\n    <tr>\n      <th>14</th>\n      <td>10005</td>\n    </tr>\n    <tr>\n      <th>...</th>\n      <td>...</td>\n    </tr>\n    <tr>\n      <th>13579</th>\n      <td>379119</td>\n    </tr>\n    <tr>\n      <th>13581</th>\n      <td>379120</td>\n    </tr>\n    <tr>\n      <th>13597</th>\n      <td>379139</td>\n    </tr>\n    <tr>\n      <th>13609</th>\n      <td>379146</td>\n    </tr>\n    <tr>\n      <th>13611</th>\n      <td>379148</td>\n    </tr>\n  </tbody>\n</table>\n<p>4440 rows × 1 columns</p>\n</div>"
     },
     "execution_count": 6,
     "metadata": {},
     "output_type": "execute_result"
    }
   ],
   "source": [
    "#get a unique id column from dfs with all household ids\n",
    "for i in range(len(dfs)):\n",
    "    working_df = dfs[i][[\"hhid\"]]\n",
    "    if i == 0:\n",
    "        built_df = working_df\n",
    "    else:\n",
    "        built_df = pd.concat([built_df, working_df], axis=0)\n",
    "built_df.drop_duplicates(subset=\"hhid\", inplace=True)\n",
    "built_df"
   ],
   "metadata": {
    "collapsed": false,
    "ExecuteTime": {
     "end_time": "2024-06-28T09:25:54.591836Z",
     "start_time": "2024-06-28T09:25:54.551326Z"
    }
   },
   "id": "1035f68e126fffdf"
  },
  {
   "cell_type": "code",
   "execution_count": 6,
   "outputs": [],
   "source": [],
   "metadata": {
    "collapsed": false,
    "ExecuteTime": {
     "end_time": "2024-06-28T09:25:55.554509Z",
     "start_time": "2024-06-28T09:25:55.530836Z"
    }
   },
   "id": "d396ed04bd4eb65c"
  },
  {
   "cell_type": "code",
   "execution_count": 7,
   "outputs": [
    {
     "name": "stdout",
     "output_type": "stream",
     "text": [
      "start 1\n",
      "end 1\n",
      "start 2\n",
      "end 2\n",
      "start 3\n",
      "end 3\n",
      "start 4\n",
      "end 4\n",
      "start 5\n",
      "end 5\n",
      "start 6\n",
      "end 6\n",
      "start 7\n",
      "end 7\n",
      "start 8\n",
      "end 8\n",
      "start 9\n",
      "end 9\n",
      "start 10\n",
      "end 10\n",
      "start 11\n",
      "end 11\n",
      "start 12\n",
      "end 12\n",
      "start 13\n",
      "end 13\n",
      "start 14\n",
      "end 14\n",
      "start 15\n",
      "end 15\n",
      "start 16\n",
      "end 16\n",
      "start 17\n",
      "end 17\n",
      "start 18\n",
      "end 18\n",
      "start 19\n",
      "end 19\n",
      "start 20\n",
      "end 20\n",
      "start 21\n",
      "end 21\n",
      "start 22\n",
      "end 22\n",
      "start 23\n",
      "end 23\n",
      "start 24\n",
      "end 24\n",
      "start 25\n",
      "end 25\n",
      "start 26\n",
      "end 26\n",
      "start 27\n",
      "end 27\n",
      "start 28\n",
      "end 28\n",
      "start 29\n",
      "end 29\n",
      "start 30\n",
      "end 30\n",
      "start 31\n",
      "end 31\n",
      "start 32\n",
      "end 32\n",
      "start 33\n",
      "end 33\n",
      "start 34\n",
      "end 34\n",
      "start 35\n",
      "end 35\n",
      "start 36\n",
      "end 36\n",
      "start 37\n",
      "end 37\n",
      "start 38\n",
      "end 38\n",
      "start 39\n",
      "end 39\n",
      "start 40\n",
      "end 40\n",
      "start 41\n",
      "end 41\n",
      "start 42\n",
      "end 42\n",
      "start 43\n",
      "end 43\n",
      "start 44\n",
      "end 44\n",
      "start 45\n",
      "end 45\n",
      "start 46\n",
      "end 46\n",
      "start 47\n",
      "end 47\n",
      "start 48\n",
      "end 48\n",
      "start 49\n",
      "end 49\n",
      "start 50\n",
      "end 50\n",
      "start 51\n",
      "end 51\n"
     ]
    },
    {
     "data": {
      "text/plain": "        hhid    lga  s2q0a  s2q0b  s5fq3  s2aq0a  s2bq0a  s5gq0  s5gq1  s5gq3  \\\n0      10001  115.0    2.0    2.0    1.0     1.0     2.0    NaN    NaN    NaN   \n1      10002  115.0    NaN    NaN    NaN     NaN     NaN    NaN    NaN    NaN   \n2      10003  115.0    NaN    NaN    NaN     NaN     NaN    NaN    NaN    NaN   \n3      10004  115.0    1.0    2.0    1.0     NaN     NaN    NaN    NaN    NaN   \n4      10005  115.0    2.0    2.0    1.0     1.0     2.0    1.0    1.0    NaN   \n...      ...    ...    ...    ...    ...     ...     ...    ...    ...    ...   \n4435  379119    NaN    NaN    NaN    NaN     NaN     NaN    NaN    NaN    NaN   \n4436  379120    NaN    NaN    NaN    NaN     NaN     NaN    NaN    NaN    NaN   \n4437  379139    NaN    NaN    NaN    NaN     NaN     NaN    NaN    NaN    NaN   \n4438  379146    NaN    NaN    NaN    NaN     NaN     NaN    NaN    NaN    NaN   \n4439  379148    NaN    NaN    NaN    NaN     NaN     NaN    NaN    NaN    NaN   \n\n      s5gq4  s5gq5  s11cq1  s11cq2  s11cq3  s11cq4  s11cq5  \n0       NaN    NaN     1.0     2.0     2.0     2.0     3.0  \n1       NaN    NaN     NaN     NaN     NaN     NaN     NaN  \n2       NaN    NaN     NaN     NaN     NaN     NaN     NaN  \n3       NaN    NaN     NaN     NaN     NaN     NaN     NaN  \n4       NaN    NaN     NaN     NaN     NaN     NaN     NaN  \n...     ...    ...     ...     ...     ...     ...     ...  \n4435    NaN    NaN     NaN     NaN     NaN     NaN     NaN  \n4436    NaN    NaN     NaN     NaN     NaN     NaN     NaN  \n4437    NaN    NaN     NaN     NaN     NaN     NaN     NaN  \n4438    NaN    NaN     NaN     NaN     NaN     NaN     NaN  \n4439    NaN    NaN     NaN     NaN     NaN     NaN     NaN  \n\n[4440 rows x 17 columns]",
      "text/html": "<div>\n<style scoped>\n    .dataframe tbody tr th:only-of-type {\n        vertical-align: middle;\n    }\n\n    .dataframe tbody tr th {\n        vertical-align: top;\n    }\n\n    .dataframe thead th {\n        text-align: right;\n    }\n</style>\n<table border=\"1\" class=\"dataframe\">\n  <thead>\n    <tr style=\"text-align: right;\">\n      <th></th>\n      <th>hhid</th>\n      <th>lga</th>\n      <th>s2q0a</th>\n      <th>s2q0b</th>\n      <th>s5fq3</th>\n      <th>s2aq0a</th>\n      <th>s2bq0a</th>\n      <th>s5gq0</th>\n      <th>s5gq1</th>\n      <th>s5gq3</th>\n      <th>s5gq4</th>\n      <th>s5gq5</th>\n      <th>s11cq1</th>\n      <th>s11cq2</th>\n      <th>s11cq3</th>\n      <th>s11cq4</th>\n      <th>s11cq5</th>\n    </tr>\n  </thead>\n  <tbody>\n    <tr>\n      <th>0</th>\n      <td>10001</td>\n      <td>115.0</td>\n      <td>2.0</td>\n      <td>2.0</td>\n      <td>1.0</td>\n      <td>1.0</td>\n      <td>2.0</td>\n      <td>NaN</td>\n      <td>NaN</td>\n      <td>NaN</td>\n      <td>NaN</td>\n      <td>NaN</td>\n      <td>1.0</td>\n      <td>2.0</td>\n      <td>2.0</td>\n      <td>2.0</td>\n      <td>3.0</td>\n    </tr>\n    <tr>\n      <th>1</th>\n      <td>10002</td>\n      <td>115.0</td>\n      <td>NaN</td>\n      <td>NaN</td>\n      <td>NaN</td>\n      <td>NaN</td>\n      <td>NaN</td>\n      <td>NaN</td>\n      <td>NaN</td>\n      <td>NaN</td>\n      <td>NaN</td>\n      <td>NaN</td>\n      <td>NaN</td>\n      <td>NaN</td>\n      <td>NaN</td>\n      <td>NaN</td>\n      <td>NaN</td>\n    </tr>\n    <tr>\n      <th>2</th>\n      <td>10003</td>\n      <td>115.0</td>\n      <td>NaN</td>\n      <td>NaN</td>\n      <td>NaN</td>\n      <td>NaN</td>\n      <td>NaN</td>\n      <td>NaN</td>\n      <td>NaN</td>\n      <td>NaN</td>\n      <td>NaN</td>\n      <td>NaN</td>\n      <td>NaN</td>\n      <td>NaN</td>\n      <td>NaN</td>\n      <td>NaN</td>\n      <td>NaN</td>\n    </tr>\n    <tr>\n      <th>3</th>\n      <td>10004</td>\n      <td>115.0</td>\n      <td>1.0</td>\n      <td>2.0</td>\n      <td>1.0</td>\n      <td>NaN</td>\n      <td>NaN</td>\n      <td>NaN</td>\n      <td>NaN</td>\n      <td>NaN</td>\n      <td>NaN</td>\n      <td>NaN</td>\n      <td>NaN</td>\n      <td>NaN</td>\n      <td>NaN</td>\n      <td>NaN</td>\n      <td>NaN</td>\n    </tr>\n    <tr>\n      <th>4</th>\n      <td>10005</td>\n      <td>115.0</td>\n      <td>2.0</td>\n      <td>2.0</td>\n      <td>1.0</td>\n      <td>1.0</td>\n      <td>2.0</td>\n      <td>1.0</td>\n      <td>1.0</td>\n      <td>NaN</td>\n      <td>NaN</td>\n      <td>NaN</td>\n      <td>NaN</td>\n      <td>NaN</td>\n      <td>NaN</td>\n      <td>NaN</td>\n      <td>NaN</td>\n    </tr>\n    <tr>\n      <th>...</th>\n      <td>...</td>\n      <td>...</td>\n      <td>...</td>\n      <td>...</td>\n      <td>...</td>\n      <td>...</td>\n      <td>...</td>\n      <td>...</td>\n      <td>...</td>\n      <td>...</td>\n      <td>...</td>\n      <td>...</td>\n      <td>...</td>\n      <td>...</td>\n      <td>...</td>\n      <td>...</td>\n      <td>...</td>\n    </tr>\n    <tr>\n      <th>4435</th>\n      <td>379119</td>\n      <td>NaN</td>\n      <td>NaN</td>\n      <td>NaN</td>\n      <td>NaN</td>\n      <td>NaN</td>\n      <td>NaN</td>\n      <td>NaN</td>\n      <td>NaN</td>\n      <td>NaN</td>\n      <td>NaN</td>\n      <td>NaN</td>\n      <td>NaN</td>\n      <td>NaN</td>\n      <td>NaN</td>\n      <td>NaN</td>\n      <td>NaN</td>\n    </tr>\n    <tr>\n      <th>4436</th>\n      <td>379120</td>\n      <td>NaN</td>\n      <td>NaN</td>\n      <td>NaN</td>\n      <td>NaN</td>\n      <td>NaN</td>\n      <td>NaN</td>\n      <td>NaN</td>\n      <td>NaN</td>\n      <td>NaN</td>\n      <td>NaN</td>\n      <td>NaN</td>\n      <td>NaN</td>\n      <td>NaN</td>\n      <td>NaN</td>\n      <td>NaN</td>\n      <td>NaN</td>\n    </tr>\n    <tr>\n      <th>4437</th>\n      <td>379139</td>\n      <td>NaN</td>\n      <td>NaN</td>\n      <td>NaN</td>\n      <td>NaN</td>\n      <td>NaN</td>\n      <td>NaN</td>\n      <td>NaN</td>\n      <td>NaN</td>\n      <td>NaN</td>\n      <td>NaN</td>\n      <td>NaN</td>\n      <td>NaN</td>\n      <td>NaN</td>\n      <td>NaN</td>\n      <td>NaN</td>\n      <td>NaN</td>\n    </tr>\n    <tr>\n      <th>4438</th>\n      <td>379146</td>\n      <td>NaN</td>\n      <td>NaN</td>\n      <td>NaN</td>\n      <td>NaN</td>\n      <td>NaN</td>\n      <td>NaN</td>\n      <td>NaN</td>\n      <td>NaN</td>\n      <td>NaN</td>\n      <td>NaN</td>\n      <td>NaN</td>\n      <td>NaN</td>\n      <td>NaN</td>\n      <td>NaN</td>\n      <td>NaN</td>\n      <td>NaN</td>\n    </tr>\n    <tr>\n      <th>4439</th>\n      <td>379148</td>\n      <td>NaN</td>\n      <td>NaN</td>\n      <td>NaN</td>\n      <td>NaN</td>\n      <td>NaN</td>\n      <td>NaN</td>\n      <td>NaN</td>\n      <td>NaN</td>\n      <td>NaN</td>\n      <td>NaN</td>\n      <td>NaN</td>\n      <td>NaN</td>\n      <td>NaN</td>\n      <td>NaN</td>\n      <td>NaN</td>\n      <td>NaN</td>\n    </tr>\n  </tbody>\n</table>\n<p>4440 rows × 17 columns</p>\n</div>"
     },
     "execution_count": 7,
     "metadata": {},
     "output_type": "execute_result"
    }
   ],
   "source": [
    "#merge (join) each dataframe\n",
    "counter = 0\n",
    "for df in dfs:\n",
    "#    on_list = [item for item in df.columns if item in built_df.columns]\n",
    "    keep_list = [item for item in df.columns if item in variables_to_renames.keys()]\n",
    "    local_df = df[keep_list]\n",
    "    counter += 1\n",
    "    print(f\"start {counter}\")\n",
    "    built_df = pd.merge(built_df, local_df, how=\"left\")\n",
    "    built_df.drop_duplicates(subset=\"hhid\", keep=\"first\", inplace=True)\n",
    "    print(f\"end {counter}\")\n",
    "built_df"
   ],
   "metadata": {
    "collapsed": false,
    "ExecuteTime": {
     "end_time": "2024-06-28T09:25:56.465409Z",
     "start_time": "2024-06-28T09:25:56.350943Z"
    }
   },
   "id": "3a3dc2d362ab45fe"
  },
  {
   "cell_type": "code",
   "execution_count": 8,
   "outputs": [
    {
     "data": {
      "text/plain": "      household_id  lga_id  someone_left  someone_joined  \\\n0            10001   115.0           2.0             2.0   \n1            10002   115.0           NaN             NaN   \n2            10003   115.0           NaN             NaN   \n3            10004   115.0           1.0             2.0   \n4            10005   115.0           2.0             2.0   \n...            ...     ...           ...             ...   \n4435        379119     NaN           NaN             NaN   \n4436        379120     NaN           NaN             NaN   \n4437        379139     NaN           NaN             NaN   \n4438        379146     NaN           NaN             NaN   \n4439        379148     NaN           NaN             NaN   \n\n      health_services_last_month  household_stil_in_state  someone_moved_away  \\\n0                            1.0                      1.0                 2.0   \n1                            NaN                      NaN                 NaN   \n2                            NaN                      NaN                 NaN   \n3                            1.0                      NaN                 NaN   \n4                            1.0                      1.0                 2.0   \n...                          ...                      ...                 ...   \n4435                         NaN                      NaN                 NaN   \n4436                         NaN                      NaN                 NaN   \n4437                         NaN                      NaN                 NaN   \n4438                         NaN                      NaN                 NaN   \n4439                         NaN                      NaN                 NaN   \n\n      bought_petrol_ever  when_bought_petrol  liters_petrol_last_bought  \\\n0                    NaN                 NaN                        NaN   \n1                    NaN                 NaN                        NaN   \n2                    NaN                 NaN                        NaN   \n3                    NaN                 NaN                        NaN   \n4                    1.0                 1.0                        NaN   \n...                  ...                 ...                        ...   \n4435                 NaN                 NaN                        NaN   \n4436                 NaN                 NaN                        NaN   \n4437                 NaN                 NaN                        NaN   \n4438                 NaN                 NaN                        NaN   \n4439                 NaN                 NaN                        NaN   \n\n      cost_of_petrol_last_bought_naira  changed_price_of_petrol_last_month  \\\n0                                  NaN                                 NaN   \n1                                  NaN                                 NaN   \n2                                  NaN                                 NaN   \n3                                  NaN                                 NaN   \n4                                  NaN                                 NaN   \n...                                ...                                 ...   \n4435                               NaN                                 NaN   \n4436                               NaN                                 NaN   \n4437                               NaN                                 NaN   \n4438                               NaN                                 NaN   \n4439                               NaN                                 NaN   \n\n      food_consumption_last_month  housing_last_month  clothing_last_month  \\\n0                             1.0                 2.0                  2.0   \n1                             NaN                 NaN                  NaN   \n2                             NaN                 NaN                  NaN   \n3                             NaN                 NaN                  NaN   \n4                             NaN                 NaN                  NaN   \n...                           ...                 ...                  ...   \n4435                          NaN                 NaN                  NaN   \n4436                          NaN                 NaN                  NaN   \n4437                          NaN                 NaN                  NaN   \n4438                          NaN                 NaN                  NaN   \n4439                          NaN                 NaN                  NaN   \n\n      healthcare_standard_last_month  how_getting_by_financially  \n0                                2.0                         3.0  \n1                                NaN                         NaN  \n2                                NaN                         NaN  \n3                                NaN                         NaN  \n4                                NaN                         NaN  \n...                              ...                         ...  \n4435                             NaN                         NaN  \n4436                             NaN                         NaN  \n4437                             NaN                         NaN  \n4438                             NaN                         NaN  \n4439                             NaN                         NaN  \n\n[4440 rows x 17 columns]",
      "text/html": "<div>\n<style scoped>\n    .dataframe tbody tr th:only-of-type {\n        vertical-align: middle;\n    }\n\n    .dataframe tbody tr th {\n        vertical-align: top;\n    }\n\n    .dataframe thead th {\n        text-align: right;\n    }\n</style>\n<table border=\"1\" class=\"dataframe\">\n  <thead>\n    <tr style=\"text-align: right;\">\n      <th></th>\n      <th>household_id</th>\n      <th>lga_id</th>\n      <th>someone_left</th>\n      <th>someone_joined</th>\n      <th>health_services_last_month</th>\n      <th>household_stil_in_state</th>\n      <th>someone_moved_away</th>\n      <th>bought_petrol_ever</th>\n      <th>when_bought_petrol</th>\n      <th>liters_petrol_last_bought</th>\n      <th>cost_of_petrol_last_bought_naira</th>\n      <th>changed_price_of_petrol_last_month</th>\n      <th>food_consumption_last_month</th>\n      <th>housing_last_month</th>\n      <th>clothing_last_month</th>\n      <th>healthcare_standard_last_month</th>\n      <th>how_getting_by_financially</th>\n    </tr>\n  </thead>\n  <tbody>\n    <tr>\n      <th>0</th>\n      <td>10001</td>\n      <td>115.0</td>\n      <td>2.0</td>\n      <td>2.0</td>\n      <td>1.0</td>\n      <td>1.0</td>\n      <td>2.0</td>\n      <td>NaN</td>\n      <td>NaN</td>\n      <td>NaN</td>\n      <td>NaN</td>\n      <td>NaN</td>\n      <td>1.0</td>\n      <td>2.0</td>\n      <td>2.0</td>\n      <td>2.0</td>\n      <td>3.0</td>\n    </tr>\n    <tr>\n      <th>1</th>\n      <td>10002</td>\n      <td>115.0</td>\n      <td>NaN</td>\n      <td>NaN</td>\n      <td>NaN</td>\n      <td>NaN</td>\n      <td>NaN</td>\n      <td>NaN</td>\n      <td>NaN</td>\n      <td>NaN</td>\n      <td>NaN</td>\n      <td>NaN</td>\n      <td>NaN</td>\n      <td>NaN</td>\n      <td>NaN</td>\n      <td>NaN</td>\n      <td>NaN</td>\n    </tr>\n    <tr>\n      <th>2</th>\n      <td>10003</td>\n      <td>115.0</td>\n      <td>NaN</td>\n      <td>NaN</td>\n      <td>NaN</td>\n      <td>NaN</td>\n      <td>NaN</td>\n      <td>NaN</td>\n      <td>NaN</td>\n      <td>NaN</td>\n      <td>NaN</td>\n      <td>NaN</td>\n      <td>NaN</td>\n      <td>NaN</td>\n      <td>NaN</td>\n      <td>NaN</td>\n      <td>NaN</td>\n    </tr>\n    <tr>\n      <th>3</th>\n      <td>10004</td>\n      <td>115.0</td>\n      <td>1.0</td>\n      <td>2.0</td>\n      <td>1.0</td>\n      <td>NaN</td>\n      <td>NaN</td>\n      <td>NaN</td>\n      <td>NaN</td>\n      <td>NaN</td>\n      <td>NaN</td>\n      <td>NaN</td>\n      <td>NaN</td>\n      <td>NaN</td>\n      <td>NaN</td>\n      <td>NaN</td>\n      <td>NaN</td>\n    </tr>\n    <tr>\n      <th>4</th>\n      <td>10005</td>\n      <td>115.0</td>\n      <td>2.0</td>\n      <td>2.0</td>\n      <td>1.0</td>\n      <td>1.0</td>\n      <td>2.0</td>\n      <td>1.0</td>\n      <td>1.0</td>\n      <td>NaN</td>\n      <td>NaN</td>\n      <td>NaN</td>\n      <td>NaN</td>\n      <td>NaN</td>\n      <td>NaN</td>\n      <td>NaN</td>\n      <td>NaN</td>\n    </tr>\n    <tr>\n      <th>...</th>\n      <td>...</td>\n      <td>...</td>\n      <td>...</td>\n      <td>...</td>\n      <td>...</td>\n      <td>...</td>\n      <td>...</td>\n      <td>...</td>\n      <td>...</td>\n      <td>...</td>\n      <td>...</td>\n      <td>...</td>\n      <td>...</td>\n      <td>...</td>\n      <td>...</td>\n      <td>...</td>\n      <td>...</td>\n    </tr>\n    <tr>\n      <th>4435</th>\n      <td>379119</td>\n      <td>NaN</td>\n      <td>NaN</td>\n      <td>NaN</td>\n      <td>NaN</td>\n      <td>NaN</td>\n      <td>NaN</td>\n      <td>NaN</td>\n      <td>NaN</td>\n      <td>NaN</td>\n      <td>NaN</td>\n      <td>NaN</td>\n      <td>NaN</td>\n      <td>NaN</td>\n      <td>NaN</td>\n      <td>NaN</td>\n      <td>NaN</td>\n    </tr>\n    <tr>\n      <th>4436</th>\n      <td>379120</td>\n      <td>NaN</td>\n      <td>NaN</td>\n      <td>NaN</td>\n      <td>NaN</td>\n      <td>NaN</td>\n      <td>NaN</td>\n      <td>NaN</td>\n      <td>NaN</td>\n      <td>NaN</td>\n      <td>NaN</td>\n      <td>NaN</td>\n      <td>NaN</td>\n      <td>NaN</td>\n      <td>NaN</td>\n      <td>NaN</td>\n      <td>NaN</td>\n    </tr>\n    <tr>\n      <th>4437</th>\n      <td>379139</td>\n      <td>NaN</td>\n      <td>NaN</td>\n      <td>NaN</td>\n      <td>NaN</td>\n      <td>NaN</td>\n      <td>NaN</td>\n      <td>NaN</td>\n      <td>NaN</td>\n      <td>NaN</td>\n      <td>NaN</td>\n      <td>NaN</td>\n      <td>NaN</td>\n      <td>NaN</td>\n      <td>NaN</td>\n      <td>NaN</td>\n      <td>NaN</td>\n    </tr>\n    <tr>\n      <th>4438</th>\n      <td>379146</td>\n      <td>NaN</td>\n      <td>NaN</td>\n      <td>NaN</td>\n      <td>NaN</td>\n      <td>NaN</td>\n      <td>NaN</td>\n      <td>NaN</td>\n      <td>NaN</td>\n      <td>NaN</td>\n      <td>NaN</td>\n      <td>NaN</td>\n      <td>NaN</td>\n      <td>NaN</td>\n      <td>NaN</td>\n      <td>NaN</td>\n      <td>NaN</td>\n    </tr>\n    <tr>\n      <th>4439</th>\n      <td>379148</td>\n      <td>NaN</td>\n      <td>NaN</td>\n      <td>NaN</td>\n      <td>NaN</td>\n      <td>NaN</td>\n      <td>NaN</td>\n      <td>NaN</td>\n      <td>NaN</td>\n      <td>NaN</td>\n      <td>NaN</td>\n      <td>NaN</td>\n      <td>NaN</td>\n      <td>NaN</td>\n      <td>NaN</td>\n      <td>NaN</td>\n      <td>NaN</td>\n    </tr>\n  </tbody>\n</table>\n<p>4440 rows × 17 columns</p>\n</div>"
     },
     "execution_count": 8,
     "metadata": {},
     "output_type": "execute_result"
    }
   ],
   "source": [
    "built_df.rename(columns = variables_to_renames, inplace=True)\n",
    "built_df"
   ],
   "metadata": {
    "collapsed": false,
    "ExecuteTime": {
     "end_time": "2024-06-28T09:25:59.559837Z",
     "start_time": "2024-06-28T09:25:59.546833Z"
    }
   },
   "id": "44754f803bb2066e"
  },
  {
   "cell_type": "code",
   "execution_count": 10,
   "outputs": [
    {
     "data": {
      "text/plain": "      household_id  lga_id someone_left someone_joined  \\\n0            10001   115.0           NO             NO   \n1            10002   115.0          NaN            NaN   \n2            10003   115.0          NaN            NaN   \n3            10004   115.0          YES             NO   \n4            10005   115.0           NO             NO   \n...            ...     ...          ...            ...   \n4435        379119     NaN          NaN            NaN   \n4436        379120     NaN          NaN            NaN   \n4437        379139     NaN          NaN            NaN   \n4438        379146     NaN          NaN            NaN   \n4439        379148     NaN          NaN            NaN   \n\n     health_services_last_month household_stil_in_state someone_moved_away  \\\n0                           YES                     YES                 NO   \n1                           NaN                     NaN                NaN   \n2                           NaN                     NaN                NaN   \n3                           YES                     NaN                NaN   \n4                           YES                     YES                 NO   \n...                         ...                     ...                ...   \n4435                        NaN                     NaN                NaN   \n4436                        NaN                     NaN                NaN   \n4437                        NaN                     NaN                NaN   \n4438                        NaN                     NaN                NaN   \n4439                        NaN                     NaN                NaN   \n\n     bought_petrol_ever when_bought_petrol  liters_petrol_last_bought  \\\n0                   NaN                NaN                        NaN   \n1                   NaN                NaN                        NaN   \n2                   NaN                NaN                        NaN   \n3                   NaN                NaN                        NaN   \n4                   YES        PAST 7 DAYS                        NaN   \n...                 ...                ...                        ...   \n4435                NaN                NaN                        NaN   \n4436                NaN                NaN                        NaN   \n4437                NaN                NaN                        NaN   \n4438                NaN                NaN                        NaN   \n4439                NaN                NaN                        NaN   \n\n      cost_of_petrol_last_bought_naira changed_price_of_petrol_last_month  \\\n0                                  NaN                                NaN   \n1                                  NaN                                NaN   \n2                                  NaN                                NaN   \n3                                  NaN                                NaN   \n4                                  NaN                                NaN   \n...                                ...                                ...   \n4435                               NaN                                NaN   \n4436                               NaN                                NaN   \n4437                               NaN                                NaN   \n4438                               NaN                                NaN   \n4439                               NaN                                NaN   \n\n     food_consumption_last_month housing_last_month clothing_last_month  \\\n0                     NOT ENOUGH           ADEQUATE            ADEQUATE   \n1                            NaN                NaN                 NaN   \n2                            NaN                NaN                 NaN   \n3                            NaN                NaN                 NaN   \n4                            NaN                NaN                 NaN   \n...                          ...                ...                 ...   \n4435                         NaN                NaN                 NaN   \n4436                         NaN                NaN                 NaN   \n4437                         NaN                NaN                 NaN   \n4438                         NaN                NaN                 NaN   \n4439                         NaN                NaN                 NaN   \n\n     healthcare_standard_last_month how_getting_by_financially  \n0                          ADEQUATE                       FAIR  \n1                               NaN                        NaN  \n2                               NaN                        NaN  \n3                               NaN                        NaN  \n4                               NaN                        NaN  \n...                             ...                        ...  \n4435                            NaN                        NaN  \n4436                            NaN                        NaN  \n4437                            NaN                        NaN  \n4438                            NaN                        NaN  \n4439                            NaN                        NaN  \n\n[4440 rows x 17 columns]",
      "text/html": "<div>\n<style scoped>\n    .dataframe tbody tr th:only-of-type {\n        vertical-align: middle;\n    }\n\n    .dataframe tbody tr th {\n        vertical-align: top;\n    }\n\n    .dataframe thead th {\n        text-align: right;\n    }\n</style>\n<table border=\"1\" class=\"dataframe\">\n  <thead>\n    <tr style=\"text-align: right;\">\n      <th></th>\n      <th>household_id</th>\n      <th>lga_id</th>\n      <th>someone_left</th>\n      <th>someone_joined</th>\n      <th>health_services_last_month</th>\n      <th>household_stil_in_state</th>\n      <th>someone_moved_away</th>\n      <th>bought_petrol_ever</th>\n      <th>when_bought_petrol</th>\n      <th>liters_petrol_last_bought</th>\n      <th>cost_of_petrol_last_bought_naira</th>\n      <th>changed_price_of_petrol_last_month</th>\n      <th>food_consumption_last_month</th>\n      <th>housing_last_month</th>\n      <th>clothing_last_month</th>\n      <th>healthcare_standard_last_month</th>\n      <th>how_getting_by_financially</th>\n    </tr>\n  </thead>\n  <tbody>\n    <tr>\n      <th>0</th>\n      <td>10001</td>\n      <td>115.0</td>\n      <td>NO</td>\n      <td>NO</td>\n      <td>YES</td>\n      <td>YES</td>\n      <td>NO</td>\n      <td>NaN</td>\n      <td>NaN</td>\n      <td>NaN</td>\n      <td>NaN</td>\n      <td>NaN</td>\n      <td>NOT ENOUGH</td>\n      <td>ADEQUATE</td>\n      <td>ADEQUATE</td>\n      <td>ADEQUATE</td>\n      <td>FAIR</td>\n    </tr>\n    <tr>\n      <th>1</th>\n      <td>10002</td>\n      <td>115.0</td>\n      <td>NaN</td>\n      <td>NaN</td>\n      <td>NaN</td>\n      <td>NaN</td>\n      <td>NaN</td>\n      <td>NaN</td>\n      <td>NaN</td>\n      <td>NaN</td>\n      <td>NaN</td>\n      <td>NaN</td>\n      <td>NaN</td>\n      <td>NaN</td>\n      <td>NaN</td>\n      <td>NaN</td>\n      <td>NaN</td>\n    </tr>\n    <tr>\n      <th>2</th>\n      <td>10003</td>\n      <td>115.0</td>\n      <td>NaN</td>\n      <td>NaN</td>\n      <td>NaN</td>\n      <td>NaN</td>\n      <td>NaN</td>\n      <td>NaN</td>\n      <td>NaN</td>\n      <td>NaN</td>\n      <td>NaN</td>\n      <td>NaN</td>\n      <td>NaN</td>\n      <td>NaN</td>\n      <td>NaN</td>\n      <td>NaN</td>\n      <td>NaN</td>\n    </tr>\n    <tr>\n      <th>3</th>\n      <td>10004</td>\n      <td>115.0</td>\n      <td>YES</td>\n      <td>NO</td>\n      <td>YES</td>\n      <td>NaN</td>\n      <td>NaN</td>\n      <td>NaN</td>\n      <td>NaN</td>\n      <td>NaN</td>\n      <td>NaN</td>\n      <td>NaN</td>\n      <td>NaN</td>\n      <td>NaN</td>\n      <td>NaN</td>\n      <td>NaN</td>\n      <td>NaN</td>\n    </tr>\n    <tr>\n      <th>4</th>\n      <td>10005</td>\n      <td>115.0</td>\n      <td>NO</td>\n      <td>NO</td>\n      <td>YES</td>\n      <td>YES</td>\n      <td>NO</td>\n      <td>YES</td>\n      <td>PAST 7 DAYS</td>\n      <td>NaN</td>\n      <td>NaN</td>\n      <td>NaN</td>\n      <td>NaN</td>\n      <td>NaN</td>\n      <td>NaN</td>\n      <td>NaN</td>\n      <td>NaN</td>\n    </tr>\n    <tr>\n      <th>...</th>\n      <td>...</td>\n      <td>...</td>\n      <td>...</td>\n      <td>...</td>\n      <td>...</td>\n      <td>...</td>\n      <td>...</td>\n      <td>...</td>\n      <td>...</td>\n      <td>...</td>\n      <td>...</td>\n      <td>...</td>\n      <td>...</td>\n      <td>...</td>\n      <td>...</td>\n      <td>...</td>\n      <td>...</td>\n    </tr>\n    <tr>\n      <th>4435</th>\n      <td>379119</td>\n      <td>NaN</td>\n      <td>NaN</td>\n      <td>NaN</td>\n      <td>NaN</td>\n      <td>NaN</td>\n      <td>NaN</td>\n      <td>NaN</td>\n      <td>NaN</td>\n      <td>NaN</td>\n      <td>NaN</td>\n      <td>NaN</td>\n      <td>NaN</td>\n      <td>NaN</td>\n      <td>NaN</td>\n      <td>NaN</td>\n      <td>NaN</td>\n    </tr>\n    <tr>\n      <th>4436</th>\n      <td>379120</td>\n      <td>NaN</td>\n      <td>NaN</td>\n      <td>NaN</td>\n      <td>NaN</td>\n      <td>NaN</td>\n      <td>NaN</td>\n      <td>NaN</td>\n      <td>NaN</td>\n      <td>NaN</td>\n      <td>NaN</td>\n      <td>NaN</td>\n      <td>NaN</td>\n      <td>NaN</td>\n      <td>NaN</td>\n      <td>NaN</td>\n      <td>NaN</td>\n    </tr>\n    <tr>\n      <th>4437</th>\n      <td>379139</td>\n      <td>NaN</td>\n      <td>NaN</td>\n      <td>NaN</td>\n      <td>NaN</td>\n      <td>NaN</td>\n      <td>NaN</td>\n      <td>NaN</td>\n      <td>NaN</td>\n      <td>NaN</td>\n      <td>NaN</td>\n      <td>NaN</td>\n      <td>NaN</td>\n      <td>NaN</td>\n      <td>NaN</td>\n      <td>NaN</td>\n      <td>NaN</td>\n    </tr>\n    <tr>\n      <th>4438</th>\n      <td>379146</td>\n      <td>NaN</td>\n      <td>NaN</td>\n      <td>NaN</td>\n      <td>NaN</td>\n      <td>NaN</td>\n      <td>NaN</td>\n      <td>NaN</td>\n      <td>NaN</td>\n      <td>NaN</td>\n      <td>NaN</td>\n      <td>NaN</td>\n      <td>NaN</td>\n      <td>NaN</td>\n      <td>NaN</td>\n      <td>NaN</td>\n      <td>NaN</td>\n    </tr>\n    <tr>\n      <th>4439</th>\n      <td>379148</td>\n      <td>NaN</td>\n      <td>NaN</td>\n      <td>NaN</td>\n      <td>NaN</td>\n      <td>NaN</td>\n      <td>NaN</td>\n      <td>NaN</td>\n      <td>NaN</td>\n      <td>NaN</td>\n      <td>NaN</td>\n      <td>NaN</td>\n      <td>NaN</td>\n      <td>NaN</td>\n      <td>NaN</td>\n      <td>NaN</td>\n      <td>NaN</td>\n    </tr>\n  </tbody>\n</table>\n<p>4440 rows × 17 columns</p>\n</div>"
     },
     "execution_count": 10,
     "metadata": {},
     "output_type": "execute_result"
    }
   ],
   "source": [
    "for column in built_df.columns:\n",
    "    if column in variables_to_recodes.keys():\n",
    "        built_df[column] = built_df[column].apply(lambda x: variables_to_recodes[column](x))\n",
    "built_df"
   ],
   "metadata": {
    "collapsed": false,
    "ExecuteTime": {
     "end_time": "2024-06-28T09:26:28.878490Z",
     "start_time": "2024-06-28T09:26:28.868686Z"
    }
   },
   "id": "9027fff1754a3cb8"
  },
  {
   "cell_type": "code",
   "execution_count": 29,
   "outputs": [],
   "source": [
    "# for column in combined_df.columns:\n",
    "#     if column in variables_to_recodes.keys():\n",
    "#         combined_df[column] = combined_df[column].apply(lambda x: variables_to_recodes[column](x))\n",
    "# combined_df"
   ],
   "metadata": {
    "collapsed": false,
    "ExecuteTime": {
     "end_time": "2024-06-28T09:20:29.158429Z",
     "start_time": "2024-06-28T09:20:29.145412Z"
    }
   },
   "id": "5b23526c95d1b1c3"
  },
  {
   "cell_type": "code",
   "execution_count": 12,
   "outputs": [
    {
     "data": {
      "text/plain": "      household_id  lga_id someone_left someone_joined  \\\n0            10001     115           NO             NO   \n1            10002     115          NaN            NaN   \n2            10003     115          NaN            NaN   \n3            10004     115          YES             NO   \n4            10005     115           NO             NO   \n...            ...     ...          ...            ...   \n4435        379119    <NA>          NaN            NaN   \n4436        379120    <NA>          NaN            NaN   \n4437        379139    <NA>          NaN            NaN   \n4438        379146    <NA>          NaN            NaN   \n4439        379148    <NA>          NaN            NaN   \n\n     health_services_last_month household_stil_in_state someone_moved_away  \\\n0                           YES                     YES                 NO   \n1                           NaN                     NaN                NaN   \n2                           NaN                     NaN                NaN   \n3                           YES                     NaN                NaN   \n4                           YES                     YES                 NO   \n...                         ...                     ...                ...   \n4435                        NaN                     NaN                NaN   \n4436                        NaN                     NaN                NaN   \n4437                        NaN                     NaN                NaN   \n4438                        NaN                     NaN                NaN   \n4439                        NaN                     NaN                NaN   \n\n     bought_petrol_ever when_bought_petrol  liters_petrol_last_bought  \\\n0                   NaN                NaN                        115   \n1                   NaN                NaN                        115   \n2                   NaN                NaN                        115   \n3                   NaN                NaN                        115   \n4                   YES        PAST 7 DAYS                        115   \n...                 ...                ...                        ...   \n4435                NaN                NaN                       <NA>   \n4436                NaN                NaN                       <NA>   \n4437                NaN                NaN                       <NA>   \n4438                NaN                NaN                       <NA>   \n4439                NaN                NaN                       <NA>   \n\n      cost_of_petrol_last_bought_naira changed_price_of_petrol_last_month  \\\n0                                 <NA>                                NaN   \n1                                 <NA>                                NaN   \n2                                 <NA>                                NaN   \n3                                 <NA>                                NaN   \n4                                 <NA>                                NaN   \n...                                ...                                ...   \n4435                              <NA>                                NaN   \n4436                              <NA>                                NaN   \n4437                              <NA>                                NaN   \n4438                              <NA>                                NaN   \n4439                              <NA>                                NaN   \n\n     food_consumption_last_month housing_last_month clothing_last_month  \\\n0                     NOT ENOUGH           ADEQUATE            ADEQUATE   \n1                            NaN                NaN                 NaN   \n2                            NaN                NaN                 NaN   \n3                            NaN                NaN                 NaN   \n4                            NaN                NaN                 NaN   \n...                          ...                ...                 ...   \n4435                         NaN                NaN                 NaN   \n4436                         NaN                NaN                 NaN   \n4437                         NaN                NaN                 NaN   \n4438                         NaN                NaN                 NaN   \n4439                         NaN                NaN                 NaN   \n\n     healthcare_standard_last_month how_getting_by_financially  \n0                          ADEQUATE                       FAIR  \n1                               NaN                        NaN  \n2                               NaN                        NaN  \n3                               NaN                        NaN  \n4                               NaN                        NaN  \n...                             ...                        ...  \n4435                            NaN                        NaN  \n4436                            NaN                        NaN  \n4437                            NaN                        NaN  \n4438                            NaN                        NaN  \n4439                            NaN                        NaN  \n\n[4440 rows x 17 columns]",
      "text/html": "<div>\n<style scoped>\n    .dataframe tbody tr th:only-of-type {\n        vertical-align: middle;\n    }\n\n    .dataframe tbody tr th {\n        vertical-align: top;\n    }\n\n    .dataframe thead th {\n        text-align: right;\n    }\n</style>\n<table border=\"1\" class=\"dataframe\">\n  <thead>\n    <tr style=\"text-align: right;\">\n      <th></th>\n      <th>household_id</th>\n      <th>lga_id</th>\n      <th>someone_left</th>\n      <th>someone_joined</th>\n      <th>health_services_last_month</th>\n      <th>household_stil_in_state</th>\n      <th>someone_moved_away</th>\n      <th>bought_petrol_ever</th>\n      <th>when_bought_petrol</th>\n      <th>liters_petrol_last_bought</th>\n      <th>cost_of_petrol_last_bought_naira</th>\n      <th>changed_price_of_petrol_last_month</th>\n      <th>food_consumption_last_month</th>\n      <th>housing_last_month</th>\n      <th>clothing_last_month</th>\n      <th>healthcare_standard_last_month</th>\n      <th>how_getting_by_financially</th>\n    </tr>\n  </thead>\n  <tbody>\n    <tr>\n      <th>0</th>\n      <td>10001</td>\n      <td>115</td>\n      <td>NO</td>\n      <td>NO</td>\n      <td>YES</td>\n      <td>YES</td>\n      <td>NO</td>\n      <td>NaN</td>\n      <td>NaN</td>\n      <td>115</td>\n      <td>&lt;NA&gt;</td>\n      <td>NaN</td>\n      <td>NOT ENOUGH</td>\n      <td>ADEQUATE</td>\n      <td>ADEQUATE</td>\n      <td>ADEQUATE</td>\n      <td>FAIR</td>\n    </tr>\n    <tr>\n      <th>1</th>\n      <td>10002</td>\n      <td>115</td>\n      <td>NaN</td>\n      <td>NaN</td>\n      <td>NaN</td>\n      <td>NaN</td>\n      <td>NaN</td>\n      <td>NaN</td>\n      <td>NaN</td>\n      <td>115</td>\n      <td>&lt;NA&gt;</td>\n      <td>NaN</td>\n      <td>NaN</td>\n      <td>NaN</td>\n      <td>NaN</td>\n      <td>NaN</td>\n      <td>NaN</td>\n    </tr>\n    <tr>\n      <th>2</th>\n      <td>10003</td>\n      <td>115</td>\n      <td>NaN</td>\n      <td>NaN</td>\n      <td>NaN</td>\n      <td>NaN</td>\n      <td>NaN</td>\n      <td>NaN</td>\n      <td>NaN</td>\n      <td>115</td>\n      <td>&lt;NA&gt;</td>\n      <td>NaN</td>\n      <td>NaN</td>\n      <td>NaN</td>\n      <td>NaN</td>\n      <td>NaN</td>\n      <td>NaN</td>\n    </tr>\n    <tr>\n      <th>3</th>\n      <td>10004</td>\n      <td>115</td>\n      <td>YES</td>\n      <td>NO</td>\n      <td>YES</td>\n      <td>NaN</td>\n      <td>NaN</td>\n      <td>NaN</td>\n      <td>NaN</td>\n      <td>115</td>\n      <td>&lt;NA&gt;</td>\n      <td>NaN</td>\n      <td>NaN</td>\n      <td>NaN</td>\n      <td>NaN</td>\n      <td>NaN</td>\n      <td>NaN</td>\n    </tr>\n    <tr>\n      <th>4</th>\n      <td>10005</td>\n      <td>115</td>\n      <td>NO</td>\n      <td>NO</td>\n      <td>YES</td>\n      <td>YES</td>\n      <td>NO</td>\n      <td>YES</td>\n      <td>PAST 7 DAYS</td>\n      <td>115</td>\n      <td>&lt;NA&gt;</td>\n      <td>NaN</td>\n      <td>NaN</td>\n      <td>NaN</td>\n      <td>NaN</td>\n      <td>NaN</td>\n      <td>NaN</td>\n    </tr>\n    <tr>\n      <th>...</th>\n      <td>...</td>\n      <td>...</td>\n      <td>...</td>\n      <td>...</td>\n      <td>...</td>\n      <td>...</td>\n      <td>...</td>\n      <td>...</td>\n      <td>...</td>\n      <td>...</td>\n      <td>...</td>\n      <td>...</td>\n      <td>...</td>\n      <td>...</td>\n      <td>...</td>\n      <td>...</td>\n      <td>...</td>\n    </tr>\n    <tr>\n      <th>4435</th>\n      <td>379119</td>\n      <td>&lt;NA&gt;</td>\n      <td>NaN</td>\n      <td>NaN</td>\n      <td>NaN</td>\n      <td>NaN</td>\n      <td>NaN</td>\n      <td>NaN</td>\n      <td>NaN</td>\n      <td>&lt;NA&gt;</td>\n      <td>&lt;NA&gt;</td>\n      <td>NaN</td>\n      <td>NaN</td>\n      <td>NaN</td>\n      <td>NaN</td>\n      <td>NaN</td>\n      <td>NaN</td>\n    </tr>\n    <tr>\n      <th>4436</th>\n      <td>379120</td>\n      <td>&lt;NA&gt;</td>\n      <td>NaN</td>\n      <td>NaN</td>\n      <td>NaN</td>\n      <td>NaN</td>\n      <td>NaN</td>\n      <td>NaN</td>\n      <td>NaN</td>\n      <td>&lt;NA&gt;</td>\n      <td>&lt;NA&gt;</td>\n      <td>NaN</td>\n      <td>NaN</td>\n      <td>NaN</td>\n      <td>NaN</td>\n      <td>NaN</td>\n      <td>NaN</td>\n    </tr>\n    <tr>\n      <th>4437</th>\n      <td>379139</td>\n      <td>&lt;NA&gt;</td>\n      <td>NaN</td>\n      <td>NaN</td>\n      <td>NaN</td>\n      <td>NaN</td>\n      <td>NaN</td>\n      <td>NaN</td>\n      <td>NaN</td>\n      <td>&lt;NA&gt;</td>\n      <td>&lt;NA&gt;</td>\n      <td>NaN</td>\n      <td>NaN</td>\n      <td>NaN</td>\n      <td>NaN</td>\n      <td>NaN</td>\n      <td>NaN</td>\n    </tr>\n    <tr>\n      <th>4438</th>\n      <td>379146</td>\n      <td>&lt;NA&gt;</td>\n      <td>NaN</td>\n      <td>NaN</td>\n      <td>NaN</td>\n      <td>NaN</td>\n      <td>NaN</td>\n      <td>NaN</td>\n      <td>NaN</td>\n      <td>&lt;NA&gt;</td>\n      <td>&lt;NA&gt;</td>\n      <td>NaN</td>\n      <td>NaN</td>\n      <td>NaN</td>\n      <td>NaN</td>\n      <td>NaN</td>\n      <td>NaN</td>\n    </tr>\n    <tr>\n      <th>4439</th>\n      <td>379148</td>\n      <td>&lt;NA&gt;</td>\n      <td>NaN</td>\n      <td>NaN</td>\n      <td>NaN</td>\n      <td>NaN</td>\n      <td>NaN</td>\n      <td>NaN</td>\n      <td>NaN</td>\n      <td>&lt;NA&gt;</td>\n      <td>&lt;NA&gt;</td>\n      <td>NaN</td>\n      <td>NaN</td>\n      <td>NaN</td>\n      <td>NaN</td>\n      <td>NaN</td>\n      <td>NaN</td>\n    </tr>\n  </tbody>\n</table>\n<p>4440 rows × 17 columns</p>\n</div>"
     },
     "execution_count": 12,
     "metadata": {},
     "output_type": "execute_result"
    }
   ],
   "source": [
    "built_df[\"lga_id\"] = built_df[\"lga_id\"].astype(\"Int64\")\n",
    "built_df[\"liters_petrol_last_bought\"] = built_df[\"lga_id\"].astype(\"Int64\")\n",
    "built_df[\"cost_of_petrol_last_bought_naira\"] = built_df[\"cost_of_petrol_last_bought_naira\"].astype(\"Int64\")\n",
    "built_df"
   ],
   "metadata": {
    "collapsed": false,
    "ExecuteTime": {
     "end_time": "2024-06-28T09:28:44.598902Z",
     "start_time": "2024-06-28T09:28:44.589098Z"
    }
   },
   "id": "de62aef86b6449ea"
  },
  {
   "cell_type": "code",
   "execution_count": null,
   "outputs": [],
   "source": [
    "////"
   ],
   "metadata": {
    "collapsed": false
   },
   "id": "ad057dc01867caf9"
  },
  {
   "cell_type": "code",
   "execution_count": 16,
   "outputs": [],
   "source": [
    "# #get a unique id column from dfs with all hhids\n",
    "# for i in range(len(dfs)):\n",
    "#     working_df = dfs[i][[\"hhid\"]]\n",
    "#     if i == 0:\n",
    "#         built_df = working_df\n",
    "#     else:\n",
    "#         built_df = pd.concat([built_df, working_df], axis=0)\n",
    "# built_df.drop_duplicates(subset=\"individual_id\", inplace=True)\n",
    "# built_df"
   ],
   "metadata": {
    "collapsed": false,
    "ExecuteTime": {
     "end_time": "2024-06-27T21:40:06.153882Z",
     "start_time": "2024-06-27T21:40:06.148997Z"
    }
   },
   "id": "23d2e89859d57ca9"
  },
  {
   "cell_type": "code",
   "execution_count": 13,
   "outputs": [],
   "source": [
    "combined_df[\"liters_petrol_last_bought\"] = combined_df[\"liters_petrol_last_bought\"].astype(\"Int64\")\n",
    "combined_df[\"cost_of_petrol_last_bought_naira\"] = combined_df[\"cost_of_petrol_last_bought_naira\"].astype(\"Int64\")"
   ],
   "metadata": {
    "collapsed": false,
    "ExecuteTime": {
     "end_time": "2024-06-27T21:13:36.491452Z",
     "start_time": "2024-06-27T21:13:36.392754Z"
    }
   },
   "id": "dae1110ed2c28ea7"
  },
  {
   "cell_type": "code",
   "execution_count": 17,
   "outputs": [
    {
     "data": {
      "text/plain": "              lga_id someone_left someone_joined health_services_last_month  \\\nhousehold_id                                                                  \n10001            115          NaN            NaN                        NaN   \n10001            115          NaN            NaN                        NaN   \n10001            115          NaN            NaN                        NaN   \n10001            115          NaN            NaN                        NaN   \n10002            115          NaN            NaN                        NaN   \n...              ...          ...            ...                        ...   \n379143          3702           NO             NO                         NO   \n379144          3702          NaN            NaN                        NaN   \n379151          3702           NO             NO                        YES   \n379154          3702           NO             NO                         NO   \n379155          3702           NO             NO                         NO   \n\n             household_stil_in_state someone_moved_away bought_petrol_ever  \\\nhousehold_id                                                                 \n10001                            NaN                NaN                NaN   \n10001                            NaN                NaN                NaN   \n10001                            NaN                NaN                NaN   \n10001                            NaN                NaN                NaN   \n10002                            NaN                NaN                NaN   \n...                              ...                ...                ...   \n379143                           NaN                NaN                NaN   \n379144                           NaN                NaN                NaN   \n379151                           NaN                NaN                NaN   \n379154                           NaN                NaN                NaN   \n379155                           NaN                NaN                NaN   \n\n             when_bought_petrol  liters_petrol_last_bought  \\\nhousehold_id                                                 \n10001                       NaN                       <NA>   \n10001                       NaN                       <NA>   \n10001                       NaN                       <NA>   \n10001                       NaN                       <NA>   \n10002                       NaN                       <NA>   \n...                         ...                        ...   \n379143                      NaN                       <NA>   \n379144                      NaN                       <NA>   \n379151                      NaN                       <NA>   \n379154                      NaN                       <NA>   \n379155                      NaN                       <NA>   \n\n              cost_of_petrol_last_bought_naira  \\\nhousehold_id                                     \n10001                                     <NA>   \n10001                                     <NA>   \n10001                                     <NA>   \n10001                                     <NA>   \n10002                                     <NA>   \n...                                        ...   \n379143                                    <NA>   \n379144                                    <NA>   \n379151                                    <NA>   \n379154                                    <NA>   \n379155                                    <NA>   \n\n             changed_price_of_petrol_last_month food_consumption_last_month  \\\nhousehold_id                                                                  \n10001                                       NaN                         NaN   \n10001                                       NaN                         NaN   \n10001                                       NaN                         NaN   \n10001                                       NaN                         NaN   \n10002                                       NaN                         NaN   \n...                                         ...                         ...   \n379143                                      NaN                         NaN   \n379144                                      NaN                         NaN   \n379151                                      NaN                         NaN   \n379154                                      NaN                         NaN   \n379155                                      NaN                         NaN   \n\n             housing_last_month clothing_last_month  \\\nhousehold_id                                          \n10001                       NaN                 NaN   \n10001                       NaN                 NaN   \n10001                       NaN                 NaN   \n10001                       NaN                 NaN   \n10002                       NaN                 NaN   \n...                         ...                 ...   \n379143                      NaN                 NaN   \n379144                      NaN                 NaN   \n379151                      NaN                 NaN   \n379154                      NaN                 NaN   \n379155                      NaN                 NaN   \n\n             healthcare_standard_last_month how_getting_by_financially  \nhousehold_id                                                            \n10001                                   NaN                        NaN  \n10001                                   NaN                        NaN  \n10001                                   NaN                        NaN  \n10001                                   NaN                        NaN  \n10002                                   NaN                        NaN  \n...                                     ...                        ...  \n379143                                  NaN                        NaN  \n379144                                  NaN                        NaN  \n379151                                  NaN                        NaN  \n379154                                  NaN                        NaN  \n379155                                  NaN                        NaN  \n\n[546399 rows x 16 columns]",
      "text/html": "<div>\n<style scoped>\n    .dataframe tbody tr th:only-of-type {\n        vertical-align: middle;\n    }\n\n    .dataframe tbody tr th {\n        vertical-align: top;\n    }\n\n    .dataframe thead th {\n        text-align: right;\n    }\n</style>\n<table border=\"1\" class=\"dataframe\">\n  <thead>\n    <tr style=\"text-align: right;\">\n      <th></th>\n      <th>lga_id</th>\n      <th>someone_left</th>\n      <th>someone_joined</th>\n      <th>health_services_last_month</th>\n      <th>household_stil_in_state</th>\n      <th>someone_moved_away</th>\n      <th>bought_petrol_ever</th>\n      <th>when_bought_petrol</th>\n      <th>liters_petrol_last_bought</th>\n      <th>cost_of_petrol_last_bought_naira</th>\n      <th>changed_price_of_petrol_last_month</th>\n      <th>food_consumption_last_month</th>\n      <th>housing_last_month</th>\n      <th>clothing_last_month</th>\n      <th>healthcare_standard_last_month</th>\n      <th>how_getting_by_financially</th>\n    </tr>\n    <tr>\n      <th>household_id</th>\n      <th></th>\n      <th></th>\n      <th></th>\n      <th></th>\n      <th></th>\n      <th></th>\n      <th></th>\n      <th></th>\n      <th></th>\n      <th></th>\n      <th></th>\n      <th></th>\n      <th></th>\n      <th></th>\n      <th></th>\n      <th></th>\n    </tr>\n  </thead>\n  <tbody>\n    <tr>\n      <th>10001</th>\n      <td>115</td>\n      <td>NaN</td>\n      <td>NaN</td>\n      <td>NaN</td>\n      <td>NaN</td>\n      <td>NaN</td>\n      <td>NaN</td>\n      <td>NaN</td>\n      <td>&lt;NA&gt;</td>\n      <td>&lt;NA&gt;</td>\n      <td>NaN</td>\n      <td>NaN</td>\n      <td>NaN</td>\n      <td>NaN</td>\n      <td>NaN</td>\n      <td>NaN</td>\n    </tr>\n    <tr>\n      <th>10001</th>\n      <td>115</td>\n      <td>NaN</td>\n      <td>NaN</td>\n      <td>NaN</td>\n      <td>NaN</td>\n      <td>NaN</td>\n      <td>NaN</td>\n      <td>NaN</td>\n      <td>&lt;NA&gt;</td>\n      <td>&lt;NA&gt;</td>\n      <td>NaN</td>\n      <td>NaN</td>\n      <td>NaN</td>\n      <td>NaN</td>\n      <td>NaN</td>\n      <td>NaN</td>\n    </tr>\n    <tr>\n      <th>10001</th>\n      <td>115</td>\n      <td>NaN</td>\n      <td>NaN</td>\n      <td>NaN</td>\n      <td>NaN</td>\n      <td>NaN</td>\n      <td>NaN</td>\n      <td>NaN</td>\n      <td>&lt;NA&gt;</td>\n      <td>&lt;NA&gt;</td>\n      <td>NaN</td>\n      <td>NaN</td>\n      <td>NaN</td>\n      <td>NaN</td>\n      <td>NaN</td>\n      <td>NaN</td>\n    </tr>\n    <tr>\n      <th>10001</th>\n      <td>115</td>\n      <td>NaN</td>\n      <td>NaN</td>\n      <td>NaN</td>\n      <td>NaN</td>\n      <td>NaN</td>\n      <td>NaN</td>\n      <td>NaN</td>\n      <td>&lt;NA&gt;</td>\n      <td>&lt;NA&gt;</td>\n      <td>NaN</td>\n      <td>NaN</td>\n      <td>NaN</td>\n      <td>NaN</td>\n      <td>NaN</td>\n      <td>NaN</td>\n    </tr>\n    <tr>\n      <th>10002</th>\n      <td>115</td>\n      <td>NaN</td>\n      <td>NaN</td>\n      <td>NaN</td>\n      <td>NaN</td>\n      <td>NaN</td>\n      <td>NaN</td>\n      <td>NaN</td>\n      <td>&lt;NA&gt;</td>\n      <td>&lt;NA&gt;</td>\n      <td>NaN</td>\n      <td>NaN</td>\n      <td>NaN</td>\n      <td>NaN</td>\n      <td>NaN</td>\n      <td>NaN</td>\n    </tr>\n    <tr>\n      <th>...</th>\n      <td>...</td>\n      <td>...</td>\n      <td>...</td>\n      <td>...</td>\n      <td>...</td>\n      <td>...</td>\n      <td>...</td>\n      <td>...</td>\n      <td>...</td>\n      <td>...</td>\n      <td>...</td>\n      <td>...</td>\n      <td>...</td>\n      <td>...</td>\n      <td>...</td>\n      <td>...</td>\n    </tr>\n    <tr>\n      <th>379143</th>\n      <td>3702</td>\n      <td>NO</td>\n      <td>NO</td>\n      <td>NO</td>\n      <td>NaN</td>\n      <td>NaN</td>\n      <td>NaN</td>\n      <td>NaN</td>\n      <td>&lt;NA&gt;</td>\n      <td>&lt;NA&gt;</td>\n      <td>NaN</td>\n      <td>NaN</td>\n      <td>NaN</td>\n      <td>NaN</td>\n      <td>NaN</td>\n      <td>NaN</td>\n    </tr>\n    <tr>\n      <th>379144</th>\n      <td>3702</td>\n      <td>NaN</td>\n      <td>NaN</td>\n      <td>NaN</td>\n      <td>NaN</td>\n      <td>NaN</td>\n      <td>NaN</td>\n      <td>NaN</td>\n      <td>&lt;NA&gt;</td>\n      <td>&lt;NA&gt;</td>\n      <td>NaN</td>\n      <td>NaN</td>\n      <td>NaN</td>\n      <td>NaN</td>\n      <td>NaN</td>\n      <td>NaN</td>\n    </tr>\n    <tr>\n      <th>379151</th>\n      <td>3702</td>\n      <td>NO</td>\n      <td>NO</td>\n      <td>YES</td>\n      <td>NaN</td>\n      <td>NaN</td>\n      <td>NaN</td>\n      <td>NaN</td>\n      <td>&lt;NA&gt;</td>\n      <td>&lt;NA&gt;</td>\n      <td>NaN</td>\n      <td>NaN</td>\n      <td>NaN</td>\n      <td>NaN</td>\n      <td>NaN</td>\n      <td>NaN</td>\n    </tr>\n    <tr>\n      <th>379154</th>\n      <td>3702</td>\n      <td>NO</td>\n      <td>NO</td>\n      <td>NO</td>\n      <td>NaN</td>\n      <td>NaN</td>\n      <td>NaN</td>\n      <td>NaN</td>\n      <td>&lt;NA&gt;</td>\n      <td>&lt;NA&gt;</td>\n      <td>NaN</td>\n      <td>NaN</td>\n      <td>NaN</td>\n      <td>NaN</td>\n      <td>NaN</td>\n      <td>NaN</td>\n    </tr>\n    <tr>\n      <th>379155</th>\n      <td>3702</td>\n      <td>NO</td>\n      <td>NO</td>\n      <td>NO</td>\n      <td>NaN</td>\n      <td>NaN</td>\n      <td>NaN</td>\n      <td>NaN</td>\n      <td>&lt;NA&gt;</td>\n      <td>&lt;NA&gt;</td>\n      <td>NaN</td>\n      <td>NaN</td>\n      <td>NaN</td>\n      <td>NaN</td>\n      <td>NaN</td>\n      <td>NaN</td>\n    </tr>\n  </tbody>\n</table>\n<p>546399 rows × 16 columns</p>\n</div>"
     },
     "execution_count": 17,
     "metadata": {},
     "output_type": "execute_result"
    }
   ],
   "source": [
    "combined_df"
   ],
   "metadata": {
    "collapsed": false,
    "ExecuteTime": {
     "end_time": "2024-06-27T21:40:08.051156Z",
     "start_time": "2024-06-27T21:40:08.040873Z"
    }
   },
   "id": "1528593e9e6a4340"
  },
  {
   "cell_type": "code",
   "execution_count": 24,
   "outputs": [
    {
     "data": {
      "text/plain": "       household_id  lga_id someone_left someone_joined  \\\n0             10001     115          NaN            NaN   \n1             10009     105          NaN            NaN   \n2             10031     111          NaN            NaN   \n3             10051     102          NaN            NaN   \n4             10063     107          NaN            NaN   \n...             ...     ...          ...            ...   \n10043        269059    2615          YES             NO   \n10127        290009    2930           NO            YES   \n10435        139071    1307          YES             NO   \n10490        209022    2009           NO             NO   \n10540        300019    3007           NO             NO   \n\n      health_services_last_month household_stil_in_state someone_moved_away  \\\n0                            NaN                     NaN                NaN   \n1                            NaN                     NaN                NaN   \n2                            NaN                     NaN                NaN   \n3                            NaN                     NaN                NaN   \n4                            NaN                     NaN                NaN   \n...                          ...                     ...                ...   \n10043                        NaN                     NaN                NaN   \n10127                        NaN                     NaN                NaN   \n10435                        YES                     NaN                NaN   \n10490                         NO                     NaN                NaN   \n10540                        YES                     NaN                NaN   \n\n      bought_petrol_ever when_bought_petrol  liters_petrol_last_bought  \\\n0                    NaN                NaN                       <NA>   \n1                    NaN                NaN                       <NA>   \n2                    NaN                NaN                       <NA>   \n3                    NaN                NaN                       <NA>   \n4                    NaN                NaN                       <NA>   \n...                  ...                ...                        ...   \n10043                NaN                NaN                       <NA>   \n10127                YES        PAST 7 DAYS                          2   \n10435                NaN                NaN                       <NA>   \n10490                NaN                NaN                       <NA>   \n10540                NaN                NaN                       <NA>   \n\n       cost_of_petrol_last_bought_naira changed_price_of_petrol_last_month  \\\n0                                  <NA>                                NaN   \n1                                  <NA>                                NaN   \n2                                  <NA>                                NaN   \n3                                  <NA>                                NaN   \n4                                  <NA>                                NaN   \n...                                 ...                                ...   \n10043                              <NA>                                NaN   \n10127                               800                          INCREASED   \n10435                              <NA>                                NaN   \n10490                              <NA>                                NaN   \n10540                              <NA>                                NaN   \n\n      food_consumption_last_month housing_last_month clothing_last_month  \\\n0                             NaN                NaN                 NaN   \n1                             NaN                NaN                 NaN   \n2                             NaN                NaN                 NaN   \n3                             NaN                NaN                 NaN   \n4                             NaN                NaN                 NaN   \n...                           ...                ...                 ...   \n10043                         NaN                NaN                 NaN   \n10127                         NaN                NaN                 NaN   \n10435                         NaN                NaN                 NaN   \n10490                         NaN                NaN                 NaN   \n10540                         NaN                NaN                 NaN   \n\n      healthcare_standard_last_month how_getting_by_financially  \n0                                NaN                        NaN  \n1                                NaN                        NaN  \n2                                NaN                        NaN  \n3                                NaN                        NaN  \n4                                NaN                        NaN  \n...                              ...                        ...  \n10043                            NaN                        NaN  \n10127                            NaN                        NaN  \n10435                            NaN                        NaN  \n10490                            NaN                        NaN  \n10540                            NaN                        NaN  \n\n[2783 rows x 17 columns]",
      "text/html": "<div>\n<style scoped>\n    .dataframe tbody tr th:only-of-type {\n        vertical-align: middle;\n    }\n\n    .dataframe tbody tr th {\n        vertical-align: top;\n    }\n\n    .dataframe thead th {\n        text-align: right;\n    }\n</style>\n<table border=\"1\" class=\"dataframe\">\n  <thead>\n    <tr style=\"text-align: right;\">\n      <th></th>\n      <th>household_id</th>\n      <th>lga_id</th>\n      <th>someone_left</th>\n      <th>someone_joined</th>\n      <th>health_services_last_month</th>\n      <th>household_stil_in_state</th>\n      <th>someone_moved_away</th>\n      <th>bought_petrol_ever</th>\n      <th>when_bought_petrol</th>\n      <th>liters_petrol_last_bought</th>\n      <th>cost_of_petrol_last_bought_naira</th>\n      <th>changed_price_of_petrol_last_month</th>\n      <th>food_consumption_last_month</th>\n      <th>housing_last_month</th>\n      <th>clothing_last_month</th>\n      <th>healthcare_standard_last_month</th>\n      <th>how_getting_by_financially</th>\n    </tr>\n  </thead>\n  <tbody>\n    <tr>\n      <th>0</th>\n      <td>10001</td>\n      <td>115</td>\n      <td>NaN</td>\n      <td>NaN</td>\n      <td>NaN</td>\n      <td>NaN</td>\n      <td>NaN</td>\n      <td>NaN</td>\n      <td>NaN</td>\n      <td>&lt;NA&gt;</td>\n      <td>&lt;NA&gt;</td>\n      <td>NaN</td>\n      <td>NaN</td>\n      <td>NaN</td>\n      <td>NaN</td>\n      <td>NaN</td>\n      <td>NaN</td>\n    </tr>\n    <tr>\n      <th>1</th>\n      <td>10009</td>\n      <td>105</td>\n      <td>NaN</td>\n      <td>NaN</td>\n      <td>NaN</td>\n      <td>NaN</td>\n      <td>NaN</td>\n      <td>NaN</td>\n      <td>NaN</td>\n      <td>&lt;NA&gt;</td>\n      <td>&lt;NA&gt;</td>\n      <td>NaN</td>\n      <td>NaN</td>\n      <td>NaN</td>\n      <td>NaN</td>\n      <td>NaN</td>\n      <td>NaN</td>\n    </tr>\n    <tr>\n      <th>2</th>\n      <td>10031</td>\n      <td>111</td>\n      <td>NaN</td>\n      <td>NaN</td>\n      <td>NaN</td>\n      <td>NaN</td>\n      <td>NaN</td>\n      <td>NaN</td>\n      <td>NaN</td>\n      <td>&lt;NA&gt;</td>\n      <td>&lt;NA&gt;</td>\n      <td>NaN</td>\n      <td>NaN</td>\n      <td>NaN</td>\n      <td>NaN</td>\n      <td>NaN</td>\n      <td>NaN</td>\n    </tr>\n    <tr>\n      <th>3</th>\n      <td>10051</td>\n      <td>102</td>\n      <td>NaN</td>\n      <td>NaN</td>\n      <td>NaN</td>\n      <td>NaN</td>\n      <td>NaN</td>\n      <td>NaN</td>\n      <td>NaN</td>\n      <td>&lt;NA&gt;</td>\n      <td>&lt;NA&gt;</td>\n      <td>NaN</td>\n      <td>NaN</td>\n      <td>NaN</td>\n      <td>NaN</td>\n      <td>NaN</td>\n      <td>NaN</td>\n    </tr>\n    <tr>\n      <th>4</th>\n      <td>10063</td>\n      <td>107</td>\n      <td>NaN</td>\n      <td>NaN</td>\n      <td>NaN</td>\n      <td>NaN</td>\n      <td>NaN</td>\n      <td>NaN</td>\n      <td>NaN</td>\n      <td>&lt;NA&gt;</td>\n      <td>&lt;NA&gt;</td>\n      <td>NaN</td>\n      <td>NaN</td>\n      <td>NaN</td>\n      <td>NaN</td>\n      <td>NaN</td>\n      <td>NaN</td>\n    </tr>\n    <tr>\n      <th>...</th>\n      <td>...</td>\n      <td>...</td>\n      <td>...</td>\n      <td>...</td>\n      <td>...</td>\n      <td>...</td>\n      <td>...</td>\n      <td>...</td>\n      <td>...</td>\n      <td>...</td>\n      <td>...</td>\n      <td>...</td>\n      <td>...</td>\n      <td>...</td>\n      <td>...</td>\n      <td>...</td>\n      <td>...</td>\n    </tr>\n    <tr>\n      <th>10043</th>\n      <td>269059</td>\n      <td>2615</td>\n      <td>YES</td>\n      <td>NO</td>\n      <td>NaN</td>\n      <td>NaN</td>\n      <td>NaN</td>\n      <td>NaN</td>\n      <td>NaN</td>\n      <td>&lt;NA&gt;</td>\n      <td>&lt;NA&gt;</td>\n      <td>NaN</td>\n      <td>NaN</td>\n      <td>NaN</td>\n      <td>NaN</td>\n      <td>NaN</td>\n      <td>NaN</td>\n    </tr>\n    <tr>\n      <th>10127</th>\n      <td>290009</td>\n      <td>2930</td>\n      <td>NO</td>\n      <td>YES</td>\n      <td>NaN</td>\n      <td>NaN</td>\n      <td>NaN</td>\n      <td>YES</td>\n      <td>PAST 7 DAYS</td>\n      <td>2</td>\n      <td>800</td>\n      <td>INCREASED</td>\n      <td>NaN</td>\n      <td>NaN</td>\n      <td>NaN</td>\n      <td>NaN</td>\n      <td>NaN</td>\n    </tr>\n    <tr>\n      <th>10435</th>\n      <td>139071</td>\n      <td>1307</td>\n      <td>YES</td>\n      <td>NO</td>\n      <td>YES</td>\n      <td>NaN</td>\n      <td>NaN</td>\n      <td>NaN</td>\n      <td>NaN</td>\n      <td>&lt;NA&gt;</td>\n      <td>&lt;NA&gt;</td>\n      <td>NaN</td>\n      <td>NaN</td>\n      <td>NaN</td>\n      <td>NaN</td>\n      <td>NaN</td>\n      <td>NaN</td>\n    </tr>\n    <tr>\n      <th>10490</th>\n      <td>209022</td>\n      <td>2009</td>\n      <td>NO</td>\n      <td>NO</td>\n      <td>NO</td>\n      <td>NaN</td>\n      <td>NaN</td>\n      <td>NaN</td>\n      <td>NaN</td>\n      <td>&lt;NA&gt;</td>\n      <td>&lt;NA&gt;</td>\n      <td>NaN</td>\n      <td>NaN</td>\n      <td>NaN</td>\n      <td>NaN</td>\n      <td>NaN</td>\n      <td>NaN</td>\n    </tr>\n    <tr>\n      <th>10540</th>\n      <td>300019</td>\n      <td>3007</td>\n      <td>NO</td>\n      <td>NO</td>\n      <td>YES</td>\n      <td>NaN</td>\n      <td>NaN</td>\n      <td>NaN</td>\n      <td>NaN</td>\n      <td>&lt;NA&gt;</td>\n      <td>&lt;NA&gt;</td>\n      <td>NaN</td>\n      <td>NaN</td>\n      <td>NaN</td>\n      <td>NaN</td>\n      <td>NaN</td>\n      <td>NaN</td>\n    </tr>\n  </tbody>\n</table>\n<p>2783 rows × 17 columns</p>\n</div>"
     },
     "execution_count": 24,
     "metadata": {},
     "output_type": "execute_result"
    }
   ],
   "source": [
    "combined_df.drop_duplicates(subset = \"household_id\", keep=\"first\", inplace=True)\n",
    "combined_df"
   ],
   "metadata": {
    "collapsed": false,
    "ExecuteTime": {
     "end_time": "2024-06-27T21:47:43.882087Z",
     "start_time": "2024-06-27T21:47:43.861042Z"
    }
   },
   "id": "77dfbc6924e94194"
  },
  {
   "cell_type": "code",
   "execution_count": 25,
   "outputs": [],
   "source": [
    "combined_df.set_index(\"household_id\", inplace=True)"
   ],
   "metadata": {
    "collapsed": false,
    "ExecuteTime": {
     "end_time": "2024-06-27T21:48:14.429915Z",
     "start_time": "2024-06-27T21:48:14.419565Z"
    }
   },
   "id": "b1570c4dfe93cbab"
  },
  {
   "cell_type": "code",
   "execution_count": 26,
   "outputs": [
    {
     "data": {
      "text/plain": "              lga_id someone_left someone_joined health_services_last_month  \\\nhousehold_id                                                                  \n10001            115          NaN            NaN                        NaN   \n10009            105          NaN            NaN                        NaN   \n10031            111          NaN            NaN                        NaN   \n10051            102          NaN            NaN                        NaN   \n10063            107          NaN            NaN                        NaN   \n...              ...          ...            ...                        ...   \n269059          2615          YES             NO                        NaN   \n290009          2930           NO            YES                        NaN   \n139071          1307          YES             NO                        YES   \n209022          2009           NO             NO                         NO   \n300019          3007           NO             NO                        YES   \n\n             household_stil_in_state someone_moved_away bought_petrol_ever  \\\nhousehold_id                                                                 \n10001                            NaN                NaN                NaN   \n10009                            NaN                NaN                NaN   \n10031                            NaN                NaN                NaN   \n10051                            NaN                NaN                NaN   \n10063                            NaN                NaN                NaN   \n...                              ...                ...                ...   \n269059                           NaN                NaN                NaN   \n290009                           NaN                NaN                YES   \n139071                           NaN                NaN                NaN   \n209022                           NaN                NaN                NaN   \n300019                           NaN                NaN                NaN   \n\n             when_bought_petrol  liters_petrol_last_bought  \\\nhousehold_id                                                 \n10001                       NaN                       <NA>   \n10009                       NaN                       <NA>   \n10031                       NaN                       <NA>   \n10051                       NaN                       <NA>   \n10063                       NaN                       <NA>   \n...                         ...                        ...   \n269059                      NaN                       <NA>   \n290009              PAST 7 DAYS                          2   \n139071                      NaN                       <NA>   \n209022                      NaN                       <NA>   \n300019                      NaN                       <NA>   \n\n              cost_of_petrol_last_bought_naira  \\\nhousehold_id                                     \n10001                                     <NA>   \n10009                                     <NA>   \n10031                                     <NA>   \n10051                                     <NA>   \n10063                                     <NA>   \n...                                        ...   \n269059                                    <NA>   \n290009                                     800   \n139071                                    <NA>   \n209022                                    <NA>   \n300019                                    <NA>   \n\n             changed_price_of_petrol_last_month food_consumption_last_month  \\\nhousehold_id                                                                  \n10001                                       NaN                         NaN   \n10009                                       NaN                         NaN   \n10031                                       NaN                         NaN   \n10051                                       NaN                         NaN   \n10063                                       NaN                         NaN   \n...                                         ...                         ...   \n269059                                      NaN                         NaN   \n290009                                INCREASED                         NaN   \n139071                                      NaN                         NaN   \n209022                                      NaN                         NaN   \n300019                                      NaN                         NaN   \n\n             housing_last_month clothing_last_month  \\\nhousehold_id                                          \n10001                       NaN                 NaN   \n10009                       NaN                 NaN   \n10031                       NaN                 NaN   \n10051                       NaN                 NaN   \n10063                       NaN                 NaN   \n...                         ...                 ...   \n269059                      NaN                 NaN   \n290009                      NaN                 NaN   \n139071                      NaN                 NaN   \n209022                      NaN                 NaN   \n300019                      NaN                 NaN   \n\n             healthcare_standard_last_month how_getting_by_financially  \nhousehold_id                                                            \n10001                                   NaN                        NaN  \n10009                                   NaN                        NaN  \n10031                                   NaN                        NaN  \n10051                                   NaN                        NaN  \n10063                                   NaN                        NaN  \n...                                     ...                        ...  \n269059                                  NaN                        NaN  \n290009                                  NaN                        NaN  \n139071                                  NaN                        NaN  \n209022                                  NaN                        NaN  \n300019                                  NaN                        NaN  \n\n[2783 rows x 16 columns]",
      "text/html": "<div>\n<style scoped>\n    .dataframe tbody tr th:only-of-type {\n        vertical-align: middle;\n    }\n\n    .dataframe tbody tr th {\n        vertical-align: top;\n    }\n\n    .dataframe thead th {\n        text-align: right;\n    }\n</style>\n<table border=\"1\" class=\"dataframe\">\n  <thead>\n    <tr style=\"text-align: right;\">\n      <th></th>\n      <th>lga_id</th>\n      <th>someone_left</th>\n      <th>someone_joined</th>\n      <th>health_services_last_month</th>\n      <th>household_stil_in_state</th>\n      <th>someone_moved_away</th>\n      <th>bought_petrol_ever</th>\n      <th>when_bought_petrol</th>\n      <th>liters_petrol_last_bought</th>\n      <th>cost_of_petrol_last_bought_naira</th>\n      <th>changed_price_of_petrol_last_month</th>\n      <th>food_consumption_last_month</th>\n      <th>housing_last_month</th>\n      <th>clothing_last_month</th>\n      <th>healthcare_standard_last_month</th>\n      <th>how_getting_by_financially</th>\n    </tr>\n    <tr>\n      <th>household_id</th>\n      <th></th>\n      <th></th>\n      <th></th>\n      <th></th>\n      <th></th>\n      <th></th>\n      <th></th>\n      <th></th>\n      <th></th>\n      <th></th>\n      <th></th>\n      <th></th>\n      <th></th>\n      <th></th>\n      <th></th>\n      <th></th>\n    </tr>\n  </thead>\n  <tbody>\n    <tr>\n      <th>10001</th>\n      <td>115</td>\n      <td>NaN</td>\n      <td>NaN</td>\n      <td>NaN</td>\n      <td>NaN</td>\n      <td>NaN</td>\n      <td>NaN</td>\n      <td>NaN</td>\n      <td>&lt;NA&gt;</td>\n      <td>&lt;NA&gt;</td>\n      <td>NaN</td>\n      <td>NaN</td>\n      <td>NaN</td>\n      <td>NaN</td>\n      <td>NaN</td>\n      <td>NaN</td>\n    </tr>\n    <tr>\n      <th>10009</th>\n      <td>105</td>\n      <td>NaN</td>\n      <td>NaN</td>\n      <td>NaN</td>\n      <td>NaN</td>\n      <td>NaN</td>\n      <td>NaN</td>\n      <td>NaN</td>\n      <td>&lt;NA&gt;</td>\n      <td>&lt;NA&gt;</td>\n      <td>NaN</td>\n      <td>NaN</td>\n      <td>NaN</td>\n      <td>NaN</td>\n      <td>NaN</td>\n      <td>NaN</td>\n    </tr>\n    <tr>\n      <th>10031</th>\n      <td>111</td>\n      <td>NaN</td>\n      <td>NaN</td>\n      <td>NaN</td>\n      <td>NaN</td>\n      <td>NaN</td>\n      <td>NaN</td>\n      <td>NaN</td>\n      <td>&lt;NA&gt;</td>\n      <td>&lt;NA&gt;</td>\n      <td>NaN</td>\n      <td>NaN</td>\n      <td>NaN</td>\n      <td>NaN</td>\n      <td>NaN</td>\n      <td>NaN</td>\n    </tr>\n    <tr>\n      <th>10051</th>\n      <td>102</td>\n      <td>NaN</td>\n      <td>NaN</td>\n      <td>NaN</td>\n      <td>NaN</td>\n      <td>NaN</td>\n      <td>NaN</td>\n      <td>NaN</td>\n      <td>&lt;NA&gt;</td>\n      <td>&lt;NA&gt;</td>\n      <td>NaN</td>\n      <td>NaN</td>\n      <td>NaN</td>\n      <td>NaN</td>\n      <td>NaN</td>\n      <td>NaN</td>\n    </tr>\n    <tr>\n      <th>10063</th>\n      <td>107</td>\n      <td>NaN</td>\n      <td>NaN</td>\n      <td>NaN</td>\n      <td>NaN</td>\n      <td>NaN</td>\n      <td>NaN</td>\n      <td>NaN</td>\n      <td>&lt;NA&gt;</td>\n      <td>&lt;NA&gt;</td>\n      <td>NaN</td>\n      <td>NaN</td>\n      <td>NaN</td>\n      <td>NaN</td>\n      <td>NaN</td>\n      <td>NaN</td>\n    </tr>\n    <tr>\n      <th>...</th>\n      <td>...</td>\n      <td>...</td>\n      <td>...</td>\n      <td>...</td>\n      <td>...</td>\n      <td>...</td>\n      <td>...</td>\n      <td>...</td>\n      <td>...</td>\n      <td>...</td>\n      <td>...</td>\n      <td>...</td>\n      <td>...</td>\n      <td>...</td>\n      <td>...</td>\n      <td>...</td>\n    </tr>\n    <tr>\n      <th>269059</th>\n      <td>2615</td>\n      <td>YES</td>\n      <td>NO</td>\n      <td>NaN</td>\n      <td>NaN</td>\n      <td>NaN</td>\n      <td>NaN</td>\n      <td>NaN</td>\n      <td>&lt;NA&gt;</td>\n      <td>&lt;NA&gt;</td>\n      <td>NaN</td>\n      <td>NaN</td>\n      <td>NaN</td>\n      <td>NaN</td>\n      <td>NaN</td>\n      <td>NaN</td>\n    </tr>\n    <tr>\n      <th>290009</th>\n      <td>2930</td>\n      <td>NO</td>\n      <td>YES</td>\n      <td>NaN</td>\n      <td>NaN</td>\n      <td>NaN</td>\n      <td>YES</td>\n      <td>PAST 7 DAYS</td>\n      <td>2</td>\n      <td>800</td>\n      <td>INCREASED</td>\n      <td>NaN</td>\n      <td>NaN</td>\n      <td>NaN</td>\n      <td>NaN</td>\n      <td>NaN</td>\n    </tr>\n    <tr>\n      <th>139071</th>\n      <td>1307</td>\n      <td>YES</td>\n      <td>NO</td>\n      <td>YES</td>\n      <td>NaN</td>\n      <td>NaN</td>\n      <td>NaN</td>\n      <td>NaN</td>\n      <td>&lt;NA&gt;</td>\n      <td>&lt;NA&gt;</td>\n      <td>NaN</td>\n      <td>NaN</td>\n      <td>NaN</td>\n      <td>NaN</td>\n      <td>NaN</td>\n      <td>NaN</td>\n    </tr>\n    <tr>\n      <th>209022</th>\n      <td>2009</td>\n      <td>NO</td>\n      <td>NO</td>\n      <td>NO</td>\n      <td>NaN</td>\n      <td>NaN</td>\n      <td>NaN</td>\n      <td>NaN</td>\n      <td>&lt;NA&gt;</td>\n      <td>&lt;NA&gt;</td>\n      <td>NaN</td>\n      <td>NaN</td>\n      <td>NaN</td>\n      <td>NaN</td>\n      <td>NaN</td>\n      <td>NaN</td>\n    </tr>\n    <tr>\n      <th>300019</th>\n      <td>3007</td>\n      <td>NO</td>\n      <td>NO</td>\n      <td>YES</td>\n      <td>NaN</td>\n      <td>NaN</td>\n      <td>NaN</td>\n      <td>NaN</td>\n      <td>&lt;NA&gt;</td>\n      <td>&lt;NA&gt;</td>\n      <td>NaN</td>\n      <td>NaN</td>\n      <td>NaN</td>\n      <td>NaN</td>\n      <td>NaN</td>\n      <td>NaN</td>\n    </tr>\n  </tbody>\n</table>\n<p>2783 rows × 16 columns</p>\n</div>"
     },
     "execution_count": 26,
     "metadata": {},
     "output_type": "execute_result"
    }
   ],
   "source": [
    "combined_df"
   ],
   "metadata": {
    "collapsed": false,
    "ExecuteTime": {
     "end_time": "2024-06-27T21:48:18.322850Z",
     "start_time": "2024-06-27T21:48:18.303277Z"
    }
   },
   "id": "21732e4e60a9e944"
  },
  {
   "cell_type": "code",
   "execution_count": 27,
   "outputs": [],
   "source": [
    "combined_df.to_csv(\"../data/processed/households_table/households.csv\")"
   ],
   "metadata": {
    "collapsed": false,
    "ExecuteTime": {
     "end_time": "2024-06-27T21:48:20.536242Z",
     "start_time": "2024-06-27T21:48:20.521657Z"
    }
   },
   "id": "c2015467148cc28d"
  },
  {
   "cell_type": "code",
   "execution_count": 18,
   "outputs": [],
   "source": [
    "built_df.set_index(\"household_id\", inplace=True)"
   ],
   "metadata": {
    "collapsed": false,
    "ExecuteTime": {
     "end_time": "2024-06-28T10:01:54.695770Z",
     "start_time": "2024-06-28T10:01:54.678552Z"
    }
   },
   "id": "8f5821be9f77619b"
  },
  {
   "cell_type": "code",
   "execution_count": 20,
   "outputs": [],
   "source": [
    "built_df.to_csv(\"../data/processed/households_table/households_improved.csv\")"
   ],
   "metadata": {
    "collapsed": false,
    "ExecuteTime": {
     "end_time": "2024-06-28T10:01:59.124797Z",
     "start_time": "2024-06-28T10:01:59.103643Z"
    }
   },
   "id": "a4a378ecdaa57fd"
  },
  {
   "cell_type": "code",
   "execution_count": null,
   "outputs": [],
   "source": [],
   "metadata": {
    "collapsed": false
   },
   "id": "ba3ad24dbb631249"
  }
 ],
 "metadata": {
  "kernelspec": {
   "display_name": "Python 3",
   "language": "python",
   "name": "python3"
  },
  "language_info": {
   "codemirror_mode": {
    "name": "ipython",
    "version": 2
   },
   "file_extension": ".py",
   "mimetype": "text/x-python",
   "name": "python",
   "nbconvert_exporter": "python",
   "pygments_lexer": "ipython2",
   "version": "2.7.6"
  }
 },
 "nbformat": 4,
 "nbformat_minor": 5
}
