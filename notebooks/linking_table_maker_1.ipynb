{
 "cells": [
  {
   "cell_type": "code",
   "execution_count": 112,
   "id": "initial_id",
   "metadata": {
    "collapsed": true,
    "ExecuteTime": {
     "end_time": "2024-05-28T22:16:55.332716Z",
     "start_time": "2024-05-28T22:16:55.314488Z"
    }
   },
   "outputs": [],
   "source": [
    "import pandas as pd\n",
    "import os"
   ]
  },
  {
   "cell_type": "code",
   "execution_count": 113,
   "outputs": [],
   "source": [
    "def read_csv(path: str) -> pd.DataFrame:\n",
    "    root_path = \"../data/raw\"\n",
    "    full_path = root_path + \"/\" +  path\n",
    "    df = pd.read_csv(full_path)\n",
    "    return df"
   ],
   "metadata": {
    "collapsed": false,
    "ExecuteTime": {
     "end_time": "2024-05-28T22:16:55.333632Z",
     "start_time": "2024-05-28T22:16:55.318746Z"
    }
   },
   "id": "dc6a798d9f52475b"
  },
  {
   "cell_type": "markdown",
   "source": [
    "<h1>Create Linking Tables for All Regional Data</h1>\n",
    "Obtain dfs in which every unique zone, state, and lga are represented.\n",
    "<ol>\n",
    "    <li>There are 6 unique geopolitical zones</li>\n",
    "    <li>There are 36 unique states, plus Federal Capital Territory, so potentially 37</li>\n",
    "    <li>there are 774 unique LGAs</li>\n",
    "</ol>"
   ],
   "metadata": {
    "collapsed": false
   },
   "id": "5d47e982e16ddbbc"
  },
  {
   "cell_type": "code",
   "execution_count": 114,
   "outputs": [
    {
     "data": {
      "text/plain": "zone        6\nstate      37\nlga       386\nsector      2\ndtype: int64"
     },
     "execution_count": 114,
     "metadata": {},
     "output_type": "execute_result"
    }
   ],
   "source": [
    "# Open a file, and identify whether or not every zone, state, and lga is represented\n",
    "# In this one, we can see that all zones and states are represented, but not all lgas. We will use it to create the linking table of zone to state.\n",
    "path = \"p2r6_sect_a_2_5_6_8_11b_12.csv\"\n",
    "df = read_csv(path=path)\n",
    "df = df[[\"zone\", \"state\", \"lga\", \"sector\"]]\n",
    "df.nunique()"
   ],
   "metadata": {
    "collapsed": false,
    "ExecuteTime": {
     "end_time": "2024-05-28T22:16:55.355778Z",
     "start_time": "2024-05-28T22:16:55.322702Z"
    }
   },
   "id": "f99d46887d8c78d7"
  },
  {
   "cell_type": "code",
   "execution_count": 115,
   "outputs": [
    {
     "data": {
      "text/plain": "Empty DataFrame\nColumns: [unique_zone]\nIndex: []",
      "text/html": "<div>\n<style scoped>\n    .dataframe tbody tr th:only-of-type {\n        vertical-align: middle;\n    }\n\n    .dataframe tbody tr th {\n        vertical-align: top;\n    }\n\n    .dataframe thead th {\n        text-align: right;\n    }\n</style>\n<table border=\"1\" class=\"dataframe\">\n  <thead>\n    <tr style=\"text-align: right;\">\n      <th></th>\n      <th>unique_zone</th>\n    </tr>\n    <tr>\n      <th>state</th>\n      <th></th>\n    </tr>\n  </thead>\n  <tbody>\n  </tbody>\n</table>\n</div>"
     },
     "execution_count": 115,
     "metadata": {},
     "output_type": "execute_result"
    }
   ],
   "source": [
    "# ZONE TO STATE\n",
    "# Check to make sure there is no overlapping data; that the relationship of zone to state is one-to-many\n",
    "# Beecause our grouped dataframe below is empty, we can be sure this is the case and can continue to the next step\n",
    "grouped = df.groupby(by=\"state\").agg(unique_zone=(\"zone\", \"nunique\"))\n",
    "grouped[grouped[\"unique_zone\"] > 1]"
   ],
   "metadata": {
    "collapsed": false,
    "ExecuteTime": {
     "end_time": "2024-05-28T22:16:55.356095Z",
     "start_time": "2024-05-28T22:16:55.345070Z"
    }
   },
   "id": "631f2782c418c64a"
  },
  {
   "cell_type": "code",
   "execution_count": 116,
   "outputs": [
    {
     "name": "stdout",
     "output_type": "stream",
     "text": [
      "2799\n",
      "37\n",
      "[1, 2, 3, 4, 5, 6]\n",
      "[1, 2, 3, 4, 5, 6, 7, 8, 9, 10, 11, 12, 13, 14, 15, 16, 17, 18, 19, 20, 21, 22, 23, 24, 25, 26, 27, 28, 29, 30, 31, 32, 33, 34, 35, 36, 37]\n"
     ]
    },
    {
     "data": {
      "text/plain": "          zone_id\nstate_id         \n1               4\n2               2\n34              2\n3               5\n12              5\n4               4\n24              6\n5               2\n31              1\n6               5\n25              1\n7               1\n8               2\n9               5\n10              5\n11              4\n13              6\n14              4\n15              2\n16              4\n17              3\n18              3\n20              3\n19              3\n21              3\n22              1\n23              1\n27              6\n26              1\n28              6\n29              6\n30              6\n37              1\n32              5\n33              3\n35              2\n36              3",
      "text/html": "<div>\n<style scoped>\n    .dataframe tbody tr th:only-of-type {\n        vertical-align: middle;\n    }\n\n    .dataframe tbody tr th {\n        vertical-align: top;\n    }\n\n    .dataframe thead th {\n        text-align: right;\n    }\n</style>\n<table border=\"1\" class=\"dataframe\">\n  <thead>\n    <tr style=\"text-align: right;\">\n      <th></th>\n      <th>zone_id</th>\n    </tr>\n    <tr>\n      <th>state_id</th>\n      <th></th>\n    </tr>\n  </thead>\n  <tbody>\n    <tr>\n      <th>1</th>\n      <td>4</td>\n    </tr>\n    <tr>\n      <th>2</th>\n      <td>2</td>\n    </tr>\n    <tr>\n      <th>34</th>\n      <td>2</td>\n    </tr>\n    <tr>\n      <th>3</th>\n      <td>5</td>\n    </tr>\n    <tr>\n      <th>12</th>\n      <td>5</td>\n    </tr>\n    <tr>\n      <th>4</th>\n      <td>4</td>\n    </tr>\n    <tr>\n      <th>24</th>\n      <td>6</td>\n    </tr>\n    <tr>\n      <th>5</th>\n      <td>2</td>\n    </tr>\n    <tr>\n      <th>31</th>\n      <td>1</td>\n    </tr>\n    <tr>\n      <th>6</th>\n      <td>5</td>\n    </tr>\n    <tr>\n      <th>25</th>\n      <td>1</td>\n    </tr>\n    <tr>\n      <th>7</th>\n      <td>1</td>\n    </tr>\n    <tr>\n      <th>8</th>\n      <td>2</td>\n    </tr>\n    <tr>\n      <th>9</th>\n      <td>5</td>\n    </tr>\n    <tr>\n      <th>10</th>\n      <td>5</td>\n    </tr>\n    <tr>\n      <th>11</th>\n      <td>4</td>\n    </tr>\n    <tr>\n      <th>13</th>\n      <td>6</td>\n    </tr>\n    <tr>\n      <th>14</th>\n      <td>4</td>\n    </tr>\n    <tr>\n      <th>15</th>\n      <td>2</td>\n    </tr>\n    <tr>\n      <th>16</th>\n      <td>4</td>\n    </tr>\n    <tr>\n      <th>17</th>\n      <td>3</td>\n    </tr>\n    <tr>\n      <th>18</th>\n      <td>3</td>\n    </tr>\n    <tr>\n      <th>20</th>\n      <td>3</td>\n    </tr>\n    <tr>\n      <th>19</th>\n      <td>3</td>\n    </tr>\n    <tr>\n      <th>21</th>\n      <td>3</td>\n    </tr>\n    <tr>\n      <th>22</th>\n      <td>1</td>\n    </tr>\n    <tr>\n      <th>23</th>\n      <td>1</td>\n    </tr>\n    <tr>\n      <th>27</th>\n      <td>6</td>\n    </tr>\n    <tr>\n      <th>26</th>\n      <td>1</td>\n    </tr>\n    <tr>\n      <th>28</th>\n      <td>6</td>\n    </tr>\n    <tr>\n      <th>29</th>\n      <td>6</td>\n    </tr>\n    <tr>\n      <th>30</th>\n      <td>6</td>\n    </tr>\n    <tr>\n      <th>37</th>\n      <td>1</td>\n    </tr>\n    <tr>\n      <th>32</th>\n      <td>5</td>\n    </tr>\n    <tr>\n      <th>33</th>\n      <td>3</td>\n    </tr>\n    <tr>\n      <th>35</th>\n      <td>2</td>\n    </tr>\n    <tr>\n      <th>36</th>\n      <td>3</td>\n    </tr>\n  </tbody>\n</table>\n</div>"
     },
     "execution_count": 116,
     "metadata": {},
     "output_type": "execute_result"
    }
   ],
   "source": [
    "# Create the linking table of zone to state\n",
    "zone_state_link = df[[\"zone\", \"state\"]].drop_duplicates(keep=\"first\")\n",
    "print(len(df))\n",
    "print(len(zone_state_link))\n",
    "print(sorted(zone_state_link[\"zone\"].unique()))\n",
    "print(sorted(zone_state_link[\"state\"].unique()))\n",
    "zone_state_link.rename(columns={\"state\": \"state_id\", \"zone\":\"zone_id\"}, inplace=True)\n",
    "zone_state_link.set_index([\"state_id\"], inplace=True)\n",
    "zone_state_link.to_csv(\"../data/processed/linking_tables/zone_to_state.csv\")\n",
    "zone_state_link"
   ],
   "metadata": {
    "collapsed": false,
    "ExecuteTime": {
     "end_time": "2024-05-28T22:16:56.588564Z",
     "start_time": "2024-05-28T22:16:56.578728Z"
    }
   },
   "id": "3728716fa922ff0b"
  },
  {
   "cell_type": "code",
   "execution_count": 117,
   "outputs": [
    {
     "name": "stderr",
     "output_type": "stream",
     "text": [
      "/var/folders/lw/jy_c2z0x221fsb78kk1_h2800000gn/T/ipykernel_51275/742062374.py:7: DtypeWarning: Columns (10,17) have mixed types. Specify dtype option on import or set low_memory=False.\n",
      "  df = pd.read_csv(path_to_files + \"/\" + file_name)\n",
      "/var/folders/lw/jy_c2z0x221fsb78kk1_h2800000gn/T/ipykernel_51275/742062374.py:7: DtypeWarning: Columns (16,36,82) have mixed types. Specify dtype option on import or set low_memory=False.\n",
      "  df = pd.read_csv(path_to_files + \"/\" + file_name)\n",
      "/var/folders/lw/jy_c2z0x221fsb78kk1_h2800000gn/T/ipykernel_51275/742062374.py:7: DtypeWarning: Columns (28,33) have mixed types. Specify dtype option on import or set low_memory=False.\n",
      "  df = pd.read_csv(path_to_files + \"/\" + file_name)\n"
     ]
    },
    {
     "data": {
      "text/plain": "state     37\nlga      400\ndtype: int64"
     },
     "execution_count": 117,
     "metadata": {},
     "output_type": "execute_result"
    }
   ],
   "source": [
    "# STATE TO LGA\n",
    "# Combine geographical data from every file to get the full dataset of lgas. Later, we will check for duplicates and incorrect data. Check the unique values in the dataset. We can see that we only have 400 lgas represented in this dataset.\n",
    "path_to_files = \"../data/raw\"\n",
    "csvs = os.listdir(path_to_files)\n",
    "dfs = []\n",
    "for file_name in csvs:\n",
    "    df = pd.read_csv(path_to_files + \"/\" + file_name)\n",
    "    df = df[[\"state\", \"lga\"]]\n",
    "    dfs.append(df)\n",
    "\n",
    "region_df = pd.concat(dfs)\n",
    "region_df.nunique()\n"
   ],
   "metadata": {
    "collapsed": false,
    "ExecuteTime": {
     "end_time": "2024-05-28T22:17:01.884222Z",
     "start_time": "2024-05-28T22:17:01.250785Z"
    }
   },
   "id": "6b604e7949417944"
  },
  {
   "cell_type": "code",
   "execution_count": 118,
   "outputs": [
    {
     "data": {
      "text/plain": "      unique_state\nlga               \n209              2\n3215             2",
      "text/html": "<div>\n<style scoped>\n    .dataframe tbody tr th:only-of-type {\n        vertical-align: middle;\n    }\n\n    .dataframe tbody tr th {\n        vertical-align: top;\n    }\n\n    .dataframe thead th {\n        text-align: right;\n    }\n</style>\n<table border=\"1\" class=\"dataframe\">\n  <thead>\n    <tr style=\"text-align: right;\">\n      <th></th>\n      <th>unique_state</th>\n    </tr>\n    <tr>\n      <th>lga</th>\n      <th></th>\n    </tr>\n  </thead>\n  <tbody>\n    <tr>\n      <th>209</th>\n      <td>2</td>\n    </tr>\n    <tr>\n      <th>3215</th>\n      <td>2</td>\n    </tr>\n  </tbody>\n</table>\n</div>"
     },
     "execution_count": 118,
     "metadata": {},
     "output_type": "execute_result"
    }
   ],
   "source": [
    "# Check to make sure that states to lgas have a 1-to-many relationship. The dataframe below is not empty, indicating two user entry errors.\n",
    "grouped = region_df.groupby(by=\"lga\").agg(unique_state=(\"state\", \"nunique\"))\n",
    "grouped[grouped[\"unique_state\"] > 1]\n"
   ],
   "metadata": {
    "collapsed": false,
    "ExecuteTime": {
     "end_time": "2024-05-28T22:17:01.899113Z",
     "start_time": "2024-05-28T22:17:01.883083Z"
    }
   },
   "id": "5f91cbd23103536a"
  },
  {
   "cell_type": "code",
   "execution_count": 119,
   "outputs": [
    {
     "data": {
      "text/plain": "     state  lga\n544      2  209\n545      2  209\n546      2  209\n547      2  209\n548      2  209\n..     ...  ...\n176     34  209\n177      2  209\n219      2  209\n220      2  209\n221      2  209\n\n[2049 rows x 2 columns]",
      "text/html": "<div>\n<style scoped>\n    .dataframe tbody tr th:only-of-type {\n        vertical-align: middle;\n    }\n\n    .dataframe tbody tr th {\n        vertical-align: top;\n    }\n\n    .dataframe thead th {\n        text-align: right;\n    }\n</style>\n<table border=\"1\" class=\"dataframe\">\n  <thead>\n    <tr style=\"text-align: right;\">\n      <th></th>\n      <th>state</th>\n      <th>lga</th>\n    </tr>\n  </thead>\n  <tbody>\n    <tr>\n      <th>544</th>\n      <td>2</td>\n      <td>209</td>\n    </tr>\n    <tr>\n      <th>545</th>\n      <td>2</td>\n      <td>209</td>\n    </tr>\n    <tr>\n      <th>546</th>\n      <td>2</td>\n      <td>209</td>\n    </tr>\n    <tr>\n      <th>547</th>\n      <td>2</td>\n      <td>209</td>\n    </tr>\n    <tr>\n      <th>548</th>\n      <td>2</td>\n      <td>209</td>\n    </tr>\n    <tr>\n      <th>...</th>\n      <td>...</td>\n      <td>...</td>\n    </tr>\n    <tr>\n      <th>176</th>\n      <td>34</td>\n      <td>209</td>\n    </tr>\n    <tr>\n      <th>177</th>\n      <td>2</td>\n      <td>209</td>\n    </tr>\n    <tr>\n      <th>219</th>\n      <td>2</td>\n      <td>209</td>\n    </tr>\n    <tr>\n      <th>220</th>\n      <td>2</td>\n      <td>209</td>\n    </tr>\n    <tr>\n      <th>221</th>\n      <td>2</td>\n      <td>209</td>\n    </tr>\n  </tbody>\n</table>\n<p>2049 rows × 2 columns</p>\n</div>"
     },
     "execution_count": 119,
     "metadata": {},
     "output_type": "execute_result"
    }
   ],
   "source": [
    "# Find any data which erroneously associates lga 209 to the wrong state\n",
    "region_df[region_df[\"lga\"] == 209]\n",
    "# Many interviewers made the same mistake, it seems. LGA 209 is known as Lamurde, and this is located in Adamawa state, which the correct encoding for is 2, not 34."
   ],
   "metadata": {
    "collapsed": false,
    "ExecuteTime": {
     "end_time": "2024-05-28T22:17:02.413483Z",
     "start_time": "2024-05-28T22:17:02.409444Z"
    }
   },
   "id": "c29fefc98bc69dc1"
  },
  {
   "cell_type": "code",
   "execution_count": 120,
   "outputs": [
    {
     "data": {
      "text/plain": "     state  lga\n544      2  209\n545      2  209\n546      2  209\n547      2  209\n548      2  209\n..     ...  ...\n176      2  209\n177      2  209\n219      2  209\n220      2  209\n221      2  209\n\n[2049 rows x 2 columns]",
      "text/html": "<div>\n<style scoped>\n    .dataframe tbody tr th:only-of-type {\n        vertical-align: middle;\n    }\n\n    .dataframe tbody tr th {\n        vertical-align: top;\n    }\n\n    .dataframe thead th {\n        text-align: right;\n    }\n</style>\n<table border=\"1\" class=\"dataframe\">\n  <thead>\n    <tr style=\"text-align: right;\">\n      <th></th>\n      <th>state</th>\n      <th>lga</th>\n    </tr>\n  </thead>\n  <tbody>\n    <tr>\n      <th>544</th>\n      <td>2</td>\n      <td>209</td>\n    </tr>\n    <tr>\n      <th>545</th>\n      <td>2</td>\n      <td>209</td>\n    </tr>\n    <tr>\n      <th>546</th>\n      <td>2</td>\n      <td>209</td>\n    </tr>\n    <tr>\n      <th>547</th>\n      <td>2</td>\n      <td>209</td>\n    </tr>\n    <tr>\n      <th>548</th>\n      <td>2</td>\n      <td>209</td>\n    </tr>\n    <tr>\n      <th>...</th>\n      <td>...</td>\n      <td>...</td>\n    </tr>\n    <tr>\n      <th>176</th>\n      <td>2</td>\n      <td>209</td>\n    </tr>\n    <tr>\n      <th>177</th>\n      <td>2</td>\n      <td>209</td>\n    </tr>\n    <tr>\n      <th>219</th>\n      <td>2</td>\n      <td>209</td>\n    </tr>\n    <tr>\n      <th>220</th>\n      <td>2</td>\n      <td>209</td>\n    </tr>\n    <tr>\n      <th>221</th>\n      <td>2</td>\n      <td>209</td>\n    </tr>\n  </tbody>\n</table>\n<p>2049 rows × 2 columns</p>\n</div>"
     },
     "execution_count": 120,
     "metadata": {},
     "output_type": "execute_result"
    }
   ],
   "source": [
    "# Fix the incorrect lga 209 data based on the findings above\n",
    "region_df.loc[region_df['lga'] == 209, 'state'] = 2\n",
    "region_df[region_df[\"lga\"] == 209]"
   ],
   "metadata": {
    "collapsed": false,
    "ExecuteTime": {
     "end_time": "2024-05-28T22:17:02.964917Z",
     "start_time": "2024-05-28T22:17:02.937986Z"
    }
   },
   "id": "da933d4967fce0b0"
  },
  {
   "cell_type": "code",
   "execution_count": 121,
   "outputs": [
    {
     "data": {
      "text/plain": "      state   lga\n8858     32  3215\n8859     32  3215\n8860     32  3215\n8861     32  3215\n8882     32  3215\n...     ...   ...\n2562     32  3215\n2563     32  3215\n2564     32  3215\n2568     32  3215\n2570     32  3215\n\n[1065 rows x 2 columns]",
      "text/html": "<div>\n<style scoped>\n    .dataframe tbody tr th:only-of-type {\n        vertical-align: middle;\n    }\n\n    .dataframe tbody tr th {\n        vertical-align: top;\n    }\n\n    .dataframe thead th {\n        text-align: right;\n    }\n</style>\n<table border=\"1\" class=\"dataframe\">\n  <thead>\n    <tr style=\"text-align: right;\">\n      <th></th>\n      <th>state</th>\n      <th>lga</th>\n    </tr>\n  </thead>\n  <tbody>\n    <tr>\n      <th>8858</th>\n      <td>32</td>\n      <td>3215</td>\n    </tr>\n    <tr>\n      <th>8859</th>\n      <td>32</td>\n      <td>3215</td>\n    </tr>\n    <tr>\n      <th>8860</th>\n      <td>32</td>\n      <td>3215</td>\n    </tr>\n    <tr>\n      <th>8861</th>\n      <td>32</td>\n      <td>3215</td>\n    </tr>\n    <tr>\n      <th>8882</th>\n      <td>32</td>\n      <td>3215</td>\n    </tr>\n    <tr>\n      <th>...</th>\n      <td>...</td>\n      <td>...</td>\n    </tr>\n    <tr>\n      <th>2562</th>\n      <td>32</td>\n      <td>3215</td>\n    </tr>\n    <tr>\n      <th>2563</th>\n      <td>32</td>\n      <td>3215</td>\n    </tr>\n    <tr>\n      <th>2564</th>\n      <td>32</td>\n      <td>3215</td>\n    </tr>\n    <tr>\n      <th>2568</th>\n      <td>32</td>\n      <td>3215</td>\n    </tr>\n    <tr>\n      <th>2570</th>\n      <td>32</td>\n      <td>3215</td>\n    </tr>\n  </tbody>\n</table>\n<p>1065 rows × 2 columns</p>\n</div>"
     },
     "execution_count": 121,
     "metadata": {},
     "output_type": "execute_result"
    }
   ],
   "source": [
    "# Find any data which erroneously associates lga 3215 to the wrong state\n",
    "# LGA 3215 is OBIO AKPOR. This is located in the Rivers State, which is encoded as 32. There are many entry errors which place it in state 6 instead. \n",
    "region_df[region_df[\"lga\"] == 3215]"
   ],
   "metadata": {
    "collapsed": false,
    "ExecuteTime": {
     "end_time": "2024-05-28T22:17:03.342397Z",
     "start_time": "2024-05-28T22:17:03.338177Z"
    }
   },
   "id": "80443ab507a7e13a"
  },
  {
   "cell_type": "code",
   "execution_count": 122,
   "outputs": [
    {
     "data": {
      "text/plain": "      state   lga\n8858     32  3215\n8859     32  3215\n8860     32  3215\n8861     32  3215\n8882     32  3215\n...     ...   ...\n2562     32  3215\n2563     32  3215\n2564     32  3215\n2568     32  3215\n2570     32  3215\n\n[1065 rows x 2 columns]",
      "text/html": "<div>\n<style scoped>\n    .dataframe tbody tr th:only-of-type {\n        vertical-align: middle;\n    }\n\n    .dataframe tbody tr th {\n        vertical-align: top;\n    }\n\n    .dataframe thead th {\n        text-align: right;\n    }\n</style>\n<table border=\"1\" class=\"dataframe\">\n  <thead>\n    <tr style=\"text-align: right;\">\n      <th></th>\n      <th>state</th>\n      <th>lga</th>\n    </tr>\n  </thead>\n  <tbody>\n    <tr>\n      <th>8858</th>\n      <td>32</td>\n      <td>3215</td>\n    </tr>\n    <tr>\n      <th>8859</th>\n      <td>32</td>\n      <td>3215</td>\n    </tr>\n    <tr>\n      <th>8860</th>\n      <td>32</td>\n      <td>3215</td>\n    </tr>\n    <tr>\n      <th>8861</th>\n      <td>32</td>\n      <td>3215</td>\n    </tr>\n    <tr>\n      <th>8882</th>\n      <td>32</td>\n      <td>3215</td>\n    </tr>\n    <tr>\n      <th>...</th>\n      <td>...</td>\n      <td>...</td>\n    </tr>\n    <tr>\n      <th>2562</th>\n      <td>32</td>\n      <td>3215</td>\n    </tr>\n    <tr>\n      <th>2563</th>\n      <td>32</td>\n      <td>3215</td>\n    </tr>\n    <tr>\n      <th>2564</th>\n      <td>32</td>\n      <td>3215</td>\n    </tr>\n    <tr>\n      <th>2568</th>\n      <td>32</td>\n      <td>3215</td>\n    </tr>\n    <tr>\n      <th>2570</th>\n      <td>32</td>\n      <td>3215</td>\n    </tr>\n  </tbody>\n</table>\n<p>1065 rows × 2 columns</p>\n</div>"
     },
     "execution_count": 122,
     "metadata": {},
     "output_type": "execute_result"
    }
   ],
   "source": [
    "# Fix the incorrect lga 3215 data based on the findings above\n",
    "region_df.loc[region_df['lga'] == 3215, 'state'] = 32\n",
    "region_df[region_df[\"lga\"] == 3215]"
   ],
   "metadata": {
    "collapsed": false,
    "ExecuteTime": {
     "end_time": "2024-05-28T22:17:04.345311Z",
     "start_time": "2024-05-28T22:17:04.333598Z"
    }
   },
   "id": "7f66b44641d74565"
  },
  {
   "cell_type": "code",
   "execution_count": 123,
   "outputs": [
    {
     "name": "stdout",
     "output_type": "stream",
     "text": [
      "2824\n",
      "400\n",
      "[1, 2, 3, 4, 5, 6, 7, 8, 9, 10, 11, 12, 13, 14, 15, 16, 17, 18, 19, 20, 21, 22, 23, 24, 25, 26, 27, 28, 29, 30, 31, 32, 33, 34, 35, 36, 37]\n",
      "[102, 104, 105, 107, 108, 109, 110, 111, 112, 113, 115, 117, 201, 203, 204, 205, 207, 208, 209, 210, 211, 212, 213, 215, 218, 219, 220, 221, 301, 302, 304, 305, 307, 308, 309, 312, 313, 316, 317, 318, 320, 322, 323, 326, 327, 329, 331, 402, 405, 406, 407, 408, 409, 412, 416, 417, 419, 420, 421, 502, 503, 504, 505, 506, 507, 508, 509, 511, 513, 514, 516, 517, 518, 520, 601, 602, 604, 605, 606, 607, 608, 701, 702, 704, 705, 708, 709, 711, 713, 715, 716, 717, 718, 719, 721, 723, 805, 821, 827, 901, 905, 908, 909, 910, 913, 915, 917, 918, 1002, 1006, 1007, 1008, 1010, 1011, 1012, 1013, 1014, 1015, 1018, 1019, 1022, 1023, 1025, 1101, 1102, 1104, 1105, 1106, 1109, 1112, 1113, 1201, 1202, 1203, 1207, 1208, 1209, 1211, 1212, 1214, 1215, 1216, 1218, 1301, 1303, 1306, 1307, 1308, 1309, 1310, 1311, 1312, 1315, 1316, 1401, 1402, 1403, 1404, 1405, 1406, 1408, 1410, 1411, 1413, 1416, 1417, 1501, 1502, 1503, 1506, 1508, 1509, 1510, 1511, 1601, 1602, 1605, 1607, 1608, 1610, 1611, 1613, 1615, 1616, 1620, 1622, 1625, 1626, 1627, 1701, 1707, 1712, 1715, 1716, 1717, 1718, 1721, 1722, 1723, 1725, 1802, 1803, 1804, 1805, 1807, 1809, 1810, 1812, 1813, 1816, 1817, 1818, 1819, 1820, 1821, 1822, 1909, 1910, 1912, 1914, 1918, 1919, 1921, 1923, 1924, 1925, 1927, 1928, 1929, 1933, 1940, 1941, 2003, 2009, 2010, 2012, 2015, 2016, 2018, 2021, 2025, 2026, 2028, 2032, 2034, 2101, 2105, 2106, 2111, 2112, 2115, 2119, 2201, 2203, 2208, 2211, 2213, 2216, 2220, 2302, 2303, 2304, 2305, 2306, 2307, 2308, 2309, 2310, 2311, 2313, 2314, 2316, 2401, 2402, 2403, 2404, 2405, 2406, 2408, 2410, 2413, 2415, 2416, 2417, 2418, 2419, 2420, 2503, 2504, 2508, 2602, 2603, 2604, 2606, 2608, 2609, 2611, 2613, 2615, 2616, 2620, 2624, 2701, 2703, 2705, 2706, 2707, 2711, 2712, 2714, 2715, 2716, 2720, 2801, 2804, 2805, 2806, 2808, 2811, 2813, 2814, 2815, 2816, 2901, 2905, 2909, 2910, 2915, 2916, 2918, 2919, 2920, 2928, 2929, 2930, 3002, 3005, 3006, 3007, 3011, 3012, 3013, 3014, 3015, 3016, 3020, 3021, 3023, 3026, 3028, 3102, 3105, 3109, 3110, 3111, 3112, 3113, 3116, 3117, 3203, 3205, 3206, 3212, 3213, 3215, 3223, 3302, 3304, 3305, 3313, 3318, 3321, 3323, 3401, 3402, 3405, 3406, 3407, 3408, 3409, 3411, 3412, 3416, 3505, 3506, 3507, 3510, 3512, 3513, 3514, 3606, 3608, 3611, 3613, 3701, 3702, 3703, 3704, 3705, 3706]\n"
     ]
    },
    {
     "data": {
      "text/plain": "        state_id\nlga_id          \n115            1\n105            1\n111            1\n102            1\n107            1\n...          ...\n1010          10\n2901          29\n3305          33\n3416          34\n3510          35\n\n[400 rows x 1 columns]",
      "text/html": "<div>\n<style scoped>\n    .dataframe tbody tr th:only-of-type {\n        vertical-align: middle;\n    }\n\n    .dataframe tbody tr th {\n        vertical-align: top;\n    }\n\n    .dataframe thead th {\n        text-align: right;\n    }\n</style>\n<table border=\"1\" class=\"dataframe\">\n  <thead>\n    <tr style=\"text-align: right;\">\n      <th></th>\n      <th>state_id</th>\n    </tr>\n    <tr>\n      <th>lga_id</th>\n      <th></th>\n    </tr>\n  </thead>\n  <tbody>\n    <tr>\n      <th>115</th>\n      <td>1</td>\n    </tr>\n    <tr>\n      <th>105</th>\n      <td>1</td>\n    </tr>\n    <tr>\n      <th>111</th>\n      <td>1</td>\n    </tr>\n    <tr>\n      <th>102</th>\n      <td>1</td>\n    </tr>\n    <tr>\n      <th>107</th>\n      <td>1</td>\n    </tr>\n    <tr>\n      <th>...</th>\n      <td>...</td>\n    </tr>\n    <tr>\n      <th>1010</th>\n      <td>10</td>\n    </tr>\n    <tr>\n      <th>2901</th>\n      <td>29</td>\n    </tr>\n    <tr>\n      <th>3305</th>\n      <td>33</td>\n    </tr>\n    <tr>\n      <th>3416</th>\n      <td>34</td>\n    </tr>\n    <tr>\n      <th>3510</th>\n      <td>35</td>\n    </tr>\n  </tbody>\n</table>\n<p>400 rows × 1 columns</p>\n</div>"
     },
     "execution_count": 123,
     "metadata": {},
     "output_type": "execute_result"
    }
   ],
   "source": [
    "# Create the linking table of state to LGA\n",
    "\n",
    "state_lga_link = region_df[[\"lga\", \"state\"]].drop_duplicates(keep=\"first\")\n",
    "print(len(df))\n",
    "print(len(state_lga_link))\n",
    "print(sorted(state_lga_link[\"state\"].unique()))\n",
    "print(sorted(state_lga_link[\"lga\"].unique()))\n",
    "state_lga_link.rename(columns={\"state\": \"state_id\", \"lga\":\"lga_id\"}, inplace=True)\n",
    "state_lga_link.set_index([\"lga_id\"], inplace=True)\n",
    "#state_lga_link.to_csv(\"../data/processed/linking_tables/state_to_lga.csv\")\n",
    "state_lga_link"
   ],
   "metadata": {
    "collapsed": false,
    "ExecuteTime": {
     "end_time": "2024-05-28T22:17:07.715641Z",
     "start_time": "2024-05-28T22:17:07.688258Z"
    }
   },
   "id": "89d50975758e1c8f"
  },
  {
   "cell_type": "code",
   "execution_count": null,
   "outputs": [],
   "source": [],
   "metadata": {
    "collapsed": false
   },
   "id": "b1d0162968e2db19"
  }
 ],
 "metadata": {
  "kernelspec": {
   "display_name": "Python 3",
   "language": "python",
   "name": "python3"
  },
  "language_info": {
   "codemirror_mode": {
    "name": "ipython",
    "version": 2
   },
   "file_extension": ".py",
   "mimetype": "text/x-python",
   "name": "python",
   "nbconvert_exporter": "python",
   "pygments_lexer": "ipython2",
   "version": "2.7.6"
  }
 },
 "nbformat": 4,
 "nbformat_minor": 5
}
