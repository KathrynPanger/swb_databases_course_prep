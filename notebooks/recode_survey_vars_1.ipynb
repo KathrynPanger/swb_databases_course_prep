{
 "cells": [
  {
   "cell_type": "code",
   "execution_count": 34,
   "id": "initial_id",
   "metadata": {
    "collapsed": true,
    "ExecuteTime": {
     "end_time": "2024-06-07T22:55:26.705953Z",
     "start_time": "2024-06-07T22:55:26.698094Z"
    }
   },
   "outputs": [],
   "source": [
    "import pandas as pd\n",
    "import numpy as np\n",
    "import math"
   ]
  },
  {
   "cell_type": "code",
   "execution_count": 35,
   "outputs": [],
   "source": [
    "def read_csv(path: str) -> pd.DataFrame:\n",
    "    root_path = \"../data/raw\"\n",
    "    full_path = root_path + \"/\" +  path\n",
    "    df = pd.read_csv(full_path)\n",
    "    return df"
   ],
   "metadata": {
    "collapsed": false,
    "ExecuteTime": {
     "end_time": "2024-06-07T22:55:26.914412Z",
     "start_time": "2024-06-07T22:55:26.908028Z"
    }
   },
   "id": "ff2f0a51b4cbbaaa"
  },
  {
   "cell_type": "code",
   "execution_count": 36,
   "outputs": [
    {
     "data": {
      "text/plain": "       zone  state   lga  sector    ea    hhid  call_id  s1q1  \\\n0         4      1   115       1   670   10001        1     1   \n1         4      1   115       1   670   10002        1     1   \n2         4      1   115       1   670   10002        2     1   \n3         4      1   115       1   670   10002        3     2   \n4         4      1   115       1   670   10003        1     1   \n...     ...    ...   ...     ...   ...     ...      ...   ...   \n21990     1     37  3702       1  1102  379148        2     2   \n21991     1     37  3702       1  1102  379151        1     1   \n21992     1     37  3702       1  1102  379154        1     1   \n21993     1     37  3702       1  1102  379154        2     2   \n21994     1     37  3702       1  1102  379155        1     1   \n\n                      s1q2  s1q3  s1q5  s1q6  s1q8  s1q9  s1q10      s1q11a  \\\n0      2021-12-07T17:36:17   1.0   1.0   NaN   1.0   1.0    NaN         NaN   \n1      2021-12-05T17:15:42   2.0   NaN   NaN   NaN   NaN    NaN         NaN   \n2      2021-12-05T17:17:54   1.0   2.0   4.0   NaN   NaN    NaN  2021-12-06   \n3      2021-12-05T17:26:17   1.0   1.0   NaN   1.0   2.0    NaN         NaN   \n4      2021-12-14T18:36:48   1.0   1.0   NaN   2.0   NaN    1.0  2021-12-15   \n...                    ...   ...   ...   ...   ...   ...    ...         ...   \n21990  2021-12-09T15:46:52   1.0   1.0   NaN   3.0   NaN    NaN         NaN   \n21991  2021-12-08T14:29:52   1.0   1.0   NaN   1.0   1.0    NaN         NaN   \n21992  2021-12-14T15:52:41   2.0   NaN   NaN   NaN   NaN    NaN         NaN   \n21993  2021-12-14T15:53:37   1.0   1.0   NaN   1.0   2.0    NaN         NaN   \n21994  2021-12-08T15:34:38   1.0   1.0   NaN   1.0   1.0    NaN         NaN   \n\n      s1q11b  \n0        NaN  \n1        NaN  \n2      50:30  \n3        NaN  \n4      13:00  \n...      ...  \n21990    NaN  \n21991    NaN  \n21992    NaN  \n21993    NaN  \n21994    NaN  \n\n[21995 rows x 17 columns]",
      "text/html": "<div>\n<style scoped>\n    .dataframe tbody tr th:only-of-type {\n        vertical-align: middle;\n    }\n\n    .dataframe tbody tr th {\n        vertical-align: top;\n    }\n\n    .dataframe thead th {\n        text-align: right;\n    }\n</style>\n<table border=\"1\" class=\"dataframe\">\n  <thead>\n    <tr style=\"text-align: right;\">\n      <th></th>\n      <th>zone</th>\n      <th>state</th>\n      <th>lga</th>\n      <th>sector</th>\n      <th>ea</th>\n      <th>hhid</th>\n      <th>call_id</th>\n      <th>s1q1</th>\n      <th>s1q2</th>\n      <th>s1q3</th>\n      <th>s1q5</th>\n      <th>s1q6</th>\n      <th>s1q8</th>\n      <th>s1q9</th>\n      <th>s1q10</th>\n      <th>s1q11a</th>\n      <th>s1q11b</th>\n    </tr>\n  </thead>\n  <tbody>\n    <tr>\n      <th>0</th>\n      <td>4</td>\n      <td>1</td>\n      <td>115</td>\n      <td>1</td>\n      <td>670</td>\n      <td>10001</td>\n      <td>1</td>\n      <td>1</td>\n      <td>2021-12-07T17:36:17</td>\n      <td>1.0</td>\n      <td>1.0</td>\n      <td>NaN</td>\n      <td>1.0</td>\n      <td>1.0</td>\n      <td>NaN</td>\n      <td>NaN</td>\n      <td>NaN</td>\n    </tr>\n    <tr>\n      <th>1</th>\n      <td>4</td>\n      <td>1</td>\n      <td>115</td>\n      <td>1</td>\n      <td>670</td>\n      <td>10002</td>\n      <td>1</td>\n      <td>1</td>\n      <td>2021-12-05T17:15:42</td>\n      <td>2.0</td>\n      <td>NaN</td>\n      <td>NaN</td>\n      <td>NaN</td>\n      <td>NaN</td>\n      <td>NaN</td>\n      <td>NaN</td>\n      <td>NaN</td>\n    </tr>\n    <tr>\n      <th>2</th>\n      <td>4</td>\n      <td>1</td>\n      <td>115</td>\n      <td>1</td>\n      <td>670</td>\n      <td>10002</td>\n      <td>2</td>\n      <td>1</td>\n      <td>2021-12-05T17:17:54</td>\n      <td>1.0</td>\n      <td>2.0</td>\n      <td>4.0</td>\n      <td>NaN</td>\n      <td>NaN</td>\n      <td>NaN</td>\n      <td>2021-12-06</td>\n      <td>50:30</td>\n    </tr>\n    <tr>\n      <th>3</th>\n      <td>4</td>\n      <td>1</td>\n      <td>115</td>\n      <td>1</td>\n      <td>670</td>\n      <td>10002</td>\n      <td>3</td>\n      <td>2</td>\n      <td>2021-12-05T17:26:17</td>\n      <td>1.0</td>\n      <td>1.0</td>\n      <td>NaN</td>\n      <td>1.0</td>\n      <td>2.0</td>\n      <td>NaN</td>\n      <td>NaN</td>\n      <td>NaN</td>\n    </tr>\n    <tr>\n      <th>4</th>\n      <td>4</td>\n      <td>1</td>\n      <td>115</td>\n      <td>1</td>\n      <td>670</td>\n      <td>10003</td>\n      <td>1</td>\n      <td>1</td>\n      <td>2021-12-14T18:36:48</td>\n      <td>1.0</td>\n      <td>1.0</td>\n      <td>NaN</td>\n      <td>2.0</td>\n      <td>NaN</td>\n      <td>1.0</td>\n      <td>2021-12-15</td>\n      <td>13:00</td>\n    </tr>\n    <tr>\n      <th>...</th>\n      <td>...</td>\n      <td>...</td>\n      <td>...</td>\n      <td>...</td>\n      <td>...</td>\n      <td>...</td>\n      <td>...</td>\n      <td>...</td>\n      <td>...</td>\n      <td>...</td>\n      <td>...</td>\n      <td>...</td>\n      <td>...</td>\n      <td>...</td>\n      <td>...</td>\n      <td>...</td>\n      <td>...</td>\n    </tr>\n    <tr>\n      <th>21990</th>\n      <td>1</td>\n      <td>37</td>\n      <td>3702</td>\n      <td>1</td>\n      <td>1102</td>\n      <td>379148</td>\n      <td>2</td>\n      <td>2</td>\n      <td>2021-12-09T15:46:52</td>\n      <td>1.0</td>\n      <td>1.0</td>\n      <td>NaN</td>\n      <td>3.0</td>\n      <td>NaN</td>\n      <td>NaN</td>\n      <td>NaN</td>\n      <td>NaN</td>\n    </tr>\n    <tr>\n      <th>21991</th>\n      <td>1</td>\n      <td>37</td>\n      <td>3702</td>\n      <td>1</td>\n      <td>1102</td>\n      <td>379151</td>\n      <td>1</td>\n      <td>1</td>\n      <td>2021-12-08T14:29:52</td>\n      <td>1.0</td>\n      <td>1.0</td>\n      <td>NaN</td>\n      <td>1.0</td>\n      <td>1.0</td>\n      <td>NaN</td>\n      <td>NaN</td>\n      <td>NaN</td>\n    </tr>\n    <tr>\n      <th>21992</th>\n      <td>1</td>\n      <td>37</td>\n      <td>3702</td>\n      <td>1</td>\n      <td>1102</td>\n      <td>379154</td>\n      <td>1</td>\n      <td>1</td>\n      <td>2021-12-14T15:52:41</td>\n      <td>2.0</td>\n      <td>NaN</td>\n      <td>NaN</td>\n      <td>NaN</td>\n      <td>NaN</td>\n      <td>NaN</td>\n      <td>NaN</td>\n      <td>NaN</td>\n    </tr>\n    <tr>\n      <th>21993</th>\n      <td>1</td>\n      <td>37</td>\n      <td>3702</td>\n      <td>1</td>\n      <td>1102</td>\n      <td>379154</td>\n      <td>2</td>\n      <td>2</td>\n      <td>2021-12-14T15:53:37</td>\n      <td>1.0</td>\n      <td>1.0</td>\n      <td>NaN</td>\n      <td>1.0</td>\n      <td>2.0</td>\n      <td>NaN</td>\n      <td>NaN</td>\n      <td>NaN</td>\n    </tr>\n    <tr>\n      <th>21994</th>\n      <td>1</td>\n      <td>37</td>\n      <td>3702</td>\n      <td>1</td>\n      <td>1102</td>\n      <td>379155</td>\n      <td>1</td>\n      <td>1</td>\n      <td>2021-12-08T15:34:38</td>\n      <td>1.0</td>\n      <td>1.0</td>\n      <td>NaN</td>\n      <td>1.0</td>\n      <td>1.0</td>\n      <td>NaN</td>\n      <td>NaN</td>\n      <td>NaN</td>\n    </tr>\n  </tbody>\n</table>\n<p>21995 rows × 17 columns</p>\n</div>"
     },
     "execution_count": 36,
     "metadata": {},
     "output_type": "execute_result"
    }
   ],
   "source": [
    "dtype = {\"s1q5\": \"Int64\"}\n",
    "path = \"p2r1_sect_1.csv\"\n",
    "df = read_csv(path)\n",
    "df"
   ],
   "metadata": {
    "collapsed": false,
    "ExecuteTime": {
     "end_time": "2024-06-07T22:55:27.156847Z",
     "start_time": "2024-06-07T22:55:27.132142Z"
    }
   },
   "id": "2dcaea342bdb7f43"
  },
  {
   "cell_type": "code",
   "execution_count": 37,
   "outputs": [],
   "source": [
    "rename_dict = {\"s1q2\": \"scheduled_interview_date\", \"s1q3\": \"phone_answer_status\", \"s1q5\": \"is_household_member\", \"call_id\": \"call_attempt_number\", \"hhid\": \"household_id\", \"s1q1\": \"phone_number_id\", \"s1q8\": \"agree_to_be_interviewed\"}\n",
    "df.rename(columns=rename_dict, inplace=True)"
   ],
   "metadata": {
    "collapsed": false,
    "ExecuteTime": {
     "end_time": "2024-06-07T22:55:27.339323Z",
     "start_time": "2024-06-07T22:55:27.334595Z"
    }
   },
   "id": "58d0066388678610"
  },
  {
   "cell_type": "code",
   "execution_count": 38,
   "outputs": [],
   "source": [
    "def recode_agree_to_be_interviewed(entry):\n",
    "    if math.isnan(entry):\n",
    "        return entry\n",
    "    else:\n",
    "        value = int(entry)\n",
    "        if value == 1:\n",
    "            return \"YES\"\n",
    "        elif value == 2:\n",
    "            return \"NO\""
   ],
   "metadata": {
    "collapsed": false,
    "ExecuteTime": {
     "end_time": "2024-06-07T22:55:27.582149Z",
     "start_time": "2024-06-07T22:55:27.577486Z"
    }
   },
   "id": "f9c2dab33e8faa06"
  },
  {
   "cell_type": "code",
   "execution_count": 39,
   "outputs": [],
   "source": [
    "df[\"agree_to_be_interviewed\"]= df[\"agree_to_be_interviewed\"].apply(lambda x: recode_agree_to_be_interviewed(x))"
   ],
   "metadata": {
    "collapsed": false,
    "ExecuteTime": {
     "end_time": "2024-06-07T22:55:27.988539Z",
     "start_time": "2024-06-07T22:55:27.986430Z"
    }
   },
   "id": "1124573672ed9e5d"
  },
  {
   "cell_type": "code",
   "execution_count": 40,
   "outputs": [],
   "source": [
    "#Good for a \"like\" activity\n",
    "def recode_phone_answer_status(entry):\n",
    "    if math.isnan(entry):\n",
    "        return entry\n",
    "    else:\n",
    "        value = int(entry)\n",
    "        if value == 1:\n",
    "            return \"YES, ANSWERED\"\n",
    "        elif value == 2:\n",
    "            return \"NO, NOT ANSWERED\"\n",
    "        elif value == 3:\n",
    "            return \"NO, NUMBER DOES NOT EXIST\"\n",
    "        elif value == 4:\n",
    "            return \"NO, PHONE SWITCHED OFF\"\n"
   ],
   "metadata": {
    "collapsed": false,
    "ExecuteTime": {
     "end_time": "2024-06-07T22:55:28.401817Z",
     "start_time": "2024-06-07T22:55:28.397750Z"
    }
   },
   "id": "efd921d0b3f47836"
  },
  {
   "cell_type": "code",
   "execution_count": 41,
   "outputs": [],
   "source": [
    "df[\"phone_answer_status\"] = df[\"phone_answer_status\"].apply(lambda x: recode_phone_answer_status(x) )"
   ],
   "metadata": {
    "collapsed": false,
    "ExecuteTime": {
     "end_time": "2024-06-07T22:55:28.950289Z",
     "start_time": "2024-06-07T22:55:28.944816Z"
    }
   },
   "id": "bc40230fe745b556"
  },
  {
   "cell_type": "code",
   "execution_count": 42,
   "outputs": [],
   "source": [
    "def recode_speaker_is_household_member(entry):\n",
    "    # If the entry has missing data, skip it\n",
    "    if math.isnan(entry):\n",
    "        return entry\n",
    "    #If not, recode the variable this way\n",
    "    else:\n",
    "        value = int(entry)\n",
    "        if value == 1:\n",
    "            return \"YES\"\n",
    "        elif value == 2:\n",
    "            return \"NO\"\n",
    "        elif value == 3:\n",
    "            return \"UNKNOWN, LANGUAGE BARRIER\"\n"
   ],
   "metadata": {
    "collapsed": false,
    "ExecuteTime": {
     "end_time": "2024-06-07T22:55:29.601349Z",
     "start_time": "2024-06-07T22:55:29.597027Z"
    }
   },
   "id": "fca449dc19eaf4b4"
  },
  {
   "cell_type": "code",
   "execution_count": 43,
   "outputs": [
    {
     "data": {
      "text/plain": "       zone  state   lga  sector    ea  household_id  call_attempt_number  \\\n0         4      1   115       1   670         10001                    1   \n1         4      1   115       1   670         10002                    1   \n2         4      1   115       1   670         10002                    2   \n3         4      1   115       1   670         10002                    3   \n4         4      1   115       1   670         10003                    1   \n...     ...    ...   ...     ...   ...           ...                  ...   \n21990     1     37  3702       1  1102        379148                    2   \n21991     1     37  3702       1  1102        379151                    1   \n21992     1     37  3702       1  1102        379154                    1   \n21993     1     37  3702       1  1102        379154                    2   \n21994     1     37  3702       1  1102        379155                    1   \n\n       phone_number_id scheduled_interview_date phone_answer_status  \\\n0                    1      2021-12-07T17:36:17       YES, ANSWERED   \n1                    1      2021-12-05T17:15:42    NO, NOT ANSWERED   \n2                    1      2021-12-05T17:17:54       YES, ANSWERED   \n3                    2      2021-12-05T17:26:17       YES, ANSWERED   \n4                    1      2021-12-14T18:36:48       YES, ANSWERED   \n...                ...                      ...                 ...   \n21990                2      2021-12-09T15:46:52       YES, ANSWERED   \n21991                1      2021-12-08T14:29:52       YES, ANSWERED   \n21992                1      2021-12-14T15:52:41    NO, NOT ANSWERED   \n21993                2      2021-12-14T15:53:37       YES, ANSWERED   \n21994                1      2021-12-08T15:34:38       YES, ANSWERED   \n\n      is_household_member  s1q6 agree_to_be_interviewed  s1q9  s1q10  \\\n0                     YES   NaN                     YES   1.0    NaN   \n1                     NaN   NaN                     NaN   NaN    NaN   \n2                      NO   4.0                     NaN   NaN    NaN   \n3                     YES   NaN                     YES   2.0    NaN   \n4                     YES   NaN                      NO   NaN    1.0   \n...                   ...   ...                     ...   ...    ...   \n21990                 YES   NaN                    None   NaN    NaN   \n21991                 YES   NaN                     YES   1.0    NaN   \n21992                 NaN   NaN                     NaN   NaN    NaN   \n21993                 YES   NaN                     YES   2.0    NaN   \n21994                 YES   NaN                     YES   1.0    NaN   \n\n           s1q11a s1q11b  \n0             NaN    NaN  \n1             NaN    NaN  \n2      2021-12-06  50:30  \n3             NaN    NaN  \n4      2021-12-15  13:00  \n...           ...    ...  \n21990         NaN    NaN  \n21991         NaN    NaN  \n21992         NaN    NaN  \n21993         NaN    NaN  \n21994         NaN    NaN  \n\n[21995 rows x 17 columns]",
      "text/html": "<div>\n<style scoped>\n    .dataframe tbody tr th:only-of-type {\n        vertical-align: middle;\n    }\n\n    .dataframe tbody tr th {\n        vertical-align: top;\n    }\n\n    .dataframe thead th {\n        text-align: right;\n    }\n</style>\n<table border=\"1\" class=\"dataframe\">\n  <thead>\n    <tr style=\"text-align: right;\">\n      <th></th>\n      <th>zone</th>\n      <th>state</th>\n      <th>lga</th>\n      <th>sector</th>\n      <th>ea</th>\n      <th>household_id</th>\n      <th>call_attempt_number</th>\n      <th>phone_number_id</th>\n      <th>scheduled_interview_date</th>\n      <th>phone_answer_status</th>\n      <th>is_household_member</th>\n      <th>s1q6</th>\n      <th>agree_to_be_interviewed</th>\n      <th>s1q9</th>\n      <th>s1q10</th>\n      <th>s1q11a</th>\n      <th>s1q11b</th>\n    </tr>\n  </thead>\n  <tbody>\n    <tr>\n      <th>0</th>\n      <td>4</td>\n      <td>1</td>\n      <td>115</td>\n      <td>1</td>\n      <td>670</td>\n      <td>10001</td>\n      <td>1</td>\n      <td>1</td>\n      <td>2021-12-07T17:36:17</td>\n      <td>YES, ANSWERED</td>\n      <td>YES</td>\n      <td>NaN</td>\n      <td>YES</td>\n      <td>1.0</td>\n      <td>NaN</td>\n      <td>NaN</td>\n      <td>NaN</td>\n    </tr>\n    <tr>\n      <th>1</th>\n      <td>4</td>\n      <td>1</td>\n      <td>115</td>\n      <td>1</td>\n      <td>670</td>\n      <td>10002</td>\n      <td>1</td>\n      <td>1</td>\n      <td>2021-12-05T17:15:42</td>\n      <td>NO, NOT ANSWERED</td>\n      <td>NaN</td>\n      <td>NaN</td>\n      <td>NaN</td>\n      <td>NaN</td>\n      <td>NaN</td>\n      <td>NaN</td>\n      <td>NaN</td>\n    </tr>\n    <tr>\n      <th>2</th>\n      <td>4</td>\n      <td>1</td>\n      <td>115</td>\n      <td>1</td>\n      <td>670</td>\n      <td>10002</td>\n      <td>2</td>\n      <td>1</td>\n      <td>2021-12-05T17:17:54</td>\n      <td>YES, ANSWERED</td>\n      <td>NO</td>\n      <td>4.0</td>\n      <td>NaN</td>\n      <td>NaN</td>\n      <td>NaN</td>\n      <td>2021-12-06</td>\n      <td>50:30</td>\n    </tr>\n    <tr>\n      <th>3</th>\n      <td>4</td>\n      <td>1</td>\n      <td>115</td>\n      <td>1</td>\n      <td>670</td>\n      <td>10002</td>\n      <td>3</td>\n      <td>2</td>\n      <td>2021-12-05T17:26:17</td>\n      <td>YES, ANSWERED</td>\n      <td>YES</td>\n      <td>NaN</td>\n      <td>YES</td>\n      <td>2.0</td>\n      <td>NaN</td>\n      <td>NaN</td>\n      <td>NaN</td>\n    </tr>\n    <tr>\n      <th>4</th>\n      <td>4</td>\n      <td>1</td>\n      <td>115</td>\n      <td>1</td>\n      <td>670</td>\n      <td>10003</td>\n      <td>1</td>\n      <td>1</td>\n      <td>2021-12-14T18:36:48</td>\n      <td>YES, ANSWERED</td>\n      <td>YES</td>\n      <td>NaN</td>\n      <td>NO</td>\n      <td>NaN</td>\n      <td>1.0</td>\n      <td>2021-12-15</td>\n      <td>13:00</td>\n    </tr>\n    <tr>\n      <th>...</th>\n      <td>...</td>\n      <td>...</td>\n      <td>...</td>\n      <td>...</td>\n      <td>...</td>\n      <td>...</td>\n      <td>...</td>\n      <td>...</td>\n      <td>...</td>\n      <td>...</td>\n      <td>...</td>\n      <td>...</td>\n      <td>...</td>\n      <td>...</td>\n      <td>...</td>\n      <td>...</td>\n      <td>...</td>\n    </tr>\n    <tr>\n      <th>21990</th>\n      <td>1</td>\n      <td>37</td>\n      <td>3702</td>\n      <td>1</td>\n      <td>1102</td>\n      <td>379148</td>\n      <td>2</td>\n      <td>2</td>\n      <td>2021-12-09T15:46:52</td>\n      <td>YES, ANSWERED</td>\n      <td>YES</td>\n      <td>NaN</td>\n      <td>None</td>\n      <td>NaN</td>\n      <td>NaN</td>\n      <td>NaN</td>\n      <td>NaN</td>\n    </tr>\n    <tr>\n      <th>21991</th>\n      <td>1</td>\n      <td>37</td>\n      <td>3702</td>\n      <td>1</td>\n      <td>1102</td>\n      <td>379151</td>\n      <td>1</td>\n      <td>1</td>\n      <td>2021-12-08T14:29:52</td>\n      <td>YES, ANSWERED</td>\n      <td>YES</td>\n      <td>NaN</td>\n      <td>YES</td>\n      <td>1.0</td>\n      <td>NaN</td>\n      <td>NaN</td>\n      <td>NaN</td>\n    </tr>\n    <tr>\n      <th>21992</th>\n      <td>1</td>\n      <td>37</td>\n      <td>3702</td>\n      <td>1</td>\n      <td>1102</td>\n      <td>379154</td>\n      <td>1</td>\n      <td>1</td>\n      <td>2021-12-14T15:52:41</td>\n      <td>NO, NOT ANSWERED</td>\n      <td>NaN</td>\n      <td>NaN</td>\n      <td>NaN</td>\n      <td>NaN</td>\n      <td>NaN</td>\n      <td>NaN</td>\n      <td>NaN</td>\n    </tr>\n    <tr>\n      <th>21993</th>\n      <td>1</td>\n      <td>37</td>\n      <td>3702</td>\n      <td>1</td>\n      <td>1102</td>\n      <td>379154</td>\n      <td>2</td>\n      <td>2</td>\n      <td>2021-12-14T15:53:37</td>\n      <td>YES, ANSWERED</td>\n      <td>YES</td>\n      <td>NaN</td>\n      <td>YES</td>\n      <td>2.0</td>\n      <td>NaN</td>\n      <td>NaN</td>\n      <td>NaN</td>\n    </tr>\n    <tr>\n      <th>21994</th>\n      <td>1</td>\n      <td>37</td>\n      <td>3702</td>\n      <td>1</td>\n      <td>1102</td>\n      <td>379155</td>\n      <td>1</td>\n      <td>1</td>\n      <td>2021-12-08T15:34:38</td>\n      <td>YES, ANSWERED</td>\n      <td>YES</td>\n      <td>NaN</td>\n      <td>YES</td>\n      <td>1.0</td>\n      <td>NaN</td>\n      <td>NaN</td>\n      <td>NaN</td>\n    </tr>\n  </tbody>\n</table>\n<p>21995 rows × 17 columns</p>\n</div>"
     },
     "execution_count": 43,
     "metadata": {},
     "output_type": "execute_result"
    }
   ],
   "source": [
    "df[\"is_household_member\"] = df[\"is_household_member\"].apply(lambda x: recode_speaker_is_household_member(x))\n",
    "df"
   ],
   "metadata": {
    "collapsed": false,
    "ExecuteTime": {
     "end_time": "2024-06-07T22:55:32.923255Z",
     "start_time": "2024-06-07T22:55:32.914309Z"
    }
   },
   "id": "8a4d7a0d15866be5"
  },
  {
   "cell_type": "code",
   "execution_count": 44,
   "outputs": [],
   "source": [
    "final_df = df[[\"household_id\", \"phone_number_id\", \"call_attempt_number\",\"phone_answer_status\", \"is_household_member\", \"agree_to_be_interviewed\", \"scheduled_interview_date\"]]\n",
    "# final_df.to_csv(\"../data/processed/survey_questions/call_schedules.csv\")"
   ],
   "metadata": {
    "collapsed": false,
    "ExecuteTime": {
     "end_time": "2024-06-07T22:55:34.623101Z",
     "start_time": "2024-06-07T22:55:34.578392Z"
    }
   },
   "id": "2cb86181fcc0adcc"
  },
  {
   "cell_type": "code",
   "execution_count": 31,
   "outputs": [
    {
     "data": {
      "text/plain": "       zone  state   lga  sector    ea    hhid  indiv  s2q3  s2q4 s2q4_os  \\\n0         4      1   115       1   670   10001      1   1.0   NaN     NaN   \n1         4      1   115       1   670   10001      2   1.0   NaN     NaN   \n2         4      1   115       1   670   10001      3   1.0   NaN     NaN   \n3         4      1   115       1   670   10001      4   1.0   NaN     NaN   \n4         4      1   115       1   670   10001      8   1.0   NaN     NaN   \n...     ...    ...   ...     ...   ...     ...    ...   ...   ...     ...   \n20137     1     37  3702       1  1102  379155      1   1.0   NaN     NaN   \n20138     1     37  3702       1  1102  379155      2   1.0   NaN     NaN   \n20139     1     37  3702       1  1102  379155      3   1.0   NaN     NaN   \n20140     1     37  3702       1  1102  379155      4   1.0   NaN     NaN   \n20141     1     37  3702       1  1102  379155    101   2.0   2.0     NaN   \n\n       ...  s2q8  s2q8_os  s2q9  s2q9_os s2q10  s2q11 s2q12  s2q12_os s2q13  \\\n0      ...   NaN      NaN   NaN      NaN   2.0    NaN   NaN       NaN   NaN   \n1      ...   NaN      NaN   NaN      NaN   2.0    NaN   NaN       NaN   NaN   \n2      ...   NaN      NaN   NaN      NaN   1.0    1.0   NaN       NaN  24.0   \n3      ...   NaN      NaN   NaN      NaN   2.0    NaN   NaN       NaN   NaN   \n4      ...   NaN      NaN   NaN      NaN   1.0    1.0   NaN       NaN  15.0   \n...    ...   ...      ...   ...      ...   ...    ...   ...       ...   ...   \n20137  ...   NaN      NaN   NaN      NaN   2.0    NaN   NaN       NaN   NaN   \n20138  ...   NaN      NaN   NaN      NaN   2.0    NaN   NaN       NaN   NaN   \n20139  ...   NaN      NaN   NaN      NaN   1.0    1.0   NaN       NaN  21.0   \n20140  ...   NaN      NaN   NaN      NaN   1.0    1.0   NaN       NaN  13.0   \n20141  ...   NaN      NaN   NaN      NaN   NaN    NaN   NaN       NaN   NaN   \n\n       s2q13_os  \n0           NaN  \n1           NaN  \n2           NaN  \n3           NaN  \n4           NaN  \n...         ...  \n20137       NaN  \n20138       NaN  \n20139       NaN  \n20140       NaN  \n20141       NaN  \n\n[20142 rows x 25 columns]",
      "text/html": "<div>\n<style scoped>\n    .dataframe tbody tr th:only-of-type {\n        vertical-align: middle;\n    }\n\n    .dataframe tbody tr th {\n        vertical-align: top;\n    }\n\n    .dataframe thead th {\n        text-align: right;\n    }\n</style>\n<table border=\"1\" class=\"dataframe\">\n  <thead>\n    <tr style=\"text-align: right;\">\n      <th></th>\n      <th>zone</th>\n      <th>state</th>\n      <th>lga</th>\n      <th>sector</th>\n      <th>ea</th>\n      <th>hhid</th>\n      <th>indiv</th>\n      <th>s2q3</th>\n      <th>s2q4</th>\n      <th>s2q4_os</th>\n      <th>...</th>\n      <th>s2q8</th>\n      <th>s2q8_os</th>\n      <th>s2q9</th>\n      <th>s2q9_os</th>\n      <th>s2q10</th>\n      <th>s2q11</th>\n      <th>s2q12</th>\n      <th>s2q12_os</th>\n      <th>s2q13</th>\n      <th>s2q13_os</th>\n    </tr>\n  </thead>\n  <tbody>\n    <tr>\n      <th>0</th>\n      <td>4</td>\n      <td>1</td>\n      <td>115</td>\n      <td>1</td>\n      <td>670</td>\n      <td>10001</td>\n      <td>1</td>\n      <td>1.0</td>\n      <td>NaN</td>\n      <td>NaN</td>\n      <td>...</td>\n      <td>NaN</td>\n      <td>NaN</td>\n      <td>NaN</td>\n      <td>NaN</td>\n      <td>2.0</td>\n      <td>NaN</td>\n      <td>NaN</td>\n      <td>NaN</td>\n      <td>NaN</td>\n      <td>NaN</td>\n    </tr>\n    <tr>\n      <th>1</th>\n      <td>4</td>\n      <td>1</td>\n      <td>115</td>\n      <td>1</td>\n      <td>670</td>\n      <td>10001</td>\n      <td>2</td>\n      <td>1.0</td>\n      <td>NaN</td>\n      <td>NaN</td>\n      <td>...</td>\n      <td>NaN</td>\n      <td>NaN</td>\n      <td>NaN</td>\n      <td>NaN</td>\n      <td>2.0</td>\n      <td>NaN</td>\n      <td>NaN</td>\n      <td>NaN</td>\n      <td>NaN</td>\n      <td>NaN</td>\n    </tr>\n    <tr>\n      <th>2</th>\n      <td>4</td>\n      <td>1</td>\n      <td>115</td>\n      <td>1</td>\n      <td>670</td>\n      <td>10001</td>\n      <td>3</td>\n      <td>1.0</td>\n      <td>NaN</td>\n      <td>NaN</td>\n      <td>...</td>\n      <td>NaN</td>\n      <td>NaN</td>\n      <td>NaN</td>\n      <td>NaN</td>\n      <td>1.0</td>\n      <td>1.0</td>\n      <td>NaN</td>\n      <td>NaN</td>\n      <td>24.0</td>\n      <td>NaN</td>\n    </tr>\n    <tr>\n      <th>3</th>\n      <td>4</td>\n      <td>1</td>\n      <td>115</td>\n      <td>1</td>\n      <td>670</td>\n      <td>10001</td>\n      <td>4</td>\n      <td>1.0</td>\n      <td>NaN</td>\n      <td>NaN</td>\n      <td>...</td>\n      <td>NaN</td>\n      <td>NaN</td>\n      <td>NaN</td>\n      <td>NaN</td>\n      <td>2.0</td>\n      <td>NaN</td>\n      <td>NaN</td>\n      <td>NaN</td>\n      <td>NaN</td>\n      <td>NaN</td>\n    </tr>\n    <tr>\n      <th>4</th>\n      <td>4</td>\n      <td>1</td>\n      <td>115</td>\n      <td>1</td>\n      <td>670</td>\n      <td>10001</td>\n      <td>8</td>\n      <td>1.0</td>\n      <td>NaN</td>\n      <td>NaN</td>\n      <td>...</td>\n      <td>NaN</td>\n      <td>NaN</td>\n      <td>NaN</td>\n      <td>NaN</td>\n      <td>1.0</td>\n      <td>1.0</td>\n      <td>NaN</td>\n      <td>NaN</td>\n      <td>15.0</td>\n      <td>NaN</td>\n    </tr>\n    <tr>\n      <th>...</th>\n      <td>...</td>\n      <td>...</td>\n      <td>...</td>\n      <td>...</td>\n      <td>...</td>\n      <td>...</td>\n      <td>...</td>\n      <td>...</td>\n      <td>...</td>\n      <td>...</td>\n      <td>...</td>\n      <td>...</td>\n      <td>...</td>\n      <td>...</td>\n      <td>...</td>\n      <td>...</td>\n      <td>...</td>\n      <td>...</td>\n      <td>...</td>\n      <td>...</td>\n      <td>...</td>\n    </tr>\n    <tr>\n      <th>20137</th>\n      <td>1</td>\n      <td>37</td>\n      <td>3702</td>\n      <td>1</td>\n      <td>1102</td>\n      <td>379155</td>\n      <td>1</td>\n      <td>1.0</td>\n      <td>NaN</td>\n      <td>NaN</td>\n      <td>...</td>\n      <td>NaN</td>\n      <td>NaN</td>\n      <td>NaN</td>\n      <td>NaN</td>\n      <td>2.0</td>\n      <td>NaN</td>\n      <td>NaN</td>\n      <td>NaN</td>\n      <td>NaN</td>\n      <td>NaN</td>\n    </tr>\n    <tr>\n      <th>20138</th>\n      <td>1</td>\n      <td>37</td>\n      <td>3702</td>\n      <td>1</td>\n      <td>1102</td>\n      <td>379155</td>\n      <td>2</td>\n      <td>1.0</td>\n      <td>NaN</td>\n      <td>NaN</td>\n      <td>...</td>\n      <td>NaN</td>\n      <td>NaN</td>\n      <td>NaN</td>\n      <td>NaN</td>\n      <td>2.0</td>\n      <td>NaN</td>\n      <td>NaN</td>\n      <td>NaN</td>\n      <td>NaN</td>\n      <td>NaN</td>\n    </tr>\n    <tr>\n      <th>20139</th>\n      <td>1</td>\n      <td>37</td>\n      <td>3702</td>\n      <td>1</td>\n      <td>1102</td>\n      <td>379155</td>\n      <td>3</td>\n      <td>1.0</td>\n      <td>NaN</td>\n      <td>NaN</td>\n      <td>...</td>\n      <td>NaN</td>\n      <td>NaN</td>\n      <td>NaN</td>\n      <td>NaN</td>\n      <td>1.0</td>\n      <td>1.0</td>\n      <td>NaN</td>\n      <td>NaN</td>\n      <td>21.0</td>\n      <td>NaN</td>\n    </tr>\n    <tr>\n      <th>20140</th>\n      <td>1</td>\n      <td>37</td>\n      <td>3702</td>\n      <td>1</td>\n      <td>1102</td>\n      <td>379155</td>\n      <td>4</td>\n      <td>1.0</td>\n      <td>NaN</td>\n      <td>NaN</td>\n      <td>...</td>\n      <td>NaN</td>\n      <td>NaN</td>\n      <td>NaN</td>\n      <td>NaN</td>\n      <td>1.0</td>\n      <td>1.0</td>\n      <td>NaN</td>\n      <td>NaN</td>\n      <td>13.0</td>\n      <td>NaN</td>\n    </tr>\n    <tr>\n      <th>20141</th>\n      <td>1</td>\n      <td>37</td>\n      <td>3702</td>\n      <td>1</td>\n      <td>1102</td>\n      <td>379155</td>\n      <td>101</td>\n      <td>2.0</td>\n      <td>2.0</td>\n      <td>NaN</td>\n      <td>...</td>\n      <td>NaN</td>\n      <td>NaN</td>\n      <td>NaN</td>\n      <td>NaN</td>\n      <td>NaN</td>\n      <td>NaN</td>\n      <td>NaN</td>\n      <td>NaN</td>\n      <td>NaN</td>\n      <td>NaN</td>\n    </tr>\n  </tbody>\n</table>\n<p>20142 rows × 25 columns</p>\n</div>"
     },
     "execution_count": 31,
     "metadata": {},
     "output_type": "execute_result"
    }
   ],
   "source": [
    "path = \"p2r1_sect_2.csv\"\n",
    "df = read_csv(path)\n",
    "df"
   ],
   "metadata": {
    "collapsed": false,
    "ExecuteTime": {
     "end_time": "2024-06-07T22:50:59.447437Z",
     "start_time": "2024-06-07T22:50:59.407450Z"
    }
   },
   "id": "f0a7747c6d58e1f7"
  },
  {
   "cell_type": "code",
   "execution_count": null,
   "outputs": [],
   "source": [
    "recode_dict = {\"hhid\": \"household_id\",\n",
    "               'indiv': \"person_id\",\n",
    "               's1q3': \"is_person_still_household_member\",\n",
    "               's2q4': 'why_did_person_leave_household',\n",
    "               's2q5': \"sex_of_person\",\n",
    "               's2q6': 'age_of_person',\n",
    "               's2q7a': 'is_household_head_still_member',\n",
    "               's2q7': 'relationship_of_person_to_household_head',\n",
    "               's2q8': 'why_person_join_household',\n",
    "               }"
   ],
   "metadata": {
    "collapsed": false,
    "ExecuteTime": {
     "start_time": "2024-06-07T22:50:10.939239Z"
    }
   },
   "id": "ad5d0966b381bac9"
  },
  {
   "cell_type": "code",
   "execution_count": null,
   "outputs": [],
   "source": [
    "#  p2r3_sect_a_2_5_6_6c_9a_12.dta is a good one but requires a lot of recoding\n",
    "# p2r2_sect_2_2a.dta is also very good and contains individual Id AND household id! so, excellent. \n",
    "# p2r6_sect_1b.dta contains phone number id and hhid, allowing us to correlate households with phone numbers\n",
    "#todo: household id to individual id from file p2r2_sect_2_2a.dta, then recode this file and use in data\n",
    "#todo: recode a dataset with household-lvel variables for the \"households\" table\n",
    "#todo: make a linking table of households to phone numbers\n",
    "#todo: combine all files like p2r9_sect_1b.csv and p2r3_sect_1b.csv and  p2r6_sect_2.dta, to get people to household to phone number linking data"
   ],
   "metadata": {
    "collapsed": false,
    "ExecuteTime": {
     "start_time": "2024-06-07T22:50:10.939888Z"
    }
   },
   "id": "b2939142df6c5b7b"
  },
  {
   "cell_type": "code",
   "execution_count": null,
   "outputs": [],
   "source": [
    "household level variables:\n",
    "p2r7_sect_5i.dta s5iq1\n"
   ],
   "metadata": {
    "collapsed": false
   },
   "id": "713c120a3be3f5e5"
  },
  {
   "cell_type": "code",
   "execution_count": null,
   "outputs": [],
   "source": [
    "#Household level variables\n",
    "path = \"p2r1_sect_2.csv\"\n",
    "df = read_csv(path)\n",
    "df"
   ],
   "metadata": {
    "collapsed": false
   },
   "id": "f3da5e02cb3c0988"
  }
 ],
 "metadata": {
  "kernelspec": {
   "display_name": "Python 3",
   "language": "python",
   "name": "python3"
  },
  "language_info": {
   "codemirror_mode": {
    "name": "ipython",
    "version": 2
   },
   "file_extension": ".py",
   "mimetype": "text/x-python",
   "name": "python",
   "nbconvert_exporter": "python",
   "pygments_lexer": "ipython2",
   "version": "2.7.6"
  }
 },
 "nbformat": 4,
 "nbformat_minor": 5
}
