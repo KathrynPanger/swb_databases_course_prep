{
 "cells": [
  {
   "cell_type": "code",
   "execution_count": 1,
   "id": "initial_id",
   "metadata": {
    "collapsed": true,
    "ExecuteTime": {
     "end_time": "2024-06-03T22:22:07.795407Z",
     "start_time": "2024-06-03T22:22:07.301972Z"
    }
   },
   "outputs": [],
   "source": [
    "import pandas as pd"
   ]
  },
  {
   "cell_type": "code",
   "execution_count": 47,
   "outputs": [],
   "source": [
    "# combine state ID, state, lga id\n",
    "path_1 = \"../data/processed/linking_tables/state_to_state_id.csv\"\n",
    "path_2 = \"../data/processed/linking_tables/state_to_lga.csv\"\n",
    "dtypes_1 = {\"state_id\": \"int64\", \"state\": \"string\"}\n",
    "dtypes_2 = {\"state\": \"int64\", \"lga\": \"int64\"}\n",
    "df_1 = pd.read_csv(path_1, dtype=dtypes_1)\n",
    "df_2 = pd.read_csv(path_2, dtype=dtypes_2)\n",
    "df_2.rename(columns={\"state\": \"state_id\", \"lga\": \"lga_id\"}, inplace=True)\n",
    "df_1.set_index(\"state_id\", inplace=True)\n",
    "df_2.set_index(\"state_id\", inplace=True)\n"
   ],
   "metadata": {
    "collapsed": false,
    "ExecuteTime": {
     "end_time": "2024-06-04T00:10:25.555927Z",
     "start_time": "2024-06-04T00:10:25.549676Z"
    }
   },
   "id": "e79d42541ddd72f7"
  },
  {
   "cell_type": "code",
   "execution_count": 57,
   "outputs": [
    {
     "data": {
      "text/plain": "          lga_id\nstate_id        \n1            115\n1            105\n1            111\n1            102\n1            107\n...          ...\n10          1010\n29          2901\n33          3305\n34          3416\n35          3510\n\n[400 rows x 1 columns]",
      "text/html": "<div>\n<style scoped>\n    .dataframe tbody tr th:only-of-type {\n        vertical-align: middle;\n    }\n\n    .dataframe tbody tr th {\n        vertical-align: top;\n    }\n\n    .dataframe thead th {\n        text-align: right;\n    }\n</style>\n<table border=\"1\" class=\"dataframe\">\n  <thead>\n    <tr style=\"text-align: right;\">\n      <th></th>\n      <th>lga_id</th>\n    </tr>\n    <tr>\n      <th>state_id</th>\n      <th></th>\n    </tr>\n  </thead>\n  <tbody>\n    <tr>\n      <th>1</th>\n      <td>115</td>\n    </tr>\n    <tr>\n      <th>1</th>\n      <td>105</td>\n    </tr>\n    <tr>\n      <th>1</th>\n      <td>111</td>\n    </tr>\n    <tr>\n      <th>1</th>\n      <td>102</td>\n    </tr>\n    <tr>\n      <th>1</th>\n      <td>107</td>\n    </tr>\n    <tr>\n      <th>...</th>\n      <td>...</td>\n    </tr>\n    <tr>\n      <th>10</th>\n      <td>1010</td>\n    </tr>\n    <tr>\n      <th>29</th>\n      <td>2901</td>\n    </tr>\n    <tr>\n      <th>33</th>\n      <td>3305</td>\n    </tr>\n    <tr>\n      <th>34</th>\n      <td>3416</td>\n    </tr>\n    <tr>\n      <th>35</th>\n      <td>3510</td>\n    </tr>\n  </tbody>\n</table>\n<p>400 rows × 1 columns</p>\n</div>"
     },
     "execution_count": 57,
     "metadata": {},
     "output_type": "execute_result"
    }
   ],
   "source": [
    "df_2"
   ],
   "metadata": {
    "collapsed": false,
    "ExecuteTime": {
     "end_time": "2024-06-04T00:12:46.179101Z",
     "start_time": "2024-06-04T00:12:46.172291Z"
    }
   },
   "id": "5b7409457be9c448"
  },
  {
   "cell_type": "code",
   "execution_count": 54,
   "outputs": [
    {
     "data": {
      "text/plain": "          state  lga_id\nstate_id               \n1          Abia     115\n1          Abia     105\n1          Abia     111\n1          Abia     102\n1          Abia     107\n...         ...     ...\n37          FCT    3702\n37          FCT    3701\n37          FCT    3703\n37          FCT    3704\n37          FCT    3705\n\n[400 rows x 2 columns]",
      "text/html": "<div>\n<style scoped>\n    .dataframe tbody tr th:only-of-type {\n        vertical-align: middle;\n    }\n\n    .dataframe tbody tr th {\n        vertical-align: top;\n    }\n\n    .dataframe thead th {\n        text-align: right;\n    }\n</style>\n<table border=\"1\" class=\"dataframe\">\n  <thead>\n    <tr style=\"text-align: right;\">\n      <th></th>\n      <th>state</th>\n      <th>lga_id</th>\n    </tr>\n    <tr>\n      <th>state_id</th>\n      <th></th>\n      <th></th>\n    </tr>\n  </thead>\n  <tbody>\n    <tr>\n      <th>1</th>\n      <td>Abia</td>\n      <td>115</td>\n    </tr>\n    <tr>\n      <th>1</th>\n      <td>Abia</td>\n      <td>105</td>\n    </tr>\n    <tr>\n      <th>1</th>\n      <td>Abia</td>\n      <td>111</td>\n    </tr>\n    <tr>\n      <th>1</th>\n      <td>Abia</td>\n      <td>102</td>\n    </tr>\n    <tr>\n      <th>1</th>\n      <td>Abia</td>\n      <td>107</td>\n    </tr>\n    <tr>\n      <th>...</th>\n      <td>...</td>\n      <td>...</td>\n    </tr>\n    <tr>\n      <th>37</th>\n      <td>FCT</td>\n      <td>3702</td>\n    </tr>\n    <tr>\n      <th>37</th>\n      <td>FCT</td>\n      <td>3701</td>\n    </tr>\n    <tr>\n      <th>37</th>\n      <td>FCT</td>\n      <td>3703</td>\n    </tr>\n    <tr>\n      <th>37</th>\n      <td>FCT</td>\n      <td>3704</td>\n    </tr>\n    <tr>\n      <th>37</th>\n      <td>FCT</td>\n      <td>3705</td>\n    </tr>\n  </tbody>\n</table>\n<p>400 rows × 2 columns</p>\n</div>"
     },
     "execution_count": 54,
     "metadata": {},
     "output_type": "execute_result"
    }
   ],
   "source": [
    "df_3 = df_1.join(df_2, on=\"state_id\", how=\"outer\")\n",
    "df_3"
   ],
   "metadata": {
    "collapsed": false,
    "ExecuteTime": {
     "end_time": "2024-06-04T00:12:13.096594Z",
     "start_time": "2024-06-04T00:12:13.092802Z"
    }
   },
   "id": "9ab581eed4c3d2c4"
  },
  {
   "cell_type": "code",
   "execution_count": 50,
   "outputs": [
    {
     "data": {
      "text/plain": "lga_id    int64\ndtype: object"
     },
     "execution_count": 50,
     "metadata": {},
     "output_type": "execute_result"
    }
   ],
   "source": [
    "# combine zone id, zone, state id\n",
    "df_2.dtypes"
   ],
   "metadata": {
    "collapsed": false,
    "ExecuteTime": {
     "end_time": "2024-06-04T00:10:46.051360Z",
     "start_time": "2024-06-04T00:10:46.047015Z"
    }
   },
   "id": "b79616f3d5958f99"
  },
  {
   "cell_type": "code",
   "execution_count": 33,
   "outputs": [
    {
     "data": {
      "text/plain": "                 state\nstate_id              \n1                 Abia\n2              Adamawa\n3            Akwa Ibom\n4              Anambra\n5               Bauchi\n6              Bayelsa\n7                Benue\n8                Borno\n9          Cross River\n10               Delta\n11              Ebonyi\n12                 Edo\n13               Ekiti\n14               Enugu\n15               Gombe\n16                 Imo\n17              Jigawa\n18              Kaduna\n19                Kano\n20             Katsina\n21               Kebbi\n22                Kogi\n23               Kwara\n24               Lagos\n25            Nasarawa\n26               Niger\n27                Ogun\n28                Ondo\n29                Osun\n30                 Oyo\n31             Plateau\n32              Rivers\n33              Sokoto\n34              Taraba\n35                Yobe\n36             Zamfara\n37                 FCT",
      "text/html": "<div>\n<style scoped>\n    .dataframe tbody tr th:only-of-type {\n        vertical-align: middle;\n    }\n\n    .dataframe tbody tr th {\n        vertical-align: top;\n    }\n\n    .dataframe thead th {\n        text-align: right;\n    }\n</style>\n<table border=\"1\" class=\"dataframe\">\n  <thead>\n    <tr style=\"text-align: right;\">\n      <th></th>\n      <th>state</th>\n    </tr>\n    <tr>\n      <th>state_id</th>\n      <th></th>\n    </tr>\n  </thead>\n  <tbody>\n    <tr>\n      <th>1</th>\n      <td>Abia</td>\n    </tr>\n    <tr>\n      <th>2</th>\n      <td>Adamawa</td>\n    </tr>\n    <tr>\n      <th>3</th>\n      <td>Akwa Ibom</td>\n    </tr>\n    <tr>\n      <th>4</th>\n      <td>Anambra</td>\n    </tr>\n    <tr>\n      <th>5</th>\n      <td>Bauchi</td>\n    </tr>\n    <tr>\n      <th>6</th>\n      <td>Bayelsa</td>\n    </tr>\n    <tr>\n      <th>7</th>\n      <td>Benue</td>\n    </tr>\n    <tr>\n      <th>8</th>\n      <td>Borno</td>\n    </tr>\n    <tr>\n      <th>9</th>\n      <td>Cross River</td>\n    </tr>\n    <tr>\n      <th>10</th>\n      <td>Delta</td>\n    </tr>\n    <tr>\n      <th>11</th>\n      <td>Ebonyi</td>\n    </tr>\n    <tr>\n      <th>12</th>\n      <td>Edo</td>\n    </tr>\n    <tr>\n      <th>13</th>\n      <td>Ekiti</td>\n    </tr>\n    <tr>\n      <th>14</th>\n      <td>Enugu</td>\n    </tr>\n    <tr>\n      <th>15</th>\n      <td>Gombe</td>\n    </tr>\n    <tr>\n      <th>16</th>\n      <td>Imo</td>\n    </tr>\n    <tr>\n      <th>17</th>\n      <td>Jigawa</td>\n    </tr>\n    <tr>\n      <th>18</th>\n      <td>Kaduna</td>\n    </tr>\n    <tr>\n      <th>19</th>\n      <td>Kano</td>\n    </tr>\n    <tr>\n      <th>20</th>\n      <td>Katsina</td>\n    </tr>\n    <tr>\n      <th>21</th>\n      <td>Kebbi</td>\n    </tr>\n    <tr>\n      <th>22</th>\n      <td>Kogi</td>\n    </tr>\n    <tr>\n      <th>23</th>\n      <td>Kwara</td>\n    </tr>\n    <tr>\n      <th>24</th>\n      <td>Lagos</td>\n    </tr>\n    <tr>\n      <th>25</th>\n      <td>Nasarawa</td>\n    </tr>\n    <tr>\n      <th>26</th>\n      <td>Niger</td>\n    </tr>\n    <tr>\n      <th>27</th>\n      <td>Ogun</td>\n    </tr>\n    <tr>\n      <th>28</th>\n      <td>Ondo</td>\n    </tr>\n    <tr>\n      <th>29</th>\n      <td>Osun</td>\n    </tr>\n    <tr>\n      <th>30</th>\n      <td>Oyo</td>\n    </tr>\n    <tr>\n      <th>31</th>\n      <td>Plateau</td>\n    </tr>\n    <tr>\n      <th>32</th>\n      <td>Rivers</td>\n    </tr>\n    <tr>\n      <th>33</th>\n      <td>Sokoto</td>\n    </tr>\n    <tr>\n      <th>34</th>\n      <td>Taraba</td>\n    </tr>\n    <tr>\n      <th>35</th>\n      <td>Yobe</td>\n    </tr>\n    <tr>\n      <th>36</th>\n      <td>Zamfara</td>\n    </tr>\n    <tr>\n      <th>37</th>\n      <td>FCT</td>\n    </tr>\n  </tbody>\n</table>\n</div>"
     },
     "execution_count": 33,
     "metadata": {},
     "output_type": "execute_result"
    }
   ],
   "source": [
    "# combine lga, lga id, and something about each lga.\n",
    "df_1"
   ],
   "metadata": {
    "collapsed": false,
    "ExecuteTime": {
     "end_time": "2024-06-03T23:51:27.807557Z",
     "start_time": "2024-06-03T23:51:27.794970Z"
    }
   },
   "id": "ff4b5681da7eaaba"
  },
  {
   "cell_type": "code",
   "execution_count": null,
   "outputs": [],
   "source": [],
   "metadata": {
    "collapsed": false
   },
   "id": "b1bbc0324b669ece"
  }
 ],
 "metadata": {
  "kernelspec": {
   "display_name": "Python 3",
   "language": "python",
   "name": "python3"
  },
  "language_info": {
   "codemirror_mode": {
    "name": "ipython",
    "version": 2
   },
   "file_extension": ".py",
   "mimetype": "text/x-python",
   "name": "python",
   "nbconvert_exporter": "python",
   "pygments_lexer": "ipython2",
   "version": "2.7.6"
  }
 },
 "nbformat": 4,
 "nbformat_minor": 5
}
