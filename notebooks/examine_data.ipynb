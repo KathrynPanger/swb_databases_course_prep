{
 "cells": [
  {
   "cell_type": "code",
   "execution_count": 45,
   "id": "initial_id",
   "metadata": {
    "collapsed": true,
    "ExecuteTime": {
     "end_time": "2024-05-28T20:08:21.580469Z",
     "start_time": "2024-05-28T20:08:21.575182Z"
    }
   },
   "outputs": [],
   "source": [
    "import pandas as pd"
   ]
  },
  {
   "cell_type": "code",
   "execution_count": 46,
   "outputs": [],
   "source": [
    "def read_csv(path: str) -> pd.DataFrame:\n",
    "    root_path = \"../data/raw\"\n",
    "    full_path = root_path + \"/\" +  path\n",
    "    df = pd.read_csv(full_path)\n",
    "    return df"
   ],
   "metadata": {
    "collapsed": false,
    "ExecuteTime": {
     "end_time": "2024-05-28T20:08:21.863504Z",
     "start_time": "2024-05-28T20:08:21.859151Z"
    }
   },
   "id": "dc6a798d9f52475b"
  },
  {
   "cell_type": "code",
   "execution_count": 47,
   "outputs": [],
   "source": [
    "path = \"p2r6_sect_a_2_5_6_8_11b_12.csv\"\n",
    "df = read_csv(path=path)\n",
    "# Promising Variables\n",
    "# hhid, zone, state, lga, sector, ea,\n",
    "# s6q11c: \n",
    "# Since March 2022\n",
    "# (in the past 6\n",
    "# months), did you or\n",
    "# any member of\n",
    "# your household\n",
    "# operate a non-farm\n",
    "# family business?, s12q9: INTERVIEWER:\n",
    "# WHO WAS THE\n",
    "# MAIN\n",
    "# RESPONDENT\n",
    "# s12q10 what language was interview conducted?"
   ],
   "metadata": {
    "collapsed": false,
    "ExecuteTime": {
     "end_time": "2024-05-28T20:08:22.210082Z",
     "start_time": "2024-05-28T20:08:22.187768Z"
    }
   },
   "id": "f99d46887d8c78d7"
  },
  {
   "cell_type": "markdown",
   "source": [
    "Linking Tables in this notebook:\n",
    "1. zone to state\n",
    "2. "
   ],
   "metadata": {
    "collapsed": false
   },
   "id": "3d34adc8742b90cb"
  },
  {
   "cell_type": "code",
   "execution_count": 48,
   "outputs": [
    {
     "data": {
      "text/plain": "      zone  state   lga  sector    ea    hhid  interviewer_id  strata  \\\n0        4      1   115       1   670   10001              37     4.0   \n1        4      1   115       1   670   10002              36     NaN   \n2        4      1   115       1   670   10004              36     4.0   \n3        4      1   115       1   670   10005              36     4.0   \n4        4      1   115       1   670   10008              36     4.0   \n...    ...    ...   ...     ...   ...     ...             ...     ...   \n2794     1     37  3702       1  1102  379143              37     1.0   \n2795     1     37  3702       1  1102  379144              34     NaN   \n2796     1     37  3702       1  1102  379151              34     NaN   \n2797     1     37  3702       1  1102  379154               4     1.0   \n2798     1     37  3702       1  1102  379155               4     1.0   \n\n        cluster   wt_p2round6  ...  s12q4__0 s12q4__1  s12q4__2  s12q4__3  \\\n0       115-670  18107.132495  ...       0.0      0.0       0.0       1.0   \n1           NaN           NaN  ...       NaN      NaN       NaN       NaN   \n2       115-670  27943.507063  ...       1.0      0.0       0.0       0.0   \n3       115-670  37673.197238  ...       1.0      0.0       0.0       0.0   \n4       115-670  20340.209108  ...       1.0      0.0       0.0       0.0   \n...         ...           ...  ...       ...      ...       ...       ...   \n2794  3702-1102    625.490986  ...       0.0      0.0       0.0       1.0   \n2795        NaN           NaN  ...       NaN      NaN       NaN       NaN   \n2796        NaN           NaN  ...       NaN      NaN       NaN       NaN   \n2797  3702-1102   1515.872039  ...       1.0      0.0       0.0       0.0   \n2798  3702-1102   1759.817880  ...       1.0      0.0       0.0       0.0   \n\n      s12q5  s12q9  s12q10  s12q10_os  s12q11               s12q14  \n0         1    1.0     1.0        NaN     1.0  2022-10-15T20:20:53  \n1         5    NaN     NaN        NaN     NaN  2022-10-25T03:49:25  \n2         1    1.0     1.0        NaN     1.0  2022-10-14T10:41:08  \n3         1    1.0     1.0        NaN     1.0  2022-10-10T21:18:25  \n4         1    2.0     5.0        NaN     2.0  2022-10-09T20:58:44  \n...     ...    ...     ...        ...     ...                  ...  \n2794      1    1.0     1.0        NaN     1.0  2022-10-13T19:18:37  \n2795      5    NaN     NaN        NaN     NaN  2022-10-25T08:01:44  \n2796      5    NaN     NaN        NaN     NaN  2022-10-25T08:02:05  \n2797      1    2.0     3.0        NaN     1.0  2022-10-12T17:51:14  \n2798      1    1.0     1.0        NaN     1.0  2022-10-17T12:57:18  \n\n[2799 rows x 91 columns]",
      "text/html": "<div>\n<style scoped>\n    .dataframe tbody tr th:only-of-type {\n        vertical-align: middle;\n    }\n\n    .dataframe tbody tr th {\n        vertical-align: top;\n    }\n\n    .dataframe thead th {\n        text-align: right;\n    }\n</style>\n<table border=\"1\" class=\"dataframe\">\n  <thead>\n    <tr style=\"text-align: right;\">\n      <th></th>\n      <th>zone</th>\n      <th>state</th>\n      <th>lga</th>\n      <th>sector</th>\n      <th>ea</th>\n      <th>hhid</th>\n      <th>interviewer_id</th>\n      <th>strata</th>\n      <th>cluster</th>\n      <th>wt_p2round6</th>\n      <th>...</th>\n      <th>s12q4__0</th>\n      <th>s12q4__1</th>\n      <th>s12q4__2</th>\n      <th>s12q4__3</th>\n      <th>s12q5</th>\n      <th>s12q9</th>\n      <th>s12q10</th>\n      <th>s12q10_os</th>\n      <th>s12q11</th>\n      <th>s12q14</th>\n    </tr>\n  </thead>\n  <tbody>\n    <tr>\n      <th>0</th>\n      <td>4</td>\n      <td>1</td>\n      <td>115</td>\n      <td>1</td>\n      <td>670</td>\n      <td>10001</td>\n      <td>37</td>\n      <td>4.0</td>\n      <td>115-670</td>\n      <td>18107.132495</td>\n      <td>...</td>\n      <td>0.0</td>\n      <td>0.0</td>\n      <td>0.0</td>\n      <td>1.0</td>\n      <td>1</td>\n      <td>1.0</td>\n      <td>1.0</td>\n      <td>NaN</td>\n      <td>1.0</td>\n      <td>2022-10-15T20:20:53</td>\n    </tr>\n    <tr>\n      <th>1</th>\n      <td>4</td>\n      <td>1</td>\n      <td>115</td>\n      <td>1</td>\n      <td>670</td>\n      <td>10002</td>\n      <td>36</td>\n      <td>NaN</td>\n      <td>NaN</td>\n      <td>NaN</td>\n      <td>...</td>\n      <td>NaN</td>\n      <td>NaN</td>\n      <td>NaN</td>\n      <td>NaN</td>\n      <td>5</td>\n      <td>NaN</td>\n      <td>NaN</td>\n      <td>NaN</td>\n      <td>NaN</td>\n      <td>2022-10-25T03:49:25</td>\n    </tr>\n    <tr>\n      <th>2</th>\n      <td>4</td>\n      <td>1</td>\n      <td>115</td>\n      <td>1</td>\n      <td>670</td>\n      <td>10004</td>\n      <td>36</td>\n      <td>4.0</td>\n      <td>115-670</td>\n      <td>27943.507063</td>\n      <td>...</td>\n      <td>1.0</td>\n      <td>0.0</td>\n      <td>0.0</td>\n      <td>0.0</td>\n      <td>1</td>\n      <td>1.0</td>\n      <td>1.0</td>\n      <td>NaN</td>\n      <td>1.0</td>\n      <td>2022-10-14T10:41:08</td>\n    </tr>\n    <tr>\n      <th>3</th>\n      <td>4</td>\n      <td>1</td>\n      <td>115</td>\n      <td>1</td>\n      <td>670</td>\n      <td>10005</td>\n      <td>36</td>\n      <td>4.0</td>\n      <td>115-670</td>\n      <td>37673.197238</td>\n      <td>...</td>\n      <td>1.0</td>\n      <td>0.0</td>\n      <td>0.0</td>\n      <td>0.0</td>\n      <td>1</td>\n      <td>1.0</td>\n      <td>1.0</td>\n      <td>NaN</td>\n      <td>1.0</td>\n      <td>2022-10-10T21:18:25</td>\n    </tr>\n    <tr>\n      <th>4</th>\n      <td>4</td>\n      <td>1</td>\n      <td>115</td>\n      <td>1</td>\n      <td>670</td>\n      <td>10008</td>\n      <td>36</td>\n      <td>4.0</td>\n      <td>115-670</td>\n      <td>20340.209108</td>\n      <td>...</td>\n      <td>1.0</td>\n      <td>0.0</td>\n      <td>0.0</td>\n      <td>0.0</td>\n      <td>1</td>\n      <td>2.0</td>\n      <td>5.0</td>\n      <td>NaN</td>\n      <td>2.0</td>\n      <td>2022-10-09T20:58:44</td>\n    </tr>\n    <tr>\n      <th>...</th>\n      <td>...</td>\n      <td>...</td>\n      <td>...</td>\n      <td>...</td>\n      <td>...</td>\n      <td>...</td>\n      <td>...</td>\n      <td>...</td>\n      <td>...</td>\n      <td>...</td>\n      <td>...</td>\n      <td>...</td>\n      <td>...</td>\n      <td>...</td>\n      <td>...</td>\n      <td>...</td>\n      <td>...</td>\n      <td>...</td>\n      <td>...</td>\n      <td>...</td>\n      <td>...</td>\n    </tr>\n    <tr>\n      <th>2794</th>\n      <td>1</td>\n      <td>37</td>\n      <td>3702</td>\n      <td>1</td>\n      <td>1102</td>\n      <td>379143</td>\n      <td>37</td>\n      <td>1.0</td>\n      <td>3702-1102</td>\n      <td>625.490986</td>\n      <td>...</td>\n      <td>0.0</td>\n      <td>0.0</td>\n      <td>0.0</td>\n      <td>1.0</td>\n      <td>1</td>\n      <td>1.0</td>\n      <td>1.0</td>\n      <td>NaN</td>\n      <td>1.0</td>\n      <td>2022-10-13T19:18:37</td>\n    </tr>\n    <tr>\n      <th>2795</th>\n      <td>1</td>\n      <td>37</td>\n      <td>3702</td>\n      <td>1</td>\n      <td>1102</td>\n      <td>379144</td>\n      <td>34</td>\n      <td>NaN</td>\n      <td>NaN</td>\n      <td>NaN</td>\n      <td>...</td>\n      <td>NaN</td>\n      <td>NaN</td>\n      <td>NaN</td>\n      <td>NaN</td>\n      <td>5</td>\n      <td>NaN</td>\n      <td>NaN</td>\n      <td>NaN</td>\n      <td>NaN</td>\n      <td>2022-10-25T08:01:44</td>\n    </tr>\n    <tr>\n      <th>2796</th>\n      <td>1</td>\n      <td>37</td>\n      <td>3702</td>\n      <td>1</td>\n      <td>1102</td>\n      <td>379151</td>\n      <td>34</td>\n      <td>NaN</td>\n      <td>NaN</td>\n      <td>NaN</td>\n      <td>...</td>\n      <td>NaN</td>\n      <td>NaN</td>\n      <td>NaN</td>\n      <td>NaN</td>\n      <td>5</td>\n      <td>NaN</td>\n      <td>NaN</td>\n      <td>NaN</td>\n      <td>NaN</td>\n      <td>2022-10-25T08:02:05</td>\n    </tr>\n    <tr>\n      <th>2797</th>\n      <td>1</td>\n      <td>37</td>\n      <td>3702</td>\n      <td>1</td>\n      <td>1102</td>\n      <td>379154</td>\n      <td>4</td>\n      <td>1.0</td>\n      <td>3702-1102</td>\n      <td>1515.872039</td>\n      <td>...</td>\n      <td>1.0</td>\n      <td>0.0</td>\n      <td>0.0</td>\n      <td>0.0</td>\n      <td>1</td>\n      <td>2.0</td>\n      <td>3.0</td>\n      <td>NaN</td>\n      <td>1.0</td>\n      <td>2022-10-12T17:51:14</td>\n    </tr>\n    <tr>\n      <th>2798</th>\n      <td>1</td>\n      <td>37</td>\n      <td>3702</td>\n      <td>1</td>\n      <td>1102</td>\n      <td>379155</td>\n      <td>4</td>\n      <td>1.0</td>\n      <td>3702-1102</td>\n      <td>1759.817880</td>\n      <td>...</td>\n      <td>1.0</td>\n      <td>0.0</td>\n      <td>0.0</td>\n      <td>0.0</td>\n      <td>1</td>\n      <td>1.0</td>\n      <td>1.0</td>\n      <td>NaN</td>\n      <td>1.0</td>\n      <td>2022-10-17T12:57:18</td>\n    </tr>\n  </tbody>\n</table>\n<p>2799 rows × 91 columns</p>\n</div>"
     },
     "execution_count": 48,
     "metadata": {},
     "output_type": "execute_result"
    }
   ],
   "source": [
    "df"
   ],
   "metadata": {
    "collapsed": false,
    "ExecuteTime": {
     "end_time": "2024-05-28T20:08:22.868113Z",
     "start_time": "2024-05-28T20:08:22.856433Z"
    }
   },
   "id": "7fcf8fb6901bbf31"
  },
  {
   "cell_type": "code",
   "execution_count": 49,
   "outputs": [
    {
     "data": {
      "text/plain": "     unique_lga\nlga            \n209           2",
      "text/html": "<div>\n<style scoped>\n    .dataframe tbody tr th:only-of-type {\n        vertical-align: middle;\n    }\n\n    .dataframe tbody tr th {\n        vertical-align: top;\n    }\n\n    .dataframe thead th {\n        text-align: right;\n    }\n</style>\n<table border=\"1\" class=\"dataframe\">\n  <thead>\n    <tr style=\"text-align: right;\">\n      <th></th>\n      <th>unique_lga</th>\n    </tr>\n    <tr>\n      <th>lga</th>\n      <th></th>\n    </tr>\n  </thead>\n  <tbody>\n    <tr>\n      <th>209</th>\n      <td>2</td>\n    </tr>\n  </tbody>\n</table>\n</div>"
     },
     "execution_count": 49,
     "metadata": {},
     "output_type": "execute_result"
    }
   ],
   "source": [
    "#There is only one instance of overlapping data \n",
    "grouped = df.groupby(by=\"lga\").agg(unique_lga=(\"state\", \"nunique\"))\n",
    "grouped[grouped[\"unique_lga\"] > 1]"
   ],
   "metadata": {
    "collapsed": false,
    "ExecuteTime": {
     "end_time": "2024-05-28T20:08:29.444584Z",
     "start_time": "2024-05-28T20:08:29.435406Z"
    }
   },
   "id": "631f2782c418c64a"
  },
  {
   "cell_type": "code",
   "execution_count": 50,
   "outputs": [
    {
     "data": {
      "text/plain": "     zone  state  lga  sector    ea   hhid  interviewer_id  strata   cluster  \\\n169     2      2  209       2  1040  20001              13     2.0  209-1040   \n170     2      2  209       2  1040  20002               4     2.0  209-1040   \n171     2      2  209       2  1040  20005              13     2.0  209-1040   \n172     2      2  209       2  1040  20006              13     NaN       NaN   \n173     2     34  209       2     0  20009              34     2.0  209-1040   \n174     2      2  209       2  1040  20010              21     2.0  209-1040   \n216     2      2  209       2    10  29052              21     2.0    209-10   \n217     2      2  209       2    10  29055              21     2.0    209-10   \n218     2      2  209       2    10  29056              21     NaN       NaN   \n\n     wt_p2round6  ...  s12q4__0 s12q4__1  s12q4__2  s12q4__3  s12q5  s12q9  \\\n169  2920.099382  ...       1.0      0.0       0.0       0.0      1    4.0   \n170  3585.942557  ...       1.0      0.0       0.0       0.0      1    4.0   \n171  4640.562839  ...       1.0      0.0       0.0       0.0      1    5.0   \n172          NaN  ...       NaN      NaN       NaN       NaN      7    NaN   \n173  9501.850966  ...       1.0      0.0       0.0       0.0      1   12.0   \n174  5558.828252  ...       1.0      0.0       0.0       0.0      1    3.0   \n216   827.594764  ...       1.0      0.0       0.0       0.0      1    1.0   \n217  2395.987173  ...       1.0      0.0       0.0       0.0      1    1.0   \n218          NaN  ...       NaN      NaN       NaN       NaN      7    NaN   \n\n     s12q10  s12q10_os  s12q11               s12q14  \n169     3.0        NaN     1.0  2022-10-12T06:51:03  \n170     3.0        NaN     1.0  2022-10-13T10:37:23  \n171     3.0        NaN     3.0  2022-10-13T10:09:25  \n172     NaN        NaN     NaN  2022-10-17T13:19:14  \n173     3.0        NaN     1.0  2022-10-12T10:33:49  \n174     3.0        NaN     1.0  2022-10-16T06:50:13  \n216     3.0        NaN     1.0  2022-10-14T07:00:00  \n217     3.0        NaN     1.0  2022-10-07T15:45:59  \n218     NaN        NaN     NaN  2022-10-25T06:47:52  \n\n[9 rows x 91 columns]",
      "text/html": "<div>\n<style scoped>\n    .dataframe tbody tr th:only-of-type {\n        vertical-align: middle;\n    }\n\n    .dataframe tbody tr th {\n        vertical-align: top;\n    }\n\n    .dataframe thead th {\n        text-align: right;\n    }\n</style>\n<table border=\"1\" class=\"dataframe\">\n  <thead>\n    <tr style=\"text-align: right;\">\n      <th></th>\n      <th>zone</th>\n      <th>state</th>\n      <th>lga</th>\n      <th>sector</th>\n      <th>ea</th>\n      <th>hhid</th>\n      <th>interviewer_id</th>\n      <th>strata</th>\n      <th>cluster</th>\n      <th>wt_p2round6</th>\n      <th>...</th>\n      <th>s12q4__0</th>\n      <th>s12q4__1</th>\n      <th>s12q4__2</th>\n      <th>s12q4__3</th>\n      <th>s12q5</th>\n      <th>s12q9</th>\n      <th>s12q10</th>\n      <th>s12q10_os</th>\n      <th>s12q11</th>\n      <th>s12q14</th>\n    </tr>\n  </thead>\n  <tbody>\n    <tr>\n      <th>169</th>\n      <td>2</td>\n      <td>2</td>\n      <td>209</td>\n      <td>2</td>\n      <td>1040</td>\n      <td>20001</td>\n      <td>13</td>\n      <td>2.0</td>\n      <td>209-1040</td>\n      <td>2920.099382</td>\n      <td>...</td>\n      <td>1.0</td>\n      <td>0.0</td>\n      <td>0.0</td>\n      <td>0.0</td>\n      <td>1</td>\n      <td>4.0</td>\n      <td>3.0</td>\n      <td>NaN</td>\n      <td>1.0</td>\n      <td>2022-10-12T06:51:03</td>\n    </tr>\n    <tr>\n      <th>170</th>\n      <td>2</td>\n      <td>2</td>\n      <td>209</td>\n      <td>2</td>\n      <td>1040</td>\n      <td>20002</td>\n      <td>4</td>\n      <td>2.0</td>\n      <td>209-1040</td>\n      <td>3585.942557</td>\n      <td>...</td>\n      <td>1.0</td>\n      <td>0.0</td>\n      <td>0.0</td>\n      <td>0.0</td>\n      <td>1</td>\n      <td>4.0</td>\n      <td>3.0</td>\n      <td>NaN</td>\n      <td>1.0</td>\n      <td>2022-10-13T10:37:23</td>\n    </tr>\n    <tr>\n      <th>171</th>\n      <td>2</td>\n      <td>2</td>\n      <td>209</td>\n      <td>2</td>\n      <td>1040</td>\n      <td>20005</td>\n      <td>13</td>\n      <td>2.0</td>\n      <td>209-1040</td>\n      <td>4640.562839</td>\n      <td>...</td>\n      <td>1.0</td>\n      <td>0.0</td>\n      <td>0.0</td>\n      <td>0.0</td>\n      <td>1</td>\n      <td>5.0</td>\n      <td>3.0</td>\n      <td>NaN</td>\n      <td>3.0</td>\n      <td>2022-10-13T10:09:25</td>\n    </tr>\n    <tr>\n      <th>172</th>\n      <td>2</td>\n      <td>2</td>\n      <td>209</td>\n      <td>2</td>\n      <td>1040</td>\n      <td>20006</td>\n      <td>13</td>\n      <td>NaN</td>\n      <td>NaN</td>\n      <td>NaN</td>\n      <td>...</td>\n      <td>NaN</td>\n      <td>NaN</td>\n      <td>NaN</td>\n      <td>NaN</td>\n      <td>7</td>\n      <td>NaN</td>\n      <td>NaN</td>\n      <td>NaN</td>\n      <td>NaN</td>\n      <td>2022-10-17T13:19:14</td>\n    </tr>\n    <tr>\n      <th>173</th>\n      <td>2</td>\n      <td>34</td>\n      <td>209</td>\n      <td>2</td>\n      <td>0</td>\n      <td>20009</td>\n      <td>34</td>\n      <td>2.0</td>\n      <td>209-1040</td>\n      <td>9501.850966</td>\n      <td>...</td>\n      <td>1.0</td>\n      <td>0.0</td>\n      <td>0.0</td>\n      <td>0.0</td>\n      <td>1</td>\n      <td>12.0</td>\n      <td>3.0</td>\n      <td>NaN</td>\n      <td>1.0</td>\n      <td>2022-10-12T10:33:49</td>\n    </tr>\n    <tr>\n      <th>174</th>\n      <td>2</td>\n      <td>2</td>\n      <td>209</td>\n      <td>2</td>\n      <td>1040</td>\n      <td>20010</td>\n      <td>21</td>\n      <td>2.0</td>\n      <td>209-1040</td>\n      <td>5558.828252</td>\n      <td>...</td>\n      <td>1.0</td>\n      <td>0.0</td>\n      <td>0.0</td>\n      <td>0.0</td>\n      <td>1</td>\n      <td>3.0</td>\n      <td>3.0</td>\n      <td>NaN</td>\n      <td>1.0</td>\n      <td>2022-10-16T06:50:13</td>\n    </tr>\n    <tr>\n      <th>216</th>\n      <td>2</td>\n      <td>2</td>\n      <td>209</td>\n      <td>2</td>\n      <td>10</td>\n      <td>29052</td>\n      <td>21</td>\n      <td>2.0</td>\n      <td>209-10</td>\n      <td>827.594764</td>\n      <td>...</td>\n      <td>1.0</td>\n      <td>0.0</td>\n      <td>0.0</td>\n      <td>0.0</td>\n      <td>1</td>\n      <td>1.0</td>\n      <td>3.0</td>\n      <td>NaN</td>\n      <td>1.0</td>\n      <td>2022-10-14T07:00:00</td>\n    </tr>\n    <tr>\n      <th>217</th>\n      <td>2</td>\n      <td>2</td>\n      <td>209</td>\n      <td>2</td>\n      <td>10</td>\n      <td>29055</td>\n      <td>21</td>\n      <td>2.0</td>\n      <td>209-10</td>\n      <td>2395.987173</td>\n      <td>...</td>\n      <td>1.0</td>\n      <td>0.0</td>\n      <td>0.0</td>\n      <td>0.0</td>\n      <td>1</td>\n      <td>1.0</td>\n      <td>3.0</td>\n      <td>NaN</td>\n      <td>1.0</td>\n      <td>2022-10-07T15:45:59</td>\n    </tr>\n    <tr>\n      <th>218</th>\n      <td>2</td>\n      <td>2</td>\n      <td>209</td>\n      <td>2</td>\n      <td>10</td>\n      <td>29056</td>\n      <td>21</td>\n      <td>NaN</td>\n      <td>NaN</td>\n      <td>NaN</td>\n      <td>...</td>\n      <td>NaN</td>\n      <td>NaN</td>\n      <td>NaN</td>\n      <td>NaN</td>\n      <td>7</td>\n      <td>NaN</td>\n      <td>NaN</td>\n      <td>NaN</td>\n      <td>NaN</td>\n      <td>2022-10-25T06:47:52</td>\n    </tr>\n  </tbody>\n</table>\n<p>9 rows × 91 columns</p>\n</div>"
     },
     "execution_count": 50,
     "metadata": {},
     "output_type": "execute_result"
    }
   ],
   "source": [
    "df[df[\"lga\"] == 209]\n",
    "# line 173 contains a user entry error. lga 209 is in state 2, not state 34. Since this is toy data, for the sake of simplicity we will drop this observation before creating our linking table."
   ],
   "metadata": {
    "collapsed": false,
    "ExecuteTime": {
     "end_time": "2024-05-28T20:08:31.045913Z",
     "start_time": "2024-05-28T20:08:31.037221Z"
    }
   },
   "id": "95bdefe5121dd71b"
  },
  {
   "cell_type": "code",
   "execution_count": 51,
   "outputs": [
    {
     "data": {
      "text/plain": "     zone  state  lga  sector    ea   hhid  interviewer_id  strata   cluster  \\\n169     2      2  209       2  1040  20001              13     2.0  209-1040   \n170     2      2  209       2  1040  20002               4     2.0  209-1040   \n171     2      2  209       2  1040  20005              13     2.0  209-1040   \n172     2      2  209       2  1040  20006              13     NaN       NaN   \n174     2      2  209       2  1040  20010              21     2.0  209-1040   \n216     2      2  209       2    10  29052              21     2.0    209-10   \n217     2      2  209       2    10  29055              21     2.0    209-10   \n218     2      2  209       2    10  29056              21     NaN       NaN   \n\n     wt_p2round6  ...  s12q4__0 s12q4__1  s12q4__2  s12q4__3  s12q5  s12q9  \\\n169  2920.099382  ...       1.0      0.0       0.0       0.0      1    4.0   \n170  3585.942557  ...       1.0      0.0       0.0       0.0      1    4.0   \n171  4640.562839  ...       1.0      0.0       0.0       0.0      1    5.0   \n172          NaN  ...       NaN      NaN       NaN       NaN      7    NaN   \n174  5558.828252  ...       1.0      0.0       0.0       0.0      1    3.0   \n216   827.594764  ...       1.0      0.0       0.0       0.0      1    1.0   \n217  2395.987173  ...       1.0      0.0       0.0       0.0      1    1.0   \n218          NaN  ...       NaN      NaN       NaN       NaN      7    NaN   \n\n     s12q10  s12q10_os  s12q11               s12q14  \n169     3.0        NaN     1.0  2022-10-12T06:51:03  \n170     3.0        NaN     1.0  2022-10-13T10:37:23  \n171     3.0        NaN     3.0  2022-10-13T10:09:25  \n172     NaN        NaN     NaN  2022-10-17T13:19:14  \n174     3.0        NaN     1.0  2022-10-16T06:50:13  \n216     3.0        NaN     1.0  2022-10-14T07:00:00  \n217     3.0        NaN     1.0  2022-10-07T15:45:59  \n218     NaN        NaN     NaN  2022-10-25T06:47:52  \n\n[8 rows x 91 columns]",
      "text/html": "<div>\n<style scoped>\n    .dataframe tbody tr th:only-of-type {\n        vertical-align: middle;\n    }\n\n    .dataframe tbody tr th {\n        vertical-align: top;\n    }\n\n    .dataframe thead th {\n        text-align: right;\n    }\n</style>\n<table border=\"1\" class=\"dataframe\">\n  <thead>\n    <tr style=\"text-align: right;\">\n      <th></th>\n      <th>zone</th>\n      <th>state</th>\n      <th>lga</th>\n      <th>sector</th>\n      <th>ea</th>\n      <th>hhid</th>\n      <th>interviewer_id</th>\n      <th>strata</th>\n      <th>cluster</th>\n      <th>wt_p2round6</th>\n      <th>...</th>\n      <th>s12q4__0</th>\n      <th>s12q4__1</th>\n      <th>s12q4__2</th>\n      <th>s12q4__3</th>\n      <th>s12q5</th>\n      <th>s12q9</th>\n      <th>s12q10</th>\n      <th>s12q10_os</th>\n      <th>s12q11</th>\n      <th>s12q14</th>\n    </tr>\n  </thead>\n  <tbody>\n    <tr>\n      <th>169</th>\n      <td>2</td>\n      <td>2</td>\n      <td>209</td>\n      <td>2</td>\n      <td>1040</td>\n      <td>20001</td>\n      <td>13</td>\n      <td>2.0</td>\n      <td>209-1040</td>\n      <td>2920.099382</td>\n      <td>...</td>\n      <td>1.0</td>\n      <td>0.0</td>\n      <td>0.0</td>\n      <td>0.0</td>\n      <td>1</td>\n      <td>4.0</td>\n      <td>3.0</td>\n      <td>NaN</td>\n      <td>1.0</td>\n      <td>2022-10-12T06:51:03</td>\n    </tr>\n    <tr>\n      <th>170</th>\n      <td>2</td>\n      <td>2</td>\n      <td>209</td>\n      <td>2</td>\n      <td>1040</td>\n      <td>20002</td>\n      <td>4</td>\n      <td>2.0</td>\n      <td>209-1040</td>\n      <td>3585.942557</td>\n      <td>...</td>\n      <td>1.0</td>\n      <td>0.0</td>\n      <td>0.0</td>\n      <td>0.0</td>\n      <td>1</td>\n      <td>4.0</td>\n      <td>3.0</td>\n      <td>NaN</td>\n      <td>1.0</td>\n      <td>2022-10-13T10:37:23</td>\n    </tr>\n    <tr>\n      <th>171</th>\n      <td>2</td>\n      <td>2</td>\n      <td>209</td>\n      <td>2</td>\n      <td>1040</td>\n      <td>20005</td>\n      <td>13</td>\n      <td>2.0</td>\n      <td>209-1040</td>\n      <td>4640.562839</td>\n      <td>...</td>\n      <td>1.0</td>\n      <td>0.0</td>\n      <td>0.0</td>\n      <td>0.0</td>\n      <td>1</td>\n      <td>5.0</td>\n      <td>3.0</td>\n      <td>NaN</td>\n      <td>3.0</td>\n      <td>2022-10-13T10:09:25</td>\n    </tr>\n    <tr>\n      <th>172</th>\n      <td>2</td>\n      <td>2</td>\n      <td>209</td>\n      <td>2</td>\n      <td>1040</td>\n      <td>20006</td>\n      <td>13</td>\n      <td>NaN</td>\n      <td>NaN</td>\n      <td>NaN</td>\n      <td>...</td>\n      <td>NaN</td>\n      <td>NaN</td>\n      <td>NaN</td>\n      <td>NaN</td>\n      <td>7</td>\n      <td>NaN</td>\n      <td>NaN</td>\n      <td>NaN</td>\n      <td>NaN</td>\n      <td>2022-10-17T13:19:14</td>\n    </tr>\n    <tr>\n      <th>174</th>\n      <td>2</td>\n      <td>2</td>\n      <td>209</td>\n      <td>2</td>\n      <td>1040</td>\n      <td>20010</td>\n      <td>21</td>\n      <td>2.0</td>\n      <td>209-1040</td>\n      <td>5558.828252</td>\n      <td>...</td>\n      <td>1.0</td>\n      <td>0.0</td>\n      <td>0.0</td>\n      <td>0.0</td>\n      <td>1</td>\n      <td>3.0</td>\n      <td>3.0</td>\n      <td>NaN</td>\n      <td>1.0</td>\n      <td>2022-10-16T06:50:13</td>\n    </tr>\n    <tr>\n      <th>216</th>\n      <td>2</td>\n      <td>2</td>\n      <td>209</td>\n      <td>2</td>\n      <td>10</td>\n      <td>29052</td>\n      <td>21</td>\n      <td>2.0</td>\n      <td>209-10</td>\n      <td>827.594764</td>\n      <td>...</td>\n      <td>1.0</td>\n      <td>0.0</td>\n      <td>0.0</td>\n      <td>0.0</td>\n      <td>1</td>\n      <td>1.0</td>\n      <td>3.0</td>\n      <td>NaN</td>\n      <td>1.0</td>\n      <td>2022-10-14T07:00:00</td>\n    </tr>\n    <tr>\n      <th>217</th>\n      <td>2</td>\n      <td>2</td>\n      <td>209</td>\n      <td>2</td>\n      <td>10</td>\n      <td>29055</td>\n      <td>21</td>\n      <td>2.0</td>\n      <td>209-10</td>\n      <td>2395.987173</td>\n      <td>...</td>\n      <td>1.0</td>\n      <td>0.0</td>\n      <td>0.0</td>\n      <td>0.0</td>\n      <td>1</td>\n      <td>1.0</td>\n      <td>3.0</td>\n      <td>NaN</td>\n      <td>1.0</td>\n      <td>2022-10-07T15:45:59</td>\n    </tr>\n    <tr>\n      <th>218</th>\n      <td>2</td>\n      <td>2</td>\n      <td>209</td>\n      <td>2</td>\n      <td>10</td>\n      <td>29056</td>\n      <td>21</td>\n      <td>NaN</td>\n      <td>NaN</td>\n      <td>NaN</td>\n      <td>...</td>\n      <td>NaN</td>\n      <td>NaN</td>\n      <td>NaN</td>\n      <td>NaN</td>\n      <td>7</td>\n      <td>NaN</td>\n      <td>NaN</td>\n      <td>NaN</td>\n      <td>NaN</td>\n      <td>2022-10-25T06:47:52</td>\n    </tr>\n  </tbody>\n</table>\n<p>8 rows × 91 columns</p>\n</div>"
     },
     "execution_count": 51,
     "metadata": {},
     "output_type": "execute_result"
    }
   ],
   "source": [
    "# Drop the problematic observation\n",
    "df.drop(173, inplace=True)\n",
    "df[df[\"lga\"] == 209]"
   ],
   "metadata": {
    "collapsed": false,
    "ExecuteTime": {
     "end_time": "2024-05-28T20:08:33.744226Z",
     "start_time": "2024-05-28T20:08:33.731685Z"
    }
   },
   "id": "269ba50f379adca4"
  },
  {
   "cell_type": "code",
   "execution_count": null,
   "outputs": [],
   "source": [
    "# Now, Every state is associated with a single unique LGA (local government area). Let's create the linking table to establish a one-to-many relationship.\n",
    "grouped_ = df.groupby(by=\"state\").agg(unique_zone=(\"zone\", \"nunique\"))\n",
    "#grouped\n",
    "grouped[grouped[\"zpme\"] > 1]"
   ],
   "metadata": {
    "collapsed": false
   },
   "id": "c722f9e2eb9c13a7"
  },
  {
   "cell_type": "markdown",
   "source": [],
   "metadata": {
    "collapsed": false
   },
   "id": "dc013610d8882c57"
  },
  {
   "cell_type": "code",
   "execution_count": 34,
   "outputs": [
    {
     "data": {
      "text/plain": "Empty DataFrame\nColumns: [unique_zone]\nIndex: []",
      "text/html": "<div>\n<style scoped>\n    .dataframe tbody tr th:only-of-type {\n        vertical-align: middle;\n    }\n\n    .dataframe tbody tr th {\n        vertical-align: top;\n    }\n\n    .dataframe thead th {\n        text-align: right;\n    }\n</style>\n<table border=\"1\" class=\"dataframe\">\n  <thead>\n    <tr style=\"text-align: right;\">\n      <th></th>\n      <th>unique_zone</th>\n    </tr>\n    <tr>\n      <th>state</th>\n      <th></th>\n    </tr>\n  </thead>\n  <tbody>\n  </tbody>\n</table>\n</div>"
     },
     "execution_count": 34,
     "metadata": {},
     "output_type": "execute_result"
    }
   ],
   "source": [
    "# Lets check to make sure that every zone is associated with a single unique LGA (local government area). If so, we can create a table linking LGA to states\n",
    "grouped = df.groupby(by=\"state\").agg(unique_zone=(\"zone\", \"nunique\"))\n",
    "#grouped\n",
    "grouped[grouped[\"zpme\"] > 1]"
   ],
   "metadata": {
    "collapsed": false,
    "ExecuteTime": {
     "end_time": "2024-05-28T19:57:56.479656Z",
     "start_time": "2024-05-28T19:57:56.471136Z"
    }
   },
   "id": "7407915bcced1210"
  },
  {
   "cell_type": "code",
   "execution_count": 32,
   "outputs": [
    {
     "name": "stdout",
     "output_type": "stream",
     "text": [
      "2799\n",
      "387\n"
     ]
    }
   ],
   "source": [
    "# We can create a linking table of LGAs to states with a one-to-many relationship if we drop the one duplicate LGA, with a primary key of LGA and a foriegn key of \"state\". There \n",
    "lga_state_link = df[[\"lga\", \"state\"]].drop_duplicates()\n",
    "print(len(df))\n",
    "print(len(lga_state_link))\n",
    "lga_state_link.set_index([\"lga\"], inplace=True)\n",
    "lga_state_link.to_csv(\"../data/processed/linking_tables/lga_to_state.csv\")"
   ],
   "metadata": {
    "collapsed": false,
    "ExecuteTime": {
     "end_time": "2024-05-28T19:51:43.317550Z",
     "start_time": "2024-05-28T19:51:43.309250Z"
    }
   },
   "id": "54b8305ec0842e04"
  },
  {
   "cell_type": "code",
   "execution_count": 14,
   "outputs": [
    {
     "data": {
      "text/plain": "      zone  state   lga  sector    ea    hhid  interviewer_id   wt_p2round2  \\\n0        4      1   115       1   670   10001               2  15706.442194   \n1        4      1   115       1   670   10002              36  26687.530711   \n2        4      1   115       1   670   10003              36           NaN   \n3        4      1   115       1   670   10004              36  19555.214893   \n4        4      1   115       1   670   10005              36  16130.232290   \n...    ...    ...   ...     ...   ...     ...             ...           ...   \n2917     1     37  3702       1  1102  379143              25    589.419498   \n2918     1     37  3702       1  1102  379144              19           NaN   \n2919     1     37  3702       1  1102  379151              28   1866.162356   \n2920     1     37  3702       1  1102  379154              22   1221.542867   \n2921     1     37  3702       1  1102  379155              28   1634.884578   \n\n      s2q0a  s2q0b  ... s12q4__0  s12q4__1 s12q4__2  s12q4__3  s12q5  s12q9  \\\n0       2.0    2.0  ...      0.0       0.0      0.0       1.0      1    1.0   \n1       2.0    2.0  ...      0.0       0.0      0.0       1.0      1    2.0   \n2       NaN    NaN  ...      NaN       NaN      NaN       NaN      5    NaN   \n3       2.0    2.0  ...      1.0       0.0      0.0       0.0      1    1.0   \n4       2.0    2.0  ...      0.0       0.0      0.0       1.0      1    1.0   \n...     ...    ...  ...      ...       ...      ...       ...    ...    ...   \n2917    1.0    1.0  ...      0.0       1.0      0.0       0.0      1    1.0   \n2918    NaN    NaN  ...      NaN       NaN      NaN       NaN      7    NaN   \n2919    2.0    2.0  ...      1.0       0.0      0.0       0.0      1    1.0   \n2920    2.0    1.0  ...      1.0       0.0      0.0       0.0      1    2.0   \n2921    1.0    2.0  ...      1.0       0.0      0.0       0.0      1    1.0   \n\n      s12q10 s12q10_os  s12q11               s12q14  \n0        1.0       NaN     1.0  2022-01-31T18:26:28  \n1        5.0       NaN     1.0  2022-01-31T19:36:49  \n2        NaN       NaN     NaN  2022-02-13T17:00:53  \n3        5.0       NaN     1.0  2022-02-03T11:42:00  \n4        1.0       NaN     1.0  2022-02-05T20:43:26  \n...      ...       ...     ...                  ...  \n2917     1.0       NaN     2.0  2022-02-09T18:58:48  \n2918     NaN       NaN     NaN  2022-02-13T15:15:50  \n2919     1.0       NaN     1.0  2022-01-29T13:05:09  \n2920     1.0       NaN     1.0  2022-02-06T15:42:06  \n2921     1.0       NaN     1.0  2022-02-01T17:34:02  \n\n[2922 rows x 124 columns]",
      "text/html": "<div>\n<style scoped>\n    .dataframe tbody tr th:only-of-type {\n        vertical-align: middle;\n    }\n\n    .dataframe tbody tr th {\n        vertical-align: top;\n    }\n\n    .dataframe thead th {\n        text-align: right;\n    }\n</style>\n<table border=\"1\" class=\"dataframe\">\n  <thead>\n    <tr style=\"text-align: right;\">\n      <th></th>\n      <th>zone</th>\n      <th>state</th>\n      <th>lga</th>\n      <th>sector</th>\n      <th>ea</th>\n      <th>hhid</th>\n      <th>interviewer_id</th>\n      <th>wt_p2round2</th>\n      <th>s2q0a</th>\n      <th>s2q0b</th>\n      <th>...</th>\n      <th>s12q4__0</th>\n      <th>s12q4__1</th>\n      <th>s12q4__2</th>\n      <th>s12q4__3</th>\n      <th>s12q5</th>\n      <th>s12q9</th>\n      <th>s12q10</th>\n      <th>s12q10_os</th>\n      <th>s12q11</th>\n      <th>s12q14</th>\n    </tr>\n  </thead>\n  <tbody>\n    <tr>\n      <th>0</th>\n      <td>4</td>\n      <td>1</td>\n      <td>115</td>\n      <td>1</td>\n      <td>670</td>\n      <td>10001</td>\n      <td>2</td>\n      <td>15706.442194</td>\n      <td>2.0</td>\n      <td>2.0</td>\n      <td>...</td>\n      <td>0.0</td>\n      <td>0.0</td>\n      <td>0.0</td>\n      <td>1.0</td>\n      <td>1</td>\n      <td>1.0</td>\n      <td>1.0</td>\n      <td>NaN</td>\n      <td>1.0</td>\n      <td>2022-01-31T18:26:28</td>\n    </tr>\n    <tr>\n      <th>1</th>\n      <td>4</td>\n      <td>1</td>\n      <td>115</td>\n      <td>1</td>\n      <td>670</td>\n      <td>10002</td>\n      <td>36</td>\n      <td>26687.530711</td>\n      <td>2.0</td>\n      <td>2.0</td>\n      <td>...</td>\n      <td>0.0</td>\n      <td>0.0</td>\n      <td>0.0</td>\n      <td>1.0</td>\n      <td>1</td>\n      <td>2.0</td>\n      <td>5.0</td>\n      <td>NaN</td>\n      <td>1.0</td>\n      <td>2022-01-31T19:36:49</td>\n    </tr>\n    <tr>\n      <th>2</th>\n      <td>4</td>\n      <td>1</td>\n      <td>115</td>\n      <td>1</td>\n      <td>670</td>\n      <td>10003</td>\n      <td>36</td>\n      <td>NaN</td>\n      <td>NaN</td>\n      <td>NaN</td>\n      <td>...</td>\n      <td>NaN</td>\n      <td>NaN</td>\n      <td>NaN</td>\n      <td>NaN</td>\n      <td>5</td>\n      <td>NaN</td>\n      <td>NaN</td>\n      <td>NaN</td>\n      <td>NaN</td>\n      <td>2022-02-13T17:00:53</td>\n    </tr>\n    <tr>\n      <th>3</th>\n      <td>4</td>\n      <td>1</td>\n      <td>115</td>\n      <td>1</td>\n      <td>670</td>\n      <td>10004</td>\n      <td>36</td>\n      <td>19555.214893</td>\n      <td>2.0</td>\n      <td>2.0</td>\n      <td>...</td>\n      <td>1.0</td>\n      <td>0.0</td>\n      <td>0.0</td>\n      <td>0.0</td>\n      <td>1</td>\n      <td>1.0</td>\n      <td>5.0</td>\n      <td>NaN</td>\n      <td>1.0</td>\n      <td>2022-02-03T11:42:00</td>\n    </tr>\n    <tr>\n      <th>4</th>\n      <td>4</td>\n      <td>1</td>\n      <td>115</td>\n      <td>1</td>\n      <td>670</td>\n      <td>10005</td>\n      <td>36</td>\n      <td>16130.232290</td>\n      <td>2.0</td>\n      <td>2.0</td>\n      <td>...</td>\n      <td>0.0</td>\n      <td>0.0</td>\n      <td>0.0</td>\n      <td>1.0</td>\n      <td>1</td>\n      <td>1.0</td>\n      <td>1.0</td>\n      <td>NaN</td>\n      <td>1.0</td>\n      <td>2022-02-05T20:43:26</td>\n    </tr>\n    <tr>\n      <th>...</th>\n      <td>...</td>\n      <td>...</td>\n      <td>...</td>\n      <td>...</td>\n      <td>...</td>\n      <td>...</td>\n      <td>...</td>\n      <td>...</td>\n      <td>...</td>\n      <td>...</td>\n      <td>...</td>\n      <td>...</td>\n      <td>...</td>\n      <td>...</td>\n      <td>...</td>\n      <td>...</td>\n      <td>...</td>\n      <td>...</td>\n      <td>...</td>\n      <td>...</td>\n      <td>...</td>\n    </tr>\n    <tr>\n      <th>2917</th>\n      <td>1</td>\n      <td>37</td>\n      <td>3702</td>\n      <td>1</td>\n      <td>1102</td>\n      <td>379143</td>\n      <td>25</td>\n      <td>589.419498</td>\n      <td>1.0</td>\n      <td>1.0</td>\n      <td>...</td>\n      <td>0.0</td>\n      <td>1.0</td>\n      <td>0.0</td>\n      <td>0.0</td>\n      <td>1</td>\n      <td>1.0</td>\n      <td>1.0</td>\n      <td>NaN</td>\n      <td>2.0</td>\n      <td>2022-02-09T18:58:48</td>\n    </tr>\n    <tr>\n      <th>2918</th>\n      <td>1</td>\n      <td>37</td>\n      <td>3702</td>\n      <td>1</td>\n      <td>1102</td>\n      <td>379144</td>\n      <td>19</td>\n      <td>NaN</td>\n      <td>NaN</td>\n      <td>NaN</td>\n      <td>...</td>\n      <td>NaN</td>\n      <td>NaN</td>\n      <td>NaN</td>\n      <td>NaN</td>\n      <td>7</td>\n      <td>NaN</td>\n      <td>NaN</td>\n      <td>NaN</td>\n      <td>NaN</td>\n      <td>2022-02-13T15:15:50</td>\n    </tr>\n    <tr>\n      <th>2919</th>\n      <td>1</td>\n      <td>37</td>\n      <td>3702</td>\n      <td>1</td>\n      <td>1102</td>\n      <td>379151</td>\n      <td>28</td>\n      <td>1866.162356</td>\n      <td>2.0</td>\n      <td>2.0</td>\n      <td>...</td>\n      <td>1.0</td>\n      <td>0.0</td>\n      <td>0.0</td>\n      <td>0.0</td>\n      <td>1</td>\n      <td>1.0</td>\n      <td>1.0</td>\n      <td>NaN</td>\n      <td>1.0</td>\n      <td>2022-01-29T13:05:09</td>\n    </tr>\n    <tr>\n      <th>2920</th>\n      <td>1</td>\n      <td>37</td>\n      <td>3702</td>\n      <td>1</td>\n      <td>1102</td>\n      <td>379154</td>\n      <td>22</td>\n      <td>1221.542867</td>\n      <td>2.0</td>\n      <td>1.0</td>\n      <td>...</td>\n      <td>1.0</td>\n      <td>0.0</td>\n      <td>0.0</td>\n      <td>0.0</td>\n      <td>1</td>\n      <td>2.0</td>\n      <td>1.0</td>\n      <td>NaN</td>\n      <td>1.0</td>\n      <td>2022-02-06T15:42:06</td>\n    </tr>\n    <tr>\n      <th>2921</th>\n      <td>1</td>\n      <td>37</td>\n      <td>3702</td>\n      <td>1</td>\n      <td>1102</td>\n      <td>379155</td>\n      <td>28</td>\n      <td>1634.884578</td>\n      <td>1.0</td>\n      <td>2.0</td>\n      <td>...</td>\n      <td>1.0</td>\n      <td>0.0</td>\n      <td>0.0</td>\n      <td>0.0</td>\n      <td>1</td>\n      <td>1.0</td>\n      <td>1.0</td>\n      <td>NaN</td>\n      <td>1.0</td>\n      <td>2022-02-01T17:34:02</td>\n    </tr>\n  </tbody>\n</table>\n<p>2922 rows × 124 columns</p>\n</div>"
     },
     "execution_count": 14,
     "metadata": {},
     "output_type": "execute_result"
    }
   ],
   "source": [
    "read_csv(path=path)\n",
    "path = \"p2r2_sect_a_2_2a_2b_6_12.csv\"\n",
    "read_csv(path=path)\n",
    "# Promising Variables:\n",
    "# hhid, zone, state, lga, sector, ea, wt_p2round2\n",
    "# GHS_state, s12q14"
   ],
   "metadata": {
    "collapsed": false,
    "ExecuteTime": {
     "end_time": "2024-05-22T01:45:46.929845Z",
     "start_time": "2024-05-22T01:45:46.884585Z"
    }
   },
   "id": "91948527e98eb6d1"
  },
  {
   "cell_type": "code",
   "execution_count": 15,
   "outputs": [
    {
     "data": {
      "text/plain": "       zone  state   lga  sector    ea    hhid  indiv  s2q3  s2q4 s2q4_os  \\\n0         4      1   115       1   670   10001      1   1.0   NaN     NaN   \n1         4      1   115       1   670   10001      2   1.0   NaN     NaN   \n2         4      1   115       1   670   10001      3   1.0   NaN     NaN   \n3         4      1   115       1   670   10001      4   1.0   NaN     NaN   \n4         4      1   115       1   670   10001      8   1.0   NaN     NaN   \n...     ...    ...   ...     ...   ...     ...    ...   ...   ...     ...   \n20137     1     37  3702       1  1102  379155      1   1.0   NaN     NaN   \n20138     1     37  3702       1  1102  379155      2   1.0   NaN     NaN   \n20139     1     37  3702       1  1102  379155      3   1.0   NaN     NaN   \n20140     1     37  3702       1  1102  379155      4   1.0   NaN     NaN   \n20141     1     37  3702       1  1102  379155    101   2.0   2.0     NaN   \n\n       ...  s2q8  s2q8_os  s2q9  s2q9_os s2q10  s2q11 s2q12  s2q12_os s2q13  \\\n0      ...   NaN      NaN   NaN      NaN   2.0    NaN   NaN       NaN   NaN   \n1      ...   NaN      NaN   NaN      NaN   2.0    NaN   NaN       NaN   NaN   \n2      ...   NaN      NaN   NaN      NaN   1.0    1.0   NaN       NaN  24.0   \n3      ...   NaN      NaN   NaN      NaN   2.0    NaN   NaN       NaN   NaN   \n4      ...   NaN      NaN   NaN      NaN   1.0    1.0   NaN       NaN  15.0   \n...    ...   ...      ...   ...      ...   ...    ...   ...       ...   ...   \n20137  ...   NaN      NaN   NaN      NaN   2.0    NaN   NaN       NaN   NaN   \n20138  ...   NaN      NaN   NaN      NaN   2.0    NaN   NaN       NaN   NaN   \n20139  ...   NaN      NaN   NaN      NaN   1.0    1.0   NaN       NaN  21.0   \n20140  ...   NaN      NaN   NaN      NaN   1.0    1.0   NaN       NaN  13.0   \n20141  ...   NaN      NaN   NaN      NaN   NaN    NaN   NaN       NaN   NaN   \n\n       s2q13_os  \n0           NaN  \n1           NaN  \n2           NaN  \n3           NaN  \n4           NaN  \n...         ...  \n20137       NaN  \n20138       NaN  \n20139       NaN  \n20140       NaN  \n20141       NaN  \n\n[20142 rows x 25 columns]",
      "text/html": "<div>\n<style scoped>\n    .dataframe tbody tr th:only-of-type {\n        vertical-align: middle;\n    }\n\n    .dataframe tbody tr th {\n        vertical-align: top;\n    }\n\n    .dataframe thead th {\n        text-align: right;\n    }\n</style>\n<table border=\"1\" class=\"dataframe\">\n  <thead>\n    <tr style=\"text-align: right;\">\n      <th></th>\n      <th>zone</th>\n      <th>state</th>\n      <th>lga</th>\n      <th>sector</th>\n      <th>ea</th>\n      <th>hhid</th>\n      <th>indiv</th>\n      <th>s2q3</th>\n      <th>s2q4</th>\n      <th>s2q4_os</th>\n      <th>...</th>\n      <th>s2q8</th>\n      <th>s2q8_os</th>\n      <th>s2q9</th>\n      <th>s2q9_os</th>\n      <th>s2q10</th>\n      <th>s2q11</th>\n      <th>s2q12</th>\n      <th>s2q12_os</th>\n      <th>s2q13</th>\n      <th>s2q13_os</th>\n    </tr>\n  </thead>\n  <tbody>\n    <tr>\n      <th>0</th>\n      <td>4</td>\n      <td>1</td>\n      <td>115</td>\n      <td>1</td>\n      <td>670</td>\n      <td>10001</td>\n      <td>1</td>\n      <td>1.0</td>\n      <td>NaN</td>\n      <td>NaN</td>\n      <td>...</td>\n      <td>NaN</td>\n      <td>NaN</td>\n      <td>NaN</td>\n      <td>NaN</td>\n      <td>2.0</td>\n      <td>NaN</td>\n      <td>NaN</td>\n      <td>NaN</td>\n      <td>NaN</td>\n      <td>NaN</td>\n    </tr>\n    <tr>\n      <th>1</th>\n      <td>4</td>\n      <td>1</td>\n      <td>115</td>\n      <td>1</td>\n      <td>670</td>\n      <td>10001</td>\n      <td>2</td>\n      <td>1.0</td>\n      <td>NaN</td>\n      <td>NaN</td>\n      <td>...</td>\n      <td>NaN</td>\n      <td>NaN</td>\n      <td>NaN</td>\n      <td>NaN</td>\n      <td>2.0</td>\n      <td>NaN</td>\n      <td>NaN</td>\n      <td>NaN</td>\n      <td>NaN</td>\n      <td>NaN</td>\n    </tr>\n    <tr>\n      <th>2</th>\n      <td>4</td>\n      <td>1</td>\n      <td>115</td>\n      <td>1</td>\n      <td>670</td>\n      <td>10001</td>\n      <td>3</td>\n      <td>1.0</td>\n      <td>NaN</td>\n      <td>NaN</td>\n      <td>...</td>\n      <td>NaN</td>\n      <td>NaN</td>\n      <td>NaN</td>\n      <td>NaN</td>\n      <td>1.0</td>\n      <td>1.0</td>\n      <td>NaN</td>\n      <td>NaN</td>\n      <td>24.0</td>\n      <td>NaN</td>\n    </tr>\n    <tr>\n      <th>3</th>\n      <td>4</td>\n      <td>1</td>\n      <td>115</td>\n      <td>1</td>\n      <td>670</td>\n      <td>10001</td>\n      <td>4</td>\n      <td>1.0</td>\n      <td>NaN</td>\n      <td>NaN</td>\n      <td>...</td>\n      <td>NaN</td>\n      <td>NaN</td>\n      <td>NaN</td>\n      <td>NaN</td>\n      <td>2.0</td>\n      <td>NaN</td>\n      <td>NaN</td>\n      <td>NaN</td>\n      <td>NaN</td>\n      <td>NaN</td>\n    </tr>\n    <tr>\n      <th>4</th>\n      <td>4</td>\n      <td>1</td>\n      <td>115</td>\n      <td>1</td>\n      <td>670</td>\n      <td>10001</td>\n      <td>8</td>\n      <td>1.0</td>\n      <td>NaN</td>\n      <td>NaN</td>\n      <td>...</td>\n      <td>NaN</td>\n      <td>NaN</td>\n      <td>NaN</td>\n      <td>NaN</td>\n      <td>1.0</td>\n      <td>1.0</td>\n      <td>NaN</td>\n      <td>NaN</td>\n      <td>15.0</td>\n      <td>NaN</td>\n    </tr>\n    <tr>\n      <th>...</th>\n      <td>...</td>\n      <td>...</td>\n      <td>...</td>\n      <td>...</td>\n      <td>...</td>\n      <td>...</td>\n      <td>...</td>\n      <td>...</td>\n      <td>...</td>\n      <td>...</td>\n      <td>...</td>\n      <td>...</td>\n      <td>...</td>\n      <td>...</td>\n      <td>...</td>\n      <td>...</td>\n      <td>...</td>\n      <td>...</td>\n      <td>...</td>\n      <td>...</td>\n      <td>...</td>\n    </tr>\n    <tr>\n      <th>20137</th>\n      <td>1</td>\n      <td>37</td>\n      <td>3702</td>\n      <td>1</td>\n      <td>1102</td>\n      <td>379155</td>\n      <td>1</td>\n      <td>1.0</td>\n      <td>NaN</td>\n      <td>NaN</td>\n      <td>...</td>\n      <td>NaN</td>\n      <td>NaN</td>\n      <td>NaN</td>\n      <td>NaN</td>\n      <td>2.0</td>\n      <td>NaN</td>\n      <td>NaN</td>\n      <td>NaN</td>\n      <td>NaN</td>\n      <td>NaN</td>\n    </tr>\n    <tr>\n      <th>20138</th>\n      <td>1</td>\n      <td>37</td>\n      <td>3702</td>\n      <td>1</td>\n      <td>1102</td>\n      <td>379155</td>\n      <td>2</td>\n      <td>1.0</td>\n      <td>NaN</td>\n      <td>NaN</td>\n      <td>...</td>\n      <td>NaN</td>\n      <td>NaN</td>\n      <td>NaN</td>\n      <td>NaN</td>\n      <td>2.0</td>\n      <td>NaN</td>\n      <td>NaN</td>\n      <td>NaN</td>\n      <td>NaN</td>\n      <td>NaN</td>\n    </tr>\n    <tr>\n      <th>20139</th>\n      <td>1</td>\n      <td>37</td>\n      <td>3702</td>\n      <td>1</td>\n      <td>1102</td>\n      <td>379155</td>\n      <td>3</td>\n      <td>1.0</td>\n      <td>NaN</td>\n      <td>NaN</td>\n      <td>...</td>\n      <td>NaN</td>\n      <td>NaN</td>\n      <td>NaN</td>\n      <td>NaN</td>\n      <td>1.0</td>\n      <td>1.0</td>\n      <td>NaN</td>\n      <td>NaN</td>\n      <td>21.0</td>\n      <td>NaN</td>\n    </tr>\n    <tr>\n      <th>20140</th>\n      <td>1</td>\n      <td>37</td>\n      <td>3702</td>\n      <td>1</td>\n      <td>1102</td>\n      <td>379155</td>\n      <td>4</td>\n      <td>1.0</td>\n      <td>NaN</td>\n      <td>NaN</td>\n      <td>...</td>\n      <td>NaN</td>\n      <td>NaN</td>\n      <td>NaN</td>\n      <td>NaN</td>\n      <td>1.0</td>\n      <td>1.0</td>\n      <td>NaN</td>\n      <td>NaN</td>\n      <td>13.0</td>\n      <td>NaN</td>\n    </tr>\n    <tr>\n      <th>20141</th>\n      <td>1</td>\n      <td>37</td>\n      <td>3702</td>\n      <td>1</td>\n      <td>1102</td>\n      <td>379155</td>\n      <td>101</td>\n      <td>2.0</td>\n      <td>2.0</td>\n      <td>NaN</td>\n      <td>...</td>\n      <td>NaN</td>\n      <td>NaN</td>\n      <td>NaN</td>\n      <td>NaN</td>\n      <td>NaN</td>\n      <td>NaN</td>\n      <td>NaN</td>\n      <td>NaN</td>\n      <td>NaN</td>\n      <td>NaN</td>\n    </tr>\n  </tbody>\n</table>\n<p>20142 rows × 25 columns</p>\n</div>"
     },
     "execution_count": 15,
     "metadata": {},
     "output_type": "execute_result"
    }
   ],
   "source": [
    "read_csv(path=path)\n",
    "path = \"p2r1_sect_2.csv\"\n",
    "read_csv(path=path)\n",
    "# Promising Variables:\n",
    "# hhid, zone, state, lga, sector, ea, wt_p2round2\n",
    "# GHS_state, s12q14\n"
   ],
   "metadata": {
    "collapsed": false,
    "ExecuteTime": {
     "end_time": "2024-05-22T02:44:09.032723Z",
     "start_time": "2024-05-22T02:44:08.953705Z"
    }
   },
   "id": "5fe01a10402892b7"
  },
  {
   "cell_type": "code",
   "execution_count": null,
   "outputs": [],
   "source": [],
   "metadata": {
    "collapsed": false
   },
   "id": "184013a9e1471235"
  }
 ],
 "metadata": {
  "kernelspec": {
   "display_name": "Python 3",
   "language": "python",
   "name": "python3"
  },
  "language_info": {
   "codemirror_mode": {
    "name": "ipython",
    "version": 2
   },
   "file_extension": ".py",
   "mimetype": "text/x-python",
   "name": "python",
   "nbconvert_exporter": "python",
   "pygments_lexer": "ipython2",
   "version": "2.7.6"
  }
 },
 "nbformat": 4,
 "nbformat_minor": 5
}
