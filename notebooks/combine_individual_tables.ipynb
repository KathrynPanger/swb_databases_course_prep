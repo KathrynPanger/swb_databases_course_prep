{
 "cells": [
  {
   "cell_type": "code",
   "execution_count": 3,
   "outputs": [],
   "source": [
    "import pandas as pd"
   ],
   "metadata": {
    "collapsed": false,
    "ExecuteTime": {
     "end_time": "2024-06-19T01:27:05.507038Z",
     "start_time": "2024-06-19T01:27:05.125593Z"
    }
   },
   "id": "24a7e82efc8c2ac9"
  },
  {
   "cell_type": "code",
   "execution_count": 37,
   "id": "initial_id",
   "metadata": {
    "collapsed": true,
    "ExecuteTime": {
     "end_time": "2024-06-19T01:41:39.638211Z",
     "start_time": "2024-06-19T01:41:39.629464Z"
    }
   },
   "outputs": [],
   "source": [
    "dtypes = {'household_id': 'string',\n",
    "              'is_new_household_member': 'str',\n",
    "              'is_still_household_member': 'str',\n",
    "              'why_leave_household': 'str',\n",
    "              'sex': 'str',\n",
    "              'age': 'Int64',\n",
    "              'relationship_to_head': 'str',\n",
    "              'other_relationship': 'str',\n",
    "              'why_join_household': 'str',\n",
    "              'other_reason_for_joining':'str',\n",
    "              'is_selected_farmer': 'str',\n",
    "              'is_covid_vaccinated': 'str',\n",
    "              'is_available_to_respond': 'str',\n",
    "              'worked_for_pay_last_week': 'str',\n",
    "              'has_business_was_absent_last_week': 'str',\n",
    "              'when_expected_to_return_to_work': 'str',\n",
    "              'why_not_work_last_week': 'str',\n",
    "              'other_reason_not_work': 'str',\n",
    "              'tried_to_earn_pay_last_month': 'str',\n",
    "              'how_tried_to_earn_pay_last_month': 'str',\n",
    "              'other_way_tried_to_earn_pay_last_month': 'str',\n",
    "              'main_activity_of_employers_business_last_week': 'str',\n",
    "              'family_farm_food_fate': \"str\",\n",
    "              \"hours_worked_last_week_main_business_activity\": 'Int64',\n",
    "              'worked_december_2021': 'str',\n",
    "              'worked_january_2022': 'str',\n",
    "              'worked_february_2022': 'str',\n",
    "              'worked_march_2022': 'str',\n",
    "              'age_started_working': 'Int64',\n",
    "              'is_employed': 'str',\n",
    "              'years_worked_first_job': 'Int64',\n",
    "              'why_left_first_job': 'str',\n",
    "               'how_many_shots': 'Int64',\n",
    "               }\n"
   ]
  },
  {
   "cell_type": "code",
   "execution_count": 38,
   "outputs": [],
   "source": [
    "file_1 = \"p2r3_sect_2_6b_6c.csv\"\n",
    "file_2 = \"p2r5_sect_2.csv\"\n",
    "file_3 = \"p2r6_sect_2.csv\"\n",
    "file_4 = \"p2r7_sect_2.csv\"\n",
    "path_to_files = \"../data/processed/individual_id_questions\""
   ],
   "metadata": {
    "collapsed": false,
    "ExecuteTime": {
     "end_time": "2024-06-19T01:41:40.319341Z",
     "start_time": "2024-06-19T01:41:40.314710Z"
    }
   },
   "id": "14e625f11c0e3058"
  },
  {
   "cell_type": "code",
   "execution_count": 39,
   "outputs": [],
   "source": [
    "files = [file_1, file_2, file_3, file_4]\n",
    "paths = [path_to_files + \"/\" + file for file in files]"
   ],
   "metadata": {
    "collapsed": false,
    "ExecuteTime": {
     "end_time": "2024-06-19T01:41:40.726172Z",
     "start_time": "2024-06-19T01:41:40.721357Z"
    }
   },
   "id": "89e544703517ab1e"
  },
  {
   "cell_type": "code",
   "execution_count": 42,
   "outputs": [
    {
     "ename": "ValueError",
     "evalue": "Unable to parse string \"BOOSTER\" at position 7",
     "output_type": "error",
     "traceback": [
      "\u001B[0;31m---------------------------------------------------------------------------\u001B[0m",
      "\u001B[0;31mValueError\u001B[0m                                Traceback (most recent call last)",
      "File \u001B[0;32mlib.pyx:2391\u001B[0m, in \u001B[0;36mpandas._libs.lib.maybe_convert_numeric\u001B[0;34m()\u001B[0m\n",
      "\u001B[0;31mValueError\u001B[0m: Unable to parse string \"BOOSTER\"",
      "\nDuring handling of the above exception, another exception occurred:\n",
      "\u001B[0;31mValueError\u001B[0m                                Traceback (most recent call last)",
      "Cell \u001B[0;32mIn[42], line 2\u001B[0m\n\u001B[1;32m      1\u001B[0m \u001B[38;5;66;03m# df1 = pd.read_csv(paths[0], dtype = dtypes) \u001B[39;00m\n\u001B[0;32m----> 2\u001B[0m df2 \u001B[38;5;241m=\u001B[39m \u001B[43mpd\u001B[49m\u001B[38;5;241;43m.\u001B[39;49m\u001B[43mread_csv\u001B[49m\u001B[43m(\u001B[49m\u001B[43mpaths\u001B[49m\u001B[43m[\u001B[49m\u001B[38;5;241;43m1\u001B[39;49m\u001B[43m]\u001B[49m\u001B[43m,\u001B[49m\u001B[43m \u001B[49m\u001B[43mdtype\u001B[49m\u001B[43m \u001B[49m\u001B[38;5;241;43m=\u001B[39;49m\u001B[43m \u001B[49m\u001B[43mdtypes\u001B[49m\u001B[43m)\u001B[49m \n\u001B[1;32m      3\u001B[0m \u001B[38;5;66;03m# df3= pd.read_csv(paths[2], dtype = dtypes) \u001B[39;00m\n",
      "File \u001B[0;32m~/Documents/swb_inspect_data/venv/lib/python3.11/site-packages/pandas/io/parsers/readers.py:1026\u001B[0m, in \u001B[0;36mread_csv\u001B[0;34m(filepath_or_buffer, sep, delimiter, header, names, index_col, usecols, dtype, engine, converters, true_values, false_values, skipinitialspace, skiprows, skipfooter, nrows, na_values, keep_default_na, na_filter, verbose, skip_blank_lines, parse_dates, infer_datetime_format, keep_date_col, date_parser, date_format, dayfirst, cache_dates, iterator, chunksize, compression, thousands, decimal, lineterminator, quotechar, quoting, doublequote, escapechar, comment, encoding, encoding_errors, dialect, on_bad_lines, delim_whitespace, low_memory, memory_map, float_precision, storage_options, dtype_backend)\u001B[0m\n\u001B[1;32m   1013\u001B[0m kwds_defaults \u001B[38;5;241m=\u001B[39m _refine_defaults_read(\n\u001B[1;32m   1014\u001B[0m     dialect,\n\u001B[1;32m   1015\u001B[0m     delimiter,\n\u001B[0;32m   (...)\u001B[0m\n\u001B[1;32m   1022\u001B[0m     dtype_backend\u001B[38;5;241m=\u001B[39mdtype_backend,\n\u001B[1;32m   1023\u001B[0m )\n\u001B[1;32m   1024\u001B[0m kwds\u001B[38;5;241m.\u001B[39mupdate(kwds_defaults)\n\u001B[0;32m-> 1026\u001B[0m \u001B[38;5;28;01mreturn\u001B[39;00m \u001B[43m_read\u001B[49m\u001B[43m(\u001B[49m\u001B[43mfilepath_or_buffer\u001B[49m\u001B[43m,\u001B[49m\u001B[43m \u001B[49m\u001B[43mkwds\u001B[49m\u001B[43m)\u001B[49m\n",
      "File \u001B[0;32m~/Documents/swb_inspect_data/venv/lib/python3.11/site-packages/pandas/io/parsers/readers.py:626\u001B[0m, in \u001B[0;36m_read\u001B[0;34m(filepath_or_buffer, kwds)\u001B[0m\n\u001B[1;32m    623\u001B[0m     \u001B[38;5;28;01mreturn\u001B[39;00m parser\n\u001B[1;32m    625\u001B[0m \u001B[38;5;28;01mwith\u001B[39;00m parser:\n\u001B[0;32m--> 626\u001B[0m     \u001B[38;5;28;01mreturn\u001B[39;00m \u001B[43mparser\u001B[49m\u001B[38;5;241;43m.\u001B[39;49m\u001B[43mread\u001B[49m\u001B[43m(\u001B[49m\u001B[43mnrows\u001B[49m\u001B[43m)\u001B[49m\n",
      "File \u001B[0;32m~/Documents/swb_inspect_data/venv/lib/python3.11/site-packages/pandas/io/parsers/readers.py:1923\u001B[0m, in \u001B[0;36mTextFileReader.read\u001B[0;34m(self, nrows)\u001B[0m\n\u001B[1;32m   1916\u001B[0m nrows \u001B[38;5;241m=\u001B[39m validate_integer(\u001B[38;5;124m\"\u001B[39m\u001B[38;5;124mnrows\u001B[39m\u001B[38;5;124m\"\u001B[39m, nrows)\n\u001B[1;32m   1917\u001B[0m \u001B[38;5;28;01mtry\u001B[39;00m:\n\u001B[1;32m   1918\u001B[0m     \u001B[38;5;66;03m# error: \"ParserBase\" has no attribute \"read\"\u001B[39;00m\n\u001B[1;32m   1919\u001B[0m     (\n\u001B[1;32m   1920\u001B[0m         index,\n\u001B[1;32m   1921\u001B[0m         columns,\n\u001B[1;32m   1922\u001B[0m         col_dict,\n\u001B[0;32m-> 1923\u001B[0m     ) \u001B[38;5;241m=\u001B[39m \u001B[38;5;28;43mself\u001B[39;49m\u001B[38;5;241;43m.\u001B[39;49m\u001B[43m_engine\u001B[49m\u001B[38;5;241;43m.\u001B[39;49m\u001B[43mread\u001B[49m\u001B[43m(\u001B[49m\u001B[43m  \u001B[49m\u001B[38;5;66;43;03m# type: ignore[attr-defined]\u001B[39;49;00m\n\u001B[1;32m   1924\u001B[0m \u001B[43m        \u001B[49m\u001B[43mnrows\u001B[49m\n\u001B[1;32m   1925\u001B[0m \u001B[43m    \u001B[49m\u001B[43m)\u001B[49m\n\u001B[1;32m   1926\u001B[0m \u001B[38;5;28;01mexcept\u001B[39;00m \u001B[38;5;167;01mException\u001B[39;00m:\n\u001B[1;32m   1927\u001B[0m     \u001B[38;5;28mself\u001B[39m\u001B[38;5;241m.\u001B[39mclose()\n",
      "File \u001B[0;32m~/Documents/swb_inspect_data/venv/lib/python3.11/site-packages/pandas/io/parsers/c_parser_wrapper.py:234\u001B[0m, in \u001B[0;36mCParserWrapper.read\u001B[0;34m(self, nrows)\u001B[0m\n\u001B[1;32m    232\u001B[0m \u001B[38;5;28;01mtry\u001B[39;00m:\n\u001B[1;32m    233\u001B[0m     \u001B[38;5;28;01mif\u001B[39;00m \u001B[38;5;28mself\u001B[39m\u001B[38;5;241m.\u001B[39mlow_memory:\n\u001B[0;32m--> 234\u001B[0m         chunks \u001B[38;5;241m=\u001B[39m \u001B[38;5;28;43mself\u001B[39;49m\u001B[38;5;241;43m.\u001B[39;49m\u001B[43m_reader\u001B[49m\u001B[38;5;241;43m.\u001B[39;49m\u001B[43mread_low_memory\u001B[49m\u001B[43m(\u001B[49m\u001B[43mnrows\u001B[49m\u001B[43m)\u001B[49m\n\u001B[1;32m    235\u001B[0m         \u001B[38;5;66;03m# destructive to chunks\u001B[39;00m\n\u001B[1;32m    236\u001B[0m         data \u001B[38;5;241m=\u001B[39m _concatenate_chunks(chunks)\n",
      "File \u001B[0;32mparsers.pyx:838\u001B[0m, in \u001B[0;36mpandas._libs.parsers.TextReader.read_low_memory\u001B[0;34m()\u001B[0m\n",
      "File \u001B[0;32mparsers.pyx:921\u001B[0m, in \u001B[0;36mpandas._libs.parsers.TextReader._read_rows\u001B[0;34m()\u001B[0m\n",
      "File \u001B[0;32mparsers.pyx:1066\u001B[0m, in \u001B[0;36mpandas._libs.parsers.TextReader._convert_column_data\u001B[0;34m()\u001B[0m\n",
      "File \u001B[0;32mparsers.pyx:1105\u001B[0m, in \u001B[0;36mpandas._libs.parsers.TextReader._convert_tokens\u001B[0;34m()\u001B[0m\n",
      "File \u001B[0;32mparsers.pyx:1211\u001B[0m, in \u001B[0;36mpandas._libs.parsers.TextReader._convert_with_dtype\u001B[0;34m()\u001B[0m\n",
      "File \u001B[0;32m~/Documents/swb_inspect_data/venv/lib/python3.11/site-packages/pandas/core/arrays/numeric.py:283\u001B[0m, in \u001B[0;36mNumericArray._from_sequence_of_strings\u001B[0;34m(cls, strings, dtype, copy)\u001B[0m\n\u001B[1;32m    277\u001B[0m \u001B[38;5;129m@classmethod\u001B[39m\n\u001B[1;32m    278\u001B[0m \u001B[38;5;28;01mdef\u001B[39;00m \u001B[38;5;21m_from_sequence_of_strings\u001B[39m(\n\u001B[1;32m    279\u001B[0m     \u001B[38;5;28mcls\u001B[39m, strings, \u001B[38;5;241m*\u001B[39m, dtype: Dtype \u001B[38;5;241m|\u001B[39m \u001B[38;5;28;01mNone\u001B[39;00m \u001B[38;5;241m=\u001B[39m \u001B[38;5;28;01mNone\u001B[39;00m, copy: \u001B[38;5;28mbool\u001B[39m \u001B[38;5;241m=\u001B[39m \u001B[38;5;28;01mFalse\u001B[39;00m\n\u001B[1;32m    280\u001B[0m ) \u001B[38;5;241m-\u001B[39m\u001B[38;5;241m>\u001B[39m Self:\n\u001B[1;32m    281\u001B[0m     \u001B[38;5;28;01mfrom\u001B[39;00m \u001B[38;5;21;01mpandas\u001B[39;00m\u001B[38;5;21;01m.\u001B[39;00m\u001B[38;5;21;01mcore\u001B[39;00m\u001B[38;5;21;01m.\u001B[39;00m\u001B[38;5;21;01mtools\u001B[39;00m\u001B[38;5;21;01m.\u001B[39;00m\u001B[38;5;21;01mnumeric\u001B[39;00m \u001B[38;5;28;01mimport\u001B[39;00m to_numeric\n\u001B[0;32m--> 283\u001B[0m     scalars \u001B[38;5;241m=\u001B[39m \u001B[43mto_numeric\u001B[49m\u001B[43m(\u001B[49m\u001B[43mstrings\u001B[49m\u001B[43m,\u001B[49m\u001B[43m \u001B[49m\u001B[43merrors\u001B[49m\u001B[38;5;241;43m=\u001B[39;49m\u001B[38;5;124;43m\"\u001B[39;49m\u001B[38;5;124;43mraise\u001B[39;49m\u001B[38;5;124;43m\"\u001B[39;49m\u001B[43m,\u001B[49m\u001B[43m \u001B[49m\u001B[43mdtype_backend\u001B[49m\u001B[38;5;241;43m=\u001B[39;49m\u001B[38;5;124;43m\"\u001B[39;49m\u001B[38;5;124;43mnumpy_nullable\u001B[39;49m\u001B[38;5;124;43m\"\u001B[39;49m\u001B[43m)\u001B[49m\n\u001B[1;32m    284\u001B[0m     \u001B[38;5;28;01mreturn\u001B[39;00m \u001B[38;5;28mcls\u001B[39m\u001B[38;5;241m.\u001B[39m_from_sequence(scalars, dtype\u001B[38;5;241m=\u001B[39mdtype, copy\u001B[38;5;241m=\u001B[39mcopy)\n",
      "File \u001B[0;32m~/Documents/swb_inspect_data/venv/lib/python3.11/site-packages/pandas/core/tools/numeric.py:232\u001B[0m, in \u001B[0;36mto_numeric\u001B[0;34m(arg, errors, downcast, dtype_backend)\u001B[0m\n\u001B[1;32m    230\u001B[0m coerce_numeric \u001B[38;5;241m=\u001B[39m errors \u001B[38;5;129;01mnot\u001B[39;00m \u001B[38;5;129;01min\u001B[39;00m (\u001B[38;5;124m\"\u001B[39m\u001B[38;5;124mignore\u001B[39m\u001B[38;5;124m\"\u001B[39m, \u001B[38;5;124m\"\u001B[39m\u001B[38;5;124mraise\u001B[39m\u001B[38;5;124m\"\u001B[39m)\n\u001B[1;32m    231\u001B[0m \u001B[38;5;28;01mtry\u001B[39;00m:\n\u001B[0;32m--> 232\u001B[0m     values, new_mask \u001B[38;5;241m=\u001B[39m \u001B[43mlib\u001B[49m\u001B[38;5;241;43m.\u001B[39;49m\u001B[43mmaybe_convert_numeric\u001B[49m\u001B[43m(\u001B[49m\u001B[43m  \u001B[49m\u001B[38;5;66;43;03m# type: ignore[call-overload]\u001B[39;49;00m\n\u001B[1;32m    233\u001B[0m \u001B[43m        \u001B[49m\u001B[43mvalues\u001B[49m\u001B[43m,\u001B[49m\n\u001B[1;32m    234\u001B[0m \u001B[43m        \u001B[49m\u001B[38;5;28;43mset\u001B[39;49m\u001B[43m(\u001B[49m\u001B[43m)\u001B[49m\u001B[43m,\u001B[49m\n\u001B[1;32m    235\u001B[0m \u001B[43m        \u001B[49m\u001B[43mcoerce_numeric\u001B[49m\u001B[38;5;241;43m=\u001B[39;49m\u001B[43mcoerce_numeric\u001B[49m\u001B[43m,\u001B[49m\n\u001B[1;32m    236\u001B[0m \u001B[43m        \u001B[49m\u001B[43mconvert_to_masked_nullable\u001B[49m\u001B[38;5;241;43m=\u001B[39;49m\u001B[43mdtype_backend\u001B[49m\u001B[43m \u001B[49m\u001B[38;5;129;43;01mis\u001B[39;49;00m\u001B[43m \u001B[49m\u001B[38;5;129;43;01mnot\u001B[39;49;00m\u001B[43m \u001B[49m\u001B[43mlib\u001B[49m\u001B[38;5;241;43m.\u001B[39;49m\u001B[43mno_default\u001B[49m\n\u001B[1;32m    237\u001B[0m \u001B[43m        \u001B[49m\u001B[38;5;129;43;01mor\u001B[39;49;00m\u001B[43m \u001B[49m\u001B[38;5;28;43misinstance\u001B[39;49m\u001B[43m(\u001B[49m\u001B[43mvalues_dtype\u001B[49m\u001B[43m,\u001B[49m\u001B[43m \u001B[49m\u001B[43mStringDtype\u001B[49m\u001B[43m)\u001B[49m\n\u001B[1;32m    238\u001B[0m \u001B[43m        \u001B[49m\u001B[38;5;129;43;01mand\u001B[39;49;00m\u001B[43m \u001B[49m\u001B[38;5;129;43;01mnot\u001B[39;49;00m\u001B[43m \u001B[49m\u001B[43mvalues_dtype\u001B[49m\u001B[38;5;241;43m.\u001B[39;49m\u001B[43mstorage\u001B[49m\u001B[43m \u001B[49m\u001B[38;5;241;43m==\u001B[39;49m\u001B[43m \u001B[49m\u001B[38;5;124;43m\"\u001B[39;49m\u001B[38;5;124;43mpyarrow_numpy\u001B[39;49m\u001B[38;5;124;43m\"\u001B[39;49m\u001B[43m,\u001B[49m\n\u001B[1;32m    239\u001B[0m \u001B[43m    \u001B[49m\u001B[43m)\u001B[49m\n\u001B[1;32m    240\u001B[0m \u001B[38;5;28;01mexcept\u001B[39;00m (\u001B[38;5;167;01mValueError\u001B[39;00m, \u001B[38;5;167;01mTypeError\u001B[39;00m):\n\u001B[1;32m    241\u001B[0m     \u001B[38;5;28;01mif\u001B[39;00m errors \u001B[38;5;241m==\u001B[39m \u001B[38;5;124m\"\u001B[39m\u001B[38;5;124mraise\u001B[39m\u001B[38;5;124m\"\u001B[39m:\n",
      "File \u001B[0;32mlib.pyx:2433\u001B[0m, in \u001B[0;36mpandas._libs.lib.maybe_convert_numeric\u001B[0;34m()\u001B[0m\n",
      "\u001B[0;31mValueError\u001B[0m: Unable to parse string \"BOOSTER\" at position 7"
     ]
    }
   ],
   "source": [
    "# df1 = pd.read_csv(paths[0], dtype = dtypes) \n",
    "df2 = pd.read_csv(paths[1], dtype = dtypes) \n",
    "# df3= pd.read_csv(paths[2], dtype = dtypes) "
   ],
   "metadata": {
    "collapsed": false,
    "ExecuteTime": {
     "end_time": "2024-06-19T01:42:21.637617Z",
     "start_time": "2024-06-19T01:42:21.566429Z"
    }
   },
   "id": "d07ea15c82e46d27"
  },
  {
   "cell_type": "code",
   "execution_count": 23,
   "outputs": [
    {
     "data": {
      "text/plain": "      individual_id household_id is_new_household_member  \\\n0      db95a04273b3        10001                      NO   \n1      58b6880790bd        10001                      NO   \n2      d2a2b4eb1d80        10001                      NO   \n3      9dadc3d1eff3        10001                      NO   \n4      cd696cdeb3ac        10001                      NO   \n...             ...          ...                     ...   \n16812  7b559a072842       379155                      NO   \n16813  e102508752e8       379155                      NO   \n16814  b93d164cbee8       379155                      NO   \n16815  621de7851948       379155                      NO   \n16816  bfb8a7761218       379155                      NO   \n\n      is_still_household_member why_leave_household     sex  age  \\\n0                           YES                <NA>    MALE   63   \n1                           YES                <NA>  FEMALE   59   \n2                           YES                <NA>  FEMALE   13   \n3                           YES                <NA>  FEMALE   54   \n4                           YES                <NA>    MALE   10   \n...                         ...                 ...     ...  ...   \n16812                       YES                <NA>    MALE   49   \n16813                       YES                <NA>  FEMALE   45   \n16814                       YES                <NA>  FEMALE    9   \n16815                       YES                <NA>    MALE    7   \n16816                       YES                <NA>  FEMALE   22   \n\n      relationship_to_head other_relationship why_join_household  \\\n0                     HEAD               <NA>               <NA>   \n1                   SPOUSE               <NA>               <NA>   \n2                OWN CHILD               <NA>               <NA>   \n3            DOMESTIC HELP               <NA>               <NA>   \n4                OWN CHILD               <NA>               <NA>   \n...                    ...                ...                ...   \n16812                 HEAD               <NA>               <NA>   \n16813               SPOUSE               <NA>               <NA>   \n16814            OWN CHILD               <NA>               <NA>   \n16815            OWN CHILD               <NA>               <NA>   \n16816      NIECE OR NEPHEW               <NA>               <NA>   \n\n      other_reason_for_joining  \n0                         <NA>  \n1                         <NA>  \n2                         <NA>  \n3                         <NA>  \n4                         <NA>  \n...                        ...  \n16812                     <NA>  \n16813                     <NA>  \n16814                     <NA>  \n16815                     <NA>  \n16816                     <NA>  \n\n[16817 rows x 11 columns]",
      "text/html": "<div>\n<style scoped>\n    .dataframe tbody tr th:only-of-type {\n        vertical-align: middle;\n    }\n\n    .dataframe tbody tr th {\n        vertical-align: top;\n    }\n\n    .dataframe thead th {\n        text-align: right;\n    }\n</style>\n<table border=\"1\" class=\"dataframe\">\n  <thead>\n    <tr style=\"text-align: right;\">\n      <th></th>\n      <th>individual_id</th>\n      <th>household_id</th>\n      <th>is_new_household_member</th>\n      <th>is_still_household_member</th>\n      <th>why_leave_household</th>\n      <th>sex</th>\n      <th>age</th>\n      <th>relationship_to_head</th>\n      <th>other_relationship</th>\n      <th>why_join_household</th>\n      <th>other_reason_for_joining</th>\n    </tr>\n  </thead>\n  <tbody>\n    <tr>\n      <th>0</th>\n      <td>db95a04273b3</td>\n      <td>10001</td>\n      <td>NO</td>\n      <td>YES</td>\n      <td>&lt;NA&gt;</td>\n      <td>MALE</td>\n      <td>63</td>\n      <td>HEAD</td>\n      <td>&lt;NA&gt;</td>\n      <td>&lt;NA&gt;</td>\n      <td>&lt;NA&gt;</td>\n    </tr>\n    <tr>\n      <th>1</th>\n      <td>58b6880790bd</td>\n      <td>10001</td>\n      <td>NO</td>\n      <td>YES</td>\n      <td>&lt;NA&gt;</td>\n      <td>FEMALE</td>\n      <td>59</td>\n      <td>SPOUSE</td>\n      <td>&lt;NA&gt;</td>\n      <td>&lt;NA&gt;</td>\n      <td>&lt;NA&gt;</td>\n    </tr>\n    <tr>\n      <th>2</th>\n      <td>d2a2b4eb1d80</td>\n      <td>10001</td>\n      <td>NO</td>\n      <td>YES</td>\n      <td>&lt;NA&gt;</td>\n      <td>FEMALE</td>\n      <td>13</td>\n      <td>OWN CHILD</td>\n      <td>&lt;NA&gt;</td>\n      <td>&lt;NA&gt;</td>\n      <td>&lt;NA&gt;</td>\n    </tr>\n    <tr>\n      <th>3</th>\n      <td>9dadc3d1eff3</td>\n      <td>10001</td>\n      <td>NO</td>\n      <td>YES</td>\n      <td>&lt;NA&gt;</td>\n      <td>FEMALE</td>\n      <td>54</td>\n      <td>DOMESTIC HELP</td>\n      <td>&lt;NA&gt;</td>\n      <td>&lt;NA&gt;</td>\n      <td>&lt;NA&gt;</td>\n    </tr>\n    <tr>\n      <th>4</th>\n      <td>cd696cdeb3ac</td>\n      <td>10001</td>\n      <td>NO</td>\n      <td>YES</td>\n      <td>&lt;NA&gt;</td>\n      <td>MALE</td>\n      <td>10</td>\n      <td>OWN CHILD</td>\n      <td>&lt;NA&gt;</td>\n      <td>&lt;NA&gt;</td>\n      <td>&lt;NA&gt;</td>\n    </tr>\n    <tr>\n      <th>...</th>\n      <td>...</td>\n      <td>...</td>\n      <td>...</td>\n      <td>...</td>\n      <td>...</td>\n      <td>...</td>\n      <td>...</td>\n      <td>...</td>\n      <td>...</td>\n      <td>...</td>\n      <td>...</td>\n    </tr>\n    <tr>\n      <th>16812</th>\n      <td>7b559a072842</td>\n      <td>379155</td>\n      <td>NO</td>\n      <td>YES</td>\n      <td>&lt;NA&gt;</td>\n      <td>MALE</td>\n      <td>49</td>\n      <td>HEAD</td>\n      <td>&lt;NA&gt;</td>\n      <td>&lt;NA&gt;</td>\n      <td>&lt;NA&gt;</td>\n    </tr>\n    <tr>\n      <th>16813</th>\n      <td>e102508752e8</td>\n      <td>379155</td>\n      <td>NO</td>\n      <td>YES</td>\n      <td>&lt;NA&gt;</td>\n      <td>FEMALE</td>\n      <td>45</td>\n      <td>SPOUSE</td>\n      <td>&lt;NA&gt;</td>\n      <td>&lt;NA&gt;</td>\n      <td>&lt;NA&gt;</td>\n    </tr>\n    <tr>\n      <th>16814</th>\n      <td>b93d164cbee8</td>\n      <td>379155</td>\n      <td>NO</td>\n      <td>YES</td>\n      <td>&lt;NA&gt;</td>\n      <td>FEMALE</td>\n      <td>9</td>\n      <td>OWN CHILD</td>\n      <td>&lt;NA&gt;</td>\n      <td>&lt;NA&gt;</td>\n      <td>&lt;NA&gt;</td>\n    </tr>\n    <tr>\n      <th>16815</th>\n      <td>621de7851948</td>\n      <td>379155</td>\n      <td>NO</td>\n      <td>YES</td>\n      <td>&lt;NA&gt;</td>\n      <td>MALE</td>\n      <td>7</td>\n      <td>OWN CHILD</td>\n      <td>&lt;NA&gt;</td>\n      <td>&lt;NA&gt;</td>\n      <td>&lt;NA&gt;</td>\n    </tr>\n    <tr>\n      <th>16816</th>\n      <td>bfb8a7761218</td>\n      <td>379155</td>\n      <td>NO</td>\n      <td>YES</td>\n      <td>&lt;NA&gt;</td>\n      <td>FEMALE</td>\n      <td>22</td>\n      <td>NIECE OR NEPHEW</td>\n      <td>&lt;NA&gt;</td>\n      <td>&lt;NA&gt;</td>\n      <td>&lt;NA&gt;</td>\n    </tr>\n  </tbody>\n</table>\n<p>16817 rows × 11 columns</p>\n</div>"
     },
     "execution_count": 23,
     "metadata": {},
     "output_type": "execute_result"
    }
   ],
   "source": [
    "df3"
   ],
   "metadata": {
    "collapsed": false,
    "ExecuteTime": {
     "end_time": "2024-06-19T01:33:51.534469Z",
     "start_time": "2024-06-19T01:33:51.525124Z"
    }
   },
   "id": "9623f19379b84195"
  },
  {
   "cell_type": "code",
   "execution_count": null,
   "outputs": [],
   "source": [],
   "metadata": {
    "collapsed": false
   },
   "id": "6572b6d033e23c"
  }
 ],
 "metadata": {
  "kernelspec": {
   "display_name": "Python 3",
   "language": "python",
   "name": "python3"
  },
  "language_info": {
   "codemirror_mode": {
    "name": "ipython",
    "version": 2
   },
   "file_extension": ".py",
   "mimetype": "text/x-python",
   "name": "python",
   "nbconvert_exporter": "python",
   "pygments_lexer": "ipython2",
   "version": "2.7.6"
  }
 },
 "nbformat": 4,
 "nbformat_minor": 5
}
